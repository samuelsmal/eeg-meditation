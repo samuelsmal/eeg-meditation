{
 "cells": [
  {
   "cell_type": "code",
   "execution_count": 31,
   "metadata": {},
   "outputs": [],
   "source": [
    "# std\n",
    "import os\n",
    "from os import path\n",
    "import time\n",
    "\n",
    "# 3p\n",
    "import numpy as np\n",
    "import pandas as pd\n",
    "import matplotlib.pyplot as plt\n",
    "\n",
    "# prj\n",
    "os.chdir(\"..\")\n",
    "from src import helpers, configuration, filtering, bandpower, plots, statistics as stats\n",
    "from src.configuration import cfg\n",
    "os.chdir('analysis-adelie')\n",
    "\n",
    "# statistics\n",
    "from scipy.stats import ttest_ind\n",
    "\n",
    "import mne\n",
    "from mne import viz\n",
    "\n",
    "# plots\n",
    "import matplotlib.pyplot as plt\n",
    "import matplotlib as mpl\n",
    "import matplotlib.cm as cm\n",
    "import matplotlib\n",
    "\n",
    "font = {'family':'DejaVu Sans', 'weight':'normal', 'size':15}\n",
    "matplotlib.rc('font', **font)\n",
    "\n",
    "%matplotlib qt"
   ]
  },
  {
   "cell_type": "markdown",
   "metadata": {},
   "source": [
    "### General"
   ]
  },
  {
   "cell_type": "code",
   "execution_count": 32,
   "metadata": {},
   "outputs": [],
   "source": [
    "def get_channelsList(config, subject='adelie'):\n",
    "    subject_paths = helpers.get_config_value(config, 'paths', 'subjects', subject)\n",
    "    base_path = helpers.get_config_value(config, 'paths', 'base')\n",
    "    file_path = f\"{base_path}/{subject_paths['prefix']}/offline/fif/{subject_paths['channels_path']}\"\n",
    "    with open(file_path, 'r') as channels_file:\n",
    "        all_channels = channels_file.read().strip()\n",
    "    return [channel for channel in all_channels.split('\\n') if channel not in config['columns_to_remove']]\n",
    "\n",
    "events = None\n",
    "def load_raw_mne_from_fif(data_type, subject='adelie', recording=0, montage='standard_1020', config=cfg):\n",
    "    global events\n",
    "    \"\"\"loads the data and returns an instance of mne.Raw\n",
    "    \n",
    "    Parameters\n",
    "    ----------\n",
    "    data_type : string\n",
    "      type of the data, right now two options are valid: `baseline` or `meditation`\n",
    "    subject: string\n",
    "      name of the subject\n",
    "    recording: int\n",
    "      number of recording, if you have multiple of same type and subject\n",
    "    montage: string\n",
    "      the type of montage that was used for the recording see: https://mne.tools/dev/generated/mne.channels.make_standard_montage.html\n",
    "      \n",
    "    Returns\n",
    "    -------\n",
    "    a mne.Raw instance that has the correct montage and info and is ready to be plotted\n",
    "    \"\"\"\n",
    "    subject_paths = helpers.get_config_value(config, 'paths', 'subjects', subject)\n",
    "    base_path = helpers.get_config_value(config, 'paths', 'base')\n",
    "    recording_id = helpers.get_config_value(subject_paths, 'recordings', data_type)[recording]\n",
    "    file_path = f\"{base_path}{subject_paths['prefix']}/offline/fif/{recording_id}-raw.fif\"\n",
    "    \n",
    "    # Create a digitization of the montage\n",
    "    digitization = mne.channels.make_standard_montage(montage)\n",
    "    channels = get_channelsList(config, subject=subject)\n",
    "    \n",
    "    # Read from fif file\n",
    "    raw = mne.io.read_raw_fif(file_path, preload=True)\n",
    "    events = mne.find_events(raw)\n",
    "\n",
    "    # Create info with some useful information\n",
    "    info = mne.create_info(get_channelsList(config), sfreq=config['sampling_frequency'], ch_types='eeg')\n",
    "    raw.info = info\n",
    "    \n",
    "    # set the montage\n",
    "    raw.set_montage(digitization)\n",
    "    \n",
    "    raw = raw.pick_types(eeg=True, stim=True)\n",
    "    raw.set_eeg_reference('average', projection=True)#.apply_proj()\n",
    "    \n",
    "    return raw"
   ]
  },
  {
   "cell_type": "code",
   "execution_count": 33,
   "metadata": {},
   "outputs": [],
   "source": [
    "def normalise_layout_pos(layout):\n",
    "    _t = layout.pos[:, :2]\n",
    "    _t -= np.mean(_t, 0)\n",
    "    _t /= np.max(_t, 0)\n",
    "    \n",
    "    return _t"
   ]
  },
  {
   "cell_type": "code",
   "execution_count": 257,
   "metadata": {},
   "outputs": [
    {
     "name": "stdout",
     "output_type": "stream",
     "text": [
      "Opening raw data file C:/Users/adeli/OneDrive/Documents/GitHub/data/AlphaTheta/sam-AlphaTheta/offline/fif/baseline11-raw.fif...\n",
      "Isotrak not found\n",
      "    Range : 0 ... 38030 =      0.000 ...   126.767 secs\n",
      "Ready.\n",
      "Reading 0 ... 38030  =      0.000 ...   126.767 secs...\n",
      "2 events found\n",
      "Event IDs: [15 16]\n",
      "Adding average EEG reference projection.\n",
      "1 projection items deactivated\n",
      "Average reference projection was added, but has not been applied yet. Use the apply_proj method to apply it.\n"
     ]
    }
   ],
   "source": [
    "signals = load_raw_mne_from_fif('baseline', subject='sam', config=cfg)\n",
    "layout = mne.channels.make_eeg_layout(signals.info)\n",
    "normalised_pos = normalise_layout_pos(layout)\n",
    "\n",
    "\n",
    "# for egi:\n",
    "egi_electrodes = pd.read_csv('ratio_theta_mr.csv').drop(columns=['Unnamed: 0']).columns\n",
    "\n",
    "montage_egi = mne.channels.make_standard_montage('EGI_256')\n",
    "info_egi = mne.create_info(montage.ch_names, cfg_mr['sampling_frequency'], 'eeg').set_montage(montage_egi)\n",
    "info_egi['bads'] = set(montage.ch_names) - set(egi_electrodes)\n",
    "layout_egi = mne.channels.make_eeg_layout(info_egi)\n",
    "normalised_pos_egi = normalise_layout_pos(layout_egi)"
   ]
  },
  {
   "cell_type": "code",
   "execution_count": 271,
   "metadata": {},
   "outputs": [],
   "source": [
    "def get_mne_maps(csv, vmin, vmax, title=\"\", mr=False):\n",
    "    data = pd.read_csv(csv).fillna(0)\n",
    "    data = data.drop(columns=['Unnamed: 0'])\n",
    "\n",
    "    time_idx_to_plot = np.linspace(0, data.shape[0] - 1, num=1, dtype='int')\n",
    "    elec = data.columns\n",
    "\n",
    "    frames = []\n",
    "    fig, ax = plt.subplots()\n",
    "    cNorm = mpl.colors.Normalize(vmin=vmin, vmax=vmax)\n",
    "    sm = cm.ScalarMappable(norm=cNorm, cmap=cmap)\n",
    "\n",
    "    viz.plot_topomap(data.loc[0].values,\n",
    "                     cmap='RdBu', vmin=vmin, vmax=vmax,\n",
    "                     sphere=1.,\n",
    "                     pos=normalised_pos_egi if mr else normalised_pos,\n",
    "                     sensors=False,\n",
    "                     show_names=True,\n",
    "                     show=False,\n",
    "                     names=elec)\n",
    "\n",
    "    plt.title(title)\n",
    "\n",
    "    fig.colorbar(sm, ax=ax, orientation='vertical')\n",
    "    plt.tight_layout()\n",
    "\n",
    "    # this has to be the last thing\n",
    "    fig.canvas.draw()\n",
    "\n",
    "    mat = np.array(fig.canvas.renderer._renderer)\n",
    "    frames.append(mat)\n",
    "    plt.show()"
   ]
  },
  {
   "cell_type": "code",
   "execution_count": 36,
   "metadata": {},
   "outputs": [],
   "source": [
    "cmap='RdBu'"
   ]
  },
  {
   "cell_type": "code",
   "execution_count": 313,
   "metadata": {},
   "outputs": [],
   "source": [
    "subjects= ['adelie', 'sam', 'sam2', 'sam3', 'sam4', 'rap', 'rap2', 'rap3', 'arn', 'mr']\n",
    "id_to_name = {'adelie': \"Adélie\", 'sam': \"Sam\", 'sam2': \"Sam2\", 'sam3': \"Sam3\", 'sam4': \"Sam4\", 'rap': \"Raphaël\", 'rap2': \"Raphaël2\", 'rap3': \"Raphaël3\", 'arn': \"Arnaud\", 'mr': 'Matthieu Ricard'}"
   ]
  },
  {
   "cell_type": "code",
   "execution_count": 332,
   "metadata": {},
   "outputs": [],
   "source": [
    "def plot_all_figures(all_data, vmin, vmax, subtitle):\n",
    "    frames = []\n",
    "    n_subplots = len(all_data)\n",
    "    fig, axs = plt.subplots(nrows=2, ncols=int(np.ceil(n_subplots/2)), figsize=(5, 5))\n",
    "\n",
    "    cNorm = mpl.colors.Normalize(vmin=vmin, vmax=vmax)\n",
    "    sm = cm.ScalarMappable(norm=cNorm, cmap=cmap)\n",
    "\n",
    "    flattened_axs = [item for sublist in axs for item in sublist]\n",
    "\n",
    "    for ax in flattened_axs:\n",
    "        for plt_idx, subject in enumerate(all_data.items()):\n",
    "            viz.plot_topomap(subject[1].fillna(0).loc[0].values,\n",
    "                             cmap='RdBu', vmin=vmin, vmax=vmax,\n",
    "                             sphere=1.,\n",
    "                             pos=normalised_pos_egi if subject[0] == 'mr' else normalised_pos,\n",
    "                             axes=flattened_axs[plt_idx],\n",
    "                             sensors=False,\n",
    "                             show_names=subject[0] != 'mr',\n",
    "                             show=False,\n",
    "                             names=subject[1].columns)\n",
    "            flattened_axs[plt_idx].set_title(\"{}\".format(id_to_name[subject[0]]), fontsize=14)\n",
    "\n",
    "    plt.suptitle(subtitle, y=1)\n",
    "\n",
    "    fig.colorbar(sm, ax=axs, orientation='vertical')\n",
    "    # this has to be the last thing\n",
    "    fig.canvas.draw()\n",
    "\n",
    "    mat = np.array(fig.canvas.renderer._renderer)\n",
    "    frames.append(mat)\n",
    "    plt.show()"
   ]
  },
  {
   "cell_type": "markdown",
   "metadata": {},
   "source": [
    "### Predefined metrics: ratio meditation/baseline"
   ]
  },
  {
   "cell_type": "markdown",
   "metadata": {},
   "source": [
    "#### Theta"
   ]
  },
  {
   "cell_type": "code",
   "execution_count": 324,
   "metadata": {},
   "outputs": [],
   "source": [
    "# set the same color scale for all subjects\n",
    "# this scale depends on the min and max values over all subjects\n",
    "# this log scale is centered on zero\n",
    "\n",
    "data_t = {subject: pd.read_csv('ratio_theta_{}.csv'.format(subject)).drop(columns=['Unnamed: 0']) for subject in subjects}\n",
    "\n",
    "vmin_t = min(map(lambda x: min(x.loc[0].values), data_t.values()))\n",
    "vmax_t = max(map(lambda x: max(x.loc[0].values), data_t.values()))\n",
    "\n",
    "abs_max = max(abs(vmin_t), abs(vmax_t))\n",
    "vmin_t, vmax_t = -abs_max, abs_max"
   ]
  },
  {
   "cell_type": "code",
   "execution_count": 299,
   "metadata": {},
   "outputs": [],
   "source": [
    "data_mr_t = get_mne_maps('ratio_theta_mr.csv', vmin_t, vmax_t, title=\"Ratio Meditation/Baseline for Theta band | Matthieu Ricard\", mr=True)"
   ]
  },
  {
   "cell_type": "code",
   "execution_count": 180,
   "metadata": {},
   "outputs": [],
   "source": [
    "data_ad_t = get_mne_maps('ratio_theta_adelie.csv', vmin_t, vmax_t, title=\"Ratio Meditation/Baseline for Theta band | Adélie\")"
   ]
  },
  {
   "cell_type": "code",
   "execution_count": 180,
   "metadata": {},
   "outputs": [],
   "source": [
    "data_sam_t = get_mne_maps('ratio_theta_sam.csv', vmin_t, vmax_t, title=\"Ratio Meditation/Baseline for Theta band | Sam\")"
   ]
  },
  {
   "cell_type": "code",
   "execution_count": 189,
   "metadata": {},
   "outputs": [],
   "source": [
    "data_sam2_t = get_mne_maps('ratio_theta_sam2.csv', vmin_t, vmax_t, title=\"Ratio Meditation/Baseline for Theta band | Sam2\")"
   ]
  },
  {
   "cell_type": "code",
   "execution_count": 180,
   "metadata": {},
   "outputs": [],
   "source": [
    "data_sam3_t = get_mne_maps('ratio_theta_sam3.csv', vmin_t, vmax_t, title=\"Ratio Meditation/Baseline for Theta band | Sam3\")"
   ]
  },
  {
   "cell_type": "code",
   "execution_count": 304,
   "metadata": {},
   "outputs": [],
   "source": [
    "data_sam4_t = get_mne_maps('ratio_theta_sam4.csv', vmin_t, vmax_t, title=\"Ratio Meditation/Baseline for Theta band | Sam4\")"
   ]
  },
  {
   "cell_type": "code",
   "execution_count": 316,
   "metadata": {},
   "outputs": [],
   "source": [
    "data_rap_t = get_mne_maps('ratio_theta_rap.csv', vmin_t, vmax_t, title=\"Ratio Meditation/Baseline for Theta band | Raphaël\")"
   ]
  },
  {
   "cell_type": "code",
   "execution_count": 180,
   "metadata": {},
   "outputs": [],
   "source": [
    "data_rap2_t = get_mne_maps('ratio_theta_rap2.csv', vmin_t, vmax_t, title=\"Ratio Meditation/Baseline for Theta band | Raphaël2\")"
   ]
  },
  {
   "cell_type": "code",
   "execution_count": 180,
   "metadata": {},
   "outputs": [],
   "source": [
    "data_rap3_t = get_mne_maps('ratio_theta_rap3.csv', vmin_t, vmax_t, title=\"Ratio Meditation/Baseline for Theta band | Raphaël3\")"
   ]
  },
  {
   "cell_type": "code",
   "execution_count": 269,
   "metadata": {},
   "outputs": [],
   "source": [
    "data_arn_t = get_mne_maps('ratio_theta_arn.csv', vmin_t, vmax_t, title=\"Ratio Meditation/Baseline for Theta band | Arnaud\")"
   ]
  },
  {
   "cell_type": "code",
   "execution_count": 315,
   "metadata": {},
   "outputs": [],
   "source": [
    "data_mr_t = get_mne_maps('ratio_theta_mr.csv', vmin_t, vmax_t, title=\"Ratio Meditation/Baseline for Theta band | Matthieu Ricardos\", mr=True)"
   ]
  },
  {
   "cell_type": "markdown",
   "metadata": {},
   "source": [
    "CONCLUSION: all figures in one"
   ]
  },
  {
   "cell_type": "code",
   "execution_count": 341,
   "metadata": {},
   "outputs": [],
   "source": [
    "plot_all_figures(data_t, vmin_t, vmax_t,'Ratio Meditation/Baseline for Theta band')"
   ]
  },
  {
   "cell_type": "markdown",
   "metadata": {},
   "source": [
    "#### Delta"
   ]
  },
  {
   "cell_type": "code",
   "execution_count": 286,
   "metadata": {},
   "outputs": [],
   "source": [
    "# set the same color scale for all subjects\n",
    "# this scale depends on the min and max values over all subjects\n",
    "# this log scale is centered on zero\n",
    "\n",
    "data_d = {subject: pd.read_csv('ratio_delta_{}.csv'.format(subject)).drop(columns=['Unnamed: 0']) for subject in subjects}\n",
    "\n",
    "vmin_d = min(map(lambda x: min(x.loc[0].values), data_d.values()))\n",
    "vmax_d = max(map(lambda x: max(x.loc[0].values), data_d.values()))\n",
    "\n",
    "abs_max = max(abs(vmin_d), abs(vmax_d))\n",
    "vmin_d, vmax_d = -abs_max, abs_max"
   ]
  },
  {
   "cell_type": "code",
   "execution_count": 298,
   "metadata": {},
   "outputs": [],
   "source": [
    "data_mr_d = get_mne_maps('ratio_delta_mr.csv', vmin_d, vmax_d, title=\"Ratio Meditation/Baseline for Delta band | Matthieu Ricard\", mr=True)"
   ]
  },
  {
   "cell_type": "code",
   "execution_count": 180,
   "metadata": {},
   "outputs": [],
   "source": [
    "data_ad_d = get_mne_maps('ratio_delta_adelie.csv', vmin_d, vmax_d, title=\"Ratio Meditation/Baseline for Delta band | Adélie\")"
   ]
  },
  {
   "cell_type": "code",
   "execution_count": 306,
   "metadata": {},
   "outputs": [],
   "source": [
    "data_sam_d = get_mne_maps('ratio_delta_sam.csv', vmin_d, vmax_d, title=\"Ratio Meditation/Baseline for Delta band | Sam\")"
   ]
  },
  {
   "cell_type": "code",
   "execution_count": 86,
   "metadata": {},
   "outputs": [],
   "source": [
    "data_sam2_d = get_mne_maps('ratio_delta_sam2.csv', vmin_d, vmax_d, title=\"Ratio Meditation/Baseline for Delta band | Sam2\")"
   ]
  },
  {
   "cell_type": "code",
   "execution_count": 86,
   "metadata": {},
   "outputs": [],
   "source": [
    "data_sam3_d = get_mne_maps('ratio_delta_sam3.csv', vmin_d, vmax_d, title=\"Ratio Meditation/Baseline for Delta band | Sam3\")"
   ]
  },
  {
   "cell_type": "code",
   "execution_count": 86,
   "metadata": {},
   "outputs": [],
   "source": [
    "data_sam4_d = get_mne_maps('ratio_delta_sam4.csv', vmin_d, vmax_d, title=\"Ratio Meditation/Baseline for Delta band | Sam4\")"
   ]
  },
  {
   "cell_type": "code",
   "execution_count": 86,
   "metadata": {},
   "outputs": [],
   "source": [
    "data_rap_d = get_mne_maps('ratio_delta_rap.csv', vmin_d, vmax_d, title=\"Ratio Meditation/Baseline for Delta band | Raphaël\")"
   ]
  },
  {
   "cell_type": "code",
   "execution_count": 86,
   "metadata": {},
   "outputs": [],
   "source": [
    "data_rap2_d = get_mne_maps('ratio_delta_rap2.csv', vmin_d, vmax_d, title=\"Ratio Meditation/Baseline for Delta band | Raphaël2\")"
   ]
  },
  {
   "cell_type": "code",
   "execution_count": 86,
   "metadata": {},
   "outputs": [],
   "source": [
    "data_rap3_d = get_mne_maps('ratio_delta_rap3.csv', vmin_d, vmax_d, title=\"Ratio Meditation/Baseline for Delta band | Raphaël3\")"
   ]
  },
  {
   "cell_type": "code",
   "execution_count": 86,
   "metadata": {},
   "outputs": [],
   "source": [
    "data_arn_d = get_mne_maps('ratio_delta_adelie.csv', vmin_d, vmax_d, title=\"Ratio Meditation/Baseline for Delta band | Arnaud\")"
   ]
  },
  {
   "cell_type": "markdown",
   "metadata": {},
   "source": [
    "CONCLUSION: all figures in one"
   ]
  },
  {
   "cell_type": "code",
   "execution_count": 340,
   "metadata": {},
   "outputs": [],
   "source": [
    "plot_all_figures(data_d, vmin_d, vmax_d, 'Ratio Meditation/Baseline for Delta band')"
   ]
  },
  {
   "cell_type": "markdown",
   "metadata": {},
   "source": [
    "#### Gamma"
   ]
  },
  {
   "cell_type": "code",
   "execution_count": 334,
   "metadata": {},
   "outputs": [],
   "source": [
    "# set the same color scale for all subjects\n",
    "# this scale depends on the min and max values over all subjects\n",
    "# this log scale is centered on zero\n",
    "\n",
    "data_g = {subject: pd.read_csv('ratio_gamma_{}.csv'.format(subject)).drop(columns=['Unnamed: 0']) for subject in subjects}\n",
    "\n",
    "vmin_g = min(map(lambda x: min(x.loc[0].values), data_g.values()))\n",
    "vmax_g = max(map(lambda x: max(x.loc[0].values), data_g.values()))\n",
    "\n",
    "abs_max = max(abs(vmin_g), abs(vmax_g))\n",
    "vmin_g, vmax_g = -abs_max, abs_max"
   ]
  },
  {
   "cell_type": "code",
   "execution_count": 297,
   "metadata": {},
   "outputs": [],
   "source": [
    "data_mr_g = get_mne_maps('ratio_gamma_mr.csv', vmin_g, vmax_g, title=\"Ratio Meditation/Baseline for Gamma band | Matthieu Ricard\", mr=True)"
   ]
  },
  {
   "cell_type": "code",
   "execution_count": 305,
   "metadata": {},
   "outputs": [],
   "source": [
    "data_ad_g = get_mne_maps('ratio_gamma_adelie.csv', vmin_g, vmax_g, title=\"Ratio Meditation/Baseline for Gamma band | Adélie\")"
   ]
  },
  {
   "cell_type": "code",
   "execution_count": 114,
   "metadata": {},
   "outputs": [],
   "source": [
    "data_sam_g = get_mne_maps('ratio_gamma_sam.csv', vmin_g, vmax_g, title=\"Ratio Meditation/Baseline for Gamma band | Sam\")"
   ]
  },
  {
   "cell_type": "code",
   "execution_count": 116,
   "metadata": {},
   "outputs": [],
   "source": [
    "data_sam2_g = get_mne_maps('ratio_gamma_sam2.csv', vmin_g, vmax_g, title=\"Ratio Meditation/Baseline for Gamma band | Sam2\")"
   ]
  },
  {
   "cell_type": "code",
   "execution_count": 117,
   "metadata": {},
   "outputs": [],
   "source": [
    "data_sam3_g = get_mne_maps('ratio_gamma_sam3.csv', vmin_g, vmax_g, title=\"Ratio Meditation/Baseline for Gamma band | Sam3\")"
   ]
  },
  {
   "cell_type": "code",
   "execution_count": 118,
   "metadata": {},
   "outputs": [],
   "source": [
    "data_sam4_g = get_mne_maps('ratio_gamma_sam4.csv', vmin_g, vmax_g, title=\"Ratio Meditation/Baseline for Gamma band | Sam4\")"
   ]
  },
  {
   "cell_type": "code",
   "execution_count": 119,
   "metadata": {},
   "outputs": [],
   "source": [
    "data_rap_g = get_mne_maps('ratio_gamma_rap.csv', vmin_g, vmax_g, title=\"Ratio Meditation/Baseline for Gamma band | Raphaël\")"
   ]
  },
  {
   "cell_type": "code",
   "execution_count": 120,
   "metadata": {},
   "outputs": [],
   "source": [
    "data_rap2_g = get_mne_maps('ratio_gamma_rap2.csv', vmin_g, vmax_g, title=\"Ratio Meditation/Baseline for Gamma band | Raphaël2\")"
   ]
  },
  {
   "cell_type": "code",
   "execution_count": 121,
   "metadata": {},
   "outputs": [],
   "source": [
    "data_rap3_g = get_mne_maps('ratio_gamma_rap3.csv', vmin_g, vmax_g, title=\"Ratio Meditation/Baseline for Gamma band | Raphaël3\")"
   ]
  },
  {
   "cell_type": "code",
   "execution_count": 122,
   "metadata": {},
   "outputs": [],
   "source": [
    "data_arn_g = get_mne_maps('ratio_gamma_arn.csv', vmin_g, vmax_g, title=\"Ratio Meditation/Baseline for Gamma band | Arnaud\")"
   ]
  },
  {
   "cell_type": "markdown",
   "metadata": {},
   "source": [
    "CONCLUSION: all figures in one"
   ]
  },
  {
   "cell_type": "code",
   "execution_count": 339,
   "metadata": {},
   "outputs": [],
   "source": [
    "plot_all_figures(data_g, vmin_g, vmax_g, 'Ratio Meditation/Baseline for Gamma band')"
   ]
  },
  {
   "cell_type": "markdown",
   "metadata": {},
   "source": [
    "#### Alpha / Theta"
   ]
  },
  {
   "cell_type": "code",
   "execution_count": 336,
   "metadata": {},
   "outputs": [],
   "source": [
    "# set the same color scale for all subjects\n",
    "# this scale depends on the min and max values over all subjects\n",
    "# this log scale is centered on zero\n",
    "\n",
    "data_at = {subject: pd.read_csv('ratio_at_{}.csv'.format(subject)).drop(columns=['Unnamed: 0']) for subject in subjects}\n",
    "\n",
    "vmin_at = min(map(lambda x: min(x.loc[0].values), data_at.values()))\n",
    "vmax_at = max(map(lambda x: max(x.loc[0].values), data_at.values()))\n",
    "\n",
    "abs_max = max(abs(vmin_at), abs(vmax_at))\n",
    "vmin_at, vmax_at = -abs_max, abs_max"
   ]
  },
  {
   "cell_type": "code",
   "execution_count": 303,
   "metadata": {},
   "outputs": [],
   "source": [
    "data_mr_at = get_mne_maps('ratio_at_mr.csv', vmin_at, vmax_at, title=\"Ratio Meditation/Baseline for Alpha/Theta \\n band | Matthieu Ricard\", mr=True)"
   ]
  },
  {
   "cell_type": "code",
   "execution_count": 161,
   "metadata": {},
   "outputs": [],
   "source": [
    "data_ad_at = get_mne_maps('ratio_at_adelie.csv', vmin_at, vmax_at, title=\"Ratio Meditation/Baseline for Alpha/Theta band | Adélie\")"
   ]
  },
  {
   "cell_type": "code",
   "execution_count": 151,
   "metadata": {},
   "outputs": [],
   "source": [
    "data_sam_at = get_mne_maps('ratio_at_sam.csv', vmin_at, vmax_at, title=\"Ratio Meditation/Baseline for Alpha/Theta band | Sam\")"
   ]
  },
  {
   "cell_type": "code",
   "execution_count": 137,
   "metadata": {},
   "outputs": [],
   "source": [
    "data_sam2_at = get_mne_maps('ratio_at_sam2.csv', vmin_at, vmax_at, title=\"Ratio Meditation/Baseline for Alpha/Theta band | Sam2\")"
   ]
  },
  {
   "cell_type": "code",
   "execution_count": 138,
   "metadata": {},
   "outputs": [],
   "source": [
    "data_sam3_at = get_mne_maps('ratio_at_sam3.csv', vmin_at, vmax_at, title=\"Ratio Meditation/Baseline for Alpha/Theta band | Sam3\")"
   ]
  },
  {
   "cell_type": "code",
   "execution_count": 342,
   "metadata": {},
   "outputs": [],
   "source": [
    "data_sam4_at = get_mne_maps('ratio_at_sam4.csv', vmin_at, vmax_at, title=\"Ratio Meditation/Baseline for Alpha/Theta band | Sam4\")"
   ]
  },
  {
   "cell_type": "code",
   "execution_count": 140,
   "metadata": {},
   "outputs": [],
   "source": [
    "data_rap_at = get_mne_maps('ratio_at_rap.csv', vmin_at, vmax_at, title=\"Ratio Meditation/Baseline for Alpha/Theta band | Raphaël\")"
   ]
  },
  {
   "cell_type": "code",
   "execution_count": 141,
   "metadata": {},
   "outputs": [],
   "source": [
    "data_rap2_at = get_mne_maps('ratio_at_rap2.csv', vmin_at, vmax_at, title=\"Ratio Meditation/Baseline for Alpha/Theta band | Raphaël2\")"
   ]
  },
  {
   "cell_type": "code",
   "execution_count": 142,
   "metadata": {},
   "outputs": [],
   "source": [
    "data_rap3_at = get_mne_maps('ratio_at_rap3.csv', vmin_at, vmax_at, title=\"Ratio Meditation/Baseline for Alpha/Theta band | Raphaël3\")"
   ]
  },
  {
   "cell_type": "code",
   "execution_count": 122,
   "metadata": {},
   "outputs": [],
   "source": [
    "data_arn_at = get_mne_maps('ratio_at_arn.csv', vmin_at, vmax_at, title=\"Ratio Meditation/Baseline for Alpha/Theta band | Arnaud\")"
   ]
  },
  {
   "cell_type": "markdown",
   "metadata": {},
   "source": [
    "CONCLUSION: all figures in one"
   ]
  },
  {
   "cell_type": "code",
   "execution_count": 338,
   "metadata": {},
   "outputs": [],
   "source": [
    "plot_all_figures(data_at, vmin_at, vmax_at, 'Ratio Meditation/Baseline for Alpha/Theta band')"
   ]
  },
  {
   "cell_type": "code",
   "execution_count": null,
   "metadata": {},
   "outputs": [],
   "source": []
  }
 ],
 "metadata": {
  "kernelspec": {
   "display_name": "Python 3",
   "language": "python",
   "name": "python3"
  },
  "language_info": {
   "codemirror_mode": {
    "name": "ipython",
    "version": 3
   },
   "file_extension": ".py",
   "mimetype": "text/x-python",
   "name": "python",
   "nbconvert_exporter": "python",
   "pygments_lexer": "ipython3",
   "version": "3.7.3"
  }
 },
 "nbformat": 4,
 "nbformat_minor": 2
}
