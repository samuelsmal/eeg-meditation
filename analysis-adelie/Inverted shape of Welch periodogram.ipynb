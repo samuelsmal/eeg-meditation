{
 "cells": [
  {
   "cell_type": "code",
   "execution_count": 4,
   "metadata": {},
   "outputs": [],
   "source": [
    "%matplotlib qt\n",
    "\n",
    "# std\n",
    "import os\n",
    "from os import path\n",
    "import time\n",
    "import importlib\n",
    "\n",
    "# 3p\n",
    "import numpy as np\n",
    "import pandas as pd\n",
    "import matplotlib.pyplot as plt\n",
    "\n",
    "# prj\n",
    "os.chdir(\"..\")\n",
    "from src import helpers, configuration, filtering, bandpower, plots, statistics as stats\n",
    "from src.configuration import cfg\n",
    "os.chdir('analysis-adelie')\n",
    "#importlib.reload(src.statistics)\n",
    "\n",
    "# ttest\n",
    "from scipy.stats import ttest_ind\n",
    "\n",
    "# plots\n",
    "import matplotlib\n",
    "\n",
    "font = {'family':'DejaVu Sans', 'weight':'normal', 'size':20}\n",
    "matplotlib.rc('font', **font)"
   ]
  },
  {
   "cell_type": "markdown",
   "metadata": {},
   "source": [
    "## Power spectral density: 1/f shape"
   ]
  },
  {
   "cell_type": "code",
   "execution_count": 3,
   "metadata": {},
   "outputs": [
    {
     "ename": "NameError",
     "evalue": "name 'df_baseline' is not defined",
     "output_type": "error",
     "traceback": [
      "\u001b[1;31m---------------------------------------------------------------------------\u001b[0m",
      "\u001b[1;31mNameError\u001b[0m                                 Traceback (most recent call last)",
      "\u001b[1;32m<ipython-input-3-74cf28c6f3c8>\u001b[0m in \u001b[0;36m<module>\u001b[1;34m\u001b[0m\n\u001b[1;32m----> 1\u001b[1;33m \u001b[0mlen\u001b[0m\u001b[1;33m(\u001b[0m\u001b[0mdf_baseline\u001b[0m\u001b[1;33m)\u001b[0m\u001b[1;33m/\u001b[0m\u001b[1;36m300\u001b[0m\u001b[1;33m\u001b[0m\u001b[1;33m\u001b[0m\u001b[0m\n\u001b[0m",
      "\u001b[1;31mNameError\u001b[0m: name 'df_baseline' is not defined"
     ]
    }
   ],
   "source": [
    "len(df_baseline)/300"
   ]
  },
  {
   "cell_type": "code",
   "execution_count": null,
   "metadata": {},
   "outputs": [],
   "source": [
    "len(df_meditation)/300"
   ]
  },
  {
   "cell_type": "markdown",
   "metadata": {},
   "source": [
    "#### Welch's Periodogram all signal, AVG electrode"
   ]
  },
  {
   "cell_type": "code",
   "execution_count": 7,
   "metadata": {},
   "outputs": [],
   "source": [
    "# Baseline Adélie\n",
    "# Welch's Periodogram all signal, AVG electrode\n",
    "\n",
    "df_baseline = helpers.load_signal_data('baseline', subject='adelie', config=cfg)\n",
    "dsp_df_baseline = stats.get_dsp_welch(df_baseline, epoch_size='109s')\n",
    "\n",
    "freqs = dsp_shape_baseline.index.get_level_values(1).astype(float)\n",
    "\n",
    "plt.plot(freqs, dsp_df_baseline['AVG'])\n",
    "\n",
    "plt.xlabel(\"Frequency (Hz)\")\n",
    "plt.ylabel(\"Spectral power density (µV²/Hz)\")\n",
    "plt.title(\"Welch periodogram for AVG electrode, baseline, Adélie\")\n",
    "plt.show()"
   ]
  },
  {
   "cell_type": "code",
   "execution_count": 6,
   "metadata": {},
   "outputs": [
    {
     "data": {
      "text/plain": [
       "Text(0, 0.5, 'Inverse of spectral power (Hz/µV²)')"
      ]
     },
     "execution_count": 6,
     "metadata": {},
     "output_type": "execute_result"
    }
   ],
   "source": [
    "# Baseline Adélie\n",
    "# Inverted shape of Welch's Periodogram all signal, AVG electrode\n",
    "\n",
    "dsp_df_baseline = stats.get_dsp_welch(df_baseline, epoch_size='109s')\n",
    "dsp_shape_baseline = 1 / dsp_df_baseline['AVG']\n",
    "\n",
    "freqs = dsp_shape_baseline.index.get_level_values(1).astype(float)\n",
    "\n",
    "# The best fit line over the actual values: slope and intercept\n",
    "slopes_df = dsp_df_baseline.groupby(level=0).apply(\n",
    "        lambda x: x.agg(lambda y: np.polyfit(x.index.get_level_values(1).astype(float), 1 / y, 1)[1]))\n",
    "\n",
    "intercept_df = slopes_df = dsp_df_baseline.groupby(level=0).apply(\n",
    "        lambda x: x.agg(lambda y: np.polyfit(x.index.get_level_values(1).astype(float), 1 / y, 1)[0]))\n",
    "\n",
    "abline_values = [slopes_df['AVG'] * i + intercept_df['AVG'] for i in freqs]\n",
    "\n",
    "# Plot the slope\n",
    "plt.plot(freqs, abline_values)\n",
    "\n",
    "# Plot the inverted shape\n",
    "plt.plot(freqs, dsp_shape_baseline)\n",
    "\n",
    "plt.title(\"Inverse of Welch periodogram for AVG electrode, baseline, Adélie\")\n",
    "plt.xlabel('Frequency (Hz)')\n",
    "plt.ylabel('Inverse of spectral power (Hz/µV²)')"
   ]
  },
  {
   "cell_type": "code",
   "execution_count": 17,
   "metadata": {},
   "outputs": [],
   "source": [
    "# Meditation Adélie\n",
    "# Welch's Periodogram all signal, AVG electrode\n",
    "\n",
    "df_meditation = helpers.load_signal_data('meditation', subject='adelie', config=cfg)\n",
    "dsp_df_meditation = stats.get_dsp_welch(df_meditation, epoch_size='287s')\n",
    "\n",
    "freqs = dsp_shape_meditation.index.get_level_values(1).astype(float)\n",
    "\n",
    "plt.plot(freqs, dsp_df_meditation['AVG'])\n",
    "\n",
    "plt.xlabel(\"Frequency (Hz)\")\n",
    "plt.ylabel(\"Spectral power density (µV²/Hz)\")\n",
    "plt.title(\"Welch periodogram for AVG electrode, meditation, Adélie\")\n",
    "plt.show()"
   ]
  },
  {
   "cell_type": "code",
   "execution_count": 16,
   "metadata": {},
   "outputs": [
    {
     "data": {
      "text/plain": [
       "Text(0, 0.5, 'Inverse of spectral power (Hz/µV²)')"
      ]
     },
     "execution_count": 16,
     "metadata": {},
     "output_type": "execute_result"
    }
   ],
   "source": [
    "# Meditation Adélie\n",
    "# Inverted shape of Welch's Periodogram all signal, AVG electrode\n",
    "\n",
    "dsp_df_meditation = stats.get_dsp_welch(df_meditation, epoch_size='287s')\n",
    "dsp_shape_meditation = 1 / dsp_df_meditation['AVG']\n",
    "\n",
    "# The best fit line over the actual values: slope and intercept\n",
    "slopes_df = dsp_df_meditation.groupby(level=0).apply(\n",
    "        lambda x: x.agg(lambda y: np.polyfit(x.index.get_level_values(1).astype(float), 1 / y, 1)[1]))\n",
    "\n",
    "intercept_df = slopes_df = dsp_df_meditation.groupby(level=0).apply(\n",
    "        lambda x: x.agg(lambda y: np.polyfit(x.index.get_level_values(1).astype(float), 1 / y, 1)[0]))\n",
    "\n",
    "abline_values = [slopes_df['AVG'] * i + intercept_df['AVG'] for i in freqs]\n",
    "\n",
    "# Plot the slope\n",
    "plt.plot(freqs, abline_values)\n",
    "\n",
    "# Plot the inverted shape\n",
    "plt.plot(freqs, dsp_shape_meditation)\n",
    "\n",
    "plt.title(\"Inverse of Welch periodogram for AVG electrode, meditation, Adélie\")\n",
    "plt.xlabel('Frequency (Hz)')\n",
    "plt.ylabel('Inverse of spectral power (Hz/µV²)')"
   ]
  },
  {
   "cell_type": "markdown",
   "metadata": {},
   "source": [
    "#### Welch's Periodogram for one epoch, all electrodes+AVG"
   ]
  },
  {
   "cell_type": "code",
   "execution_count": 141,
   "metadata": {},
   "outputs": [
    {
     "name": "stderr",
     "output_type": "stream",
     "text": [
      "No handles with labels found to put in legend.\n"
     ]
    }
   ],
   "source": [
    "# Baseline Adélie\n",
    "# Welch's Periodogram for one epoch, all electrodes+AVG\n",
    "\n",
    "df_baseline = helpers.load_signal_data('baseline', subject='adelie', config=cfg)['60s':'70s']\n",
    "plot_dsp_df_baseline = stats.plot_dsp(df_baseline, title=\"Welch periodogram for all electrodes, one epoch, baseline, Adélie\")"
   ]
  },
  {
   "cell_type": "code",
   "execution_count": 155,
   "metadata": {},
   "outputs": [
    {
     "data": {
      "text/plain": [
       "Text(0, 0.5, 'Inverse of spectral power (Hz/µV²)')"
      ]
     },
     "execution_count": 155,
     "metadata": {},
     "output_type": "execute_result"
    }
   ],
   "source": [
    "dsp_db_baseline = stats.get_dsp_welch(df_baseline)\n",
    "dsp_shape_baseline = 1 / dsp_db_baseline['AVG']\n",
    "plt.plot(dsp_shape_baseline.index.get_level_values(1).astype(float), dsp_shape_baseline)\n",
    "\n",
    "plt.title(\"Inverse of Welch periodogram for AVG electrode, one epoch, baseline, Adélie\")\n",
    "plt.xlabel('Frequency (Hz)')\n",
    "plt.ylabel('Inverse of spectral power (Hz/µV²)')"
   ]
  },
  {
   "cell_type": "code",
   "execution_count": 39,
   "metadata": {},
   "outputs": [
    {
     "name": "stderr",
     "output_type": "stream",
     "text": [
      "No handles with labels found to put in legend.\n"
     ]
    },
    {
     "data": {
      "image/png": "[encoded data removed]",
      "text/plain": [
       "<Figure size 432x288 with 1 Axes>"
      ]
     },
     "metadata": {
      "needs_background": "light"
     },
     "output_type": "display_data"
    }
   ],
   "source": [
    "# Meditation Adélie\n",
    "# Welch's Periodogram for one epoch, all electrodes+AVG\n",
    "\n",
    "df_meditation = helpers.load_signal_data('meditation', subject='adelie', config=cfg)['60s':'70s']\n",
    "dsp_db_meditation = stats.plot_dsp(df_meditation, title=\"Welch periodogram for all electrodes, one epoch, meditation, Adélie\")"
   ]
  },
  {
   "cell_type": "code",
   "execution_count": 95,
   "metadata": {},
   "outputs": [
    {
     "data": {
      "text/plain": [
       "Text(0, 0.5, 'Inverse of spectral power (Hz/µV²)')"
      ]
     },
     "execution_count": 95,
     "metadata": {},
     "output_type": "execute_result"
    }
   ],
   "source": [
    "dsp_db_meditation = stats.get_dsp_welch(df_meditation)\n",
    "dsp_shape_meditation = 1 / dsp_db_meditation['AVG']\n",
    "plt.plot(dsp_shape_meditation.index.get_level_values(1).astype(float), dsp_shape_meditation)\n",
    "\n",
    "plt.title(\"Inverse of Welch periodogram for AVG electrode, one epoch, meditation, Adélie\")\n",
    "plt.xlabel('Frequency (Hz)')\n",
    "plt.ylabel('Inverse of spectral power (Hz/µV²)')"
   ]
  },
  {
   "cell_type": "markdown",
   "metadata": {},
   "source": [
    "## Adélie: signal in electrodes, slopes, FWER corrected ttest"
   ]
  },
  {
   "cell_type": "code",
   "execution_count": 2,
   "metadata": {},
   "outputs": [],
   "source": [
    "def get_concat_signal(data_type, subject=\"adelie\", config=cfg):\n",
    "    dfs = [\n",
    "        helpers.load_signal_data(data_type, subject=subject, recording=recording, config=config)\n",
    "        for recording in range(\n",
    "            len(config[\"paths\"][\"subjects\"][subject][\"recordings\"][data_type])\n",
    "        )\n",
    "    ]\n",
    "\n",
    "    for i in range(len(dfs) - 1):\n",
    "        dfs[i + 1].index += dfs[i].index.max()\n",
    "\n",
    "    concatenated = pd.concat(dfs)\n",
    "    return concatenated"
   ]
  },
  {
   "cell_type": "code",
   "execution_count": 24,
   "metadata": {},
   "outputs": [],
   "source": [
    "# get baseline Adélie\n",
    "baseline_adelie = get_concat_signal('baseline')\n",
    "baseline_adelie_slopes = stats.get_slopes(baseline_adelie)\n",
    "\n",
    "# get meditation Adélie\n",
    "meditation_adelie = get_concat_signal('meditation')\n",
    "meditation_adelie_slopes = stats.get_slopes(meditation_adelie)"
   ]
  },
  {
   "cell_type": "code",
   "execution_count": 4,
   "metadata": {},
   "outputs": [
    {
     "data": {
      "text/plain": [
       "00:00:09.991072    -0.667733\n",
       "00:00:19.991072    -3.961399\n",
       "00:00:29.991072    -5.481510\n",
       "00:00:39.991072    -6.538597\n",
       "00:00:49.991072    -4.760911\n",
       "00:00:59.991072     0.208992\n",
       "00:01:09.991072   -11.282976\n",
       "00:01:19.991072    -9.350653\n",
       "00:01:29.991072   -14.186080\n",
       "00:01:39.991072   -13.397304\n",
       "00:01:49.991072    -9.370533\n",
       "00:02:09.991072     0.166913\n",
       "00:02:19.991072    -3.321799\n",
       "00:02:29.991072    -1.236555\n",
       "00:02:39.991072    -3.996468\n",
       "00:02:49.991072    -1.597674\n",
       "00:02:59.991072    -6.528478\n",
       "00:03:09.991072     1.585980\n",
       "00:03:19.991072    -7.898446\n",
       "00:03:29.991072    -7.209998\n",
       "00:03:39.991072    -8.327862\n",
       "00:03:49.991072    -7.263258\n",
       "00:03:59.991072    -8.759649\n",
       "00:04:09.991072   -12.008338\n",
       "Name: AVG, dtype: float64"
      ]
     },
     "execution_count": 4,
     "metadata": {},
     "output_type": "execute_result"
    }
   ],
   "source": [
    "baseline_adelie_slopes['AVG']"
   ]
  },
  {
   "cell_type": "code",
   "execution_count": 5,
   "metadata": {},
   "outputs": [],
   "source": [
    "# ttest in one electrode\n",
    "ttest_adelie_slopes_one_elec = ttest_ind(baseline_adelie_slopes['AVG'], meditation_adelie_slopes['AVG'], equal_var=False, nan_policy='omit')"
   ]
  },
  {
   "cell_type": "code",
   "execution_count": 6,
   "metadata": {},
   "outputs": [
    {
     "data": {
      "text/plain": [
       "A2        (2.0708290434930077, 0.04395410334413038)\n",
       "AVG       (2.1401052881461444, 0.03715834725940226)\n",
       "C3       (6.422218714461014, 3.706001581630307e-08)\n",
       "C4       (7.412828844727923, 1.241603939300971e-10)\n",
       "Cz       (2.7619767913825513, 0.008456831248757693)\n",
       "F3      (5.566991287227238, 1.7256214062681937e-06)\n",
       "F4      (3.3842447792197445, 0.0014164527660813619)\n",
       "F7      (3.6728327044743727, 0.0008082831243199394)\n",
       "F8       (5.211733121413251, 3.349288020752859e-06)\n",
       "Fp1     (4.444673710057724, 4.0495667907126346e-05)\n",
       "Fp2     (4.817307688997888, 1.0590188744718458e-05)\n",
       "Fz       (3.675020920789002, 0.0006784939148706701)\n",
       "O1      (-2.9241951174351817, 0.006694852132093662)\n",
       "O2     (-4.409455056260436, 0.00012480027231539424)\n",
       "P3       (2.8178372151582884, 0.008057328383139639)\n",
       "P4        (1.6865458563186744, 0.10001551830102653)\n",
       "Pz        (1.5055670044508684, 0.14017857773875772)\n",
       "T3        (5.86176808842824, 1.811827381038714e-07)\n",
       "T4      (4.139481641422178, 0.00011650200416737314)\n",
       "T5        (1.1328626133305757, 0.26554746910048366)\n",
       "T6          (1.585223302067271, 0.1213336844694769)\n",
       "dtype: object"
      ]
     },
     "execution_count": 6,
     "metadata": {},
     "output_type": "execute_result"
    }
   ],
   "source": [
    "# ttest over all electrodes\n",
    "concat_adelie_slopes = pd.concat([baseline_adelie_slopes, meditation_adelie_slopes], keys=['baseline', 'meditation'])\n",
    "ttest_adelie_slopes = concat_adelie_slopes.agg(lambda x: ttest_ind(x.xs('baseline', level=0), x.xs('meditation', level=0), equal_var=False, nan_policy='omit'))\n",
    "ttest_adelie_slopes"
   ]
  },
  {
   "cell_type": "code",
   "execution_count": 12,
   "metadata": {},
   "outputs": [
    {
     "name": "stdout",
     "output_type": "stream",
     "text": [
      "The FWER corrected pvalue is 0.0025\n",
      "The significant pvalues are C3     3.706002e-08\n",
      "C4     1.241604e-10\n",
      "F3     1.725621e-06\n",
      "F4     1.416453e-03\n",
      "F7     8.082831e-04\n",
      "F8     3.349288e-06\n",
      "Fp1    4.049567e-05\n",
      "Fp2    1.059019e-05\n",
      "Fz     6.784939e-04\n",
      "O2     1.248003e-04\n",
      "T3     1.811827e-07\n",
      "T4     1.165020e-04\n",
      "dtype: float64\n"
     ]
    },
    {
     "name": "stderr",
     "output_type": "stream",
     "text": [
      "C:\\Users\\adeli\\Anaconda3\\lib\\site-packages\\ipykernel_launcher.py:7: FutureWarning: The signature of `Series.to_csv` was aligned to that of `DataFrame.to_csv`, and argument 'header' will change its default value from False to True: please pass an explicit value to suppress this warning.\n",
      "  import sys\n"
     ]
    }
   ],
   "source": [
    "# FWER corrected ttest: ttest over 20 electrodes\n",
    "FWER_threshold = 0.05 / 20\n",
    "p_values_adelie_slopes = ttest_adelie_slopes.map(lambda x: x[1])\n",
    "print('The FWER corrected pvalue is', FWER_threshold)\n",
    "\n",
    "# download to CSV\n",
    "p_values_adelie_slopes[p_values_adelie_slopes < FWER_threshold].to_csv('p_values_adelie_slopes.csv')\n",
    "print('The significant pvalues are', p_values_adelie_slopes[p_values_adelie_slopes < FWER_threshold])"
   ]
  },
  {
   "cell_type": "markdown",
   "metadata": {},
   "source": [
    "## Sam: signal in electrodes, slopes, FWER corrected ttest"
   ]
  },
  {
   "cell_type": "code",
   "execution_count": 8,
   "metadata": {},
   "outputs": [],
   "source": [
    "# get baseline Sam\n",
    "baseline_sam = get_concat_signal('baseline', subject='sam')\n",
    "baseline_sam_slopes = stats.get_slopes(baseline_sam)\n",
    "\n",
    "# get meditation Sam\n",
    "meditation_sam = get_concat_signal('meditation', subject='sam')\n",
    "meditation_sam_slopes = stats.get_slopes(meditation_sam)"
   ]
  },
  {
   "cell_type": "code",
   "execution_count": 9,
   "metadata": {},
   "outputs": [
    {
     "data": {
      "text/plain": [
       "A2       (1.7201074192238588, 0.09032824194771415)\n",
       "AVG      (-1.2245138320548736, 0.2239094015388643)\n",
       "C3       (0.44739912635232815, 0.6565870030998138)\n",
       "C4      (-2.4071179850463063, 0.02146739108615762)\n",
       "Cz        (0.9712772386273426, 0.3367708254680738)\n",
       "F3      (-0.04040780441038075, 0.9679640332326621)\n",
       "F4        (0.10075065927544102, 0.920246216994105)\n",
       "F7        (0.6855897043397738, 0.4957657866574977)\n",
       "F8        (0.8609906798668581, 0.3929732696973859)\n",
       "Fp1        (0.356266429634935, 0.7223338029322023)\n",
       "Fp2       (0.5639355433534204, 0.5738827685593988)\n",
       "Fz       (1.2395066372745527, 0.22100838337876338)\n",
       "O1        (1.0582459140570586, 0.2930594530078005)\n",
       "O2      (-3.000774079818139, 0.003918635172057687)\n",
       "P3        (1.3938262428673474, 0.1698477431776885)\n",
       "P4        (-1.372653548237639, 0.1765335044720073)\n",
       "Pz       (1.0835812211395435, 0.28294300064892025)\n",
       "T3      (-2.622777362620294, 0.010021462829728255)\n",
       "T4     (-3.3875999383020243, 0.001711141974884166)\n",
       "T5        (0.3114523518769105, 0.7560850386296116)\n",
       "T6         (-3.30758799892566, 0.0018386618845184)\n",
       "dtype: object"
      ]
     },
     "execution_count": 9,
     "metadata": {},
     "output_type": "execute_result"
    }
   ],
   "source": [
    "# ttest over all electrodes\n",
    "concat_sam_slopes = pd.concat([baseline_sam_slopes, meditation_sam_slopes], keys=['baseline', 'meditation'])\n",
    "ttest_sam_slopes = concat_sam_slopes.agg(lambda x: ttest_ind(x.xs('baseline', level=0), x.xs('meditation', level=0), equal_var=False, nan_policy='omit'))\n",
    "ttest_sam_slopes"
   ]
  },
  {
   "cell_type": "code",
   "execution_count": 11,
   "metadata": {},
   "outputs": [
    {
     "name": "stdout",
     "output_type": "stream",
     "text": [
      "The FWER corrected pvalue is 0.0025\n",
      "The significant pvalues are T4    0.001711\n",
      "T6    0.001839\n",
      "dtype: float64\n"
     ]
    },
    {
     "name": "stderr",
     "output_type": "stream",
     "text": [
      "C:\\Users\\adeli\\Anaconda3\\lib\\site-packages\\ipykernel_launcher.py:7: FutureWarning: The signature of `Series.to_csv` was aligned to that of `DataFrame.to_csv`, and argument 'header' will change its default value from False to True: please pass an explicit value to suppress this warning.\n",
      "  import sys\n"
     ]
    }
   ],
   "source": [
    "# FWER corrected ttest: ttest over 20 electrodes\n",
    "FWER_threshold = 0.05 / 20\n",
    "p_values_sam_slopes = ttest_sam_slopes.map(lambda x: x[1])\n",
    "print('The FWER corrected pvalue is', FWER_threshold)\n",
    "\n",
    "# download to CSV\n",
    "p_values_sam_slopes[p_values_sam_slopes < FWER_threshold].to_csv('p_values_sam_slopes.csv')\n",
    "print('The significant pvalues are', p_values_sam_slopes[p_values_sam_slopes < FWER_threshold])"
   ]
  },
  {
   "cell_type": "markdown",
   "metadata": {},
   "source": [
    "## Let's animate the welch periodogram"
   ]
  },
  {
   "cell_type": "code",
   "execution_count": 37,
   "metadata": {},
   "outputs": [
    {
     "data": {
      "text/html": [
       "<div>\n",
       "<style scoped>\n",
       "    .dataframe tbody tr th:only-of-type {\n",
       "        vertical-align: middle;\n",
       "    }\n",
       "\n",
       "    .dataframe tbody tr th {\n",
       "        vertical-align: top;\n",
       "    }\n",
       "\n",
       "    .dataframe thead th {\n",
       "        text-align: right;\n",
       "    }\n",
       "</style>\n",
       "<table border=\"1\" class=\"dataframe\">\n",
       "  <thead>\n",
       "    <tr style=\"text-align: right;\">\n",
       "      <th></th>\n",
       "      <th></th>\n",
       "      <th>A2</th>\n",
       "      <th>AVG</th>\n",
       "      <th>C3</th>\n",
       "      <th>C4</th>\n",
       "      <th>Cz</th>\n",
       "      <th>F3</th>\n",
       "      <th>F4</th>\n",
       "      <th>F7</th>\n",
       "      <th>F8</th>\n",
       "      <th>Fp1</th>\n",
       "      <th>...</th>\n",
       "      <th>Fz</th>\n",
       "      <th>O1</th>\n",
       "      <th>O2</th>\n",
       "      <th>P3</th>\n",
       "      <th>P4</th>\n",
       "      <th>Pz</th>\n",
       "      <th>T3</th>\n",
       "      <th>T4</th>\n",
       "      <th>T5</th>\n",
       "      <th>T6</th>\n",
       "    </tr>\n",
       "  </thead>\n",
       "  <tbody>\n",
       "    <tr>\n",
       "      <th rowspan=\"5\" valign=\"top\">00:00:09.991072</th>\n",
       "      <th>1.00</th>\n",
       "      <td>0.960440</td>\n",
       "      <td>1.932948</td>\n",
       "      <td>3.906442</td>\n",
       "      <td>5.060188</td>\n",
       "      <td>49.360073</td>\n",
       "      <td>11.564177</td>\n",
       "      <td>22.241432</td>\n",
       "      <td>12.904437</td>\n",
       "      <td>6.548312</td>\n",
       "      <td>14.855838</td>\n",
       "      <td>...</td>\n",
       "      <td>5.954402</td>\n",
       "      <td>1.072496</td>\n",
       "      <td>27.032049</td>\n",
       "      <td>40.424704</td>\n",
       "      <td>28.324630</td>\n",
       "      <td>78.110312</td>\n",
       "      <td>8.545232</td>\n",
       "      <td>1.019636</td>\n",
       "      <td>9.807025</td>\n",
       "      <td>22.421323</td>\n",
       "    </tr>\n",
       "    <tr>\n",
       "      <th>1.25</th>\n",
       "      <td>0.415009</td>\n",
       "      <td>34.300112</td>\n",
       "      <td>39.477347</td>\n",
       "      <td>24.689440</td>\n",
       "      <td>63.970273</td>\n",
       "      <td>51.757166</td>\n",
       "      <td>133.702267</td>\n",
       "      <td>96.689173</td>\n",
       "      <td>58.299157</td>\n",
       "      <td>75.454290</td>\n",
       "      <td>...</td>\n",
       "      <td>46.087190</td>\n",
       "      <td>10.594399</td>\n",
       "      <td>48.347180</td>\n",
       "      <td>28.851662</td>\n",
       "      <td>48.916572</td>\n",
       "      <td>86.046643</td>\n",
       "      <td>11.508428</td>\n",
       "      <td>10.190834</td>\n",
       "      <td>23.268254</td>\n",
       "      <td>67.858778</td>\n",
       "    </tr>\n",
       "    <tr>\n",
       "      <th>1.50</th>\n",
       "      <td>0.047441</td>\n",
       "      <td>25.411044</td>\n",
       "      <td>44.744947</td>\n",
       "      <td>21.280163</td>\n",
       "      <td>28.262125</td>\n",
       "      <td>19.414765</td>\n",
       "      <td>129.597375</td>\n",
       "      <td>44.694218</td>\n",
       "      <td>37.682253</td>\n",
       "      <td>43.733517</td>\n",
       "      <td>...</td>\n",
       "      <td>39.977972</td>\n",
       "      <td>15.703335</td>\n",
       "      <td>34.241434</td>\n",
       "      <td>13.336551</td>\n",
       "      <td>22.339054</td>\n",
       "      <td>140.022706</td>\n",
       "      <td>2.325799</td>\n",
       "      <td>6.635201</td>\n",
       "      <td>30.655105</td>\n",
       "      <td>53.243323</td>\n",
       "    </tr>\n",
       "    <tr>\n",
       "      <th>1.75</th>\n",
       "      <td>0.159956</td>\n",
       "      <td>0.810664</td>\n",
       "      <td>0.817227</td>\n",
       "      <td>2.207108</td>\n",
       "      <td>0.823415</td>\n",
       "      <td>3.468835</td>\n",
       "      <td>64.260621</td>\n",
       "      <td>3.695244</td>\n",
       "      <td>0.574181</td>\n",
       "      <td>3.871877</td>\n",
       "      <td>...</td>\n",
       "      <td>3.454433</td>\n",
       "      <td>4.476083</td>\n",
       "      <td>31.775274</td>\n",
       "      <td>1.658809</td>\n",
       "      <td>7.157585</td>\n",
       "      <td>36.748422</td>\n",
       "      <td>0.869467</td>\n",
       "      <td>1.804938</td>\n",
       "      <td>3.066903</td>\n",
       "      <td>5.125031</td>\n",
       "    </tr>\n",
       "    <tr>\n",
       "      <th>2.00</th>\n",
       "      <td>0.139585</td>\n",
       "      <td>2.277048</td>\n",
       "      <td>13.786360</td>\n",
       "      <td>3.677157</td>\n",
       "      <td>5.266234</td>\n",
       "      <td>4.712729</td>\n",
       "      <td>9.420356</td>\n",
       "      <td>3.883453</td>\n",
       "      <td>0.232989</td>\n",
       "      <td>1.245614</td>\n",
       "      <td>...</td>\n",
       "      <td>4.135805</td>\n",
       "      <td>6.911569</td>\n",
       "      <td>8.245376</td>\n",
       "      <td>6.253878</td>\n",
       "      <td>6.657723</td>\n",
       "      <td>7.257102</td>\n",
       "      <td>0.458657</td>\n",
       "      <td>8.424098</td>\n",
       "      <td>12.181189</td>\n",
       "      <td>2.252611</td>\n",
       "    </tr>\n",
       "  </tbody>\n",
       "</table>\n",
       "<p>5 rows × 21 columns</p>\n",
       "</div>"
      ],
      "text/plain": [
       "                            A2        AVG         C3         C4         Cz  \\\n",
       "00:00:09.991072 1.00  0.960440   1.932948   3.906442   5.060188  49.360073   \n",
       "                1.25  0.415009  34.300112  39.477347  24.689440  63.970273   \n",
       "                1.50  0.047441  25.411044  44.744947  21.280163  28.262125   \n",
       "                1.75  0.159956   0.810664   0.817227   2.207108   0.823415   \n",
       "                2.00  0.139585   2.277048  13.786360   3.677157   5.266234   \n",
       "\n",
       "                             F3          F4         F7         F8        Fp1  \\\n",
       "00:00:09.991072 1.00  11.564177   22.241432  12.904437   6.548312  14.855838   \n",
       "                1.25  51.757166  133.702267  96.689173  58.299157  75.454290   \n",
       "                1.50  19.414765  129.597375  44.694218  37.682253  43.733517   \n",
       "                1.75   3.468835   64.260621   3.695244   0.574181   3.871877   \n",
       "                2.00   4.712729    9.420356   3.883453   0.232989   1.245614   \n",
       "\n",
       "                      ...         Fz         O1         O2         P3  \\\n",
       "00:00:09.991072 1.00  ...   5.954402   1.072496  27.032049  40.424704   \n",
       "                1.25  ...  46.087190  10.594399  48.347180  28.851662   \n",
       "                1.50  ...  39.977972  15.703335  34.241434  13.336551   \n",
       "                1.75  ...   3.454433   4.476083  31.775274   1.658809   \n",
       "                2.00  ...   4.135805   6.911569   8.245376   6.253878   \n",
       "\n",
       "                             P4          Pz         T3         T4         T5  \\\n",
       "00:00:09.991072 1.00  28.324630   78.110312   8.545232   1.019636   9.807025   \n",
       "                1.25  48.916572   86.046643  11.508428  10.190834  23.268254   \n",
       "                1.50  22.339054  140.022706   2.325799   6.635201  30.655105   \n",
       "                1.75   7.157585   36.748422   0.869467   1.804938   3.066903   \n",
       "                2.00   6.657723    7.257102   0.458657   8.424098  12.181189   \n",
       "\n",
       "                             T6  \n",
       "00:00:09.991072 1.00  22.421323  \n",
       "                1.25  67.858778  \n",
       "                1.50  53.243323  \n",
       "                1.75   5.125031  \n",
       "                2.00   2.252611  \n",
       "\n",
       "[5 rows x 21 columns]"
      ]
     },
     "execution_count": 37,
     "metadata": {},
     "output_type": "execute_result"
    }
   ],
   "source": [
    "psd = stats.get_dsp_welch(helpers.load_signal_data(\"baseline\", config=cfg, subject='adelie'), epoch_size='4s')\n",
    "psd.head()"
   ]
  },
  {
   "cell_type": "code",
   "execution_count": 77,
   "metadata": {},
   "outputs": [
    {
     "data": {
      "text/plain": [
       "TimedeltaIndex(['00:00:09.991072', '00:00:13.991072', '00:00:17.991072',\n",
       "                '00:00:21.991072', '00:00:25.991072', '00:00:29.991072',\n",
       "                '00:00:33.991072', '00:00:37.991072', '00:00:41.991072',\n",
       "                '00:00:45.991072', '00:00:49.991072', '00:00:53.991072',\n",
       "                '00:00:57.991072', '00:01:01.991072', '00:01:05.991072',\n",
       "                '00:01:09.991072', '00:01:13.991072', '00:01:17.991072',\n",
       "                '00:01:21.991072', '00:01:25.991072', '00:01:29.991072',\n",
       "                '00:01:33.991072', '00:01:37.991072', '00:01:41.991072',\n",
       "                '00:01:45.991072', '00:01:49.991072', '00:01:53.991072',\n",
       "                '00:01:57.991072'],\n",
       "               dtype='timedelta64[ns]', freq='4S')"
      ]
     },
     "execution_count": 77,
     "metadata": {},
     "output_type": "execute_result"
    }
   ],
   "source": [
    "psd.index.levels[0]"
   ]
  },
  {
   "cell_type": "code",
   "execution_count": 89,
   "metadata": {},
   "outputs": [],
   "source": [
    "import matplotlib.animation as animation\n",
    "    \n",
    "fig = plt.figure()\n",
    "\n",
    "def animate(group_index):\n",
    "    plt.clf()\n",
    "    group = psd.xs(group_index, level=0)\n",
    "    axes = group['AVG'].plot()\n",
    "    axes.set_ylim([0,100])\n",
    "    return axes\n",
    "\n",
    "\n",
    "anim = animation.FuncAnimation(fig, animate, frames=psd.index.levels[0], repeat = False, interval=300, blit=False)"
   ]
  },
  {
   "cell_type": "code",
   "execution_count": null,
   "metadata": {},
   "outputs": [],
   "source": []
  }
 ],
 "metadata": {
  "kernelspec": {
   "display_name": "Python 3",
   "language": "python",
   "name": "python3"
  },
  "language_info": {
   "codemirror_mode": {
    "name": "ipython",
    "version": 3
   },
   "file_extension": ".py",
   "mimetype": "text/x-python",
   "name": "python",
   "nbconvert_exporter": "python",
   "pygments_lexer": "ipython3",
   "version": "3.7.3"
  }
 },
 "nbformat": 4,
 "nbformat_minor": 2
}
