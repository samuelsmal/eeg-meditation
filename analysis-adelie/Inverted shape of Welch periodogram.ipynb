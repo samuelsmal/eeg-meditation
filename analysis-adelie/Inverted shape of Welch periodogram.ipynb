{
 "cells": [
  {
   "cell_type": "code",
   "execution_count": 31,
   "metadata": {},
   "outputs": [],
   "source": [
    "%matplotlib qt\n",
    "\n",
    "# std\n",
    "import os\n",
    "from os import path\n",
    "import time\n",
    "import importlib\n",
    "\n",
    "# 3p\n",
    "import numpy as np\n",
    "import pandas as pd\n",
    "import matplotlib.pyplot as plt\n",
    "\n",
    "# prj\n",
    "os.chdir(\"..\")\n",
    "from src import helpers, configuration, filtering, bandpower, plots, statistics as stats\n",
    "from src.configuration import cfg, cfg_mr\n",
    "os.chdir('analysis-adelie')\n",
    "\n",
    "# ttest\n",
    "from scipy.stats import ttest_ind\n",
    "\n",
    "# plots\n",
    "import matplotlib\n",
    "\n",
    "font = {'family':'DejaVu Sans', 'weight':'normal', 'size':14}\n",
    "matplotlib.rc('font', **font)"
   ]
  },
  {
   "cell_type": "markdown",
   "metadata": {},
   "source": [
    "## Power spectral density: 1/f shape"
   ]
  },
  {
   "cell_type": "code",
   "execution_count": 8,
   "metadata": {},
   "outputs": [
    {
     "data": {
      "text/plain": [
       "106.80666666666667"
      ]
     },
     "execution_count": 8,
     "metadata": {},
     "output_type": "execute_result"
    }
   ],
   "source": [
    "len(df_baseline)/300"
   ]
  },
  {
   "cell_type": "code",
   "execution_count": 89,
   "metadata": {},
   "outputs": [
    {
     "data": {
      "text/plain": [
       "286.72"
      ]
     },
     "execution_count": 89,
     "metadata": {},
     "output_type": "execute_result"
    }
   ],
   "source": [
    "len(df_meditation)/300"
   ]
  },
  {
   "cell_type": "markdown",
   "metadata": {},
   "source": [
    "#### Welch's Periodogram all signal, AVG electrode"
   ]
  },
  {
   "cell_type": "code",
   "execution_count": 55,
   "metadata": {},
   "outputs": [],
   "source": [
    "# Baseline Adélie\n",
    "# Welch's Periodogram all signal, AVG electrode\n",
    "\n",
    "df_baseline = helpers.load_signal_data('baseline', subject='adelie', config=cfg)\n",
    "dsp_df_baseline = stats.get_dsp_welch(df_baseline, epoch_size='109s')\n",
    "\n",
    "freqs = dsp_shape_baseline.index.get_level_values(1).astype(float)\n",
    "\n",
    "plt.plot(freqs, dsp_df_baseline['AVG'])\n",
    "\n",
    "plt.xlabel(\"Frequency (Hz)\")\n",
    "plt.ylabel(\"Spectral power density (µV²/Hz)\")\n",
    "plt.title(\"Welch periodogram for AVG electrode, baseline, Adélie\")\n",
    "plt.show()"
   ]
  },
  {
   "cell_type": "code",
   "execution_count": 63,
   "metadata": {},
   "outputs": [
    {
     "data": {
      "text/plain": [
       "Text(0, 0.5, 'Inverse of spectral power (Hz/µV²)')"
      ]
     },
     "execution_count": 63,
     "metadata": {},
     "output_type": "execute_result"
    }
   ],
   "source": [
    "# ICI c'est bon\n",
    "# Baseline Adélie\n",
    "# Inverted shape of Welch's Periodogram all signal, AVG electrode\n",
    "\n",
    "dsp_df_baseline = stats.get_dsp_welch(df_baseline, epoch_size='109s')\n",
    "dsp_shape_baseline = 1 / dsp_df_baseline['AVG']\n",
    "\n",
    "freqs = dsp_shape_baseline.index.get_level_values(1).astype(float)\n",
    "\n",
    "# The best fit line over the actual values: slope and intercept\n",
    "slopes_df = dsp_df_baseline.groupby(level=0).apply(\n",
    "        lambda x: x.agg(lambda y: np.polyfit(x.index.get_level_values(1).astype(float), 1 / y, 1)[0]))\n",
    "\n",
    "intercept_df = dsp_df_baseline.groupby(level=0).apply(\n",
    "        lambda x: x.agg(lambda y: np.polyfit(x.index.get_level_values(1).astype(float), 1 / y, 1)[1]))\n",
    "\n",
    "abline_values = [slopes_df['AVG'] * i + intercept_df['AVG'] for i in freqs]\n",
    "\n",
    "# Plot the slope\n",
    "plt.plot(freqs, abline_values, 'green')\n",
    "\n",
    "# Plot the inverted shape\n",
    "plt.plot(freqs, dsp_shape_baseline, 'orange')\n",
    "\n",
    "plt.title(\"Inverse of Welch periodogram for AVG electrode, baseline, Adélie\")\n",
    "plt.xlabel('Frequency (Hz)')\n",
    "plt.ylabel('Inverse of spectral power (Hz/µV²)')"
   ]
  },
  {
   "cell_type": "code",
   "execution_count": 37,
   "metadata": {},
   "outputs": [
    {
     "name": "stdout",
     "output_type": "stream",
     "text": [
      "[ 0.88969988 28.88235294]\n"
     ]
    },
    {
     "data": {
      "text/plain": [
       "[<matplotlib.lines.Line2D at 0x24846fee6d8>]"
      ]
     },
     "execution_count": 37,
     "metadata": {},
     "output_type": "execute_result"
    }
   ],
   "source": [
    "length = 50\n",
    "a = [i + np.random.randint(0, 50) for i in range(length)]\n",
    "c = np.polyfit(range(length), a, 1)\n",
    "print(c)\n",
    "d = [c[1] + c[0] * i for i in range(length)]\n",
    "\n",
    "plt.plot(a)\n",
    "plt.plot(d)"
   ]
  },
  {
   "cell_type": "code",
   "execution_count": 36,
   "metadata": {},
   "outputs": [],
   "source": [
    "# Meditation Adélie\n",
    "# Welch's Periodogram all signal, AVG electrode\n",
    "\n",
    "df_meditation = helpers.load_signal_data('meditation', subject='adelie', config=cfg)\n",
    "dsp_df_meditation = stats.get_dsp_welch(df_meditation, epoch_size='287s')\n",
    "\n",
    "freqs = dsp_shape_meditation.index.get_level_values(1).astype(float)\n",
    "\n",
    "plt.plot(freqs, dsp_df_meditation['AVG'])\n",
    "\n",
    "plt.xlabel(\"Frequency (Hz)\")\n",
    "plt.ylabel(\"Spectral power density (µV²/Hz)\")\n",
    "plt.title(\"Welch periodogram for AVG electrode, meditation, Adélie\")\n",
    "plt.show()"
   ]
  },
  {
   "cell_type": "code",
   "execution_count": 35,
   "metadata": {},
   "outputs": [
    {
     "data": {
      "text/plain": [
       "Text(0, 0.5, 'Inverse of spectral power (Hz/µV²)')"
      ]
     },
     "execution_count": 35,
     "metadata": {},
     "output_type": "execute_result"
    }
   ],
   "source": [
    "# Meditation Adélie\n",
    "# Inverted shape of Welch's Periodogram all signal, AVG electrode\n",
    "\n",
    "dsp_df_meditation = stats.get_dsp_welch(df_meditation, epoch_size='287s')\n",
    "dsp_shape_meditation = 1 / dsp_df_meditation['AVG']\n",
    "\n",
    "# The best fit line over the actual values: slope and intercept\n",
    "slopes_df = dsp_df_meditation.groupby(level=0).apply(\n",
    "        lambda x: x.agg(lambda y: np.polyfit(x.index.get_level_values(1).astype(float), 1 / y, 1)[1]))\n",
    "\n",
    "intercept_df = slopes_df = dsp_df_meditation.groupby(level=0).apply(\n",
    "        lambda x: x.agg(lambda y: np.polyfit(x.index.get_level_values(1).astype(float), 1 / y, 1)[0]))\n",
    "\n",
    "abline_values = [slopes_df['AVG'] * i + intercept_df['AVG'] for i in freqs]\n",
    "\n",
    "# Plot the slope\n",
    "plt.plot(freqs, abline_values)\n",
    "\n",
    "# Plot the inverted shape\n",
    "plt.plot(freqs, dsp_shape_meditation)\n",
    "\n",
    "plt.title(\"Inverse of Welch periodogram for AVG electrode, meditation, Adélie\")\n",
    "plt.xlabel('Frequency (Hz)')\n",
    "plt.ylabel('Inverse of spectral power (Hz/µV²)')"
   ]
  },
  {
   "cell_type": "markdown",
   "metadata": {},
   "source": [
    "#### Welch's Periodogram for one epoch, all electrodes+AVG"
   ]
  },
  {
   "cell_type": "code",
   "execution_count": 141,
   "metadata": {},
   "outputs": [
    {
     "name": "stderr",
     "output_type": "stream",
     "text": [
      "No handles with labels found to put in legend.\n"
     ]
    }
   ],
   "source": [
    "# Baseline Adélie\n",
    "# Welch's Periodogram for one epoch, all electrodes+AVG\n",
    "\n",
    "df_baseline = helpers.load_signal_data('baseline', subject='adelie', config=cfg)['60s':'70s']\n",
    "plot_dsp_df_baseline = stats.plot_dsp(df_baseline, title=\"Welch periodogram for all electrodes, one epoch, baseline, Adélie\")"
   ]
  },
  {
   "cell_type": "code",
   "execution_count": 155,
   "metadata": {},
   "outputs": [
    {
     "data": {
      "text/plain": [
       "Text(0, 0.5, 'Inverse of spectral power (Hz/µV²)')"
      ]
     },
     "execution_count": 155,
     "metadata": {},
     "output_type": "execute_result"
    }
   ],
   "source": [
    "dsp_db_baseline = stats.get_dsp_welch(df_baseline)\n",
    "dsp_shape_baseline = 1 / dsp_db_baseline['AVG']\n",
    "plt.plot(dsp_shape_baseline.index.get_level_values(1).astype(float), dsp_shape_baseline)\n",
    "\n",
    "plt.title(\"Inverse of Welch periodogram for AVG electrode, one epoch, baseline, Adélie\")\n",
    "plt.xlabel('Frequency (Hz)')\n",
    "plt.ylabel('Inverse of spectral power (Hz/µV²)')"
   ]
  },
  {
   "cell_type": "code",
   "execution_count": 39,
   "metadata": {},
   "outputs": [
    {
     "name": "stderr",
     "output_type": "stream",
     "text": [
      "No handles with labels found to put in legend.\n"
     ]
    },
    {
     "data": {
      "image/png": "[encoded data removed]",
      "text/plain": [
       "<Figure size 432x288 with 1 Axes>"
      ]
     },
     "metadata": {
      "needs_background": "light"
     },
     "output_type": "display_data"
    }
   ],
   "source": [
    "# Meditation Adélie\n",
    "# Welch's Periodogram for one epoch, all electrodes+AVG\n",
    "\n",
    "df_meditation = helpers.load_signal_data('meditation', subject='adelie', config=cfg)['60s':'70s']\n",
    "dsp_db_meditation = stats.plot_dsp(df_meditation, title=\"Welch periodogram for all electrodes, one epoch, meditation, Adélie\")"
   ]
  },
  {
   "cell_type": "code",
   "execution_count": 95,
   "metadata": {},
   "outputs": [
    {
     "data": {
      "text/plain": [
       "Text(0, 0.5, 'Inverse of spectral power (Hz/µV²)')"
      ]
     },
     "execution_count": 95,
     "metadata": {},
     "output_type": "execute_result"
    }
   ],
   "source": [
    "dsp_db_meditation = stats.get_dsp_welch(df_meditation)\n",
    "dsp_shape_meditation = 1 / dsp_db_meditation['AVG']\n",
    "plt.plot(dsp_shape_meditation.index.get_level_values(1).astype(float), dsp_shape_meditation)\n",
    "\n",
    "plt.title(\"Inverse of Welch periodogram for AVG electrode, one epoch, meditation, Adélie\")\n",
    "plt.xlabel('Frequency (Hz)')\n",
    "plt.ylabel('Inverse of spectral power (Hz/µV²)')"
   ]
  },
  {
   "cell_type": "markdown",
   "metadata": {},
   "source": [
    "## Adélie: signal in electrodes, slopes, FWER corrected ttest"
   ]
  },
  {
   "cell_type": "code",
   "execution_count": 2,
   "metadata": {},
   "outputs": [],
   "source": [
    "def get_concat_signal(data_type, subject=\"adelie\", config=cfg):\n",
    "    dfs = [\n",
    "        helpers.load_signal_data(data_type, subject=subject, recording=recording, config=config)\n",
    "        for recording in range(\n",
    "            len(config[\"paths\"][\"subjects\"][subject][\"recordings\"][data_type])\n",
    "        )\n",
    "    ]\n",
    "\n",
    "    for i in range(len(dfs) - 1):\n",
    "        dfs[i + 1].index += dfs[i].index.max()\n",
    "\n",
    "    concatenated = pd.concat(dfs)\n",
    "    return concatenated"
   ]
  },
  {
   "cell_type": "code",
   "execution_count": 3,
   "metadata": {},
   "outputs": [],
   "source": [
    "# get baseline Adélie\n",
    "baseline_adelie = get_concat_signal('baseline')\n",
    "baseline_adelie_slopes = stats.get_slopes(baseline_adelie)\n",
    "\n",
    "# get meditation Adélie\n",
    "meditation_adelie = get_concat_signal('meditation')\n",
    "meditation_adelie_slopes = stats.get_slopes(meditation_adelie)"
   ]
  },
  {
   "cell_type": "code",
   "execution_count": 51,
   "metadata": {},
   "outputs": [],
   "source": [
    "# ttest in one electrode\n",
    "ttest_adelie_slopes_one_elec = ttest_ind(baseline_adelie_slopes['AVG'], meditation_adelie_slopes['AVG'], equal_var=False, nan_policy='omit')"
   ]
  },
  {
   "cell_type": "code",
   "execution_count": 4,
   "metadata": {},
   "outputs": [],
   "source": [
    "# ttest over all electrodes\n",
    "concat_adelie_slopes = pd.concat([baseline_adelie_slopes, meditation_adelie_slopes], keys=['baseline', 'meditation'])\n",
    "ttest_adelie_slopes = concat_adelie_slopes.agg(lambda x: ttest_ind(x.xs('baseline', level=0), x.xs('meditation', level=0), equal_var=False, nan_policy='omit'))"
   ]
  },
  {
   "cell_type": "code",
   "execution_count": 5,
   "metadata": {},
   "outputs": [
    {
     "name": "stdout",
     "output_type": "stream",
     "text": [
      "The FWER corrected pvalue is 0.0025\n",
      "The significant pvalues are C3     3.468007e-09\n",
      "C4     4.477336e-09\n",
      "F3     1.670347e-06\n",
      "F7     3.728470e-04\n",
      "F8     7.259976e-06\n",
      "Fp1    1.019197e-05\n",
      "Fp2    4.290368e-04\n",
      "Fz     2.152294e-03\n",
      "O1     1.762716e-03\n",
      "O2     7.922221e-05\n",
      "T3     4.311543e-08\n",
      "T4     2.592954e-04\n",
      "dtype: float64\n"
     ]
    },
    {
     "name": "stderr",
     "output_type": "stream",
     "text": [
      "C:\\Users\\adeli\\Anaconda3\\lib\\site-packages\\ipykernel_launcher.py:7: FutureWarning: The signature of `Series.to_csv` was aligned to that of `DataFrame.to_csv`, and argument 'header' will change its default value from False to True: please pass an explicit value to suppress this warning.\n",
      "  import sys\n"
     ]
    }
   ],
   "source": [
    "# FWER corrected ttest: ttest over 20 electrodes\n",
    "FWER_threshold = 0.05 / 20\n",
    "p_values_adelie_slopes = ttest_adelie_slopes.map(lambda x: x[1])\n",
    "print('The FWER corrected pvalue is', FWER_threshold)\n",
    "\n",
    "# download to CSV\n",
    "p_values_adelie_slopes[p_values_adelie_slopes < FWER_threshold].to_csv('p_values_adelie_slopes.csv')\n",
    "print('The significant pvalues are', p_values_adelie_slopes[p_values_adelie_slopes < FWER_threshold])"
   ]
  },
  {
   "cell_type": "markdown",
   "metadata": {},
   "source": [
    "## Sam: signal in electrodes, slopes, FWER corrected ttest"
   ]
  },
  {
   "cell_type": "code",
   "execution_count": 6,
   "metadata": {},
   "outputs": [],
   "source": [
    "# get baseline Sam\n",
    "baseline_sam = get_concat_signal('baseline', subject='sam')\n",
    "baseline_sam_slopes = stats.get_slopes(baseline_sam)\n",
    "\n",
    "# get meditation Sam\n",
    "meditation_sam = get_concat_signal('meditation', subject='sam')\n",
    "meditation_sam_slopes = stats.get_slopes(meditation_sam)"
   ]
  },
  {
   "cell_type": "code",
   "execution_count": 7,
   "metadata": {},
   "outputs": [
    {
     "name": "stdout",
     "output_type": "stream",
     "text": [
      "The FWER corrected pvalue is 0.0025\n",
      "The significant pvalues are Fp1    0.001624\n",
      "O2     0.000276\n",
      "dtype: float64\n"
     ]
    },
    {
     "name": "stderr",
     "output_type": "stream",
     "text": [
      "C:\\Users\\adeli\\Anaconda3\\lib\\site-packages\\ipykernel_launcher.py:11: FutureWarning: The signature of `Series.to_csv` was aligned to that of `DataFrame.to_csv`, and argument 'header' will change its default value from False to True: please pass an explicit value to suppress this warning.\n",
      "  # This is added back by InteractiveShellApp.init_path()\n"
     ]
    }
   ],
   "source": [
    "# ttest over all electrodes\n",
    "concat_sam_slopes = pd.concat([baseline_sam_slopes, meditation_sam_slopes], keys=['baseline', 'meditation'])\n",
    "ttest_sam_slopes = concat_sam_slopes.agg(lambda x: ttest_ind(x.xs('baseline', level=0), x.xs('meditation', level=0), equal_var=False, nan_policy='omit'))\n",
    "\n",
    "# FWER corrected ttest: ttest over 20 electrodes\n",
    "FWER_threshold = 0.05 / 20\n",
    "p_values_sam_slopes = ttest_sam_slopes.map(lambda x: x[1])\n",
    "print('The FWER corrected pvalue is', FWER_threshold)\n",
    "\n",
    "# download to CSV\n",
    "p_values_sam_slopes[p_values_sam_slopes < FWER_threshold].to_csv('p_values_sam_slopes.csv')\n",
    "print('The significant pvalues are', p_values_sam_slopes[p_values_sam_slopes < FWER_threshold])"
   ]
  },
  {
   "cell_type": "code",
   "execution_count": 8,
   "metadata": {},
   "outputs": [],
   "source": [
    "# get baseline Sam2\n",
    "baseline_sam2 = get_concat_signal('baseline', subject='sam2')\n",
    "baseline_sam2_slopes = stats.get_slopes(baseline_sam2)\n",
    "\n",
    "# get meditation Sam2\n",
    "meditation_sam2 = get_concat_signal('meditation', subject='sam2')\n",
    "meditation_sam2_slopes = stats.get_slopes(meditation_sam2)"
   ]
  },
  {
   "cell_type": "code",
   "execution_count": 9,
   "metadata": {},
   "outputs": [
    {
     "name": "stdout",
     "output_type": "stream",
     "text": [
      "The FWER corrected pvalue is 0.0025\n",
      "The significant pvalues are A2     1.951551e-09\n",
      "F7     3.376951e-04\n",
      "F8     9.225840e-04\n",
      "Fp2    2.701059e-04\n",
      "dtype: float64\n"
     ]
    },
    {
     "name": "stderr",
     "output_type": "stream",
     "text": [
      "C:\\Users\\adeli\\Anaconda3\\lib\\site-packages\\ipykernel_launcher.py:11: FutureWarning: The signature of `Series.to_csv` was aligned to that of `DataFrame.to_csv`, and argument 'header' will change its default value from False to True: please pass an explicit value to suppress this warning.\n",
      "  # This is added back by InteractiveShellApp.init_path()\n"
     ]
    }
   ],
   "source": [
    "# ttest over all electrodes\n",
    "concat_sam2_slopes = pd.concat([baseline_sam2_slopes, meditation_sam2_slopes], keys=['baseline', 'meditation'])\n",
    "ttest_sam2_slopes = concat_sam2_slopes.agg(lambda x: ttest_ind(x.xs('baseline', level=0), x.xs('meditation', level=0), equal_var=False, nan_policy='omit'))\n",
    "\n",
    "# FWER corrected ttest: ttest over 20 electrodes\n",
    "FWER_threshold = 0.05 / 20\n",
    "p_values_sam2_slopes = ttest_sam2_slopes.map(lambda x: x[1])\n",
    "print('The FWER corrected pvalue is', FWER_threshold)\n",
    "\n",
    "# download to CSV\n",
    "p_values_sam2_slopes[p_values_sam2_slopes < FWER_threshold].to_csv('p_values_sam2_slopes.csv')\n",
    "print('The significant pvalues are', p_values_sam2_slopes[p_values_sam2_slopes < FWER_threshold])"
   ]
  },
  {
   "cell_type": "code",
   "execution_count": 10,
   "metadata": {},
   "outputs": [],
   "source": [
    "# get baseline Sam3\n",
    "baseline_sam3 = get_concat_signal('baseline', subject='sam3')\n",
    "baseline_sam3_slopes = stats.get_slopes(baseline_sam3)\n",
    "\n",
    "# get meditation Sam3\n",
    "meditation_sam3 = get_concat_signal('meditation', subject='sam3')\n",
    "meditation_sam3_slopes = stats.get_slopes(meditation_sam3)"
   ]
  },
  {
   "cell_type": "code",
   "execution_count": 11,
   "metadata": {},
   "outputs": [
    {
     "name": "stdout",
     "output_type": "stream",
     "text": [
      "The FWER corrected pvalue is 0.0025\n",
      "The significant pvalues are F3    0.001291\n",
      "T4    0.000011\n",
      "dtype: float64\n"
     ]
    },
    {
     "name": "stderr",
     "output_type": "stream",
     "text": [
      "C:\\Users\\adeli\\Anaconda3\\lib\\site-packages\\ipykernel_launcher.py:11: FutureWarning: The signature of `Series.to_csv` was aligned to that of `DataFrame.to_csv`, and argument 'header' will change its default value from False to True: please pass an explicit value to suppress this warning.\n",
      "  # This is added back by InteractiveShellApp.init_path()\n"
     ]
    }
   ],
   "source": [
    "# ttest over all electrodes\n",
    "concat_sam3_slopes = pd.concat([baseline_sam3_slopes, meditation_sam3_slopes], keys=['baseline', 'meditation'])\n",
    "ttest_sam3_slopes = concat_sam3_slopes.agg(lambda x: ttest_ind(x.xs('baseline', level=0), x.xs('meditation', level=0), equal_var=False, nan_policy='omit'))\n",
    "\n",
    "# FWER corrected ttest: ttest over 20 electrodes\n",
    "FWER_threshold = 0.05 / 20\n",
    "p_values_sam3_slopes = ttest_sam3_slopes.map(lambda x: x[1])\n",
    "print('The FWER corrected pvalue is', FWER_threshold)\n",
    "\n",
    "# download to CSV\n",
    "p_values_sam3_slopes[p_values_sam3_slopes < FWER_threshold].to_csv('p_values_sam3_slopes.csv')\n",
    "print('The significant pvalues are', p_values_sam3_slopes[p_values_sam3_slopes < FWER_threshold])"
   ]
  },
  {
   "cell_type": "code",
   "execution_count": 12,
   "metadata": {},
   "outputs": [],
   "source": [
    "# get baseline Sam4\n",
    "baseline_sam4 = get_concat_signal('baseline', subject='sam4')\n",
    "baseline_sam4_slopes = stats.get_slopes(baseline_sam4)\n",
    "\n",
    "# get meditation Sam4\n",
    "meditation_sam4 = get_concat_signal('meditation', subject='sam4')\n",
    "meditation_sam4_slopes = stats.get_slopes(meditation_sam4)"
   ]
  },
  {
   "cell_type": "code",
   "execution_count": 13,
   "metadata": {},
   "outputs": [
    {
     "name": "stdout",
     "output_type": "stream",
     "text": [
      "The FWER corrected pvalue is 0.0025\n",
      "The significant pvalues are C3    2.582811e-07\n",
      "Cz    7.619580e-04\n",
      "Fz    9.470340e-07\n",
      "Pz    8.046499e-08\n",
      "T3    8.695434e-11\n",
      "T4    1.720264e-05\n",
      "T6    1.504465e-03\n",
      "dtype: float64\n"
     ]
    },
    {
     "name": "stderr",
     "output_type": "stream",
     "text": [
      "C:\\Users\\adeli\\Anaconda3\\lib\\site-packages\\ipykernel_launcher.py:11: FutureWarning: The signature of `Series.to_csv` was aligned to that of `DataFrame.to_csv`, and argument 'header' will change its default value from False to True: please pass an explicit value to suppress this warning.\n",
      "  # This is added back by InteractiveShellApp.init_path()\n"
     ]
    }
   ],
   "source": [
    "# ttest over all electrodes\n",
    "concat_sam4_slopes = pd.concat([baseline_sam4_slopes, meditation_sam4_slopes], keys=['baseline', 'meditation'])\n",
    "ttest_sam4_slopes = concat_sam4_slopes.agg(lambda x: ttest_ind(x.xs('baseline', level=0), x.xs('meditation', level=0), equal_var=False, nan_policy='omit'))\n",
    "\n",
    "# FWER corrected ttest: ttest over 20 electrodes\n",
    "FWER_threshold = 0.05 / 20\n",
    "p_values_sam4_slopes = ttest_sam4_slopes.map(lambda x: x[1])\n",
    "print('The FWER corrected pvalue is', FWER_threshold)\n",
    "\n",
    "# download to CSV\n",
    "p_values_sam4_slopes[p_values_sam4_slopes < FWER_threshold].to_csv('p_values_sam4_slopes.csv')\n",
    "print('The significant pvalues are', p_values_sam4_slopes[p_values_sam4_slopes < FWER_threshold])"
   ]
  },
  {
   "cell_type": "markdown",
   "metadata": {},
   "source": [
    "## Raphaël: signal in electrodes, slopes, FWER corrected ttest"
   ]
  },
  {
   "cell_type": "code",
   "execution_count": 14,
   "metadata": {},
   "outputs": [],
   "source": [
    "# get baseline Raphaël\n",
    "baseline_rap = get_concat_signal('baseline', subject='raphael')\n",
    "baseline_rap_slopes = stats.get_slopes(baseline_rap)\n",
    "\n",
    "# get meditation Raphaël\n",
    "meditation_rap = get_concat_signal('meditation', subject='raphael')\n",
    "meditation_rap_slopes = stats.get_slopes(meditation_rap)"
   ]
  },
  {
   "cell_type": "code",
   "execution_count": 15,
   "metadata": {},
   "outputs": [
    {
     "name": "stdout",
     "output_type": "stream",
     "text": [
      "The FWER corrected pvalue is 0.0025\n",
      "The significant pvalues are A2    1.297686e-03\n",
      "C3    2.496099e-07\n",
      "C4    3.765793e-07\n",
      "F3    5.184741e-04\n",
      "P3    1.431436e-03\n",
      "Pz    4.334675e-04\n",
      "T4    1.084968e-04\n",
      "T6    1.551884e-05\n",
      "dtype: float64\n"
     ]
    },
    {
     "name": "stderr",
     "output_type": "stream",
     "text": [
      "C:\\Users\\adeli\\Anaconda3\\lib\\site-packages\\ipykernel_launcher.py:11: FutureWarning: The signature of `Series.to_csv` was aligned to that of `DataFrame.to_csv`, and argument 'header' will change its default value from False to True: please pass an explicit value to suppress this warning.\n",
      "  # This is added back by InteractiveShellApp.init_path()\n"
     ]
    }
   ],
   "source": [
    "# ttest over all electrodes\n",
    "concat_rap_slopes = pd.concat([baseline_rap_slopes, meditation_rap_slopes], keys=['baseline', 'meditation'])\n",
    "ttest_rap_slopes = concat_rap_slopes.agg(lambda x: ttest_ind(x.xs('baseline', level=0), x.xs('meditation', level=0), equal_var=False, nan_policy='omit'))\n",
    "\n",
    "# FWER corrected ttest: ttest over 20 electrodes\n",
    "FWER_threshold = 0.05 / 20\n",
    "p_values_rap_slopes = ttest_rap_slopes.map(lambda x: x[1])\n",
    "print('The FWER corrected pvalue is', FWER_threshold)\n",
    "\n",
    "# download to CSV\n",
    "p_values_rap_slopes[p_values_rap_slopes < FWER_threshold].to_csv('p_values_rap_slopes.csv')\n",
    "print('The significant pvalues are', p_values_rap_slopes[p_values_rap_slopes < FWER_threshold])"
   ]
  },
  {
   "cell_type": "code",
   "execution_count": 16,
   "metadata": {},
   "outputs": [],
   "source": [
    "# get baseline Raphaël2\n",
    "baseline_rap2 = get_concat_signal('baseline', subject='raphael2')\n",
    "baseline_rap2_slopes = stats.get_slopes(baseline_rap2)\n",
    "\n",
    "# get meditation Raphaël2\n",
    "meditation_rap2 = get_concat_signal('meditation', subject='raphael2')\n",
    "meditation_rap2_slopes = stats.get_slopes(meditation_rap2)"
   ]
  },
  {
   "cell_type": "code",
   "execution_count": 17,
   "metadata": {},
   "outputs": [
    {
     "name": "stdout",
     "output_type": "stream",
     "text": [
      "The FWER corrected pvalue is 0.0025\n",
      "The significant pvalues are A2     2.001900e-04\n",
      "AVG    1.303453e-06\n",
      "C3     5.607165e-09\n",
      "C4     2.941595e-07\n",
      "Cz     6.033529e-04\n",
      "F4     1.992932e-07\n",
      "Fz     1.035927e-04\n",
      "O1     1.424514e-14\n",
      "O2     4.140340e-19\n",
      "P3     6.870454e-12\n",
      "P4     7.905673e-08\n",
      "Pz     2.759975e-16\n",
      "T3     2.779619e-11\n",
      "T4     7.641286e-06\n",
      "T5     4.343593e-23\n",
      "T6     8.213339e-13\n",
      "dtype: float64\n"
     ]
    },
    {
     "name": "stderr",
     "output_type": "stream",
     "text": [
      "C:\\Users\\adeli\\Anaconda3\\lib\\site-packages\\ipykernel_launcher.py:11: FutureWarning: The signature of `Series.to_csv` was aligned to that of `DataFrame.to_csv`, and argument 'header' will change its default value from False to True: please pass an explicit value to suppress this warning.\n",
      "  # This is added back by InteractiveShellApp.init_path()\n"
     ]
    }
   ],
   "source": [
    "# ttest over all electrodes\n",
    "concat_rap2_slopes = pd.concat([baseline_rap2_slopes, meditation_rap2_slopes], keys=['baseline', 'meditation'])\n",
    "ttest_rap2_slopes = concat_rap2_slopes.agg(lambda x: ttest_ind(x.xs('baseline', level=0), x.xs('meditation', level=0), equal_var=False, nan_policy='omit'))\n",
    "\n",
    "# FWER corrected ttest: ttest over 20 electrodes\n",
    "FWER_threshold = 0.05 / 20\n",
    "p_values_rap2_slopes = ttest_rap2_slopes.map(lambda x: x[1])\n",
    "print('The FWER corrected pvalue is', FWER_threshold)\n",
    "\n",
    "# download to CSV\n",
    "p_values_rap2_slopes[p_values_rap2_slopes < FWER_threshold].to_csv('p_values_rap2_slopes.csv')\n",
    "print('The significant pvalues are', p_values_rap2_slopes[p_values_rap2_slopes < FWER_threshold])"
   ]
  },
  {
   "cell_type": "code",
   "execution_count": 18,
   "metadata": {},
   "outputs": [],
   "source": [
    "# get baseline Raphaël3\n",
    "baseline_rap3 = get_concat_signal('baseline', subject='raphael3')\n",
    "baseline_rap3_slopes = stats.get_slopes(baseline_rap3)\n",
    "\n",
    "# get meditation Raphaël3\n",
    "meditation_rap3 = get_concat_signal('meditation', subject='raphael3')\n",
    "meditation_rap3_slopes = stats.get_slopes(meditation_rap3)"
   ]
  },
  {
   "cell_type": "code",
   "execution_count": 19,
   "metadata": {},
   "outputs": [
    {
     "name": "stdout",
     "output_type": "stream",
     "text": [
      "The FWER corrected pvalue is 0.0025\n",
      "The significant pvalues are A2    1.562433e-04\n",
      "F4    9.535220e-04\n",
      "Fz    1.328314e-04\n",
      "T4    5.216728e-07\n",
      "T6    2.352834e-09\n",
      "dtype: float64\n"
     ]
    },
    {
     "name": "stderr",
     "output_type": "stream",
     "text": [
      "C:\\Users\\adeli\\Anaconda3\\lib\\site-packages\\ipykernel_launcher.py:11: FutureWarning: The signature of `Series.to_csv` was aligned to that of `DataFrame.to_csv`, and argument 'header' will change its default value from False to True: please pass an explicit value to suppress this warning.\n",
      "  # This is added back by InteractiveShellApp.init_path()\n"
     ]
    }
   ],
   "source": [
    "# ttest over all electrodes\n",
    "concat_rap3_slopes = pd.concat([baseline_rap3_slopes, meditation_rap3_slopes], keys=['baseline', 'meditation'])\n",
    "ttest_rap3_slopes = concat_rap3_slopes.agg(lambda x: ttest_ind(x.xs('baseline', level=0), x.xs('meditation', level=0), equal_var=False, nan_policy='omit'))\n",
    "\n",
    "# FWER corrected ttest: ttest over 20 electrodes\n",
    "FWER_threshold = 0.05 / 20\n",
    "p_values_rap3_slopes = ttest_rap3_slopes.map(lambda x: x[1])\n",
    "print('The FWER corrected pvalue is', FWER_threshold)\n",
    "\n",
    "# download to CSV\n",
    "p_values_rap3_slopes[p_values_rap3_slopes < FWER_threshold].to_csv('p_values_rap3_slopes.csv')\n",
    "print('The significant pvalues are', p_values_rap3_slopes[p_values_rap3_slopes < FWER_threshold])"
   ]
  },
  {
   "cell_type": "markdown",
   "metadata": {},
   "source": [
    "## Arnaud: signal in electrodes, slopes, FWER corrected ttest"
   ]
  },
  {
   "cell_type": "code",
   "execution_count": 20,
   "metadata": {},
   "outputs": [],
   "source": [
    "# get baseline Arnaud\n",
    "baseline_arn = get_concat_signal('baseline', subject='arn')\n",
    "baseline_arn_slopes = stats.get_slopes(baseline_arn)\n",
    "\n",
    "# get meditation Arnaud\n",
    "meditation_arn = get_concat_signal('meditation', subject='arn')\n",
    "meditation_arn_slopes = stats.get_slopes(meditation_arn)"
   ]
  },
  {
   "cell_type": "code",
   "execution_count": 21,
   "metadata": {},
   "outputs": [],
   "source": [
    "# ttest over all electrodes\n",
    "concat_arn_slopes = pd.concat([baseline_arn_slopes, meditation_arn_slopes], keys=['baseline', 'meditation'])\n",
    "ttest_arn_slopes = concat_arn_slopes.agg(lambda x: ttest_ind(x.xs('baseline', level=0), x.xs('meditation', level=0), equal_var=False, nan_policy='omit'))"
   ]
  },
  {
   "cell_type": "code",
   "execution_count": 22,
   "metadata": {},
   "outputs": [
    {
     "name": "stdout",
     "output_type": "stream",
     "text": [
      "The FWER corrected pvalue is 0.0025\n",
      "The significant pvalues are F7    7.702960e-09\n",
      "O2    1.691058e-04\n",
      "Pz    5.914479e-06\n",
      "T5    5.005683e-11\n",
      "dtype: float64\n"
     ]
    },
    {
     "name": "stderr",
     "output_type": "stream",
     "text": [
      "C:\\Users\\adeli\\Anaconda3\\lib\\site-packages\\ipykernel_launcher.py:7: FutureWarning: The signature of `Series.to_csv` was aligned to that of `DataFrame.to_csv`, and argument 'header' will change its default value from False to True: please pass an explicit value to suppress this warning.\n",
      "  import sys\n"
     ]
    }
   ],
   "source": [
    "# FWER corrected ttest: ttest over 20 electrodes\n",
    "FWER_threshold = 0.05 / 20\n",
    "p_values_arn_slopes = ttest_arn_slopes.map(lambda x: x[1])\n",
    "print('The FWER corrected pvalue is', FWER_threshold)\n",
    "\n",
    "# download to CSV\n",
    "p_values_arn_slopes[p_values_arn_slopes < FWER_threshold].to_csv('p_values_arn_slopes.csv')\n",
    "print('The significant pvalues are', p_values_arn_slopes[p_values_arn_slopes < FWER_threshold])"
   ]
  },
  {
   "cell_type": "markdown",
   "metadata": {},
   "source": [
    "## MR: signal in electrodes, slopes, FWER corrected ttest"
   ]
  },
  {
   "cell_type": "code",
   "execution_count": 32,
   "metadata": {},
   "outputs": [],
   "source": [
    "# get baseline MR\n",
    "baseline_mr = get_concat_signal('baseline', subject='mr', config=cfg_mr)\n",
    "baseline_mr_slopes = stats.get_slopes(baseline_mr)\n",
    "\n",
    "# get meditation MR\n",
    "meditation_mr = get_concat_signal('meditation', subject='mr', config=cfg_mr)\n",
    "meditation_mr_slopes = stats.get_slopes(meditation_mr)"
   ]
  },
  {
   "cell_type": "code",
   "execution_count": 24,
   "metadata": {},
   "outputs": [
    {
     "name": "stderr",
     "output_type": "stream",
     "text": [
      "cat: /proc/sys/vm/overcommit_memory: No such file or directory\n"
     ]
    }
   ],
   "source": [
    "!cat /proc/sys/vm/overcommit_memory"
   ]
  },
  {
   "cell_type": "code",
   "execution_count": 33,
   "metadata": {},
   "outputs": [
    {
     "name": "stderr",
     "output_type": "stream",
     "text": [
      "C:\\Users\\adeli\\Anaconda3\\lib\\site-packages\\ipykernel_launcher.py:2: FutureWarning: Sorting because non-concatenation axis is not aligned. A future version\n",
      "of pandas will change to not sort by default.\n",
      "\n",
      "To accept the future behavior, pass 'sort=False'.\n",
      "\n",
      "To retain the current behavior and silence the warning, pass 'sort=True'.\n",
      "\n",
      "  \n"
     ]
    }
   ],
   "source": [
    "# ttest over all electrodes\n",
    "concat_mr_slopes = pd.concat([baseline_mr_slopes, meditation_mr_slopes], keys=['baseline', 'meditation'])\n",
    "ttest_mr_slopes = concat_mr_slopes.agg(lambda x: ttest_ind(x.xs('baseline', level=0), x.xs('meditation', level=0), equal_var=False, nan_policy='omit'))"
   ]
  },
  {
   "cell_type": "code",
   "execution_count": 38,
   "metadata": {},
   "outputs": [
    {
     "name": "stdout",
     "output_type": "stream",
     "text": [
      "The FWER corrected pvalue is 0.0025\n",
      "The significant pvalues are AVG        5.130232e-14\n",
      "E1         5.054062e-22\n",
      "E10        1.530584e-15\n",
      "E100       1.975041e-13\n",
      "E101       1.160346e-10\n",
      "E102       9.591065e-13\n",
      "E103       6.793542e-13\n",
      "E104       1.815678e-13\n",
      "E105       1.196518e-13\n",
      "E106       1.449762e-14\n",
      "E107       6.778794e-14\n",
      "E108       3.974871e-13\n",
      "E109       4.644262e-13\n",
      "E11        2.926047e-09\n",
      "E110       1.702503e-13\n",
      "E111       7.967454e-13\n",
      "E112       3.517917e-13\n",
      "E113       6.725451e-14\n",
      "E114       6.567883e-14\n",
      "E115       7.761986e-14\n",
      "E116       7.507851e-14\n",
      "E117       3.139553e-13\n",
      "E118       1.807907e-13\n",
      "E119       5.919459e-13\n",
      "E12        9.624545e-12\n",
      "E120       3.655662e-13\n",
      "E121       2.122843e-13\n",
      "E122       2.063296e-13\n",
      "E123       2.837165e-14\n",
      "E124       9.414584e-14\n",
      "               ...     \n",
      "E75        1.816495e-14\n",
      "E76        1.305487e-12\n",
      "E77        3.371871e-11\n",
      "E78        1.237184e-11\n",
      "E79        9.339870e-12\n",
      "E8         2.176947e-12\n",
      "E80        1.561218e-12\n",
      "E81        6.916060e-12\n",
      "E82        5.981932e-21\n",
      "E83        1.828066e-13\n",
      "E84        4.188822e-13\n",
      "E85        1.365761e-13\n",
      "E86        5.280848e-12\n",
      "E87        4.112598e-12\n",
      "E88        4.952214e-12\n",
      "E89        3.028115e-12\n",
      "E9         5.951601e-12\n",
      "E90        1.098668e-12\n",
      "E91        1.657366e-12\n",
      "E92        4.442160e-13\n",
      "E93        5.578944e-13\n",
      "E94        4.276204e-13\n",
      "E95        7.364687e-14\n",
      "E96        4.244940e-14\n",
      "E97        3.026512e-13\n",
      "E98        3.907926e-13\n",
      "E99        6.105122e-13\n",
      "STI 014    0.000000e+00\n",
      "nois       0.000000e+00\n",
      "sync       0.000000e+00\n",
      "Length: 257, dtype: float64\n"
     ]
    },
    {
     "name": "stderr",
     "output_type": "stream",
     "text": [
      "C:\\Users\\adeli\\Anaconda3\\lib\\site-packages\\ipykernel_launcher.py:7: FutureWarning: The signature of `Series.to_csv` was aligned to that of `DataFrame.to_csv`, and argument 'header' will change its default value from False to True: please pass an explicit value to suppress this warning.\n",
      "  import sys\n"
     ]
    }
   ],
   "source": [
    "# FWER corrected ttest: ttest over 20 electrodes\n",
    "FWER_threshold = 0.05 / 20\n",
    "p_values_mr_slopes = ttest_mr_slopes.map(lambda x: x[1])\n",
    "print('The FWER corrected pvalue is', FWER_threshold)\n",
    "\n",
    "# download to CSV\n",
    "p_values_mr_slopes[p_values_mr_slopes < FWER_threshold].to_csv('p_values_mr_slopes.csv')\n",
    "print('The significant pvalues are', p_values_mr_slopes[p_values_mr_slopes < FWER_threshold])"
   ]
  },
  {
   "cell_type": "markdown",
   "metadata": {},
   "source": [
    "## Get heatmap for values of ratios meditation/baseline slopes "
   ]
  },
  {
   "cell_type": "code",
   "execution_count": 23,
   "metadata": {},
   "outputs": [
    {
     "data": {
      "text/html": [
       "<div>\n",
       "<style scoped>\n",
       "    .dataframe tbody tr th:only-of-type {\n",
       "        vertical-align: middle;\n",
       "    }\n",
       "\n",
       "    .dataframe tbody tr th {\n",
       "        vertical-align: top;\n",
       "    }\n",
       "\n",
       "    .dataframe thead th {\n",
       "        text-align: right;\n",
       "    }\n",
       "</style>\n",
       "<table border=\"1\" class=\"dataframe\">\n",
       "  <thead>\n",
       "    <tr style=\"text-align: right;\">\n",
       "      <th></th>\n",
       "      <th>Adélie</th>\n",
       "      <th>Sam</th>\n",
       "      <th>Sam2</th>\n",
       "      <th>Sam3</th>\n",
       "      <th>Sam4</th>\n",
       "      <th>Raphaël</th>\n",
       "      <th>Raphaël2</th>\n",
       "      <th>Raphaël3</th>\n",
       "      <th>Arnaud</th>\n",
       "    </tr>\n",
       "  </thead>\n",
       "  <tbody>\n",
       "    <tr>\n",
       "      <th>A2</th>\n",
       "      <td>0.166451</td>\n",
       "      <td>0.381992</td>\n",
       "      <td>0.676823</td>\n",
       "      <td>0.002996</td>\n",
       "      <td>-0.418959</td>\n",
       "      <td>0.333185</td>\n",
       "      <td>0.427483</td>\n",
       "      <td>0.547985</td>\n",
       "      <td>-0.418959</td>\n",
       "    </tr>\n",
       "    <tr>\n",
       "      <th>AVG</th>\n",
       "      <td>0.195338</td>\n",
       "      <td>-0.259446</td>\n",
       "      <td>0.375724</td>\n",
       "      <td>-0.062127</td>\n",
       "      <td>-0.384066</td>\n",
       "      <td>0.035533</td>\n",
       "      <td>0.400063</td>\n",
       "      <td>0.253048</td>\n",
       "      <td>-0.384066</td>\n",
       "    </tr>\n",
       "    <tr>\n",
       "      <th>C3</th>\n",
       "      <td>0.883935</td>\n",
       "      <td>0.217602</td>\n",
       "      <td>0.137267</td>\n",
       "      <td>0.075241</td>\n",
       "      <td>-0.813622</td>\n",
       "      <td>0.459493</td>\n",
       "      <td>0.485649</td>\n",
       "      <td>0.223100</td>\n",
       "      <td>-0.813622</td>\n",
       "    </tr>\n",
       "    <tr>\n",
       "      <th>C4</th>\n",
       "      <td>0.775428</td>\n",
       "      <td>-0.233638</td>\n",
       "      <td>0.618260</td>\n",
       "      <td>0.051792</td>\n",
       "      <td>-0.200390</td>\n",
       "      <td>0.363936</td>\n",
       "      <td>0.395516</td>\n",
       "      <td>0.105025</td>\n",
       "      <td>-0.200390</td>\n",
       "    </tr>\n",
       "    <tr>\n",
       "      <th>Cz</th>\n",
       "      <td>0.270869</td>\n",
       "      <td>0.174791</td>\n",
       "      <td>0.400757</td>\n",
       "      <td>0.305518</td>\n",
       "      <td>-0.546511</td>\n",
       "      <td>0.175801</td>\n",
       "      <td>0.290928</td>\n",
       "      <td>1.263763</td>\n",
       "      <td>-0.546511</td>\n",
       "    </tr>\n",
       "    <tr>\n",
       "      <th>F3</th>\n",
       "      <td>0.527757</td>\n",
       "      <td>0.057583</td>\n",
       "      <td>0.610156</td>\n",
       "      <td>0.418417</td>\n",
       "      <td>0.025962</td>\n",
       "      <td>0.267612</td>\n",
       "      <td>0.161491</td>\n",
       "      <td>0.183085</td>\n",
       "      <td>0.025962</td>\n",
       "    </tr>\n",
       "    <tr>\n",
       "      <th>F4</th>\n",
       "      <td>0.392542</td>\n",
       "      <td>0.080154</td>\n",
       "      <td>0.262417</td>\n",
       "      <td>0.005767</td>\n",
       "      <td>-0.272393</td>\n",
       "      <td>-0.023998</td>\n",
       "      <td>0.352978</td>\n",
       "      <td>0.308986</td>\n",
       "      <td>-0.272393</td>\n",
       "    </tr>\n",
       "    <tr>\n",
       "      <th>F7</th>\n",
       "      <td>0.587027</td>\n",
       "      <td>0.361512</td>\n",
       "      <td>0.399753</td>\n",
       "      <td>0.146892</td>\n",
       "      <td>-0.091121</td>\n",
       "      <td>0.277803</td>\n",
       "      <td>0.096829</td>\n",
       "      <td>0.141136</td>\n",
       "      <td>-0.091121</td>\n",
       "    </tr>\n",
       "    <tr>\n",
       "      <th>F8</th>\n",
       "      <td>0.509619</td>\n",
       "      <td>0.187848</td>\n",
       "      <td>0.444626</td>\n",
       "      <td>0.186399</td>\n",
       "      <td>-0.288060</td>\n",
       "      <td>0.045654</td>\n",
       "      <td>0.172785</td>\n",
       "      <td>0.118359</td>\n",
       "      <td>-0.288060</td>\n",
       "    </tr>\n",
       "    <tr>\n",
       "      <th>Fp1</th>\n",
       "      <td>0.488714</td>\n",
       "      <td>0.427809</td>\n",
       "      <td>0.327442</td>\n",
       "      <td>0.912230</td>\n",
       "      <td>-0.219050</td>\n",
       "      <td>-0.054223</td>\n",
       "      <td>-0.169360</td>\n",
       "      <td>-0.109642</td>\n",
       "      <td>-0.219050</td>\n",
       "    </tr>\n",
       "    <tr>\n",
       "      <th>Fp2</th>\n",
       "      <td>0.386546</td>\n",
       "      <td>0.327317</td>\n",
       "      <td>0.383772</td>\n",
       "      <td>0.219426</td>\n",
       "      <td>-0.210901</td>\n",
       "      <td>0.025531</td>\n",
       "      <td>-0.104273</td>\n",
       "      <td>0.445694</td>\n",
       "      <td>-0.210901</td>\n",
       "    </tr>\n",
       "    <tr>\n",
       "      <th>Fz</th>\n",
       "      <td>0.255470</td>\n",
       "      <td>0.161955</td>\n",
       "      <td>0.230934</td>\n",
       "      <td>0.006787</td>\n",
       "      <td>0.400189</td>\n",
       "      <td>0.050818</td>\n",
       "      <td>0.288664</td>\n",
       "      <td>0.477169</td>\n",
       "      <td>0.400189</td>\n",
       "    </tr>\n",
       "    <tr>\n",
       "      <th>O1</th>\n",
       "      <td>-0.450620</td>\n",
       "      <td>0.310480</td>\n",
       "      <td>0.328228</td>\n",
       "      <td>-0.150496</td>\n",
       "      <td>-0.062021</td>\n",
       "      <td>0.029093</td>\n",
       "      <td>0.731587</td>\n",
       "      <td>-0.109313</td>\n",
       "      <td>-0.062021</td>\n",
       "    </tr>\n",
       "    <tr>\n",
       "      <th>O2</th>\n",
       "      <td>-0.597636</td>\n",
       "      <td>-0.565744</td>\n",
       "      <td>0.027856</td>\n",
       "      <td>-0.012474</td>\n",
       "      <td>0.247787</td>\n",
       "      <td>0.142526</td>\n",
       "      <td>0.874644</td>\n",
       "      <td>-0.043783</td>\n",
       "      <td>0.247787</td>\n",
       "    </tr>\n",
       "    <tr>\n",
       "      <th>P3</th>\n",
       "      <td>0.338951</td>\n",
       "      <td>0.199534</td>\n",
       "      <td>0.153541</td>\n",
       "      <td>0.168087</td>\n",
       "      <td>-0.226844</td>\n",
       "      <td>0.208558</td>\n",
       "      <td>0.683773</td>\n",
       "      <td>0.471436</td>\n",
       "      <td>-0.226844</td>\n",
       "    </tr>\n",
       "    <tr>\n",
       "      <th>P4</th>\n",
       "      <td>0.224904</td>\n",
       "      <td>-0.083970</td>\n",
       "      <td>0.256135</td>\n",
       "      <td>0.171991</td>\n",
       "      <td>-0.058417</td>\n",
       "      <td>0.160138</td>\n",
       "      <td>0.382954</td>\n",
       "      <td>0.081178</td>\n",
       "      <td>-0.058417</td>\n",
       "    </tr>\n",
       "    <tr>\n",
       "      <th>Pz</th>\n",
       "      <td>0.193296</td>\n",
       "      <td>0.301131</td>\n",
       "      <td>0.195202</td>\n",
       "      <td>0.168113</td>\n",
       "      <td>0.624561</td>\n",
       "      <td>0.268905</td>\n",
       "      <td>0.645932</td>\n",
       "      <td>-0.051507</td>\n",
       "      <td>0.624561</td>\n",
       "    </tr>\n",
       "    <tr>\n",
       "      <th>T3</th>\n",
       "      <td>1.075176</td>\n",
       "      <td>0.095243</td>\n",
       "      <td>0.599340</td>\n",
       "      <td>0.267926</td>\n",
       "      <td>1.224530</td>\n",
       "      <td>0.219153</td>\n",
       "      <td>0.680864</td>\n",
       "      <td>0.044867</td>\n",
       "      <td>1.224530</td>\n",
       "    </tr>\n",
       "    <tr>\n",
       "      <th>T4</th>\n",
       "      <td>0.727507</td>\n",
       "      <td>-0.811142</td>\n",
       "      <td>1.519785</td>\n",
       "      <td>-1.069770</td>\n",
       "      <td>-0.789839</td>\n",
       "      <td>0.409458</td>\n",
       "      <td>0.413960</td>\n",
       "      <td>0.605021</td>\n",
       "      <td>-0.789839</td>\n",
       "    </tr>\n",
       "    <tr>\n",
       "      <th>T5</th>\n",
       "      <td>0.154117</td>\n",
       "      <td>0.288986</td>\n",
       "      <td>0.677299</td>\n",
       "      <td>0.396062</td>\n",
       "      <td>-0.633317</td>\n",
       "      <td>0.042707</td>\n",
       "      <td>1.066087</td>\n",
       "      <td>0.816960</td>\n",
       "      <td>-0.633317</td>\n",
       "    </tr>\n",
       "    <tr>\n",
       "      <th>T6</th>\n",
       "      <td>0.148167</td>\n",
       "      <td>-0.120204</td>\n",
       "      <td>0.036834</td>\n",
       "      <td>0.119867</td>\n",
       "      <td>-0.674984</td>\n",
       "      <td>0.675617</td>\n",
       "      <td>0.825834</td>\n",
       "      <td>1.290317</td>\n",
       "      <td>-0.674984</td>\n",
       "    </tr>\n",
       "  </tbody>\n",
       "</table>\n",
       "</div>"
      ],
      "text/plain": [
       "       Adélie       Sam      Sam2      Sam3      Sam4   Raphaël  Raphaël2  \\\n",
       "A2   0.166451  0.381992  0.676823  0.002996 -0.418959  0.333185  0.427483   \n",
       "AVG  0.195338 -0.259446  0.375724 -0.062127 -0.384066  0.035533  0.400063   \n",
       "C3   0.883935  0.217602  0.137267  0.075241 -0.813622  0.459493  0.485649   \n",
       "C4   0.775428 -0.233638  0.618260  0.051792 -0.200390  0.363936  0.395516   \n",
       "Cz   0.270869  0.174791  0.400757  0.305518 -0.546511  0.175801  0.290928   \n",
       "F3   0.527757  0.057583  0.610156  0.418417  0.025962  0.267612  0.161491   \n",
       "F4   0.392542  0.080154  0.262417  0.005767 -0.272393 -0.023998  0.352978   \n",
       "F7   0.587027  0.361512  0.399753  0.146892 -0.091121  0.277803  0.096829   \n",
       "F8   0.509619  0.187848  0.444626  0.186399 -0.288060  0.045654  0.172785   \n",
       "Fp1  0.488714  0.427809  0.327442  0.912230 -0.219050 -0.054223 -0.169360   \n",
       "Fp2  0.386546  0.327317  0.383772  0.219426 -0.210901  0.025531 -0.104273   \n",
       "Fz   0.255470  0.161955  0.230934  0.006787  0.400189  0.050818  0.288664   \n",
       "O1  -0.450620  0.310480  0.328228 -0.150496 -0.062021  0.029093  0.731587   \n",
       "O2  -0.597636 -0.565744  0.027856 -0.012474  0.247787  0.142526  0.874644   \n",
       "P3   0.338951  0.199534  0.153541  0.168087 -0.226844  0.208558  0.683773   \n",
       "P4   0.224904 -0.083970  0.256135  0.171991 -0.058417  0.160138  0.382954   \n",
       "Pz   0.193296  0.301131  0.195202  0.168113  0.624561  0.268905  0.645932   \n",
       "T3   1.075176  0.095243  0.599340  0.267926  1.224530  0.219153  0.680864   \n",
       "T4   0.727507 -0.811142  1.519785 -1.069770 -0.789839  0.409458  0.413960   \n",
       "T5   0.154117  0.288986  0.677299  0.396062 -0.633317  0.042707  1.066087   \n",
       "T6   0.148167 -0.120204  0.036834  0.119867 -0.674984  0.675617  0.825834   \n",
       "\n",
       "     Raphaël3    Arnaud  \n",
       "A2   0.547985 -0.418959  \n",
       "AVG  0.253048 -0.384066  \n",
       "C3   0.223100 -0.813622  \n",
       "C4   0.105025 -0.200390  \n",
       "Cz   1.263763 -0.546511  \n",
       "F3   0.183085  0.025962  \n",
       "F4   0.308986 -0.272393  \n",
       "F7   0.141136 -0.091121  \n",
       "F8   0.118359 -0.288060  \n",
       "Fp1 -0.109642 -0.219050  \n",
       "Fp2  0.445694 -0.210901  \n",
       "Fz   0.477169  0.400189  \n",
       "O1  -0.109313 -0.062021  \n",
       "O2  -0.043783  0.247787  \n",
       "P3   0.471436 -0.226844  \n",
       "P4   0.081178 -0.058417  \n",
       "Pz  -0.051507  0.624561  \n",
       "T3   0.044867  1.224530  \n",
       "T4   0.605021 -0.789839  \n",
       "T5   0.816960 -0.633317  \n",
       "T6   1.290317 -0.674984  "
      ]
     },
     "execution_count": 23,
     "metadata": {},
     "output_type": "execute_result"
    }
   ],
   "source": [
    "# compute ratios for fitted slopes meditation/baseline\n",
    "\n",
    "ratio_slope_ad = pd.DataFrame(meditation_adelie_slopes.mean(axis=0) / baseline_adelie_slopes.mean(axis=0)).rename(columns={0: 'Adélie'})\n",
    "\n",
    "ratio_slope_sam = pd.DataFrame(meditation_sam_slopes.mean(axis=0) / baseline_sam_slopes.mean(axis=0)).rename(columns={0: 'Sam'})\n",
    "ratio_slope_sam2 = pd.DataFrame(meditation_sam2_slopes.mean(axis=0) / baseline_sam2_slopes.mean(axis=0)).rename(columns={0: 'Sam2'})\n",
    "ratio_slope_sam3 = pd.DataFrame(meditation_sam3_slopes.mean(axis=0) / baseline_sam3_slopes.mean(axis=0)).rename(columns={0: 'Sam3'})\n",
    "ratio_slope_sam4 = pd.DataFrame(meditation_sam4_slopes.mean(axis=0) / baseline_sam4_slopes.mean(axis=0)).rename(columns={0: 'Sam4'})\n",
    "\n",
    "ratio_slope_rap = pd.DataFrame(meditation_rap_slopes.mean(axis=0) / baseline_rap_slopes.mean(axis=0)).rename(columns={0: 'Raphaël'})\n",
    "ratio_slope_rap2 = pd.DataFrame(meditation_rap2_slopes.mean(axis=0) / baseline_rap2_slopes.mean(axis=0)).rename(columns={0: 'Raphaël2'})\n",
    "ratio_slope_rap3 = pd.DataFrame(meditation_rap3_slopes.mean(axis=0) / baseline_rap3_slopes.mean(axis=0)).rename(columns={0: 'Raphaël3'})\n",
    "\n",
    "ratio_slope_arn = pd.DataFrame(meditation_sam4_slopes.mean(axis=0) / baseline_sam4_slopes.mean(axis=0)).rename(columns={0: 'Arnaud'})\n",
    "\n",
    "ratio_slope_concat = pd.concat([ratio_slope_ad, ratio_slope_sam, ratio_slope_sam2, ratio_slope_sam3, ratio_slope_sam4, ratio_slope_rap, ratio_slope_rap2, ratio_slope_rap3, ratio_slope_arn], axis=1).applymap(np.log)\n",
    "ratio_slope_concat"
   ]
  },
  {
   "cell_type": "code",
   "execution_count": 24,
   "metadata": {},
   "outputs": [
    {
     "name": "stderr",
     "output_type": "stream",
     "text": [
      "C:\\Users\\adeli\\Anaconda3\\lib\\site-packages\\ipykernel_launcher.py:16: FutureWarning: Sorting because non-concatenation axis is not aligned. A future version\n",
      "of pandas will change to not sort by default.\n",
      "\n",
      "To accept the future behavior, pass 'sort=False'.\n",
      "\n",
      "To retain the current behavior and silence the warning, pass 'sort=True'.\n",
      "\n",
      "  app.launch_new_instance()\n"
     ]
    },
    {
     "data": {
      "text/html": [
       "<div>\n",
       "<style scoped>\n",
       "    .dataframe tbody tr th:only-of-type {\n",
       "        vertical-align: middle;\n",
       "    }\n",
       "\n",
       "    .dataframe tbody tr th {\n",
       "        vertical-align: top;\n",
       "    }\n",
       "\n",
       "    .dataframe thead th {\n",
       "        text-align: right;\n",
       "    }\n",
       "</style>\n",
       "<table border=\"1\" class=\"dataframe\">\n",
       "  <thead>\n",
       "    <tr style=\"text-align: right;\">\n",
       "      <th></th>\n",
       "      <th>Adélie</th>\n",
       "      <th>Sam</th>\n",
       "      <th>Sam2</th>\n",
       "      <th>Sam3</th>\n",
       "      <th>Sam4</th>\n",
       "      <th>Raphaël</th>\n",
       "      <th>Raphaël2</th>\n",
       "      <th>Raphaël3</th>\n",
       "      <th>Arnaud</th>\n",
       "    </tr>\n",
       "  </thead>\n",
       "  <tbody>\n",
       "    <tr>\n",
       "      <th>A2</th>\n",
       "      <td>NaN</td>\n",
       "      <td>NaN</td>\n",
       "      <td>1.951551e-09</td>\n",
       "      <td>NaN</td>\n",
       "      <td>NaN</td>\n",
       "      <td>1.297686e-03</td>\n",
       "      <td>2.001900e-04</td>\n",
       "      <td>1.562433e-04</td>\n",
       "      <td>NaN</td>\n",
       "    </tr>\n",
       "    <tr>\n",
       "      <th>AVG</th>\n",
       "      <td>NaN</td>\n",
       "      <td>NaN</td>\n",
       "      <td>NaN</td>\n",
       "      <td>NaN</td>\n",
       "      <td>NaN</td>\n",
       "      <td>NaN</td>\n",
       "      <td>1.303453e-06</td>\n",
       "      <td>NaN</td>\n",
       "      <td>NaN</td>\n",
       "    </tr>\n",
       "    <tr>\n",
       "      <th>C3</th>\n",
       "      <td>3.468007e-09</td>\n",
       "      <td>NaN</td>\n",
       "      <td>NaN</td>\n",
       "      <td>NaN</td>\n",
       "      <td>2.582811e-07</td>\n",
       "      <td>2.496099e-07</td>\n",
       "      <td>5.607165e-09</td>\n",
       "      <td>NaN</td>\n",
       "      <td>NaN</td>\n",
       "    </tr>\n",
       "    <tr>\n",
       "      <th>C4</th>\n",
       "      <td>4.477336e-09</td>\n",
       "      <td>NaN</td>\n",
       "      <td>NaN</td>\n",
       "      <td>NaN</td>\n",
       "      <td>NaN</td>\n",
       "      <td>3.765793e-07</td>\n",
       "      <td>2.941595e-07</td>\n",
       "      <td>NaN</td>\n",
       "      <td>NaN</td>\n",
       "    </tr>\n",
       "    <tr>\n",
       "      <th>Cz</th>\n",
       "      <td>NaN</td>\n",
       "      <td>NaN</td>\n",
       "      <td>NaN</td>\n",
       "      <td>NaN</td>\n",
       "      <td>7.619580e-04</td>\n",
       "      <td>NaN</td>\n",
       "      <td>6.033529e-04</td>\n",
       "      <td>NaN</td>\n",
       "      <td>NaN</td>\n",
       "    </tr>\n",
       "    <tr>\n",
       "      <th>F3</th>\n",
       "      <td>1.670347e-06</td>\n",
       "      <td>NaN</td>\n",
       "      <td>NaN</td>\n",
       "      <td>0.001291</td>\n",
       "      <td>NaN</td>\n",
       "      <td>5.184741e-04</td>\n",
       "      <td>NaN</td>\n",
       "      <td>NaN</td>\n",
       "      <td>NaN</td>\n",
       "    </tr>\n",
       "    <tr>\n",
       "      <th>F4</th>\n",
       "      <td>NaN</td>\n",
       "      <td>NaN</td>\n",
       "      <td>NaN</td>\n",
       "      <td>NaN</td>\n",
       "      <td>NaN</td>\n",
       "      <td>NaN</td>\n",
       "      <td>1.992932e-07</td>\n",
       "      <td>9.535220e-04</td>\n",
       "      <td>NaN</td>\n",
       "    </tr>\n",
       "    <tr>\n",
       "      <th>F7</th>\n",
       "      <td>3.728470e-04</td>\n",
       "      <td>NaN</td>\n",
       "      <td>3.376951e-04</td>\n",
       "      <td>NaN</td>\n",
       "      <td>NaN</td>\n",
       "      <td>NaN</td>\n",
       "      <td>NaN</td>\n",
       "      <td>NaN</td>\n",
       "      <td>7.702960e-09</td>\n",
       "    </tr>\n",
       "    <tr>\n",
       "      <th>F8</th>\n",
       "      <td>7.259976e-06</td>\n",
       "      <td>NaN</td>\n",
       "      <td>9.225840e-04</td>\n",
       "      <td>NaN</td>\n",
       "      <td>NaN</td>\n",
       "      <td>NaN</td>\n",
       "      <td>NaN</td>\n",
       "      <td>NaN</td>\n",
       "      <td>NaN</td>\n",
       "    </tr>\n",
       "    <tr>\n",
       "      <th>Fp1</th>\n",
       "      <td>1.019197e-05</td>\n",
       "      <td>0.001624</td>\n",
       "      <td>NaN</td>\n",
       "      <td>NaN</td>\n",
       "      <td>NaN</td>\n",
       "      <td>NaN</td>\n",
       "      <td>NaN</td>\n",
       "      <td>NaN</td>\n",
       "      <td>NaN</td>\n",
       "    </tr>\n",
       "    <tr>\n",
       "      <th>Fp2</th>\n",
       "      <td>4.290368e-04</td>\n",
       "      <td>NaN</td>\n",
       "      <td>2.701059e-04</td>\n",
       "      <td>NaN</td>\n",
       "      <td>NaN</td>\n",
       "      <td>NaN</td>\n",
       "      <td>NaN</td>\n",
       "      <td>NaN</td>\n",
       "      <td>NaN</td>\n",
       "    </tr>\n",
       "    <tr>\n",
       "      <th>Fz</th>\n",
       "      <td>2.152294e-03</td>\n",
       "      <td>NaN</td>\n",
       "      <td>NaN</td>\n",
       "      <td>NaN</td>\n",
       "      <td>9.470340e-07</td>\n",
       "      <td>NaN</td>\n",
       "      <td>1.035927e-04</td>\n",
       "      <td>1.328314e-04</td>\n",
       "      <td>NaN</td>\n",
       "    </tr>\n",
       "    <tr>\n",
       "      <th>O1</th>\n",
       "      <td>1.762716e-03</td>\n",
       "      <td>NaN</td>\n",
       "      <td>NaN</td>\n",
       "      <td>NaN</td>\n",
       "      <td>NaN</td>\n",
       "      <td>NaN</td>\n",
       "      <td>1.424514e-14</td>\n",
       "      <td>NaN</td>\n",
       "      <td>NaN</td>\n",
       "    </tr>\n",
       "    <tr>\n",
       "      <th>O2</th>\n",
       "      <td>7.922221e-05</td>\n",
       "      <td>0.000276</td>\n",
       "      <td>NaN</td>\n",
       "      <td>NaN</td>\n",
       "      <td>NaN</td>\n",
       "      <td>NaN</td>\n",
       "      <td>4.140340e-19</td>\n",
       "      <td>NaN</td>\n",
       "      <td>1.691058e-04</td>\n",
       "    </tr>\n",
       "    <tr>\n",
       "      <th>P3</th>\n",
       "      <td>NaN</td>\n",
       "      <td>NaN</td>\n",
       "      <td>NaN</td>\n",
       "      <td>NaN</td>\n",
       "      <td>NaN</td>\n",
       "      <td>1.431436e-03</td>\n",
       "      <td>6.870454e-12</td>\n",
       "      <td>NaN</td>\n",
       "      <td>NaN</td>\n",
       "    </tr>\n",
       "    <tr>\n",
       "      <th>P4</th>\n",
       "      <td>NaN</td>\n",
       "      <td>NaN</td>\n",
       "      <td>NaN</td>\n",
       "      <td>NaN</td>\n",
       "      <td>NaN</td>\n",
       "      <td>NaN</td>\n",
       "      <td>7.905673e-08</td>\n",
       "      <td>NaN</td>\n",
       "      <td>NaN</td>\n",
       "    </tr>\n",
       "    <tr>\n",
       "      <th>Pz</th>\n",
       "      <td>NaN</td>\n",
       "      <td>NaN</td>\n",
       "      <td>NaN</td>\n",
       "      <td>NaN</td>\n",
       "      <td>8.046499e-08</td>\n",
       "      <td>4.334675e-04</td>\n",
       "      <td>2.759975e-16</td>\n",
       "      <td>NaN</td>\n",
       "      <td>5.914479e-06</td>\n",
       "    </tr>\n",
       "    <tr>\n",
       "      <th>T3</th>\n",
       "      <td>4.311543e-08</td>\n",
       "      <td>NaN</td>\n",
       "      <td>NaN</td>\n",
       "      <td>NaN</td>\n",
       "      <td>8.695434e-11</td>\n",
       "      <td>NaN</td>\n",
       "      <td>2.779619e-11</td>\n",
       "      <td>NaN</td>\n",
       "      <td>NaN</td>\n",
       "    </tr>\n",
       "    <tr>\n",
       "      <th>T4</th>\n",
       "      <td>2.592954e-04</td>\n",
       "      <td>NaN</td>\n",
       "      <td>NaN</td>\n",
       "      <td>0.000011</td>\n",
       "      <td>1.720264e-05</td>\n",
       "      <td>1.084968e-04</td>\n",
       "      <td>7.641286e-06</td>\n",
       "      <td>5.216728e-07</td>\n",
       "      <td>NaN</td>\n",
       "    </tr>\n",
       "    <tr>\n",
       "      <th>T5</th>\n",
       "      <td>NaN</td>\n",
       "      <td>NaN</td>\n",
       "      <td>NaN</td>\n",
       "      <td>NaN</td>\n",
       "      <td>NaN</td>\n",
       "      <td>NaN</td>\n",
       "      <td>4.343593e-23</td>\n",
       "      <td>NaN</td>\n",
       "      <td>5.005683e-11</td>\n",
       "    </tr>\n",
       "    <tr>\n",
       "      <th>T6</th>\n",
       "      <td>NaN</td>\n",
       "      <td>NaN</td>\n",
       "      <td>NaN</td>\n",
       "      <td>NaN</td>\n",
       "      <td>1.504465e-03</td>\n",
       "      <td>1.551884e-05</td>\n",
       "      <td>8.213339e-13</td>\n",
       "      <td>2.352834e-09</td>\n",
       "      <td>NaN</td>\n",
       "    </tr>\n",
       "  </tbody>\n",
       "</table>\n",
       "</div>"
      ],
      "text/plain": [
       "           Adélie       Sam          Sam2      Sam3          Sam4  \\\n",
       "A2            NaN       NaN  1.951551e-09       NaN           NaN   \n",
       "AVG           NaN       NaN           NaN       NaN           NaN   \n",
       "C3   3.468007e-09       NaN           NaN       NaN  2.582811e-07   \n",
       "C4   4.477336e-09       NaN           NaN       NaN           NaN   \n",
       "Cz            NaN       NaN           NaN       NaN  7.619580e-04   \n",
       "F3   1.670347e-06       NaN           NaN  0.001291           NaN   \n",
       "F4            NaN       NaN           NaN       NaN           NaN   \n",
       "F7   3.728470e-04       NaN  3.376951e-04       NaN           NaN   \n",
       "F8   7.259976e-06       NaN  9.225840e-04       NaN           NaN   \n",
       "Fp1  1.019197e-05  0.001624           NaN       NaN           NaN   \n",
       "Fp2  4.290368e-04       NaN  2.701059e-04       NaN           NaN   \n",
       "Fz   2.152294e-03       NaN           NaN       NaN  9.470340e-07   \n",
       "O1   1.762716e-03       NaN           NaN       NaN           NaN   \n",
       "O2   7.922221e-05  0.000276           NaN       NaN           NaN   \n",
       "P3            NaN       NaN           NaN       NaN           NaN   \n",
       "P4            NaN       NaN           NaN       NaN           NaN   \n",
       "Pz            NaN       NaN           NaN       NaN  8.046499e-08   \n",
       "T3   4.311543e-08       NaN           NaN       NaN  8.695434e-11   \n",
       "T4   2.592954e-04       NaN           NaN  0.000011  1.720264e-05   \n",
       "T5            NaN       NaN           NaN       NaN           NaN   \n",
       "T6            NaN       NaN           NaN       NaN  1.504465e-03   \n",
       "\n",
       "          Raphaël      Raphaël2      Raphaël3        Arnaud  \n",
       "A2   1.297686e-03  2.001900e-04  1.562433e-04           NaN  \n",
       "AVG           NaN  1.303453e-06           NaN           NaN  \n",
       "C3   2.496099e-07  5.607165e-09           NaN           NaN  \n",
       "C4   3.765793e-07  2.941595e-07           NaN           NaN  \n",
       "Cz            NaN  6.033529e-04           NaN           NaN  \n",
       "F3   5.184741e-04           NaN           NaN           NaN  \n",
       "F4            NaN  1.992932e-07  9.535220e-04           NaN  \n",
       "F7            NaN           NaN           NaN  7.702960e-09  \n",
       "F8            NaN           NaN           NaN           NaN  \n",
       "Fp1           NaN           NaN           NaN           NaN  \n",
       "Fp2           NaN           NaN           NaN           NaN  \n",
       "Fz            NaN  1.035927e-04  1.328314e-04           NaN  \n",
       "O1            NaN  1.424514e-14           NaN           NaN  \n",
       "O2            NaN  4.140340e-19           NaN  1.691058e-04  \n",
       "P3   1.431436e-03  6.870454e-12           NaN           NaN  \n",
       "P4            NaN  7.905673e-08           NaN           NaN  \n",
       "Pz   4.334675e-04  2.759975e-16           NaN  5.914479e-06  \n",
       "T3            NaN  2.779619e-11           NaN           NaN  \n",
       "T4   1.084968e-04  7.641286e-06  5.216728e-07           NaN  \n",
       "T5            NaN  4.343593e-23           NaN  5.005683e-11  \n",
       "T6   1.551884e-05  8.213339e-13  2.352834e-09           NaN  "
      ]
     },
     "execution_count": 24,
     "metadata": {},
     "output_type": "execute_result"
    }
   ],
   "source": [
    "# check significant pvalues\n",
    "\n",
    "pvalues_naive_ad = pd.DataFrame(p_values_adelie_slopes[p_values_adelie_slopes < FWER_threshold]).rename(columns={0: 'Adélie'})\n",
    "\n",
    "pvalues_naive_sam = pd.DataFrame(p_values_sam_slopes[p_values_sam_slopes < FWER_threshold]).rename(columns={0: 'Sam'})\n",
    "pvalues_naive_sam2 = pd.DataFrame(p_values_sam2_slopes[p_values_sam2_slopes < FWER_threshold]).rename(columns={0: 'Sam2'})\n",
    "pvalues_naive_sam3 = pd.DataFrame(p_values_sam3_slopes[p_values_sam3_slopes < FWER_threshold]).rename(columns={0: 'Sam3'})\n",
    "pvalues_naive_sam4 = pd.DataFrame(p_values_sam4_slopes[p_values_sam4_slopes < FWER_threshold]).rename(columns={0: 'Sam4'})\n",
    "\n",
    "pvalues_naive_rap = pd.DataFrame(p_values_rap_slopes[p_values_rap_slopes < FWER_threshold]).rename(columns={0: 'Raphaël'})\n",
    "pvalues_naive_rap2 = pd.DataFrame(p_values_rap2_slopes[p_values_rap2_slopes < FWER_threshold]).rename(columns={0: 'Raphaël2'})\n",
    "pvalues_naive_rap3 = pd.DataFrame(p_values_rap3_slopes[p_values_rap3_slopes < FWER_threshold]).rename(columns={0: 'Raphaël3'})\n",
    "\n",
    "pvalues_naive_arn = pd.DataFrame(p_values_arn_slopes[p_values_arn_slopes < FWER_threshold]).rename(columns={0: 'Arnaud'})\n",
    "\n",
    "pvalues_slope_concat = pd.concat([pvalues_naive_ad, pvalues_naive_sam, pvalues_naive_sam2, pvalues_naive_sam3, pvalues_naive_sam4, pvalues_naive_rap, pvalues_naive_rap2, pvalues_naive_rap3, pvalues_naive_arn], axis=1)\n",
    "pvalues_slope_concat"
   ]
  },
  {
   "cell_type": "code",
   "execution_count": 30,
   "metadata": {},
   "outputs": [],
   "source": [
    "import numpy as np\n",
    "import matplotlib\n",
    "import matplotlib.pyplot as plt\n",
    "\n",
    "subjects = ratio_slope_concat.columns.to_list()\n",
    "ratio_naive = ratio_slope_concat.index.to_list()\n",
    "\n",
    "array_pvalues_naive_concat = np.array(pvalues_slope_concat)\n",
    "\n",
    "array_ratio_naive = np.array(ratio_slope_concat)\n",
    "\n",
    "pre_vmin=ratio_slope_concat.min().min()\n",
    "pre_vmax=ratio_slope_concat.max().max()\n",
    "\n",
    "abs_max = max(abs(pre_vmin), abs(pre_vmax))\n",
    "vmin, vmax = -abs_max, abs_max\n",
    "\n",
    "fig, ax = plt.subplots()\n",
    "im = ax.imshow(array_ratio_naive, vmin=vmin, vmax=vmax)\n",
    "\n",
    "# We want to show all ticks...\n",
    "ax.set_xticks(np.arange(len(subjects)))\n",
    "ax.set_yticks(np.arange(len(ratio_naive)))\n",
    "\n",
    "# ... and label them with the respective list entries\n",
    "ax.set_xticklabels(subjects)\n",
    "ax.set_yticklabels(ratio_naive)\n",
    "\n",
    "# Rotate the tick labels and set their alignment.\n",
    "plt.setp(ax.get_xticklabels(), rotation=45, ha=\"right\", rotation_mode=\"anchor\")\n",
    "\n",
    "# Loop over data dimensions and create text annotations.\n",
    "for i in range(len(ratio_naive)):\n",
    "    for j in range(len(subjects)):\n",
    "        if str(array_pvalues_naive_concat[i, j]) == 'nan':\n",
    "            text = ax.text(j, i, '', ha=\"center\", va=\"center\", color=\"w\")\n",
    "        else:\n",
    "            text = ax.text(j, i, '*', ha=\"center\", va=\"center\", color=\"k\")\n",
    "\n",
    "ax.set_title(\"Ratio meditation/baseline for the slopes \\n *pvalue < 0.0025\")\n",
    "\n",
    "plt.set_cmap('RdBu')\n",
    "\n",
    "cbar = ax.figure.colorbar(im, ax=ax)\n",
    "cbar.ax.set_ylabel('Log scale', rotation=-90, va=\"bottom\")\n",
    "\n",
    "fig.tight_layout()\n",
    "plt.show()"
   ]
  },
  {
   "cell_type": "code",
   "execution_count": 39,
   "metadata": {},
   "outputs": [],
   "source": [
    "# Matthieu Ricard only\n",
    "\n",
    "ratio_slope_mr = pd.DataFrame(meditation_mr_slopes.mean(axis=0) / baseline_mr_slopes.mean(axis=0)).rename(columns={0: 'Matthieu Ricard'})\n",
    "pvalues_naive_mr = pd.DataFrame(p_values_mr_slopes[p_values_mr_slopes < FWER_threshold]).rename(columns={0: 'Matthieu Ricard'})"
   ]
  },
  {
   "cell_type": "code",
   "execution_count": 41,
   "metadata": {},
   "outputs": [
    {
     "ename": "IndexError",
     "evalue": "index 257 is out of bounds for axis 0 with size 257",
     "output_type": "error",
     "traceback": [
      "\u001b[1;31m---------------------------------------------------------------------------\u001b[0m",
      "\u001b[1;31mIndexError\u001b[0m                                Traceback (most recent call last)",
      "\u001b[1;32m<ipython-input-41-6b65e1f7b59c>\u001b[0m in \u001b[0;36m<module>\u001b[1;34m\u001b[0m\n\u001b[0;32m     27\u001b[0m \u001b[1;32mfor\u001b[0m \u001b[0mi\u001b[0m \u001b[1;32min\u001b[0m \u001b[0mrange\u001b[0m\u001b[1;33m(\u001b[0m\u001b[0mlen\u001b[0m\u001b[1;33m(\u001b[0m\u001b[0mratio_naive\u001b[0m\u001b[1;33m)\u001b[0m\u001b[1;33m)\u001b[0m\u001b[1;33m:\u001b[0m\u001b[1;33m\u001b[0m\u001b[1;33m\u001b[0m\u001b[0m\n\u001b[0;32m     28\u001b[0m     \u001b[1;32mfor\u001b[0m \u001b[0mj\u001b[0m \u001b[1;32min\u001b[0m \u001b[0mrange\u001b[0m\u001b[1;33m(\u001b[0m\u001b[0mlen\u001b[0m\u001b[1;33m(\u001b[0m\u001b[0msubjects\u001b[0m\u001b[1;33m)\u001b[0m\u001b[1;33m)\u001b[0m\u001b[1;33m:\u001b[0m\u001b[1;33m\u001b[0m\u001b[1;33m\u001b[0m\u001b[0m\n\u001b[1;32m---> 29\u001b[1;33m         \u001b[1;32mif\u001b[0m \u001b[0mstr\u001b[0m\u001b[1;33m(\u001b[0m\u001b[0marray_pvalues_naive_concat\u001b[0m\u001b[1;33m[\u001b[0m\u001b[0mi\u001b[0m\u001b[1;33m,\u001b[0m \u001b[0mj\u001b[0m\u001b[1;33m]\u001b[0m\u001b[1;33m)\u001b[0m \u001b[1;33m==\u001b[0m \u001b[1;34m'nan'\u001b[0m\u001b[1;33m:\u001b[0m\u001b[1;33m\u001b[0m\u001b[1;33m\u001b[0m\u001b[0m\n\u001b[0m\u001b[0;32m     30\u001b[0m             \u001b[0mtext\u001b[0m \u001b[1;33m=\u001b[0m \u001b[0max\u001b[0m\u001b[1;33m.\u001b[0m\u001b[0mtext\u001b[0m\u001b[1;33m(\u001b[0m\u001b[0mj\u001b[0m\u001b[1;33m,\u001b[0m \u001b[0mi\u001b[0m\u001b[1;33m,\u001b[0m \u001b[1;34m''\u001b[0m\u001b[1;33m,\u001b[0m \u001b[0mha\u001b[0m\u001b[1;33m=\u001b[0m\u001b[1;34m\"center\"\u001b[0m\u001b[1;33m,\u001b[0m \u001b[0mva\u001b[0m\u001b[1;33m=\u001b[0m\u001b[1;34m\"center\"\u001b[0m\u001b[1;33m,\u001b[0m \u001b[0mcolor\u001b[0m\u001b[1;33m=\u001b[0m\u001b[1;34m\"w\"\u001b[0m\u001b[1;33m)\u001b[0m\u001b[1;33m\u001b[0m\u001b[1;33m\u001b[0m\u001b[0m\n\u001b[0;32m     31\u001b[0m         \u001b[1;32melse\u001b[0m\u001b[1;33m:\u001b[0m\u001b[1;33m\u001b[0m\u001b[1;33m\u001b[0m\u001b[0m\n",
      "\u001b[1;31mIndexError\u001b[0m: index 257 is out of bounds for axis 0 with size 257"
     ]
    }
   ],
   "source": [
    "import numpy as np\n",
    "import matplotlib\n",
    "import matplotlib.pyplot as plt\n",
    "\n",
    "subjects = ratio_slope_mr.columns.to_list()\n",
    "ratio_naive = ratio_slope_mr.index.to_list()\n",
    "\n",
    "array_pvalues_naive_concat = np.array(pvalues_naive_mr)\n",
    "\n",
    "array_ratio_naive = np.array(ratio_slope_mr)\n",
    "\n",
    "fig, ax = plt.subplots()\n",
    "im = ax.imshow(array_ratio_naive)\n",
    "\n",
    "# We want to show all ticks...\n",
    "ax.set_xticks(np.arange(len(subjects)))\n",
    "ax.set_yticks(np.arange(len(ratio_naive)))\n",
    "\n",
    "# ... and label them with the respective list entries\n",
    "ax.set_xticklabels(subjects)\n",
    "ax.set_yticklabels(ratio_naive)\n",
    "\n",
    "# Rotate the tick labels and set their alignment.\n",
    "plt.setp(ax.get_xticklabels(), rotation=45, ha=\"right\", rotation_mode=\"anchor\")\n",
    "\n",
    "# Loop over data dimensions and create text annotations.\n",
    "for i in range(len(ratio_naive)):\n",
    "    for j in range(len(subjects)):\n",
    "        if str(array_pvalues_naive_concat[i, j]) == 'nan':\n",
    "            text = ax.text(j, i, '', ha=\"center\", va=\"center\", color=\"w\")\n",
    "        else:\n",
    "            text = ax.text(j, i, '*', ha=\"center\", va=\"center\", color=\"k\")\n",
    "\n",
    "ax.set_title(\"Ratio meditation/baseline for the slopes \\n *pvalue < 0.0025\")\n",
    "\n",
    "plt.set_cmap('RdBu')\n",
    "\n",
    "cbar = ax.figure.colorbar(im, ax=ax)\n",
    "cbar.ax.set_ylabel('Log scale', rotation=-90, va=\"bottom\")\n",
    "\n",
    "fig.tight_layout()\n",
    "plt.show()"
   ]
  },
  {
   "cell_type": "markdown",
   "metadata": {},
   "source": [
    "## Let's animate the welch periodogram"
   ]
  },
  {
   "cell_type": "code",
   "execution_count": 37,
   "metadata": {},
   "outputs": [
    {
     "data": {
      "text/html": [
       "<div>\n",
       "<style scoped>\n",
       "    .dataframe tbody tr th:only-of-type {\n",
       "        vertical-align: middle;\n",
       "    }\n",
       "\n",
       "    .dataframe tbody tr th {\n",
       "        vertical-align: top;\n",
       "    }\n",
       "\n",
       "    .dataframe thead th {\n",
       "        text-align: right;\n",
       "    }\n",
       "</style>\n",
       "<table border=\"1\" class=\"dataframe\">\n",
       "  <thead>\n",
       "    <tr style=\"text-align: right;\">\n",
       "      <th></th>\n",
       "      <th></th>\n",
       "      <th>A2</th>\n",
       "      <th>AVG</th>\n",
       "      <th>C3</th>\n",
       "      <th>C4</th>\n",
       "      <th>Cz</th>\n",
       "      <th>F3</th>\n",
       "      <th>F4</th>\n",
       "      <th>F7</th>\n",
       "      <th>F8</th>\n",
       "      <th>Fp1</th>\n",
       "      <th>...</th>\n",
       "      <th>Fz</th>\n",
       "      <th>O1</th>\n",
       "      <th>O2</th>\n",
       "      <th>P3</th>\n",
       "      <th>P4</th>\n",
       "      <th>Pz</th>\n",
       "      <th>T3</th>\n",
       "      <th>T4</th>\n",
       "      <th>T5</th>\n",
       "      <th>T6</th>\n",
       "    </tr>\n",
       "  </thead>\n",
       "  <tbody>\n",
       "    <tr>\n",
       "      <th rowspan=\"5\" valign=\"top\">00:00:09.991072</th>\n",
       "      <th>1.00</th>\n",
       "      <td>0.960440</td>\n",
       "      <td>1.932948</td>\n",
       "      <td>3.906442</td>\n",
       "      <td>5.060188</td>\n",
       "      <td>49.360073</td>\n",
       "      <td>11.564177</td>\n",
       "      <td>22.241432</td>\n",
       "      <td>12.904437</td>\n",
       "      <td>6.548312</td>\n",
       "      <td>14.855838</td>\n",
       "      <td>...</td>\n",
       "      <td>5.954402</td>\n",
       "      <td>1.072496</td>\n",
       "      <td>27.032049</td>\n",
       "      <td>40.424704</td>\n",
       "      <td>28.324630</td>\n",
       "      <td>78.110312</td>\n",
       "      <td>8.545232</td>\n",
       "      <td>1.019636</td>\n",
       "      <td>9.807025</td>\n",
       "      <td>22.421323</td>\n",
       "    </tr>\n",
       "    <tr>\n",
       "      <th>1.25</th>\n",
       "      <td>0.415009</td>\n",
       "      <td>34.300112</td>\n",
       "      <td>39.477347</td>\n",
       "      <td>24.689440</td>\n",
       "      <td>63.970273</td>\n",
       "      <td>51.757166</td>\n",
       "      <td>133.702267</td>\n",
       "      <td>96.689173</td>\n",
       "      <td>58.299157</td>\n",
       "      <td>75.454290</td>\n",
       "      <td>...</td>\n",
       "      <td>46.087190</td>\n",
       "      <td>10.594399</td>\n",
       "      <td>48.347180</td>\n",
       "      <td>28.851662</td>\n",
       "      <td>48.916572</td>\n",
       "      <td>86.046643</td>\n",
       "      <td>11.508428</td>\n",
       "      <td>10.190834</td>\n",
       "      <td>23.268254</td>\n",
       "      <td>67.858778</td>\n",
       "    </tr>\n",
       "    <tr>\n",
       "      <th>1.50</th>\n",
       "      <td>0.047441</td>\n",
       "      <td>25.411044</td>\n",
       "      <td>44.744947</td>\n",
       "      <td>21.280163</td>\n",
       "      <td>28.262125</td>\n",
       "      <td>19.414765</td>\n",
       "      <td>129.597375</td>\n",
       "      <td>44.694218</td>\n",
       "      <td>37.682253</td>\n",
       "      <td>43.733517</td>\n",
       "      <td>...</td>\n",
       "      <td>39.977972</td>\n",
       "      <td>15.703335</td>\n",
       "      <td>34.241434</td>\n",
       "      <td>13.336551</td>\n",
       "      <td>22.339054</td>\n",
       "      <td>140.022706</td>\n",
       "      <td>2.325799</td>\n",
       "      <td>6.635201</td>\n",
       "      <td>30.655105</td>\n",
       "      <td>53.243323</td>\n",
       "    </tr>\n",
       "    <tr>\n",
       "      <th>1.75</th>\n",
       "      <td>0.159956</td>\n",
       "      <td>0.810664</td>\n",
       "      <td>0.817227</td>\n",
       "      <td>2.207108</td>\n",
       "      <td>0.823415</td>\n",
       "      <td>3.468835</td>\n",
       "      <td>64.260621</td>\n",
       "      <td>3.695244</td>\n",
       "      <td>0.574181</td>\n",
       "      <td>3.871877</td>\n",
       "      <td>...</td>\n",
       "      <td>3.454433</td>\n",
       "      <td>4.476083</td>\n",
       "      <td>31.775274</td>\n",
       "      <td>1.658809</td>\n",
       "      <td>7.157585</td>\n",
       "      <td>36.748422</td>\n",
       "      <td>0.869467</td>\n",
       "      <td>1.804938</td>\n",
       "      <td>3.066903</td>\n",
       "      <td>5.125031</td>\n",
       "    </tr>\n",
       "    <tr>\n",
       "      <th>2.00</th>\n",
       "      <td>0.139585</td>\n",
       "      <td>2.277048</td>\n",
       "      <td>13.786360</td>\n",
       "      <td>3.677157</td>\n",
       "      <td>5.266234</td>\n",
       "      <td>4.712729</td>\n",
       "      <td>9.420356</td>\n",
       "      <td>3.883453</td>\n",
       "      <td>0.232989</td>\n",
       "      <td>1.245614</td>\n",
       "      <td>...</td>\n",
       "      <td>4.135805</td>\n",
       "      <td>6.911569</td>\n",
       "      <td>8.245376</td>\n",
       "      <td>6.253878</td>\n",
       "      <td>6.657723</td>\n",
       "      <td>7.257102</td>\n",
       "      <td>0.458657</td>\n",
       "      <td>8.424098</td>\n",
       "      <td>12.181189</td>\n",
       "      <td>2.252611</td>\n",
       "    </tr>\n",
       "  </tbody>\n",
       "</table>\n",
       "<p>5 rows × 21 columns</p>\n",
       "</div>"
      ],
      "text/plain": [
       "                            A2        AVG         C3         C4         Cz  \\\n",
       "00:00:09.991072 1.00  0.960440   1.932948   3.906442   5.060188  49.360073   \n",
       "                1.25  0.415009  34.300112  39.477347  24.689440  63.970273   \n",
       "                1.50  0.047441  25.411044  44.744947  21.280163  28.262125   \n",
       "                1.75  0.159956   0.810664   0.817227   2.207108   0.823415   \n",
       "                2.00  0.139585   2.277048  13.786360   3.677157   5.266234   \n",
       "\n",
       "                             F3          F4         F7         F8        Fp1  \\\n",
       "00:00:09.991072 1.00  11.564177   22.241432  12.904437   6.548312  14.855838   \n",
       "                1.25  51.757166  133.702267  96.689173  58.299157  75.454290   \n",
       "                1.50  19.414765  129.597375  44.694218  37.682253  43.733517   \n",
       "                1.75   3.468835   64.260621   3.695244   0.574181   3.871877   \n",
       "                2.00   4.712729    9.420356   3.883453   0.232989   1.245614   \n",
       "\n",
       "                      ...         Fz         O1         O2         P3  \\\n",
       "00:00:09.991072 1.00  ...   5.954402   1.072496  27.032049  40.424704   \n",
       "                1.25  ...  46.087190  10.594399  48.347180  28.851662   \n",
       "                1.50  ...  39.977972  15.703335  34.241434  13.336551   \n",
       "                1.75  ...   3.454433   4.476083  31.775274   1.658809   \n",
       "                2.00  ...   4.135805   6.911569   8.245376   6.253878   \n",
       "\n",
       "                             P4          Pz         T3         T4         T5  \\\n",
       "00:00:09.991072 1.00  28.324630   78.110312   8.545232   1.019636   9.807025   \n",
       "                1.25  48.916572   86.046643  11.508428  10.190834  23.268254   \n",
       "                1.50  22.339054  140.022706   2.325799   6.635201  30.655105   \n",
       "                1.75   7.157585   36.748422   0.869467   1.804938   3.066903   \n",
       "                2.00   6.657723    7.257102   0.458657   8.424098  12.181189   \n",
       "\n",
       "                             T6  \n",
       "00:00:09.991072 1.00  22.421323  \n",
       "                1.25  67.858778  \n",
       "                1.50  53.243323  \n",
       "                1.75   5.125031  \n",
       "                2.00   2.252611  \n",
       "\n",
       "[5 rows x 21 columns]"
      ]
     },
     "execution_count": 37,
     "metadata": {},
     "output_type": "execute_result"
    }
   ],
   "source": [
    "psd = stats.get_dsp_welch(helpers.load_signal_data(\"baseline\", config=cfg, subject='adelie'), epoch_size='4s')\n",
    "psd.head()"
   ]
  },
  {
   "cell_type": "code",
   "execution_count": 77,
   "metadata": {},
   "outputs": [
    {
     "data": {
      "text/plain": [
       "TimedeltaIndex(['00:00:09.991072', '00:00:13.991072', '00:00:17.991072',\n",
       "                '00:00:21.991072', '00:00:25.991072', '00:00:29.991072',\n",
       "                '00:00:33.991072', '00:00:37.991072', '00:00:41.991072',\n",
       "                '00:00:45.991072', '00:00:49.991072', '00:00:53.991072',\n",
       "                '00:00:57.991072', '00:01:01.991072', '00:01:05.991072',\n",
       "                '00:01:09.991072', '00:01:13.991072', '00:01:17.991072',\n",
       "                '00:01:21.991072', '00:01:25.991072', '00:01:29.991072',\n",
       "                '00:01:33.991072', '00:01:37.991072', '00:01:41.991072',\n",
       "                '00:01:45.991072', '00:01:49.991072', '00:01:53.991072',\n",
       "                '00:01:57.991072'],\n",
       "               dtype='timedelta64[ns]', freq='4S')"
      ]
     },
     "execution_count": 77,
     "metadata": {},
     "output_type": "execute_result"
    }
   ],
   "source": [
    "psd.index.levels[0]"
   ]
  },
  {
   "cell_type": "code",
   "execution_count": 89,
   "metadata": {},
   "outputs": [],
   "source": [
    "import matplotlib.animation as animation\n",
    "    \n",
    "fig = plt.figure()\n",
    "\n",
    "def animate(group_index):\n",
    "    plt.clf()\n",
    "    group = psd.xs(group_index, level=0)\n",
    "    axes = group['AVG'].plot()\n",
    "    axes.set_ylim([0,100])\n",
    "    return axes\n",
    "\n",
    "\n",
    "anim = animation.FuncAnimation(fig, animate, frames=psd.index.levels[0], repeat = False, interval=300, blit=False)"
   ]
  },
  {
   "cell_type": "code",
   "execution_count": null,
   "metadata": {},
   "outputs": [],
   "source": []
  },
  {
   "cell_type": "code",
   "execution_count": null,
   "metadata": {},
   "outputs": [],
   "source": []
  }
 ],
 "metadata": {
  "kernelspec": {
   "display_name": "Python 3",
   "language": "python",
   "name": "python3"
  },
  "language_info": {
   "codemirror_mode": {
    "name": "ipython",
    "version": 3
   },
   "file_extension": ".py",
   "mimetype": "text/x-python",
   "name": "python",
   "nbconvert_exporter": "python",
   "pygments_lexer": "ipython3",
   "version": "3.7.3"
  }
 },
 "nbformat": 4,
 "nbformat_minor": 2
}
