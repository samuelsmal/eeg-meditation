{
 "cells": [
  {
   "cell_type": "code",
   "execution_count": 1,
   "metadata": {},
   "outputs": [],
   "source": [
    "%matplotlib qt\n",
    "\n",
    "# std\n",
    "import os\n",
    "from os import path\n",
    "import time\n",
    "\n",
    "# 3p\n",
    "import numpy as np\n",
    "import pandas as pd\n",
    "import matplotlib.pyplot as plt\n",
    "\n",
    "# prj\n",
    "os.chdir(\"..\")\n",
    "from src import helpers, configuration, filtering, bandpower, plots, metrics, statistics as stats\n",
    "from src.configuration import cfg, cfg_mr\n",
    "os.chdir('analysis-adelie')\n",
    "\n",
    "# ttest\n",
    "from scipy.stats import ttest_ind\n",
    "\n",
    "# plots\n",
    "import matplotlib\n",
    "\n",
    "font = {'family':'DejaVu Sans', 'weight':'normal', 'size':14}\n",
    "matplotlib.rc('font', **font)"
   ]
  },
  {
   "cell_type": "code",
   "execution_count": 2,
   "metadata": {},
   "outputs": [],
   "source": [
    "# defining frequency bands\n",
    "cfg['bands'] = {'gamma': [40, 100], 'beta': [12, 40], 'alpha': [8, 12], 'theta': [4, 8], 'delta': [1, 4]}\n",
    "\n",
    "# defining ratios\n",
    "ratioList = ['gamma / beta', 'gamma / alpha', 'gamma / theta', 'gamma / delta', 'beta / alpha', 'beta / theta', 'beta / delta', 'alpha / theta', 'alpha / delta', 'theta / delta']"
   ]
  },
  {
   "cell_type": "markdown",
   "metadata": {},
   "source": [
    "Recordings of March"
   ]
  },
  {
   "cell_type": "code",
   "execution_count": 302,
   "metadata": {},
   "outputs": [],
   "source": [
    "# Adélie's data\n",
    "baseline_bandpowers_adelie = helpers.load_bandpower_all_epochs_all_recordings_df('baseline', subject='adelie')\n",
    "meditation_bandpowers_adelie = helpers.load_bandpower_all_epochs_all_recordings_df('meditation', subject='adelie')\n",
    "\n",
    "merged_bandpower_adelie = pd.concat([baseline_bandpowers_adelie, meditation_bandpowers_adelie], keys=[\"baseline\", \"meditation\"])"
   ]
  },
  {
   "cell_type": "code",
   "execution_count": 303,
   "metadata": {},
   "outputs": [],
   "source": [
    "# Sam's data\n",
    "baseline_bandpowers_sam = helpers.load_bandpower_all_epochs_all_recordings_df('baseline', subject='sam')\n",
    "meditation_bandpowers_sam = helpers.load_bandpower_all_epochs_all_recordings_df('meditation', subject='sam')\n",
    "\n",
    "merged_bandpower_sam = pd.concat([baseline_bandpowers_sam, meditation_bandpowers_sam], keys=[\"baseline\", \"meditation\"])"
   ]
  },
  {
   "cell_type": "markdown",
   "metadata": {},
   "source": [
    "Recordings of May 1"
   ]
  },
  {
   "cell_type": "code",
   "execution_count": 304,
   "metadata": {},
   "outputs": [],
   "source": [
    "# Sam2's data\n",
    "baseline_bandpowers_sam2 = helpers.load_bandpower_all_epochs_all_recordings_df('baseline', subject='sam2')\n",
    "meditation_bandpowers_sam2 = helpers.load_bandpower_all_epochs_all_recordings_df('meditation', subject='sam2')\n",
    "\n",
    "merged_bandpower_sam2 = pd.concat([baseline_bandpowers_sam2, meditation_bandpowers_sam2], keys=[\"baseline\", \"meditation\"])"
   ]
  },
  {
   "cell_type": "code",
   "execution_count": 305,
   "metadata": {},
   "outputs": [],
   "source": [
    "# Raphaël's data\n",
    "baseline_bandpowers_rap = helpers.load_bandpower_all_epochs_all_recordings_df('baseline', subject='raphael')\n",
    "meditation_bandpowers_rap = helpers.load_bandpower_all_epochs_all_recordings_df('meditation', subject='raphael')\n",
    "\n",
    "merged_bandpower_rap = pd.concat([baseline_bandpowers_rap, meditation_bandpowers_rap], keys=[\"baseline\", \"meditation\"])"
   ]
  },
  {
   "cell_type": "markdown",
   "metadata": {},
   "source": [
    "Recordings of May 2"
   ]
  },
  {
   "cell_type": "code",
   "execution_count": 306,
   "metadata": {},
   "outputs": [],
   "source": [
    "# Raphaël2's data\n",
    "baseline_bandpowers_rap2 = helpers.load_bandpower_all_epochs_all_recordings_df('baseline', subject='raphael2')\n",
    "meditation_bandpowers_rap2 = helpers.load_bandpower_all_epochs_all_recordings_df('meditation', subject='raphael2')\n",
    "\n",
    "merged_bandpower_rap2 = pd.concat([baseline_bandpowers_rap2, meditation_bandpowers_rap2], keys=[\"baseline\", \"meditation\"])"
   ]
  },
  {
   "cell_type": "code",
   "execution_count": 307,
   "metadata": {},
   "outputs": [],
   "source": [
    "# Raphaël3's data\n",
    "baseline_bandpowers_rap3 = helpers.load_bandpower_all_epochs_all_recordings_df('baseline', subject='raphael3')\n",
    "meditation_bandpowers_rap3 = helpers.load_bandpower_all_epochs_all_recordings_df('meditation', subject='raphael3')\n",
    "\n",
    "merged_bandpower_rap3 = pd.concat([baseline_bandpowers_rap3, meditation_bandpowers_rap3], keys=[\"baseline\", \"meditation\"])"
   ]
  },
  {
   "cell_type": "code",
   "execution_count": 308,
   "metadata": {},
   "outputs": [],
   "source": [
    "# Sam3's data\n",
    "baseline_bandpowers_sam3 = helpers.load_bandpower_all_epochs_all_recordings_df('baseline', subject='sam3')\n",
    "meditation_bandpowers_sam3 = helpers.load_bandpower_all_epochs_all_recordings_df('meditation', subject='sam3')\n",
    "\n",
    "merged_bandpower_sam3 = pd.concat([baseline_bandpowers_sam3, meditation_bandpowers_sam3], keys=[\"baseline\", \"meditation\"])"
   ]
  },
  {
   "cell_type": "code",
   "execution_count": 309,
   "metadata": {},
   "outputs": [],
   "source": [
    "# Arnaud's data\n",
    "baseline_bandpowers_arn = helpers.load_bandpower_all_epochs_all_recordings_df('baseline', subject='arnaud')\n",
    "meditation_bandpowers_arn = helpers.load_bandpower_all_epochs_all_recordings_df('meditation', subject='arnaud')\n",
    "\n",
    "merged_bandpower_arn = pd.concat([baseline_bandpowers_arn, meditation_bandpowers_arn], keys=[\"baseline\", \"meditation\"])"
   ]
  },
  {
   "cell_type": "markdown",
   "metadata": {},
   "source": [
    "Recordings of June"
   ]
  },
  {
   "cell_type": "code",
   "execution_count": 310,
   "metadata": {},
   "outputs": [],
   "source": [
    "# Sam4's data\n",
    "baseline_bandpowers_sam4 = helpers.load_bandpower_all_epochs_all_recordings_df('baseline', subject='sam4')\n",
    "meditation_bandpowers_sam4 = helpers.load_bandpower_all_epochs_all_recordings_df('meditation', subject='sam4')\n",
    "\n",
    "merged_bandpower_sam4 = pd.concat([baseline_bandpowers_sam4, meditation_bandpowers_sam4], keys=[\"baseline\", \"meditation\"])"
   ]
  },
  {
   "cell_type": "markdown",
   "metadata": {},
   "source": [
    "Matthieu Ricard"
   ]
  },
  {
   "cell_type": "code",
   "execution_count": 3,
   "metadata": {},
   "outputs": [
    {
     "name": "stderr",
     "output_type": "stream",
     "text": [
      "C:\\Users\\adeli\\Anaconda3\\lib\\site-packages\\ipykernel_launcher.py:5: FutureWarning: Sorting because non-concatenation axis is not aligned. A future version\n",
      "of pandas will change to not sort by default.\n",
      "\n",
      "To accept the future behavior, pass 'sort=False'.\n",
      "\n",
      "To retain the current behavior and silence the warning, pass 'sort=True'.\n",
      "\n",
      "  \"\"\"\n"
     ]
    }
   ],
   "source": [
    "# MR data\n",
    "baseline_bandpowers_mr = helpers.load_bandpower_all_epochs_all_recordings_df('baseline', subject='mr', config=cfg_mr)\n",
    "meditation_bandpowers_mr = helpers.load_bandpower_all_epochs_all_recordings_df('meditation', subject='mr', config=cfg_mr)\n",
    "\n",
    "merged_bandpower_mr = pd.concat([baseline_bandpowers_mr, meditation_bandpowers_mr], keys=[\"baseline\", \"meditation\"])"
   ]
  },
  {
   "cell_type": "markdown",
   "metadata": {},
   "source": [
    "### Create heatmap with results"
   ]
  },
  {
   "cell_type": "code",
   "execution_count": 420,
   "metadata": {},
   "outputs": [],
   "source": [
    "# compute ratios for naive metrics meditation/baseline\n",
    "\n",
    "ratio_naive_ad = metrics.get_avg_ratio(baseline_bandpowers_adelie, meditation_bandpowers_adelie, \"Adélie\")\n",
    "ratio_naive_sam = metrics.get_avg_ratio(baseline_bandpowers_sam, meditation_bandpowers_sam, \"Sam\")\n",
    "ratio_naive_sam2 = metrics.get_avg_ratio(baseline_bandpowers_sam2, meditation_bandpowers_sam2, \"Sam2\")\n",
    "ratio_naive_sam3 = metrics.get_avg_ratio(baseline_bandpowers_sam3, meditation_bandpowers_sam3, \"Sam3\")\n",
    "ratio_naive_sam4 = metrics.get_avg_ratio(baseline_bandpowers_sam4, meditation_bandpowers_sam4, \"Sam4\")\n",
    "ratio_naive_rap = metrics.get_avg_ratio(baseline_bandpowers_rap, meditation_bandpowers_rap, \"Raphaël\")\n",
    "ratio_naive_rap2 = metrics.get_avg_ratio(baseline_bandpowers_rap2, meditation_bandpowers_rap2, \"Raphaël2\")\n",
    "ratio_naive_rap3 = metrics.get_avg_ratio(baseline_bandpowers_rap3, meditation_bandpowers_rap3, \"Raphaël3\")\n",
    "ratio_naive_arn = metrics.get_avg_ratio(baseline_bandpowers_arn, meditation_bandpowers_arn, \"Arnaud\")\n",
    "\n",
    "ratio_naive_concat = pd.concat([ratio_naive_ad, ratio_naive_sam, ratio_naive_sam2, ratio_naive_sam3, ratio_naive_sam4, ratio_naive_rap, ratio_naive_rap2, ratio_naive_rap3, ratio_naive_arn], axis=1)"
   ]
  },
  {
   "cell_type": "code",
   "execution_count": 357,
   "metadata": {},
   "outputs": [
    {
     "data": {
      "text/html": [
       "<div>\n",
       "<style scoped>\n",
       "    .dataframe tbody tr th:only-of-type {\n",
       "        vertical-align: middle;\n",
       "    }\n",
       "\n",
       "    .dataframe tbody tr th {\n",
       "        vertical-align: top;\n",
       "    }\n",
       "\n",
       "    .dataframe thead th {\n",
       "        text-align: right;\n",
       "    }\n",
       "</style>\n",
       "<table border=\"1\" class=\"dataframe\">\n",
       "  <thead>\n",
       "    <tr style=\"text-align: right;\">\n",
       "      <th></th>\n",
       "      <th>Adélie</th>\n",
       "      <th>Sam</th>\n",
       "      <th>Sam2</th>\n",
       "      <th>Sam3</th>\n",
       "      <th>Sam4</th>\n",
       "      <th>Raphaël</th>\n",
       "      <th>Raphaël2</th>\n",
       "      <th>Raphaël3</th>\n",
       "      <th>Arnaud</th>\n",
       "    </tr>\n",
       "  </thead>\n",
       "  <tbody>\n",
       "    <tr>\n",
       "      <th>alpha</th>\n",
       "      <td>NaN</td>\n",
       "      <td>NaN</td>\n",
       "      <td>0.000005</td>\n",
       "      <td>NaN</td>\n",
       "      <td>5.834768e-07</td>\n",
       "      <td>3.429460e-09</td>\n",
       "      <td>1.561900e-11</td>\n",
       "      <td>0.000992</td>\n",
       "      <td>NaN</td>\n",
       "    </tr>\n",
       "    <tr>\n",
       "      <th>alpha / delta</th>\n",
       "      <td>NaN</td>\n",
       "      <td>NaN</td>\n",
       "      <td>NaN</td>\n",
       "      <td>1.401987e-04</td>\n",
       "      <td>NaN</td>\n",
       "      <td>NaN</td>\n",
       "      <td>1.310326e-07</td>\n",
       "      <td>NaN</td>\n",
       "      <td>NaN</td>\n",
       "    </tr>\n",
       "    <tr>\n",
       "      <th>alpha / theta</th>\n",
       "      <td>NaN</td>\n",
       "      <td>NaN</td>\n",
       "      <td>0.000159</td>\n",
       "      <td>2.887665e-04</td>\n",
       "      <td>NaN</td>\n",
       "      <td>NaN</td>\n",
       "      <td>2.690482e-06</td>\n",
       "      <td>NaN</td>\n",
       "      <td>NaN</td>\n",
       "    </tr>\n",
       "    <tr>\n",
       "      <th>beta</th>\n",
       "      <td>NaN</td>\n",
       "      <td>NaN</td>\n",
       "      <td>0.000132</td>\n",
       "      <td>NaN</td>\n",
       "      <td>7.246397e-06</td>\n",
       "      <td>1.023977e-12</td>\n",
       "      <td>3.221573e-06</td>\n",
       "      <td>0.000065</td>\n",
       "      <td>NaN</td>\n",
       "    </tr>\n",
       "    <tr>\n",
       "      <th>beta / alpha</th>\n",
       "      <td>NaN</td>\n",
       "      <td>NaN</td>\n",
       "      <td>NaN</td>\n",
       "      <td>1.398028e-07</td>\n",
       "      <td>NaN</td>\n",
       "      <td>NaN</td>\n",
       "      <td>7.500595e-04</td>\n",
       "      <td>NaN</td>\n",
       "      <td>NaN</td>\n",
       "    </tr>\n",
       "    <tr>\n",
       "      <th>beta / delta</th>\n",
       "      <td>NaN</td>\n",
       "      <td>NaN</td>\n",
       "      <td>NaN</td>\n",
       "      <td>NaN</td>\n",
       "      <td>1.374868e-09</td>\n",
       "      <td>2.936085e-07</td>\n",
       "      <td>1.818490e-03</td>\n",
       "      <td>0.001937</td>\n",
       "      <td>NaN</td>\n",
       "    </tr>\n",
       "    <tr>\n",
       "      <th>beta / theta</th>\n",
       "      <td>NaN</td>\n",
       "      <td>NaN</td>\n",
       "      <td>0.000027</td>\n",
       "      <td>NaN</td>\n",
       "      <td>9.111590e-07</td>\n",
       "      <td>5.379006e-05</td>\n",
       "      <td>NaN</td>\n",
       "      <td>NaN</td>\n",
       "      <td>0.000039</td>\n",
       "    </tr>\n",
       "    <tr>\n",
       "      <th>delta</th>\n",
       "      <td>NaN</td>\n",
       "      <td>NaN</td>\n",
       "      <td>0.001670</td>\n",
       "      <td>NaN</td>\n",
       "      <td>NaN</td>\n",
       "      <td>4.770767e-07</td>\n",
       "      <td>NaN</td>\n",
       "      <td>0.000872</td>\n",
       "      <td>NaN</td>\n",
       "    </tr>\n",
       "    <tr>\n",
       "      <th>gamma</th>\n",
       "      <td>NaN</td>\n",
       "      <td>NaN</td>\n",
       "      <td>0.000387</td>\n",
       "      <td>2.838601e-03</td>\n",
       "      <td>3.151363e-08</td>\n",
       "      <td>1.644085e-12</td>\n",
       "      <td>NaN</td>\n",
       "      <td>NaN</td>\n",
       "      <td>NaN</td>\n",
       "    </tr>\n",
       "    <tr>\n",
       "      <th>gamma / alpha</th>\n",
       "      <td>NaN</td>\n",
       "      <td>NaN</td>\n",
       "      <td>NaN</td>\n",
       "      <td>2.865550e-10</td>\n",
       "      <td>3.011160e-03</td>\n",
       "      <td>NaN</td>\n",
       "      <td>9.307801e-04</td>\n",
       "      <td>NaN</td>\n",
       "      <td>NaN</td>\n",
       "    </tr>\n",
       "    <tr>\n",
       "      <th>gamma / beta</th>\n",
       "      <td>NaN</td>\n",
       "      <td>NaN</td>\n",
       "      <td>NaN</td>\n",
       "      <td>1.104721e-03</td>\n",
       "      <td>9.183110e-06</td>\n",
       "      <td>NaN</td>\n",
       "      <td>3.819839e-06</td>\n",
       "      <td>0.001615</td>\n",
       "      <td>NaN</td>\n",
       "    </tr>\n",
       "    <tr>\n",
       "      <th>gamma / delta</th>\n",
       "      <td>NaN</td>\n",
       "      <td>NaN</td>\n",
       "      <td>NaN</td>\n",
       "      <td>1.344848e-03</td>\n",
       "      <td>3.127121e-15</td>\n",
       "      <td>2.735116e-05</td>\n",
       "      <td>NaN</td>\n",
       "      <td>NaN</td>\n",
       "      <td>NaN</td>\n",
       "    </tr>\n",
       "    <tr>\n",
       "      <th>gamma / theta</th>\n",
       "      <td>NaN</td>\n",
       "      <td>NaN</td>\n",
       "      <td>NaN</td>\n",
       "      <td>NaN</td>\n",
       "      <td>8.731187e-08</td>\n",
       "      <td>NaN</td>\n",
       "      <td>1.554180e-03</td>\n",
       "      <td>NaN</td>\n",
       "      <td>0.001939</td>\n",
       "    </tr>\n",
       "    <tr>\n",
       "      <th>theta</th>\n",
       "      <td>NaN</td>\n",
       "      <td>2.839940e-04</td>\n",
       "      <td>NaN</td>\n",
       "      <td>NaN</td>\n",
       "      <td>NaN</td>\n",
       "      <td>2.413821e-11</td>\n",
       "      <td>1.868443e-06</td>\n",
       "      <td>0.000501</td>\n",
       "      <td>NaN</td>\n",
       "    </tr>\n",
       "    <tr>\n",
       "      <th>theta / delta</th>\n",
       "      <td>NaN</td>\n",
       "      <td>5.996092e-09</td>\n",
       "      <td>NaN</td>\n",
       "      <td>NaN</td>\n",
       "      <td>NaN</td>\n",
       "      <td>4.023744e-04</td>\n",
       "      <td>3.507362e-04</td>\n",
       "      <td>NaN</td>\n",
       "      <td>NaN</td>\n",
       "    </tr>\n",
       "  </tbody>\n",
       "</table>\n",
       "</div>"
      ],
      "text/plain": [
       "               Adélie           Sam      Sam2          Sam3          Sam4  \\\n",
       "alpha             NaN           NaN  0.000005           NaN  5.834768e-07   \n",
       "alpha / delta     NaN           NaN       NaN  1.401987e-04           NaN   \n",
       "alpha / theta     NaN           NaN  0.000159  2.887665e-04           NaN   \n",
       "beta              NaN           NaN  0.000132           NaN  7.246397e-06   \n",
       "beta / alpha      NaN           NaN       NaN  1.398028e-07           NaN   \n",
       "beta / delta      NaN           NaN       NaN           NaN  1.374868e-09   \n",
       "beta / theta      NaN           NaN  0.000027           NaN  9.111590e-07   \n",
       "delta             NaN           NaN  0.001670           NaN           NaN   \n",
       "gamma             NaN           NaN  0.000387  2.838601e-03  3.151363e-08   \n",
       "gamma / alpha     NaN           NaN       NaN  2.865550e-10  3.011160e-03   \n",
       "gamma / beta      NaN           NaN       NaN  1.104721e-03  9.183110e-06   \n",
       "gamma / delta     NaN           NaN       NaN  1.344848e-03  3.127121e-15   \n",
       "gamma / theta     NaN           NaN       NaN           NaN  8.731187e-08   \n",
       "theta             NaN  2.839940e-04       NaN           NaN           NaN   \n",
       "theta / delta     NaN  5.996092e-09       NaN           NaN           NaN   \n",
       "\n",
       "                    Raphaël      Raphaël2  Raphaël3    Arnaud  \n",
       "alpha          3.429460e-09  1.561900e-11  0.000992       NaN  \n",
       "alpha / delta           NaN  1.310326e-07       NaN       NaN  \n",
       "alpha / theta           NaN  2.690482e-06       NaN       NaN  \n",
       "beta           1.023977e-12  3.221573e-06  0.000065       NaN  \n",
       "beta / alpha            NaN  7.500595e-04       NaN       NaN  \n",
       "beta / delta   2.936085e-07  1.818490e-03  0.001937       NaN  \n",
       "beta / theta   5.379006e-05           NaN       NaN  0.000039  \n",
       "delta          4.770767e-07           NaN  0.000872       NaN  \n",
       "gamma          1.644085e-12           NaN       NaN       NaN  \n",
       "gamma / alpha           NaN  9.307801e-04       NaN       NaN  \n",
       "gamma / beta            NaN  3.819839e-06  0.001615       NaN  \n",
       "gamma / delta  2.735116e-05           NaN       NaN       NaN  \n",
       "gamma / theta           NaN  1.554180e-03       NaN  0.001939  \n",
       "theta          2.413821e-11  1.868443e-06  0.000501       NaN  \n",
       "theta / delta  4.023744e-04  3.507362e-04       NaN       NaN  "
      ]
     },
     "execution_count": 357,
     "metadata": {},
     "output_type": "execute_result"
    }
   ],
   "source": [
    "# check significant pvalues\n",
    "\n",
    "pvalues_naive_ad = pd.DataFrame(p_values_naive_metrics_adelie[p_values_naive_metrics_adelie < FWER_threshold]['AVG']).rename(columns={'AVG': 'Adélie'})\n",
    "pvalues_naive_sam = pd.DataFrame(p_values_naive_metrics_sam[p_values_naive_metrics_sam < FWER_threshold]['AVG']).rename(columns={'AVG': 'Sam'})\n",
    "pvalues_naive_sam2 = pd.DataFrame(p_values_naive_metrics_sam2[p_values_naive_metrics_sam2 < FWER_threshold]['AVG']).rename(columns={'AVG': 'Sam2'})\n",
    "pvalues_naive_sam3 = pd.DataFrame(p_values_naive_metrics_sam3[p_values_naive_metrics_sam3 < FWER_threshold]['AVG']).rename(columns={'AVG': 'Sam3'})\n",
    "pvalues_naive_sam4 = pd.DataFrame(p_values_naive_metrics_sam4[p_values_naive_metrics_sam4 < FWER_threshold]['AVG']).rename(columns={'AVG': 'Sam4'})\n",
    "pvalues_naive_rap = pd.DataFrame(p_values_naive_metrics_rap[p_values_naive_metrics_rap < FWER_threshold]['AVG']).rename(columns={'AVG': 'Raphaël'})\n",
    "pvalues_naive_rap2 = pd.DataFrame(p_values_naive_metrics_rap2[p_values_naive_metrics_rap2 < FWER_threshold]['AVG']).rename(columns={'AVG': 'Raphaël2'})\n",
    "pvalues_naive_rap3 = pd.DataFrame(p_values_naive_metrics_rap3[p_values_naive_metrics_rap3 < FWER_threshold]['AVG']).rename(columns={'AVG': 'Raphaël3'})\n",
    "pvalues_naive_arn = pd.DataFrame(p_values_naive_metrics_arn[p_values_naive_metrics_arn < FWER_threshold]['AVG']).rename(columns={'AVG': 'Arnaud'})\n",
    "\n",
    "pvalues_naive_concat = pd.concat([pvalues_naive_ad, pvalues_naive_sam, pvalues_naive_sam2, pvalues_naive_sam3, pvalues_naive_sam4, pvalues_naive_rap, pvalues_naive_rap2, pvalues_naive_rap3, pvalues_naive_arn], axis=1)\n",
    "pvalues_naive_concat"
   ]
  },
  {
   "cell_type": "code",
   "execution_count": 415,
   "metadata": {},
   "outputs": [],
   "source": [
    "import numpy as np\n",
    "import matplotlib\n",
    "import matplotlib.pyplot as plt\n",
    "\n",
    "subjects = ratio_naive_concat.columns.to_list()\n",
    "ratio_naive = ratio_naive_concat.index.to_list()\n",
    "\n",
    "array_pvalues_naive_concat = np.array(pvalues_naive_concat)\n",
    "\n",
    "array_ratio_naive = np.array(ratio_naive_concat)\n",
    "\n",
    "fig, ax = plt.subplots()\n",
    "im = ax.imshow(array_ratio_naive)\n",
    "\n",
    "# We want to show all ticks...\n",
    "ax.set_xticks(np.arange(len(subjects)))\n",
    "ax.set_yticks(np.arange(len(ratio_naive)))\n",
    "\n",
    "# ... and label them with the respective list entries\n",
    "ax.set_xticklabels(subjects)\n",
    "ax.set_yticklabels(ratio_naive)\n",
    "\n",
    "# Rotate the tick labels and set their alignment.\n",
    "plt.setp(ax.get_xticklabels(), rotation=45, ha=\"right\", rotation_mode=\"anchor\")\n",
    "\n",
    "# Loop over data dimensions and create text annotations.\n",
    "for i in range(len(ratio_naive)):\n",
    "    for j in range(len(subjects)):\n",
    "        if str(array_pvalues_naive_concat[i, j]) == 'nan':\n",
    "            text = ax.text(j, i, '', ha=\"center\", va=\"center\", color=\"w\")\n",
    "        else:\n",
    "            text = ax.text(j, i, '*', ha=\"center\", va=\"center\", color=\"k\")\n",
    "\n",
    "ax.set_title(\"Ratio meditation/baseline for the fifteen naive metrics \\n *pvalue < 0.0033\")\n",
    "\n",
    "plt.set_cmap('RdBu')\n",
    "\n",
    "cbar = ax.figure.colorbar(im, ax=ax)\n",
    "cbar.ax.set_ylabel('Log scale', rotation=-90, va=\"bottom\")\n",
    "\n",
    "fig.tight_layout()\n",
    "plt.show()"
   ]
  },
  {
   "cell_type": "code",
   "execution_count": 6,
   "metadata": {},
   "outputs": [],
   "source": [
    "# Matthieu Ricard only\n",
    "\n",
    "ratio_naive_mr = metrics.get_avg_ratio(baseline_bandpowers_mr, meditation_bandpowers_mr, \"Matthieu Ricard\")\n",
    "pvalues_naive_mr = pd.DataFrame(p_values_naive_metrics_mr[p_values_naive_metrics_mr < FWER_threshold]['AVG']).rename(columns={'AVG': 'Matthieu Ricard'})"
   ]
  },
  {
   "cell_type": "code",
   "execution_count": 11,
   "metadata": {},
   "outputs": [],
   "source": [
    "import numpy as np\n",
    "import matplotlib\n",
    "import matplotlib.pyplot as plt\n",
    "\n",
    "subjects = ratio_naive_mr.columns.to_list()\n",
    "ratio_naive = ratio_naive_mr.index.to_list()\n",
    "\n",
    "array_pvalues_naive_concat = np.array(pvalues_naive_mr)\n",
    "\n",
    "array_ratio_naive = np.array(ratio_naive_mr)\n",
    "\n",
    "fig, ax = plt.subplots()\n",
    "im = ax.imshow(array_ratio_naive)\n",
    "\n",
    "# We want to show all ticks...\n",
    "ax.set_xticks(np.arange(len(subjects)))\n",
    "ax.set_yticks(np.arange(len(ratio_naive)))\n",
    "\n",
    "# ... and label them with the respective list entries\n",
    "ax.set_xticklabels(subjects)\n",
    "ax.set_yticklabels(ratio_naive)\n",
    "\n",
    "# Rotate the tick labels and set their alignment.\n",
    "plt.setp(ax.get_xticklabels(), rotation=0, ha=\"right\", rotation_mode=\"anchor\")\n",
    "\n",
    "# Loop over data dimensions and create text annotations.\n",
    "for i in range(len(ratio_naive)):\n",
    "    for j in range(len(subjects)):\n",
    "        if str(array_pvalues_naive_concat[i, j]) == 'nan':\n",
    "            text = ax.text(j, i, '', ha=\"center\", va=\"center\", color=\"w\")\n",
    "        else:\n",
    "            text = ax.text(j, i, '*', ha=\"center\", va=\"center\", color=\"k\")\n",
    "\n",
    "ax.set_title(\"Ratio meditation/baseline for the fifteen naive metrics \\n *pvalue < 0.0033\")\n",
    "\n",
    "plt.set_cmap('RdBu')\n",
    "\n",
    "cbar = ax.figure.colorbar(im, ax=ax)\n",
    "cbar.ax.set_ylabel('Log scale', rotation=-90, va=\"bottom\")\n",
    "\n",
    "fig.tight_layout()\n",
    "plt.show()"
   ]
  },
  {
   "cell_type": "markdown",
   "metadata": {},
   "source": [
    "### Mean spectral band powers with bar errors, baseline vs. meditation"
   ]
  },
  {
   "cell_type": "code",
   "execution_count": 416,
   "metadata": {},
   "outputs": [],
   "source": [
    "# bandpowers Adélie\n",
    "plots.plot_bandpower_bar_std_concurrent(merged_bandpower_adelie, bands_to_plot=cfg['bands'],\n",
    "                                        title=\"Mean spectral band powers with bar errors, baseline vs. meditation for Adélie\")"
   ]
  },
  {
   "cell_type": "code",
   "execution_count": 207,
   "metadata": {},
   "outputs": [],
   "source": [
    "# bandpowers Sam\n",
    "plots.plot_bandpower_bar_std_concurrent(merged_bandpower_sam, bands_to_plot=cfg['bands'],\n",
    "                                        title=\"Mean spectral band powers with bar errors, baseline vs. meditation for Sam\")"
   ]
  },
  {
   "cell_type": "code",
   "execution_count": 211,
   "metadata": {},
   "outputs": [],
   "source": [
    "# bandpowers Sam2\n",
    "plots.plot_bandpower_bar_std_concurrent(merged_bandpower_sam2, bands_to_plot=cfg['bands'],\n",
    "                                        title=\"Mean spectral band powers with bar errors, baseline vs. meditation for Sam2\")"
   ]
  },
  {
   "cell_type": "code",
   "execution_count": 212,
   "metadata": {},
   "outputs": [],
   "source": [
    "# bandpowers Sam3\n",
    "plots.plot_bandpower_bar_std_concurrent(merged_bandpower_sam3, bands_to_plot=cfg['bands'],\n",
    "                                        title=\"Mean spectral band powers with bar errors, baseline vs. meditation for Sam3\")"
   ]
  },
  {
   "cell_type": "code",
   "execution_count": 213,
   "metadata": {},
   "outputs": [],
   "source": [
    "# bandpowers Sam4\n",
    "plots.plot_bandpower_bar_std_concurrent(merged_bandpower_sam4, bands_to_plot=cfg['bands'],\n",
    "                                        title=\"Mean spectral band powers with bar errors, baseline vs. meditation for Sam4\")"
   ]
  },
  {
   "cell_type": "code",
   "execution_count": 214,
   "metadata": {},
   "outputs": [],
   "source": [
    "# bandpowers Raphaël\n",
    "plots.plot_bandpower_bar_std_concurrent(merged_bandpower_rap, bands_to_plot=cfg['bands'],\n",
    "                                        title=\"Mean spectral band powers with bar errors, baseline vs. meditation for Raphaël\")"
   ]
  },
  {
   "cell_type": "code",
   "execution_count": 215,
   "metadata": {},
   "outputs": [],
   "source": [
    "# bandpowers Raphaël2\n",
    "plots.plot_bandpower_bar_std_concurrent(merged_bandpower_rap2, bands_to_plot=cfg['bands'],\n",
    "                                        title=\"Mean spectral band powers with bar errors, baseline vs. meditation for Raphaël2\")"
   ]
  },
  {
   "cell_type": "code",
   "execution_count": 236,
   "metadata": {},
   "outputs": [],
   "source": [
    "# bandpowers Raphaël3\n",
    "plots.plot_bandpower_bar_std_concurrent(merged_bandpower_rap3, bands_to_plot=cfg['bands'],\n",
    "                                        title=\"Mean spectral band powers with bar errors, baseline vs. meditation for Raphaël3\")"
   ]
  },
  {
   "cell_type": "code",
   "execution_count": 237,
   "metadata": {},
   "outputs": [],
   "source": [
    "# bandpowers Arnaud\n",
    "plots.plot_bandpower_bar_std_concurrent(merged_bandpower_arn, bands_to_plot=cfg['bands'],\n",
    "                                        title=\"Mean spectral band powers with bar errors, baseline vs. meditation for Arnaud\")"
   ]
  },
  {
   "cell_type": "markdown",
   "metadata": {},
   "source": [
    "### Mean spectral band power ratios with bar errors, baseline vs. meditation"
   ]
  },
  {
   "cell_type": "code",
   "execution_count": 417,
   "metadata": {},
   "outputs": [],
   "source": [
    "# bandpower ratios Adélie\n",
    "plots.plot_bandpower_bar_std_concurrent(merged_bandpower_adelie, bands_to_plot=ratioList, \n",
    "                                        title=\"Mean spectral band power ratios with bar errors, baseline vs. meditation for Adélie\")"
   ]
  },
  {
   "cell_type": "code",
   "execution_count": 418,
   "metadata": {},
   "outputs": [],
   "source": [
    "# bandpower ratios Sam\n",
    "plots.plot_bandpower_bar_std_concurrent(merged_bandpower_sam, bands_to_plot=ratioList, \n",
    "                                        title=\"Mean spectral band power ratios with bar errors, baseline vs. meditation for Sam\")"
   ]
  },
  {
   "cell_type": "code",
   "execution_count": 109,
   "metadata": {},
   "outputs": [],
   "source": [
    "# bandpower ratios Sam2\n",
    "plots.plot_bandpower_bar_std_concurrent(merged_bandpower_sam2, bands_to_plot=ratioList, \n",
    "                                        title=\"Mean spectral band power ratios with bar errors, baseline vs. meditation for Sam2\")"
   ]
  },
  {
   "cell_type": "code",
   "execution_count": 110,
   "metadata": {},
   "outputs": [],
   "source": [
    "# bandpower ratios Sam3\n",
    "plots.plot_bandpower_bar_std_concurrent(merged_bandpower_sam3, bands_to_plot=ratioList, \n",
    "                                        title=\"Mean spectral band power ratios with bar errors, baseline vs. meditation for Sam3\")"
   ]
  },
  {
   "cell_type": "code",
   "execution_count": 111,
   "metadata": {},
   "outputs": [],
   "source": [
    "# bandpower ratios Sam4\n",
    "plots.plot_bandpower_bar_std_concurrent(merged_bandpower_sam4, bands_to_plot=ratioList, \n",
    "                                        title=\"Mean spectral band power ratios with bar errors, baseline vs. meditation for Sam4\")"
   ]
  },
  {
   "cell_type": "code",
   "execution_count": 112,
   "metadata": {},
   "outputs": [],
   "source": [
    "# bandpower ratios Raphaël\n",
    "plots.plot_bandpower_bar_std_concurrent(merged_bandpower_rap, bands_to_plot=ratioList, \n",
    "                                        title=\"Mean spectral band power ratios with bar errors, baseline vs. meditation for Raphaël\")"
   ]
  },
  {
   "cell_type": "code",
   "execution_count": 113,
   "metadata": {},
   "outputs": [],
   "source": [
    "# bandpower ratios Raphaël2\n",
    "plots.plot_bandpower_bar_std_concurrent(merged_bandpower_rap2, bands_to_plot=ratioList, \n",
    "                                        title=\"Mean spectral band power ratios with bar errors, baseline vs. meditation for Raphaël2\")"
   ]
  },
  {
   "cell_type": "code",
   "execution_count": 114,
   "metadata": {},
   "outputs": [],
   "source": [
    "# bandpower ratios Raphaël3\n",
    "plots.plot_bandpower_bar_std_concurrent(merged_bandpower_rap3, bands_to_plot=ratioList, \n",
    "                                        title=\"Mean spectral band power ratios with bar errors, baseline vs. meditation for Raphaël3\")"
   ]
  },
  {
   "cell_type": "code",
   "execution_count": 115,
   "metadata": {},
   "outputs": [],
   "source": [
    "# bandpower ratios Arnaud\n",
    "plots.plot_bandpower_bar_std_concurrent(merged_bandpower_arn, bands_to_plot=ratioList, \n",
    "                                        title=\"Mean spectral band power ratios with bar errors, baseline vs. meditation for Arnaud\")"
   ]
  },
  {
   "cell_type": "markdown",
   "metadata": {},
   "source": [
    "### Statistical analysis on naive metrics: FWER corrected t-test"
   ]
  },
  {
   "cell_type": "code",
   "execution_count": 311,
   "metadata": {},
   "outputs": [],
   "source": [
    "# Adélie's ttest \n",
    "from scipy.stats import ttest_ind\n",
    "merged_bandpower_adelie['AVG'] = merged_bandpower_adelie.mean(axis=1)\n",
    "\n",
    "ttest_adelie = merged_bandpower_adelie.swaplevel(0,1) \\\n",
    ".groupby(level=0).agg(\n",
    "    lambda x: ttest_ind(x.xs('baseline', level=1), x.xs('meditation', level=1), equal_var=False, nan_policy='omit')\n",
    ")"
   ]
  },
  {
   "cell_type": "code",
   "execution_count": 312,
   "metadata": {},
   "outputs": [
    {
     "name": "stdout",
     "output_type": "stream",
     "text": [
      "The FWER corrected pvalue is 0.0033333333333333335\n"
     ]
    },
    {
     "data": {
      "text/plain": [
       "alpha           NaN\n",
       "alpha / delta   NaN\n",
       "alpha / theta   NaN\n",
       "beta            NaN\n",
       "beta / alpha    NaN\n",
       "beta / delta    NaN\n",
       "beta / theta    NaN\n",
       "delta           NaN\n",
       "gamma           NaN\n",
       "gamma / alpha   NaN\n",
       "gamma / beta    NaN\n",
       "gamma / delta   NaN\n",
       "gamma / theta   NaN\n",
       "theta           NaN\n",
       "theta / delta   NaN\n",
       "Name: AVG, dtype: float64"
      ]
     },
     "execution_count": 312,
     "metadata": {},
     "output_type": "execute_result"
    }
   ],
   "source": [
    "# apply FWER correction\n",
    "FWER_threshold = 0.05 / 15\n",
    "p_values_naive_metrics_adelie = ttest_adelie.applymap(lambda x: x[1])\n",
    "print('The FWER corrected pvalue is', FWER_threshold)\n",
    "\n",
    "# download to csv\n",
    "p_values_naive_metrics_adelie[p_values_naive_metrics_adelie < FWER_threshold].to_csv('p_values_naive_metrics_adelie.csv')\n",
    "p_values_naive_metrics_adelie[p_values_naive_metrics_adelie < FWER_threshold]['AVG']"
   ]
  },
  {
   "cell_type": "code",
   "execution_count": 313,
   "metadata": {},
   "outputs": [],
   "source": [
    "# Sam's ttest\n",
    "from scipy.stats import ttest_ind\n",
    "merged_bandpower_sam['AVG'] = merged_bandpower_sam.mean(axis=1)\n",
    "\n",
    "ttest_sam = merged_bandpower_sam.swaplevel(0,1) \\\n",
    ".groupby(level=0).agg(\n",
    "    lambda x: ttest_ind(x.xs('baseline', level=1), x.xs('meditation', level=1), equal_var=False, nan_policy='omit')\n",
    ")"
   ]
  },
  {
   "cell_type": "code",
   "execution_count": 314,
   "metadata": {},
   "outputs": [
    {
     "name": "stdout",
     "output_type": "stream",
     "text": [
      "The FWER corrected pvalue is 0.0033333333333333335\n"
     ]
    },
    {
     "data": {
      "text/plain": [
       "alpha                     NaN\n",
       "alpha / delta             NaN\n",
       "alpha / theta             NaN\n",
       "beta                      NaN\n",
       "beta / alpha              NaN\n",
       "beta / delta              NaN\n",
       "beta / theta              NaN\n",
       "delta                     NaN\n",
       "gamma                     NaN\n",
       "gamma / alpha             NaN\n",
       "gamma / beta              NaN\n",
       "gamma / delta             NaN\n",
       "gamma / theta             NaN\n",
       "theta            2.839940e-04\n",
       "theta / delta    5.996092e-09\n",
       "Name: AVG, dtype: float64"
      ]
     },
     "execution_count": 314,
     "metadata": {},
     "output_type": "execute_result"
    }
   ],
   "source": [
    "# apply FWER correction\n",
    "FWER_threshold = 0.05 / 15\n",
    "p_values_naive_metrics_sam = ttest_sam.applymap(lambda x: x[1])\n",
    "print('The FWER corrected pvalue is', FWER_threshold)\n",
    "\n",
    "# download to csv\n",
    "p_values_naive_metrics_sam[p_values_naive_metrics_sam < FWER_threshold].to_csv('p_values_naive_metrics_sam.csv')\n",
    "p_values_naive_metrics_sam[p_values_naive_metrics_sam < FWER_threshold]['AVG']"
   ]
  },
  {
   "cell_type": "code",
   "execution_count": 315,
   "metadata": {},
   "outputs": [],
   "source": [
    "# Sam2's ttest\n",
    "from scipy.stats import ttest_ind\n",
    "merged_bandpower_sam2['AVG'] = merged_bandpower_sam2.mean(axis=1)\n",
    "\n",
    "ttest_sam2 = merged_bandpower_sam2.swaplevel(0,1) \\\n",
    ".groupby(level=0).agg(\n",
    "    lambda x: ttest_ind(x.xs('baseline', level=1), x.xs('meditation', level=1), equal_var=False, nan_policy='omit')\n",
    ")"
   ]
  },
  {
   "cell_type": "code",
   "execution_count": 316,
   "metadata": {},
   "outputs": [
    {
     "name": "stdout",
     "output_type": "stream",
     "text": [
      "The FWER corrected pvalue is 0.0033333333333333335\n"
     ]
    },
    {
     "data": {
      "text/plain": [
       "alpha            0.000005\n",
       "alpha / delta         NaN\n",
       "alpha / theta    0.000159\n",
       "beta             0.000132\n",
       "beta / alpha          NaN\n",
       "beta / delta          NaN\n",
       "beta / theta     0.000027\n",
       "delta            0.001670\n",
       "gamma            0.000387\n",
       "gamma / alpha         NaN\n",
       "gamma / beta          NaN\n",
       "gamma / delta         NaN\n",
       "gamma / theta         NaN\n",
       "theta                 NaN\n",
       "theta / delta         NaN\n",
       "Name: AVG, dtype: float64"
      ]
     },
     "execution_count": 316,
     "metadata": {},
     "output_type": "execute_result"
    }
   ],
   "source": [
    "# apply FWER correction\n",
    "FWER_threshold = 0.05 / 15\n",
    "p_values_naive_metrics_sam2 = ttest_sam2.applymap(lambda x: x[1])\n",
    "print('The FWER corrected pvalue is', FWER_threshold)\n",
    "\n",
    "# download to csv\n",
    "p_values_naive_metrics_sam2[p_values_naive_metrics_sam2 < FWER_threshold].to_csv('p_values_naive_metrics_sam2.csv')\n",
    "p_values_naive_metrics_sam2[p_values_naive_metrics_sam2 < FWER_threshold]['AVG']"
   ]
  },
  {
   "cell_type": "code",
   "execution_count": 317,
   "metadata": {},
   "outputs": [],
   "source": [
    "# Sam3's ttest\n",
    "from scipy.stats import ttest_ind\n",
    "merged_bandpower_sam3['AVG'] = merged_bandpower_sam3.mean(axis=1)\n",
    "\n",
    "ttest_sam3 = merged_bandpower_sam3.swaplevel(0,1) \\\n",
    ".groupby(level=0).agg(\n",
    "    lambda x: ttest_ind(x.xs('baseline', level=1), x.xs('meditation', level=1), equal_var=False, nan_policy='omit')\n",
    ")"
   ]
  },
  {
   "cell_type": "code",
   "execution_count": 318,
   "metadata": {},
   "outputs": [
    {
     "name": "stdout",
     "output_type": "stream",
     "text": [
      "The FWER corrected pvalue is 0.0033333333333333335\n"
     ]
    },
    {
     "data": {
      "text/plain": [
       "alpha                     NaN\n",
       "alpha / delta    1.401987e-04\n",
       "alpha / theta    2.887665e-04\n",
       "beta                      NaN\n",
       "beta / alpha     1.398028e-07\n",
       "beta / delta              NaN\n",
       "beta / theta              NaN\n",
       "delta                     NaN\n",
       "gamma            2.838601e-03\n",
       "gamma / alpha    2.865550e-10\n",
       "gamma / beta     1.104721e-03\n",
       "gamma / delta    1.344848e-03\n",
       "gamma / theta             NaN\n",
       "theta                     NaN\n",
       "theta / delta             NaN\n",
       "Name: AVG, dtype: float64"
      ]
     },
     "execution_count": 318,
     "metadata": {},
     "output_type": "execute_result"
    }
   ],
   "source": [
    "# apply FWER correction\n",
    "FWER_threshold = 0.05 / 15\n",
    "p_values_naive_metrics_sam3 = ttest_sam3.applymap(lambda x: x[1])\n",
    "print('The FWER corrected pvalue is', FWER_threshold)\n",
    "\n",
    "# download to csv\n",
    "p_values_naive_metrics_sam3[p_values_naive_metrics_sam3 < FWER_threshold].to_csv('p_values_naive_metrics_sam3.csv')\n",
    "p_values_naive_metrics_sam3[p_values_naive_metrics_sam3 < FWER_threshold]['AVG']"
   ]
  },
  {
   "cell_type": "code",
   "execution_count": 319,
   "metadata": {},
   "outputs": [],
   "source": [
    "# Sam4's ttest\n",
    "from scipy.stats import ttest_ind\n",
    "merged_bandpower_sam4['AVG'] = merged_bandpower_sam4.mean(axis=1)\n",
    "\n",
    "ttest_sam4 = merged_bandpower_sam4.swaplevel(0,1) \\\n",
    ".groupby(level=0).agg(\n",
    "    lambda x: ttest_ind(x.xs('baseline', level=1), x.xs('meditation', level=1), equal_var=False, nan_policy='omit')\n",
    ")"
   ]
  },
  {
   "cell_type": "code",
   "execution_count": 320,
   "metadata": {},
   "outputs": [
    {
     "name": "stdout",
     "output_type": "stream",
     "text": [
      "The FWER corrected pvalue is 0.0033333333333333335\n"
     ]
    },
    {
     "data": {
      "text/plain": [
       "alpha            5.834768e-07\n",
       "alpha / delta             NaN\n",
       "alpha / theta             NaN\n",
       "beta             7.246397e-06\n",
       "beta / alpha              NaN\n",
       "beta / delta     1.374868e-09\n",
       "beta / theta     9.111590e-07\n",
       "delta                     NaN\n",
       "gamma            3.151363e-08\n",
       "gamma / alpha    3.011160e-03\n",
       "gamma / beta     9.183110e-06\n",
       "gamma / delta    3.127121e-15\n",
       "gamma / theta    8.731187e-08\n",
       "theta                     NaN\n",
       "theta / delta             NaN\n",
       "Name: AVG, dtype: float64"
      ]
     },
     "execution_count": 320,
     "metadata": {},
     "output_type": "execute_result"
    }
   ],
   "source": [
    "# apply FWER correction\n",
    "FWER_threshold = 0.05 / 15\n",
    "p_values_naive_metrics_sam4 = ttest_sam4.applymap(lambda x: x[1])\n",
    "print('The FWER corrected pvalue is', FWER_threshold)\n",
    "\n",
    "# download to csv\n",
    "p_values_naive_metrics_sam4[p_values_naive_metrics_sam4 < FWER_threshold].to_csv('p_values_naive_metrics_sam4.csv')\n",
    "p_values_naive_metrics_sam4[p_values_naive_metrics_sam4 < FWER_threshold]['AVG']"
   ]
  },
  {
   "cell_type": "code",
   "execution_count": 321,
   "metadata": {},
   "outputs": [],
   "source": [
    "# Raphaël's ttest \n",
    "from scipy.stats import ttest_ind\n",
    "merged_bandpower_rap['AVG'] = merged_bandpower_rap.mean(axis=1)\n",
    "\n",
    "ttest_rap = merged_bandpower_rap.swaplevel(0,1) \\\n",
    ".groupby(level=0).agg(\n",
    "    lambda x: ttest_ind(x.xs('baseline', level=1), x.xs('meditation', level=1), equal_var=False, nan_policy='omit')\n",
    ")"
   ]
  },
  {
   "cell_type": "code",
   "execution_count": 322,
   "metadata": {},
   "outputs": [
    {
     "name": "stdout",
     "output_type": "stream",
     "text": [
      "The FWER corrected pvalue is 0.0033333333333333335\n"
     ]
    },
    {
     "data": {
      "text/plain": [
       "alpha            3.429460e-09\n",
       "alpha / delta             NaN\n",
       "alpha / theta             NaN\n",
       "beta             1.023977e-12\n",
       "beta / alpha              NaN\n",
       "beta / delta     2.936085e-07\n",
       "beta / theta     5.379006e-05\n",
       "delta            4.770767e-07\n",
       "gamma            1.644085e-12\n",
       "gamma / alpha             NaN\n",
       "gamma / beta              NaN\n",
       "gamma / delta    2.735116e-05\n",
       "gamma / theta             NaN\n",
       "theta            2.413821e-11\n",
       "theta / delta    4.023744e-04\n",
       "Name: AVG, dtype: float64"
      ]
     },
     "execution_count": 322,
     "metadata": {},
     "output_type": "execute_result"
    }
   ],
   "source": [
    "# apply FWER correction\n",
    "FWER_threshold = 0.05 / 15\n",
    "p_values_naive_metrics_rap = ttest_rap.applymap(lambda x: x[1])\n",
    "print('The FWER corrected pvalue is', FWER_threshold)\n",
    "\n",
    "# download to csv\n",
    "p_values_naive_metrics_rap[p_values_naive_metrics_rap < FWER_threshold].to_csv('p_values_naive_metrics_rap.csv')\n",
    "p_values_naive_metrics_rap[p_values_naive_metrics_rap < FWER_threshold]['AVG']"
   ]
  },
  {
   "cell_type": "code",
   "execution_count": 323,
   "metadata": {},
   "outputs": [],
   "source": [
    "# Raphaël2's ttest \n",
    "from scipy.stats import ttest_ind\n",
    "merged_bandpower_rap2['AVG'] = merged_bandpower_rap2.mean(axis=1)\n",
    "\n",
    "ttest_rap2 = merged_bandpower_rap2.swaplevel(0,1) \\\n",
    ".groupby(level=0).agg(\n",
    "    lambda x: ttest_ind(x.xs('baseline', level=1), x.xs('meditation', level=1), equal_var=False, nan_policy='omit')\n",
    ")"
   ]
  },
  {
   "cell_type": "code",
   "execution_count": 324,
   "metadata": {},
   "outputs": [
    {
     "name": "stdout",
     "output_type": "stream",
     "text": [
      "The FWER corrected pvalue is 0.0033333333333333335\n"
     ]
    },
    {
     "data": {
      "text/plain": [
       "alpha            1.561900e-11\n",
       "alpha / delta    1.310326e-07\n",
       "alpha / theta    2.690482e-06\n",
       "beta             3.221573e-06\n",
       "beta / alpha     7.500595e-04\n",
       "beta / delta     1.818490e-03\n",
       "beta / theta              NaN\n",
       "delta                     NaN\n",
       "gamma                     NaN\n",
       "gamma / alpha    9.307801e-04\n",
       "gamma / beta     3.819839e-06\n",
       "gamma / delta             NaN\n",
       "gamma / theta    1.554180e-03\n",
       "theta            1.868443e-06\n",
       "theta / delta    3.507362e-04\n",
       "Name: AVG, dtype: float64"
      ]
     },
     "execution_count": 324,
     "metadata": {},
     "output_type": "execute_result"
    }
   ],
   "source": [
    "# apply FWER correction\n",
    "FWER_threshold = 0.05 / 15\n",
    "p_values_naive_metrics_rap2 = ttest_rap2.applymap(lambda x: x[1])\n",
    "print('The FWER corrected pvalue is', FWER_threshold)\n",
    "\n",
    "# download to csv\n",
    "p_values_naive_metrics_rap2[p_values_naive_metrics_rap2 < FWER_threshold].to_csv('p_values_naive_metrics_rap2.csv')\n",
    "p_values_naive_metrics_rap2[p_values_naive_metrics_rap2 < FWER_threshold]['AVG']"
   ]
  },
  {
   "cell_type": "code",
   "execution_count": 325,
   "metadata": {},
   "outputs": [],
   "source": [
    "# Raphaël3's ttest \n",
    "from scipy.stats import ttest_ind\n",
    "merged_bandpower_rap3['AVG'] = merged_bandpower_rap3.mean(axis=1)\n",
    "\n",
    "ttest_rap3 = merged_bandpower_rap3.swaplevel(0,1) \\\n",
    ".groupby(level=0).agg(\n",
    "    lambda x: ttest_ind(x.xs('baseline', level=1), x.xs('meditation', level=1), equal_var=False, nan_policy='omit')\n",
    ")"
   ]
  },
  {
   "cell_type": "code",
   "execution_count": 326,
   "metadata": {},
   "outputs": [
    {
     "name": "stdout",
     "output_type": "stream",
     "text": [
      "The FWER corrected pvalue is 0.0033333333333333335\n"
     ]
    },
    {
     "data": {
      "text/plain": [
       "alpha            0.000992\n",
       "alpha / delta         NaN\n",
       "alpha / theta         NaN\n",
       "beta             0.000065\n",
       "beta / alpha          NaN\n",
       "beta / delta     0.001937\n",
       "beta / theta          NaN\n",
       "delta            0.000872\n",
       "gamma                 NaN\n",
       "gamma / alpha         NaN\n",
       "gamma / beta     0.001615\n",
       "gamma / delta         NaN\n",
       "gamma / theta         NaN\n",
       "theta            0.000501\n",
       "theta / delta         NaN\n",
       "Name: AVG, dtype: float64"
      ]
     },
     "execution_count": 326,
     "metadata": {},
     "output_type": "execute_result"
    }
   ],
   "source": [
    "# apply FWER correction\n",
    "FWER_threshold = 0.05 / 15\n",
    "p_values_naive_metrics_rap3 = ttest_rap3.applymap(lambda x: x[1])\n",
    "print('The FWER corrected pvalue is', FWER_threshold)\n",
    "\n",
    "# download to csv\n",
    "p_values_naive_metrics_rap3[p_values_naive_metrics_rap3 < FWER_threshold].to_csv('p_values_naive_metrics_rap3.csv')\n",
    "p_values_naive_metrics_rap3[p_values_naive_metrics_rap3 < FWER_threshold]['AVG']"
   ]
  },
  {
   "cell_type": "code",
   "execution_count": 327,
   "metadata": {},
   "outputs": [],
   "source": [
    "# Arnaud's ttest \n",
    "from scipy.stats import ttest_ind\n",
    "merged_bandpower_arn['AVG'] = merged_bandpower_arn.mean(axis=1)\n",
    "\n",
    "ttest_arn = merged_bandpower_arn.swaplevel(0,1) \\\n",
    ".groupby(level=0).agg(\n",
    "    lambda x: ttest_ind(x.xs('baseline', level=1), x.xs('meditation', level=1), equal_var=False, nan_policy='omit')\n",
    ")"
   ]
  },
  {
   "cell_type": "code",
   "execution_count": 328,
   "metadata": {},
   "outputs": [
    {
     "name": "stdout",
     "output_type": "stream",
     "text": [
      "The FWER corrected pvalue is 0.0033333333333333335\n"
     ]
    },
    {
     "data": {
      "text/plain": [
       "alpha                 NaN\n",
       "alpha / delta         NaN\n",
       "alpha / theta         NaN\n",
       "beta                  NaN\n",
       "beta / alpha          NaN\n",
       "beta / delta          NaN\n",
       "beta / theta     0.000039\n",
       "delta                 NaN\n",
       "gamma                 NaN\n",
       "gamma / alpha         NaN\n",
       "gamma / beta          NaN\n",
       "gamma / delta         NaN\n",
       "gamma / theta    0.001939\n",
       "theta                 NaN\n",
       "theta / delta         NaN\n",
       "Name: AVG, dtype: float64"
      ]
     },
     "execution_count": 328,
     "metadata": {},
     "output_type": "execute_result"
    }
   ],
   "source": [
    "# apply FWER correction\n",
    "FWER_threshold = 0.05 / 15\n",
    "p_values_naive_metrics_arn = ttest_arn.applymap(lambda x: x[1])\n",
    "print('The FWER corrected pvalue is', FWER_threshold)\n",
    "\n",
    "# download to csv\n",
    "p_values_naive_metrics_arn[p_values_naive_metrics_arn < FWER_threshold].to_csv('p_values_naive_metrics_arn.csv')\n",
    "p_values_naive_metrics_arn[p_values_naive_metrics_arn < FWER_threshold]['AVG']"
   ]
  },
  {
   "cell_type": "code",
   "execution_count": 5,
   "metadata": {},
   "outputs": [
    {
     "name": "stdout",
     "output_type": "stream",
     "text": [
      "The FWER corrected pvalue is 0.0033333333333333335\n"
     ]
    },
    {
     "data": {
      "text/plain": [
       "alpha                     NaN\n",
       "alpha / delta             NaN\n",
       "alpha / theta             NaN\n",
       "beta             2.615632e-13\n",
       "beta / alpha     4.704498e-16\n",
       "beta / delta     7.697590e-10\n",
       "beta / theta     7.402662e-17\n",
       "delta                     NaN\n",
       "gamma            2.649800e-19\n",
       "gamma / alpha    1.390093e-17\n",
       "gamma / beta     1.181846e-27\n",
       "gamma / delta    5.058679e-11\n",
       "gamma / theta    2.539752e-13\n",
       "theta            2.368427e-14\n",
       "theta / delta    4.936117e-09\n",
       "Name: AVG, dtype: float64"
      ]
     },
     "execution_count": 5,
     "metadata": {},
     "output_type": "execute_result"
    }
   ],
   "source": [
    "# MR's ttest \n",
    "from scipy.stats import ttest_ind\n",
    "merged_bandpower_mr['AVG'] = merged_bandpower_mr.mean(axis=1)\n",
    "\n",
    "ttest_mr = merged_bandpower_mr.swaplevel(0,1) \\\n",
    ".groupby(level=0).agg(\n",
    "    lambda x: ttest_ind(x.xs('baseline', level=1), x.xs('meditation', level=1), equal_var=False, nan_policy='omit')\n",
    ")\n",
    "\n",
    "# apply FWER correction\n",
    "FWER_threshold = 0.05 / 15\n",
    "p_values_naive_metrics_mr = ttest_mr.applymap(lambda x: x[1])\n",
    "print('The FWER corrected pvalue is', FWER_threshold)\n",
    "\n",
    "# download to csv\n",
    "p_values_naive_metrics_mr[p_values_naive_metrics_mr < FWER_threshold].to_csv('p_values_naive_metrics_mr.csv')\n",
    "p_values_naive_metrics_mr[p_values_naive_metrics_mr < FWER_threshold]['AVG']"
   ]
  },
  {
   "cell_type": "markdown",
   "metadata": {},
   "source": [
    "### Specific band's mean spectral bandpower overtime (epochs)"
   ]
  },
  {
   "cell_type": "code",
   "execution_count": 63,
   "metadata": {},
   "outputs": [],
   "source": [
    "# merge Adélie\n",
    "pre_merge_meditation = meditation_bandpowers_adelie.copy()\n",
    "pre_merge_baseline = baseline_bandpowers_adelie.copy()\n",
    "\n",
    "pre_merge_meditation.index = pre_merge_meditation.index.set_levels(pd.RangeIndex(len(pre_merge_meditation.index)), level=1)\n",
    "pre_merge_baseline.index = pre_merge_baseline.index.set_levels(pd.RangeIndex(len(pre_merge_baseline.index)), level=1)\n",
    "\n",
    "merged_adelie_aligned = pd.concat([pre_merge_baseline, pre_merge_meditation], keys = ['baseline', 'meditation'])"
   ]
  },
  {
   "cell_type": "code",
   "execution_count": 73,
   "metadata": {},
   "outputs": [],
   "source": [
    "# theta band\n",
    "plots.plot_bandpower_line(merged_adelie_aligned.mean(axis=1).unstack(0).xs('theta', level=0),\n",
    "                         title='Mean spectral power of theta band overtime for Adélie')"
   ]
  },
  {
   "cell_type": "code",
   "execution_count": 304,
   "metadata": {},
   "outputs": [],
   "source": [
    "# alpha band\n",
    "plots.plot_bandpower_line(merged_adelie_aligned.mean(axis=1).unstack(0).xs('alpha', level=0),\n",
    "                         title='Mean spectral power of alpha band overtime for Adélie')"
   ]
  },
  {
   "cell_type": "code",
   "execution_count": 305,
   "metadata": {},
   "outputs": [],
   "source": [
    "# gamma band\n",
    "plots.plot_bandpower_line(merged_adelie_aligned.mean(axis=1).unstack(0).xs('gamma', level=0),\n",
    "                         title='Mean spectral power of gamma band overtime for Adélie')"
   ]
  },
  {
   "cell_type": "code",
   "execution_count": 307,
   "metadata": {},
   "outputs": [],
   "source": [
    "# delta band\n",
    "plots.plot_bandpower_line(merged_adelie_aligned.mean(axis=1).unstack(0).xs('delta', level=0),\n",
    "                         title='Mean spectral power of delta band overtime for Adélie')"
   ]
  },
  {
   "cell_type": "code",
   "execution_count": 62,
   "metadata": {},
   "outputs": [],
   "source": [
    "# merge Sam\n",
    "pre_merge_meditation = meditation_bandpowers_sam.copy()\n",
    "pre_merge_baseline = baseline_bandpowers_sam.copy()\n",
    "\n",
    "pre_merge_meditation.index = pre_merge_meditation.index.set_levels(pd.RangeIndex(len(pre_merge_meditation.index)), level=1)\n",
    "pre_merge_baseline.index = pre_merge_baseline.index.set_levels(pd.RangeIndex(len(pre_merge_baseline.index)), level=1)\n",
    "\n",
    "merged_sam_aligned = pd.concat([pre_merge_baseline, pre_merge_meditation], keys = ['baseline', 'meditation'])"
   ]
  },
  {
   "cell_type": "code",
   "execution_count": 290,
   "metadata": {},
   "outputs": [],
   "source": [
    "# theta band\n",
    "plots.plot_bandpower_line(merged_sam_aligned.mean(axis=1).unstack(0).xs('theta', level=0),\n",
    "                         title='Mean spectral power of theta band overtime for Sam')"
   ]
  },
  {
   "cell_type": "code",
   "execution_count": null,
   "metadata": {},
   "outputs": [],
   "source": [
    "# alpha band\n",
    "plots.plot_bandpower_line(merged_sam_aligned.mean(axis=1).unstack(0).xs('alpha', level=0))"
   ]
  },
  {
   "cell_type": "code",
   "execution_count": null,
   "metadata": {},
   "outputs": [],
   "source": [
    "# gamma band\n",
    "plots.plot_bandpower_line(merged_sam_aligned.mean(axis=1).unstack(0).xs('gamma', level=0))"
   ]
  },
  {
   "cell_type": "code",
   "execution_count": 68,
   "metadata": {},
   "outputs": [
    {
     "data": {
      "image/png": "[encoded data removed]",
      "text/plain": [
       "<Figure size 432x288 with 1 Axes>"
      ]
     },
     "metadata": {
      "needs_background": "light"
     },
     "output_type": "display_data"
    }
   ],
   "source": [
    "# delta band\n",
    "plots.plot_bandpower_line(merged_sam_aligned.mean(axis=1).unstack(0).xs('delta', level=0))"
   ]
  },
  {
   "cell_type": "code",
   "execution_count": 71,
   "metadata": {},
   "outputs": [],
   "source": [
    "# merge Sam2\n",
    "pre_merge_meditation = meditation_bandpowers_sam2.copy()\n",
    "pre_merge_baseline = baseline_bandpowers_sam2.copy()\n",
    "\n",
    "pre_merge_meditation.index = pre_merge_meditation.index.set_levels(pd.RangeIndex(len(pre_merge_meditation.index)), level=1)\n",
    "pre_merge_baseline.index = pre_merge_baseline.index.set_levels(pd.RangeIndex(len(pre_merge_baseline.index)), level=1)\n",
    "\n",
    "merged_sam2_aligned = pd.concat([pre_merge_baseline, pre_merge_meditation], keys = ['baseline', 'meditation'])"
   ]
  },
  {
   "cell_type": "code",
   "execution_count": 60,
   "metadata": {},
   "outputs": [],
   "source": [
    "# merge Sam3\n",
    "pre_merge_meditation = meditation_bandpowers_sam3.copy()\n",
    "pre_merge_baseline = baseline_bandpowers_sam3.copy()\n",
    "\n",
    "pre_merge_meditation.index = pre_merge_meditation.index.set_levels(pd.RangeIndex(len(pre_merge_meditation.index)), level=1)\n",
    "pre_merge_baseline.index = pre_merge_baseline.index.set_levels(pd.RangeIndex(len(pre_merge_baseline.index)), level=1)\n",
    "\n",
    "merged_sam3_aligned = pd.concat([pre_merge_baseline, pre_merge_meditation], keys = ['baseline', 'meditation'])"
   ]
  },
  {
   "cell_type": "code",
   "execution_count": 58,
   "metadata": {},
   "outputs": [],
   "source": [
    "# merge Sam4\n",
    "pre_merge_meditation = meditation_bandpowers_sam4.copy()\n",
    "pre_merge_baseline = baseline_bandpowers_sam4.copy()\n",
    "\n",
    "pre_merge_meditation.index = pre_merge_meditation.index.set_levels(pd.RangeIndex(len(pre_merge_meditation.index)), level=1)\n",
    "pre_merge_baseline.index = pre_merge_baseline.index.set_levels(pd.RangeIndex(len(pre_merge_baseline.index)), level=1)\n",
    "\n",
    "merged_sam4_aligned = pd.concat([pre_merge_baseline, pre_merge_meditation], keys = ['baseline', 'meditation'])"
   ]
  },
  {
   "cell_type": "code",
   "execution_count": 59,
   "metadata": {},
   "outputs": [],
   "source": [
    "# merge Raphaël\n",
    "pre_merge_meditation = meditation_bandpowers_rap.copy()\n",
    "pre_merge_baseline = baseline_bandpowers_rap.copy()\n",
    "\n",
    "pre_merge_meditation.index = pre_merge_meditation.index.set_levels(pd.RangeIndex(len(pre_merge_meditation.index)), level=1)\n",
    "pre_merge_baseline.index = pre_merge_baseline.index.set_levels(pd.RangeIndex(len(pre_merge_baseline.index)), level=1)\n",
    "\n",
    "merged_rap_aligned = pd.concat([pre_merge_baseline, pre_merge_meditation], keys = ['baseline', 'meditation'])"
   ]
  },
  {
   "cell_type": "code",
   "execution_count": 56,
   "metadata": {},
   "outputs": [],
   "source": [
    "# merge Raphaël2\n",
    "pre_merge_meditation = meditation_bandpowers_rap2.copy()\n",
    "pre_merge_baseline = baseline_bandpowers_rap2.copy()\n",
    "\n",
    "pre_merge_meditation.index = pre_merge_meditation.index.set_levels(pd.RangeIndex(len(pre_merge_meditation.index)), level=1)\n",
    "pre_merge_baseline.index = pre_merge_baseline.index.set_levels(pd.RangeIndex(len(pre_merge_baseline.index)), level=1)\n",
    "\n",
    "merged_rap2_aligned = pd.concat([pre_merge_baseline, pre_merge_meditation], keys = ['baseline', 'meditation'])"
   ]
  },
  {
   "cell_type": "code",
   "execution_count": 57,
   "metadata": {},
   "outputs": [],
   "source": [
    "# merge Raphaël3\n",
    "pre_merge_meditation = meditation_bandpowers_rap3.copy()\n",
    "pre_merge_baseline = baseline_bandpowers_rap3.copy()\n",
    "\n",
    "pre_merge_meditation.index = pre_merge_meditation.index.set_levels(pd.RangeIndex(len(pre_merge_meditation.index)), level=1)\n",
    "pre_merge_baseline.index = pre_merge_baseline.index.set_levels(pd.RangeIndex(len(pre_merge_baseline.index)), level=1)\n",
    "\n",
    "merged_rap3_aligned = pd.concat([pre_merge_baseline, pre_merge_meditation], keys = ['baseline', 'meditation'])"
   ]
  }
 ],
 "metadata": {
  "kernelspec": {
   "display_name": "Python 3",
   "language": "python",
   "name": "python3"
  },
  "language_info": {
   "codemirror_mode": {
    "name": "ipython",
    "version": 3
   },
   "file_extension": ".py",
   "mimetype": "text/x-python",
   "name": "python",
   "nbconvert_exporter": "python",
   "pygments_lexer": "ipython3",
   "version": "3.7.3"
  }
 },
 "nbformat": 4,
 "nbformat_minor": 2
}
