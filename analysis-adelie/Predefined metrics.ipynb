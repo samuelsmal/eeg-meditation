{
 "cells": [
  {
   "cell_type": "code",
   "execution_count": 262,
   "metadata": {},
   "outputs": [],
   "source": [
    "# std\n",
    "import os\n",
    "from os import path\n",
    "import time\n",
    "\n",
    "# 3p\n",
    "import numpy as np\n",
    "import pandas as pd\n",
    "import matplotlib.pyplot as plt\n",
    "\n",
    "# prj\n",
    "os.chdir(\"..\")\n",
    "from src import helpers, configuration, filtering, bandpower, metrics, plots, statistics as stats\n",
    "from src.configuration import cfg, cfg_mr\n",
    "os.chdir('analysis-adelie')\n",
    "\n",
    "# ttest\n",
    "from scipy.stats import ttest_ind\n",
    "\n",
    "# plots\n",
    "import matplotlib\n",
    "\n",
    "font = {'family':'DejaVu Sans', 'weight':'normal', 'size':20}\n",
    "matplotlib.rc('font', **font)\n",
    "\n",
    "%matplotlib qt"
   ]
  },
  {
   "cell_type": "code",
   "execution_count": 111,
   "metadata": {},
   "outputs": [
    {
     "data": {
      "text/plain": [
       "<module 'src.metrics' from 'C:\\\\Users\\\\adeli\\\\OneDrive\\\\Documents\\\\GitHub\\\\eeg-meditation\\\\src\\\\metrics.py'>"
      ]
     },
     "execution_count": 111,
     "metadata": {},
     "output_type": "execute_result"
    }
   ],
   "source": [
    "from importlib import reload\n",
    "reload(metrics)"
   ]
  },
  {
   "cell_type": "code",
   "execution_count": 3,
   "metadata": {},
   "outputs": [],
   "source": [
    "# defining frequency bands\n",
    "cfg['bands'] = {'gamma': [40, 100], 'beta': [12, 40], 'alpha': [8, 12], 'theta': [4, 8], 'delta': [1, 4]}\n",
    "\n",
    "# updating: dividing alpha band in four sub-bands\n",
    "# cfg['bands'] = {\"alpha1\": [8, 9], \"alpha2\":[9, 10],\"alpha3\":[10, 11], \"alpha4\":[11, 12]}\n",
    "\n",
    "# defining ratios\n",
    "ratioList = ['gamma / beta', 'gamma / alpha', 'gamma / theta', 'gamma / delta', 'beta / alpha', 'beta / theta', 'beta / delta', 'alpha / theta', 'alpha / delta', 'theta / delta']"
   ]
  },
  {
   "cell_type": "markdown",
   "metadata": {},
   "source": [
    "Bandpowers"
   ]
  },
  {
   "cell_type": "code",
   "execution_count": 4,
   "metadata": {},
   "outputs": [],
   "source": [
    "# Adélie's data\n",
    "baseline_bandpowers_adelie = helpers.load_bandpower_all_epochs_all_recordings_df('baseline', subject='adelie')\n",
    "meditation_bandpowers_adelie = helpers.load_bandpower_all_epochs_all_recordings_df('meditation', subject='adelie')\n",
    "\n",
    "merged_bandpower_adelie = pd.concat([baseline_bandpowers_adelie, meditation_bandpowers_adelie], keys=[\"baseline\", \"meditation\"])"
   ]
  },
  {
   "cell_type": "code",
   "execution_count": 5,
   "metadata": {},
   "outputs": [],
   "source": [
    "# Sam's data\n",
    "baseline_bandpowers_sam = helpers.load_bandpower_all_epochs_all_recordings_df('baseline', subject='sam')\n",
    "meditation_bandpowers_sam = helpers.load_bandpower_all_epochs_all_recordings_df('meditation', subject='sam')\n",
    "\n",
    "merged_bandpower_sam = pd.concat([baseline_bandpowers_sam, meditation_bandpowers_sam], keys=[\"baseline\", \"meditation\"])"
   ]
  },
  {
   "cell_type": "code",
   "execution_count": 6,
   "metadata": {},
   "outputs": [],
   "source": [
    "# Sam2's data\n",
    "baseline_bandpowers_sam2 = helpers.load_bandpower_all_epochs_all_recordings_df('baseline', subject='sam2')\n",
    "meditation_bandpowers_sam2 = helpers.load_bandpower_all_epochs_all_recordings_df('meditation', subject='sam2')\n",
    "\n",
    "merged_bandpower_sam2 = pd.concat([baseline_bandpowers_sam2, meditation_bandpowers_sam2], keys=[\"baseline\", \"meditation\"])"
   ]
  },
  {
   "cell_type": "code",
   "execution_count": 7,
   "metadata": {},
   "outputs": [],
   "source": [
    "# Sam3's data\n",
    "baseline_bandpowers_sam3 = helpers.load_bandpower_all_epochs_all_recordings_df('baseline', subject='sam3')\n",
    "meditation_bandpowers_sam3 = helpers.load_bandpower_all_epochs_all_recordings_df('meditation', subject='sam3')\n",
    "\n",
    "merged_bandpower_sam3 = pd.concat([baseline_bandpowers_sam3, meditation_bandpowers_sam3], keys=[\"baseline\", \"meditation\"])"
   ]
  },
  {
   "cell_type": "code",
   "execution_count": 8,
   "metadata": {},
   "outputs": [],
   "source": [
    "# Sam4's data\n",
    "baseline_bandpowers_sam4 = helpers.load_bandpower_all_epochs_all_recordings_df('baseline', subject='sam4')\n",
    "meditation_bandpowers_sam4 = helpers.load_bandpower_all_epochs_all_recordings_df('meditation', subject='sam4')\n",
    "\n",
    "merged_bandpower_sam4 = pd.concat([baseline_bandpowers_sam4, meditation_bandpowers_sam4], keys=[\"baseline\", \"meditation\"])"
   ]
  },
  {
   "cell_type": "code",
   "execution_count": 9,
   "metadata": {},
   "outputs": [],
   "source": [
    "# Raphaël's data\n",
    "baseline_bandpowers_rap = helpers.load_bandpower_all_epochs_all_recordings_df('baseline', subject='raphael')\n",
    "meditation_bandpowers_rap = helpers.load_bandpower_all_epochs_all_recordings_df('meditation', subject='raphael')\n",
    "\n",
    "merged_bandpower_rap = pd.concat([baseline_bandpowers_rap, meditation_bandpowers_rap], keys=[\"baseline\", \"meditation\"])"
   ]
  },
  {
   "cell_type": "code",
   "execution_count": 10,
   "metadata": {},
   "outputs": [],
   "source": [
    "# Raphaël2's data\n",
    "baseline_bandpowers_rap2 = helpers.load_bandpower_all_epochs_all_recordings_df('baseline', subject='raphael2')\n",
    "meditation_bandpowers_rap2 = helpers.load_bandpower_all_epochs_all_recordings_df('meditation', subject='raphael2')\n",
    "\n",
    "merged_bandpower_rap2 = pd.concat([baseline_bandpowers_rap2, meditation_bandpowers_rap2], keys=[\"baseline\", \"meditation\"])"
   ]
  },
  {
   "cell_type": "code",
   "execution_count": 11,
   "metadata": {},
   "outputs": [],
   "source": [
    "# Raphaël3's data\n",
    "baseline_bandpowers_rap3 = helpers.load_bandpower_all_epochs_all_recordings_df('baseline', subject='raphael3')\n",
    "meditation_bandpowers_rap3 = helpers.load_bandpower_all_epochs_all_recordings_df('meditation', subject='raphael3')\n",
    "\n",
    "merged_bandpower_rap3 = pd.concat([baseline_bandpowers_rap3, meditation_bandpowers_rap3], keys=[\"baseline\", \"meditation\"])"
   ]
  },
  {
   "cell_type": "code",
   "execution_count": 12,
   "metadata": {},
   "outputs": [],
   "source": [
    "# Arnaud's data\n",
    "baseline_bandpowers_arn = helpers.load_bandpower_all_epochs_all_recordings_df('baseline', subject='arnaud')\n",
    "meditation_bandpowers_arn = helpers.load_bandpower_all_epochs_all_recordings_df('meditation', subject='arnaud')\n",
    "\n",
    "merged_bandpower_arn = pd.concat([baseline_bandpowers_arn, meditation_bandpowers_arn], keys=[\"baseline\", \"meditation\"])"
   ]
  },
  {
   "cell_type": "markdown",
   "metadata": {},
   "source": [
    "## 1. Alpha maximum power frequency peak"
   ]
  },
  {
   "cell_type": "markdown",
   "metadata": {},
   "source": [
    "### Former work: spectral power analysis of four Alpha sub-bands (barplots and ttests)"
   ]
  },
  {
   "cell_type": "code",
   "execution_count": 5,
   "metadata": {},
   "outputs": [
    {
     "data": {
      "image/png": "[encoded data removed]",
      "text/plain": [
       "<Figure size 432x288 with 1 Axes>"
      ]
     },
     "metadata": {
      "needs_background": "light"
     },
     "output_type": "display_data"
    }
   ],
   "source": [
    "# bandpowers Alpha Adélie\n",
    "plots.plot_bandpower_bar_std_concurrent(merged_bandpower_adelie, bands_to_plot=['alpha1', 'alpha2', 'alpha3', 'alpha4'],\n",
    "                                        title=\"Mean spectral power of Alpha sub-bands with bar errors, baseline vs. meditation for Adélie\")"
   ]
  },
  {
   "cell_type": "code",
   "execution_count": 9,
   "metadata": {},
   "outputs": [],
   "source": [
    "# Adélie ttest\n",
    "from scipy.stats import ttest_ind\n",
    "merged_adelie_aligned['AVG'] = merged_adelie_aligned.mean(axis=1)\n",
    "\n",
    "ttest_adelie_alpha_subbands = merged_adelie_aligned.swaplevel(0,1) \\\n",
    ".groupby(level=0).agg(\n",
    "    lambda x: ttest_ind(x.xs('baseline', level=1), x.xs('meditation', level=1), equal_var=False, nan_policy='omit'))"
   ]
  },
  {
   "cell_type": "code",
   "execution_count": 10,
   "metadata": {},
   "outputs": [
    {
     "name": "stdout",
     "output_type": "stream",
     "text": [
      "The FWER threshold is 0.0125\n",
      "The significant pvalues are \n",
      " alpha2 / alpha3    0.010493\n",
      "alpha4             0.011524\n",
      "Name: AVG, dtype: float64\n"
     ]
    },
    {
     "name": "stderr",
     "output_type": "stream",
     "text": [
      "C:\\Users\\adeli\\Anaconda3\\lib\\site-packages\\ipykernel_launcher.py:8: FutureWarning: The signature of `Series.to_csv` was aligned to that of `DataFrame.to_csv`, and argument 'header' will change its default value from False to True: please pass an explicit value to suppress this warning.\n",
      "  \n"
     ]
    }
   ],
   "source": [
    "# FWER corrected ttest: ttest over 4 alpha subbands\n",
    "FWER_threshold = 0.05 / 4\n",
    "print(\"The FWER threshold is\", FWER_threshold)\n",
    "\n",
    "p_values_adelie_alpha_subbands = ttest_adelie_alpha_subbands.applymap(lambda x: x[1])['AVG']\n",
    "\n",
    "# download to CSV only significant pvalues\n",
    "p_values_adelie_alpha_subbands[p_values_adelie_alpha_subbands < FWER_threshold].to_csv('p_values_adelie_alpha_subbands.csv')\n",
    "print(\"The significant pvalues are \\n\", p_values_adelie_alpha_subbands[p_values_adelie_alpha_subbands < FWER_threshold])"
   ]
  },
  {
   "cell_type": "code",
   "execution_count": 11,
   "metadata": {},
   "outputs": [
    {
     "data": {
      "text/html": [
       "<div>\n",
       "<style scoped>\n",
       "    .dataframe tbody tr th:only-of-type {\n",
       "        vertical-align: middle;\n",
       "    }\n",
       "\n",
       "    .dataframe tbody tr th {\n",
       "        vertical-align: top;\n",
       "    }\n",
       "\n",
       "    .dataframe thead th {\n",
       "        text-align: right;\n",
       "    }\n",
       "</style>\n",
       "<table border=\"1\" class=\"dataframe\">\n",
       "  <thead>\n",
       "    <tr style=\"text-align: right;\">\n",
       "      <th></th>\n",
       "      <th>P3</th>\n",
       "      <th>C3</th>\n",
       "      <th>F3</th>\n",
       "      <th>Fz</th>\n",
       "      <th>F4</th>\n",
       "      <th>C4</th>\n",
       "      <th>P4</th>\n",
       "      <th>Cz</th>\n",
       "      <th>Pz</th>\n",
       "      <th>Fp1</th>\n",
       "      <th>...</th>\n",
       "      <th>T3</th>\n",
       "      <th>T5</th>\n",
       "      <th>O1</th>\n",
       "      <th>O2</th>\n",
       "      <th>F7</th>\n",
       "      <th>F8</th>\n",
       "      <th>A2</th>\n",
       "      <th>T6</th>\n",
       "      <th>T4</th>\n",
       "      <th>AVG</th>\n",
       "    </tr>\n",
       "  </thead>\n",
       "  <tbody>\n",
       "    <tr>\n",
       "      <th>alpha1</th>\n",
       "      <td>(1.6690628131640746, 0.10454586164255329)</td>\n",
       "      <td>(-1.1295486553866838, 0.2658491081726583)</td>\n",
       "      <td>(-0.5146422833831102, 0.6090825800223711)</td>\n",
       "      <td>(0.6459470429452461, 0.5217978946209038)</td>\n",
       "      <td>(-1.271179682946032, 0.21046008755830334)</td>\n",
       "      <td>(-0.11562762295158628, 0.9086562878588069)</td>\n",
       "      <td>(0.8984052990632991, 0.37525377081819633)</td>\n",
       "      <td>(0.01540704914895522, 0.9877931633891334)</td>\n",
       "      <td>(0.0896529223521936, 0.9291021406253765)</td>\n",
       "      <td>(0.9397058465506957, 0.35416582756609116)</td>\n",
       "      <td>...</td>\n",
       "      <td>(1.0118389310465985, 0.3198170329502893)</td>\n",
       "      <td>(2.0559691565473854, 0.047986912398536384)</td>\n",
       "      <td>(1.2442445850851256, 0.2215662416505738)</td>\n",
       "      <td>(-0.18772480667482558, 0.8518293902443907)</td>\n",
       "      <td>(-1.1390575658469466, 0.26011628886789345)</td>\n",
       "      <td>(-1.2982950070322685, 0.19955998006212958)</td>\n",
       "      <td>(-1.0319944624674797, 0.3064938628449883)</td>\n",
       "      <td>(-1.1403804743912773, 0.259428255649295)</td>\n",
       "      <td>(-0.5352519051990208, 0.5959388710355864)</td>\n",
       "      <td>(0.46479220953979944, 0.6447446446767968)</td>\n",
       "    </tr>\n",
       "    <tr>\n",
       "      <th>alpha1 / alpha2</th>\n",
       "      <td>(1.0076243818779607, 0.3195715575631167)</td>\n",
       "      <td>(0.7740653908414626, 0.4448898834050271)</td>\n",
       "      <td>(0.3115403465011802, 0.7573155870946929)</td>\n",
       "      <td>(0.013635388308081657, 0.989191721368373)</td>\n",
       "      <td>(0.34730527060218686, 0.7305517470249558)</td>\n",
       "      <td>(0.9718502339408264, 0.33866815042429343)</td>\n",
       "      <td>(1.3758449304428744, 0.17883656847797388)</td>\n",
       "      <td>(-0.2472928019857696, 0.8059021420817234)</td>\n",
       "      <td>(0.22117610804317145, 0.8257823883739543)</td>\n",
       "      <td>(0.8358147706879441, 0.40957289144351505)</td>\n",
       "      <td>...</td>\n",
       "      <td>(1.6260339733495117, 0.1151338327146036)</td>\n",
       "      <td>(1.4931906340272263, 0.14350654998220233)</td>\n",
       "      <td>(0.91886788431513, 0.36427560469854925)</td>\n",
       "      <td>(-2.168011359602541, 0.033737844108823814)</td>\n",
       "      <td>(0.6380990208697428, 0.5277885509220539)</td>\n",
       "      <td>(0.38313055032410925, 0.7040643338725072)</td>\n",
       "      <td>(1.6032566544559537, 0.11734101083562781)</td>\n",
       "      <td>(0.22293456604060813, 0.8245524690106574)</td>\n",
       "      <td>(0.9646216282874156, 0.3428953345963036)</td>\n",
       "      <td>(0.9164773193472208, 0.36616245877792897)</td>\n",
       "    </tr>\n",
       "    <tr>\n",
       "      <th>alpha1 / alpha3</th>\n",
       "      <td>(1.3979663617679816, 0.1726481059728387)</td>\n",
       "      <td>(1.6955887807259795, 0.09993061203027721)</td>\n",
       "      <td>(1.292815181265594, 0.20425566027436248)</td>\n",
       "      <td>(0.8889867690827173, 0.3766947003194917)</td>\n",
       "      <td>(1.0508922013256448, 0.297689272190287)</td>\n",
       "      <td>(2.1859104726943883, 0.03735246792008908)</td>\n",
       "      <td>(1.583029645192156, 0.12413753752570532)</td>\n",
       "      <td>(0.8379870394577679, 0.40716960497362253)</td>\n",
       "      <td>(1.7993118578616814, 0.08262082337155827)</td>\n",
       "      <td>(1.8271737347234123, 0.07531327135898037)</td>\n",
       "      <td>...</td>\n",
       "      <td>(2.2815680460843, 0.03043861291787562)</td>\n",
       "      <td>(1.9528518609114192, 0.05964710774359488)</td>\n",
       "      <td>(1.2900600077191207, 0.20578127617657804)</td>\n",
       "      <td>(0.8450867283142631, 0.40261059077564443)</td>\n",
       "      <td>(1.7572922878254926, 0.08401912372081588)</td>\n",
       "      <td>(1.5242459308291654, 0.13829431330730263)</td>\n",
       "      <td>(1.649407806045155, 0.10945366969578842)</td>\n",
       "      <td>(0.897183312534646, 0.3729753612603436)</td>\n",
       "      <td>(1.7738623336834538, 0.08641070140555594)</td>\n",
       "      <td>(2.4276713888233075, 0.02091218640072627)</td>\n",
       "    </tr>\n",
       "    <tr>\n",
       "      <th>alpha1 / alpha4</th>\n",
       "      <td>(1.5303595814416961, 0.1360473396683543)</td>\n",
       "      <td>(1.5605145440772212, 0.12740164751531247)</td>\n",
       "      <td>(1.629763352393548, 0.11234679045368487)</td>\n",
       "      <td>(1.7169811215346338, 0.09458238566997994)</td>\n",
       "      <td>(1.2346735586345317, 0.22437586935491532)</td>\n",
       "      <td>(2.026130442844487, 0.05256528230950524)</td>\n",
       "      <td>(1.4072492758998976, 0.16851522077791867)</td>\n",
       "      <td>(1.497084604624969, 0.14457255702560415)</td>\n",
       "      <td>(1.9277060766511491, 0.06101242903620792)</td>\n",
       "      <td>(2.279459812968544, 0.027618887051814565)</td>\n",
       "      <td>...</td>\n",
       "      <td>(2.0971822269034237, 0.045069311196066095)</td>\n",
       "      <td>(1.9875938243887759, 0.05673031863720841)</td>\n",
       "      <td>(1.7284736833076957, 0.09445585687509908)</td>\n",
       "      <td>(0.6191165068606423, 0.5392699552343613)</td>\n",
       "      <td>(1.1871667936575938, 0.24219335440995748)</td>\n",
       "      <td>(1.5439644289231909, 0.13247705988995392)</td>\n",
       "      <td>(2.047726724865783, 0.04998186330725061)</td>\n",
       "      <td>(0.13841032008526666, 0.8903976287373329)</td>\n",
       "      <td>(1.6164445303481063, 0.11676288159027821)</td>\n",
       "      <td>(2.564577376948769, 0.015107754601608627)</td>\n",
       "    </tr>\n",
       "    <tr>\n",
       "      <th>alpha2</th>\n",
       "      <td>(1.3621954039364994, 0.1824274609191534)</td>\n",
       "      <td>(-1.704421686994904, 0.0958266140779921)</td>\n",
       "      <td>(0.11936030431548633, 0.9055074943124126)</td>\n",
       "      <td>(0.8706566845515037, 0.3890096697518287)</td>\n",
       "      <td>(-1.0245286162166622, 0.310762197543236)</td>\n",
       "      <td>(-0.620175247356494, 0.5387276987415557)</td>\n",
       "      <td>(0.38134890517226916, 0.7051234452901656)</td>\n",
       "      <td>(0.6403154331974688, 0.5260111307301507)</td>\n",
       "      <td>(-0.05402159223904359, 0.9572349932694107)</td>\n",
       "      <td>(0.7658837613190566, 0.4486238324682392)</td>\n",
       "      <td>...</td>\n",
       "      <td>(0.33037584721085167, 0.7430382272286911)</td>\n",
       "      <td>(0.9600427521902348, 0.3436805587870255)</td>\n",
       "      <td>(0.4555717243021756, 0.6513736206783167)</td>\n",
       "      <td>(1.233574032642199, 0.22361548715855853)</td>\n",
       "      <td>(-0.46020710794311814, 0.6477060994513439)</td>\n",
       "      <td>(-0.9592519623310588, 0.3414833556303144)</td>\n",
       "      <td>(-1.275900409467181, 0.20822647784592746)</td>\n",
       "      <td>(-0.07361857306814386, 0.9417356743939517)</td>\n",
       "      <td>(-1.4007687870994925, 0.1677051848062157)</td>\n",
       "      <td>(0.36268273822496966, 0.718903289805671)</td>\n",
       "    </tr>\n",
       "    <tr>\n",
       "      <th>alpha2 / alpha3</th>\n",
       "      <td>(0.506314748637386, 0.6154046471099148)</td>\n",
       "      <td>(1.4559016484191716, 0.15402042836460664)</td>\n",
       "      <td>(2.6640467671616395, 0.01154261821882812)</td>\n",
       "      <td>(2.303590504052163, 0.02602848766738798)</td>\n",
       "      <td>(1.979545510370468, 0.05436868502330298)</td>\n",
       "      <td>(2.7208817699306005, 0.010917975845611305)</td>\n",
       "      <td>(1.0378886815504385, 0.3066896302598362)</td>\n",
       "      <td>(1.6971001883275059, 0.0989399824279932)</td>\n",
       "      <td>(2.017696334800011, 0.052574719981243974)</td>\n",
       "      <td>(3.1970201549224284, 0.0026846897685046125)</td>\n",
       "      <td>...</td>\n",
       "      <td>(1.5847732286024423, 0.12032000219178675)</td>\n",
       "      <td>(0.9208194872122223, 0.36348595664772043)</td>\n",
       "      <td>(0.3171132521897526, 0.7530023410230736)</td>\n",
       "      <td>(2.877464384359616, 0.007296153473443009)</td>\n",
       "      <td>(2.735400407454337, 0.00934203255153712)</td>\n",
       "      <td>(2.8955438166441367, 0.006906039393854444)</td>\n",
       "      <td>(0.7749987714482296, 0.44455187562021603)</td>\n",
       "      <td>(2.247021478161149, 0.03184028139399508)</td>\n",
       "      <td>(2.127688431001851, 0.04143995115349666)</td>\n",
       "      <td>(2.725257647909451, 0.010492859165514897)</td>\n",
       "    </tr>\n",
       "    <tr>\n",
       "      <th>alpha2 / alpha4</th>\n",
       "      <td>(1.2200502469599004, 0.2299800227978519)</td>\n",
       "      <td>(1.266723248525354, 0.21344080781058702)</td>\n",
       "      <td>(2.0842269288829396, 0.04516263434047918)</td>\n",
       "      <td>(2.1051228116706193, 0.04315541284822223)</td>\n",
       "      <td>(1.6452628754590934, 0.10875235558776843)</td>\n",
       "      <td>(2.0607478172568072, 0.04802661217051844)</td>\n",
       "      <td>(1.0565117399014947, 0.29709607250929737)</td>\n",
       "      <td>(2.2148529345026655, 0.03398465876855209)</td>\n",
       "      <td>(2.0204330950068767, 0.051407132214389396)</td>\n",
       "      <td>(2.218208622837603, 0.03291687242537375)</td>\n",
       "      <td>...</td>\n",
       "      <td>(1.260945209417222, 0.21617799855098535)</td>\n",
       "      <td>(0.9846136271569927, 0.3313883204415784)</td>\n",
       "      <td>(1.018676611806074, 0.31532943446967465)</td>\n",
       "      <td>(1.850176197838374, 0.07295475901169475)</td>\n",
       "      <td>(1.350286958711747, 0.18605648595470956)</td>\n",
       "      <td>(2.4297902350112808, 0.02015290750635547)</td>\n",
       "      <td>(1.3513401492386639, 0.18743257714141298)</td>\n",
       "      <td>(1.2658357463289216, 0.2146356675513218)</td>\n",
       "      <td>(1.9100741135903536, 0.06542702012308983)</td>\n",
       "      <td>(2.340868726130184, 0.025496200610726008)</td>\n",
       "    </tr>\n",
       "    <tr>\n",
       "      <th>alpha3</th>\n",
       "      <td>(0.8049031021495854, 0.4261519345942695)</td>\n",
       "      <td>(-3.3943015629879594, 0.0013082897988763943)</td>\n",
       "      <td>(-2.2571187863276623, 0.027527187242840197)</td>\n",
       "      <td>(-1.064411978047585, 0.2916893029257619)</td>\n",
       "      <td>(-2.6326897599543067, 0.010768826376802251)</td>\n",
       "      <td>(-2.50818367983624, 0.015468349248500704)</td>\n",
       "      <td>(-0.16589113764433636, 0.8691868114427855)</td>\n",
       "      <td>(-1.4630426570714448, 0.1504975115260114)</td>\n",
       "      <td>(-2.0861258870576247, 0.04209130722200574)</td>\n",
       "      <td>(-1.609888397793898, 0.1130330059358974)</td>\n",
       "      <td>...</td>\n",
       "      <td>(-0.9464586123686487, 0.3495970895917321)</td>\n",
       "      <td>(0.14600848940204583, 0.8846260789237311)</td>\n",
       "      <td>(0.28882719025373976, 0.774219087609213)</td>\n",
       "      <td>(-0.7829103592233992, 0.437965528901579)</td>\n",
       "      <td>(-2.1835693521628667, 0.03313641954509935)</td>\n",
       "      <td>(-3.369129962783064, 0.0010928771296028982)</td>\n",
       "      <td>(-1.3381928213623038, 0.18790720109492645)</td>\n",
       "      <td>(-3.0989891590867766, 0.003076397649814511)</td>\n",
       "      <td>(-3.7682984107305955, 0.0003157429310464273)</td>\n",
       "      <td>(-1.732667981017555, 0.08946087698143013)</td>\n",
       "    </tr>\n",
       "    <tr>\n",
       "      <th>alpha3 / alpha4</th>\n",
       "      <td>(1.1248110669412394, 0.26734016136699695)</td>\n",
       "      <td>(-0.21937381667502057, 0.8272512830596388)</td>\n",
       "      <td>(0.15195717133778636, 0.8801052639336545)</td>\n",
       "      <td>(0.28837208211676785, 0.7747230770262307)</td>\n",
       "      <td>(0.08689263802608505, 0.9312261357666782)</td>\n",
       "      <td>(-0.00550007113589188, 0.9956342064739494)</td>\n",
       "      <td>(0.07873491246396458, 0.9375376878263134)</td>\n",
       "      <td>(1.3179288507028342, 0.19594915448762001)</td>\n",
       "      <td>(1.1376346137583315, 0.26197936079920275)</td>\n",
       "      <td>(0.04883912148338633, 0.9612989875469219)</td>\n",
       "      <td>...</td>\n",
       "      <td>(-0.717179836437221, 0.47693206617291517)</td>\n",
       "      <td>(0.4765153246557382, 0.6363462503357405)</td>\n",
       "      <td>(0.8916273215459514, 0.3779393224277713)</td>\n",
       "      <td>(-1.0750249320330325, 0.28673220616197476)</td>\n",
       "      <td>(-1.4100658368562893, 0.1657602660490566)</td>\n",
       "      <td>(0.07694152452985062, 0.9390425083685052)</td>\n",
       "      <td>(0.6956270944861134, 0.49073804143411015)</td>\n",
       "      <td>(-1.4814827803001023, 0.14448575724083512)</td>\n",
       "      <td>(-0.30115123697783414, 0.7647866796201319)</td>\n",
       "      <td>(0.12807899615487403, 0.8987662209988511)</td>\n",
       "    </tr>\n",
       "    <tr>\n",
       "      <th>alpha4</th>\n",
       "      <td>(-1.130652750846103, 0.2630636547965102)</td>\n",
       "      <td>(-2.8032561959196065, 0.007360241557312897)</td>\n",
       "      <td>(-2.3858452801514307, 0.02001827679484879)</td>\n",
       "      <td>(-1.9828936559830277, 0.050687461050447004)</td>\n",
       "      <td>(-3.352164551895816, 0.0012214541629145823)</td>\n",
       "      <td>(-1.5943759177311003, 0.11867018043518057)</td>\n",
       "      <td>(-0.47632634193632334, 0.6367674978313151)</td>\n",
       "      <td>(-2.587416004024623, 0.012608926986406338)</td>\n",
       "      <td>(-2.9165986224402647, 0.005121773916915939)</td>\n",
       "      <td>(-2.1315567904910697, 0.03646106203652711)</td>\n",
       "      <td>...</td>\n",
       "      <td>(-1.0735623110612356, 0.2879909425970801)</td>\n",
       "      <td>(-0.39761345941044024, 0.6925432039079187)</td>\n",
       "      <td>(-1.2726528157275567, 0.2083128315453779)</td>\n",
       "      <td>(0.21457487323798125, 0.8313029854511799)</td>\n",
       "      <td>(-2.476980980216684, 0.015066225381574264)</td>\n",
       "      <td>(-4.0661388147420405, 9.116623962892447e-05)</td>\n",
       "      <td>(-1.5733601082444413, 0.12318803589510581)</td>\n",
       "      <td>(-2.9894106026822587, 0.003971553500375422)</td>\n",
       "      <td>(-1.8168980897441807, 0.07644679200468404)</td>\n",
       "      <td>(-2.6073728639878357, 0.011523822912749351)</td>\n",
       "    </tr>\n",
       "  </tbody>\n",
       "</table>\n",
       "<p>10 rows × 21 columns</p>\n",
       "</div>"
      ],
      "text/plain": [
       "                                                        P3  \\\n",
       "alpha1           (1.6690628131640746, 0.10454586164255329)   \n",
       "alpha1 / alpha2   (1.0076243818779607, 0.3195715575631167)   \n",
       "alpha1 / alpha3   (1.3979663617679816, 0.1726481059728387)   \n",
       "alpha1 / alpha4   (1.5303595814416961, 0.1360473396683543)   \n",
       "alpha2            (1.3621954039364994, 0.1824274609191534)   \n",
       "alpha2 / alpha3    (0.506314748637386, 0.6154046471099148)   \n",
       "alpha2 / alpha4   (1.2200502469599004, 0.2299800227978519)   \n",
       "alpha3            (0.8049031021495854, 0.4261519345942695)   \n",
       "alpha3 / alpha4  (1.1248110669412394, 0.26734016136699695)   \n",
       "alpha4            (-1.130652750846103, 0.2630636547965102)   \n",
       "\n",
       "                                                           C3  \\\n",
       "alpha1              (-1.1295486553866838, 0.2658491081726583)   \n",
       "alpha1 / alpha2      (0.7740653908414626, 0.4448898834050271)   \n",
       "alpha1 / alpha3     (1.6955887807259795, 0.09993061203027721)   \n",
       "alpha1 / alpha4     (1.5605145440772212, 0.12740164751531247)   \n",
       "alpha2               (-1.704421686994904, 0.0958266140779921)   \n",
       "alpha2 / alpha3     (1.4559016484191716, 0.15402042836460664)   \n",
       "alpha2 / alpha4      (1.266723248525354, 0.21344080781058702)   \n",
       "alpha3           (-3.3943015629879594, 0.0013082897988763943)   \n",
       "alpha3 / alpha4    (-0.21937381667502057, 0.8272512830596388)   \n",
       "alpha4            (-2.8032561959196065, 0.007360241557312897)   \n",
       "\n",
       "                                                          F3  \\\n",
       "alpha1             (-0.5146422833831102, 0.6090825800223711)   \n",
       "alpha1 / alpha2     (0.3115403465011802, 0.7573155870946929)   \n",
       "alpha1 / alpha3     (1.292815181265594, 0.20425566027436248)   \n",
       "alpha1 / alpha4     (1.629763352393548, 0.11234679045368487)   \n",
       "alpha2             (0.11936030431548633, 0.9055074943124126)   \n",
       "alpha2 / alpha3    (2.6640467671616395, 0.01154261821882812)   \n",
       "alpha2 / alpha4    (2.0842269288829396, 0.04516263434047918)   \n",
       "alpha3           (-2.2571187863276623, 0.027527187242840197)   \n",
       "alpha3 / alpha4    (0.15195717133778636, 0.8801052639336545)   \n",
       "alpha4            (-2.3858452801514307, 0.02001827679484879)   \n",
       "\n",
       "                                                          Fz  \\\n",
       "alpha1              (0.6459470429452461, 0.5217978946209038)   \n",
       "alpha1 / alpha2    (0.013635388308081657, 0.989191721368373)   \n",
       "alpha1 / alpha3     (0.8889867690827173, 0.3766947003194917)   \n",
       "alpha1 / alpha4    (1.7169811215346338, 0.09458238566997994)   \n",
       "alpha2              (0.8706566845515037, 0.3890096697518287)   \n",
       "alpha2 / alpha3     (2.303590504052163, 0.02602848766738798)   \n",
       "alpha2 / alpha4    (2.1051228116706193, 0.04315541284822223)   \n",
       "alpha3              (-1.064411978047585, 0.2916893029257619)   \n",
       "alpha3 / alpha4    (0.28837208211676785, 0.7747230770262307)   \n",
       "alpha4           (-1.9828936559830277, 0.050687461050447004)   \n",
       "\n",
       "                                                          F4  \\\n",
       "alpha1             (-1.271179682946032, 0.21046008755830334)   \n",
       "alpha1 / alpha2    (0.34730527060218686, 0.7305517470249558)   \n",
       "alpha1 / alpha3      (1.0508922013256448, 0.297689272190287)   \n",
       "alpha1 / alpha4    (1.2346735586345317, 0.22437586935491532)   \n",
       "alpha2              (-1.0245286162166622, 0.310762197543236)   \n",
       "alpha2 / alpha3     (1.979545510370468, 0.05436868502330298)   \n",
       "alpha2 / alpha4    (1.6452628754590934, 0.10875235558776843)   \n",
       "alpha3           (-2.6326897599543067, 0.010768826376802251)   \n",
       "alpha3 / alpha4    (0.08689263802608505, 0.9312261357666782)   \n",
       "alpha4           (-3.352164551895816, 0.0012214541629145823)   \n",
       "\n",
       "                                                         C4  \\\n",
       "alpha1           (-0.11562762295158628, 0.9086562878588069)   \n",
       "alpha1 / alpha2   (0.9718502339408264, 0.33866815042429343)   \n",
       "alpha1 / alpha3   (2.1859104726943883, 0.03735246792008908)   \n",
       "alpha1 / alpha4    (2.026130442844487, 0.05256528230950524)   \n",
       "alpha2             (-0.620175247356494, 0.5387276987415557)   \n",
       "alpha2 / alpha3  (2.7208817699306005, 0.010917975845611305)   \n",
       "alpha2 / alpha4   (2.0607478172568072, 0.04802661217051844)   \n",
       "alpha3            (-2.50818367983624, 0.015468349248500704)   \n",
       "alpha3 / alpha4  (-0.00550007113589188, 0.9956342064739494)   \n",
       "alpha4           (-1.5943759177311003, 0.11867018043518057)   \n",
       "\n",
       "                                                         P4  \\\n",
       "alpha1            (0.8984052990632991, 0.37525377081819633)   \n",
       "alpha1 / alpha2   (1.3758449304428744, 0.17883656847797388)   \n",
       "alpha1 / alpha3    (1.583029645192156, 0.12413753752570532)   \n",
       "alpha1 / alpha4   (1.4072492758998976, 0.16851522077791867)   \n",
       "alpha2            (0.38134890517226916, 0.7051234452901656)   \n",
       "alpha2 / alpha3    (1.0378886815504385, 0.3066896302598362)   \n",
       "alpha2 / alpha4   (1.0565117399014947, 0.29709607250929737)   \n",
       "alpha3           (-0.16589113764433636, 0.8691868114427855)   \n",
       "alpha3 / alpha4   (0.07873491246396458, 0.9375376878263134)   \n",
       "alpha4           (-0.47632634193632334, 0.6367674978313151)   \n",
       "\n",
       "                                                         Cz  \\\n",
       "alpha1            (0.01540704914895522, 0.9877931633891334)   \n",
       "alpha1 / alpha2   (-0.2472928019857696, 0.8059021420817234)   \n",
       "alpha1 / alpha3   (0.8379870394577679, 0.40716960497362253)   \n",
       "alpha1 / alpha4    (1.497084604624969, 0.14457255702560415)   \n",
       "alpha2             (0.6403154331974688, 0.5260111307301507)   \n",
       "alpha2 / alpha3    (1.6971001883275059, 0.0989399824279932)   \n",
       "alpha2 / alpha4   (2.2148529345026655, 0.03398465876855209)   \n",
       "alpha3            (-1.4630426570714448, 0.1504975115260114)   \n",
       "alpha3 / alpha4   (1.3179288507028342, 0.19594915448762001)   \n",
       "alpha4           (-2.587416004024623, 0.012608926986406338)   \n",
       "\n",
       "                                                          Pz  \\\n",
       "alpha1              (0.0896529223521936, 0.9291021406253765)   \n",
       "alpha1 / alpha2    (0.22117610804317145, 0.8257823883739543)   \n",
       "alpha1 / alpha3    (1.7993118578616814, 0.08262082337155827)   \n",
       "alpha1 / alpha4    (1.9277060766511491, 0.06101242903620792)   \n",
       "alpha2            (-0.05402159223904359, 0.9572349932694107)   \n",
       "alpha2 / alpha3    (2.017696334800011, 0.052574719981243974)   \n",
       "alpha2 / alpha4   (2.0204330950068767, 0.051407132214389396)   \n",
       "alpha3            (-2.0861258870576247, 0.04209130722200574)   \n",
       "alpha3 / alpha4    (1.1376346137583315, 0.26197936079920275)   \n",
       "alpha4           (-2.9165986224402647, 0.005121773916915939)   \n",
       "\n",
       "                                                         Fp1  ...  \\\n",
       "alpha1             (0.9397058465506957, 0.35416582756609116)  ...   \n",
       "alpha1 / alpha2    (0.8358147706879441, 0.40957289144351505)  ...   \n",
       "alpha1 / alpha3    (1.8271737347234123, 0.07531327135898037)  ...   \n",
       "alpha1 / alpha4    (2.279459812968544, 0.027618887051814565)  ...   \n",
       "alpha2              (0.7658837613190566, 0.4486238324682392)  ...   \n",
       "alpha2 / alpha3  (3.1970201549224284, 0.0026846897685046125)  ...   \n",
       "alpha2 / alpha4     (2.218208622837603, 0.03291687242537375)  ...   \n",
       "alpha3              (-1.609888397793898, 0.1130330059358974)  ...   \n",
       "alpha3 / alpha4    (0.04883912148338633, 0.9612989875469219)  ...   \n",
       "alpha4            (-2.1315567904910697, 0.03646106203652711)  ...   \n",
       "\n",
       "                                                         T3  \\\n",
       "alpha1             (1.0118389310465985, 0.3198170329502893)   \n",
       "alpha1 / alpha2    (1.6260339733495117, 0.1151338327146036)   \n",
       "alpha1 / alpha3      (2.2815680460843, 0.03043861291787562)   \n",
       "alpha1 / alpha4  (2.0971822269034237, 0.045069311196066095)   \n",
       "alpha2            (0.33037584721085167, 0.7430382272286911)   \n",
       "alpha2 / alpha3   (1.5847732286024423, 0.12032000219178675)   \n",
       "alpha2 / alpha4    (1.260945209417222, 0.21617799855098535)   \n",
       "alpha3            (-0.9464586123686487, 0.3495970895917321)   \n",
       "alpha3 / alpha4   (-0.717179836437221, 0.47693206617291517)   \n",
       "alpha4            (-1.0735623110612356, 0.2879909425970801)   \n",
       "\n",
       "                                                         T5  \\\n",
       "alpha1           (2.0559691565473854, 0.047986912398536384)   \n",
       "alpha1 / alpha2   (1.4931906340272263, 0.14350654998220233)   \n",
       "alpha1 / alpha3   (1.9528518609114192, 0.05964710774359488)   \n",
       "alpha1 / alpha4   (1.9875938243887759, 0.05673031863720841)   \n",
       "alpha2             (0.9600427521902348, 0.3436805587870255)   \n",
       "alpha2 / alpha3   (0.9208194872122223, 0.36348595664772043)   \n",
       "alpha2 / alpha4    (0.9846136271569927, 0.3313883204415784)   \n",
       "alpha3            (0.14600848940204583, 0.8846260789237311)   \n",
       "alpha3 / alpha4    (0.4765153246557382, 0.6363462503357405)   \n",
       "alpha4           (-0.39761345941044024, 0.6925432039079187)   \n",
       "\n",
       "                                                        O1  \\\n",
       "alpha1            (1.2442445850851256, 0.2215662416505738)   \n",
       "alpha1 / alpha2    (0.91886788431513, 0.36427560469854925)   \n",
       "alpha1 / alpha3  (1.2900600077191207, 0.20578127617657804)   \n",
       "alpha1 / alpha4  (1.7284736833076957, 0.09445585687509908)   \n",
       "alpha2            (0.4555717243021756, 0.6513736206783167)   \n",
       "alpha2 / alpha3   (0.3171132521897526, 0.7530023410230736)   \n",
       "alpha2 / alpha4   (1.018676611806074, 0.31532943446967465)   \n",
       "alpha3            (0.28882719025373976, 0.774219087609213)   \n",
       "alpha3 / alpha4   (0.8916273215459514, 0.3779393224277713)   \n",
       "alpha4           (-1.2726528157275567, 0.2083128315453779)   \n",
       "\n",
       "                                                         O2  \\\n",
       "alpha1           (-0.18772480667482558, 0.8518293902443907)   \n",
       "alpha1 / alpha2  (-2.168011359602541, 0.033737844108823814)   \n",
       "alpha1 / alpha3   (0.8450867283142631, 0.40261059077564443)   \n",
       "alpha1 / alpha4    (0.6191165068606423, 0.5392699552343613)   \n",
       "alpha2             (1.233574032642199, 0.22361548715855853)   \n",
       "alpha2 / alpha3   (2.877464384359616, 0.007296153473443009)   \n",
       "alpha2 / alpha4    (1.850176197838374, 0.07295475901169475)   \n",
       "alpha3             (-0.7829103592233992, 0.437965528901579)   \n",
       "alpha3 / alpha4  (-1.0750249320330325, 0.28673220616197476)   \n",
       "alpha4            (0.21457487323798125, 0.8313029854511799)   \n",
       "\n",
       "                                                         F7  \\\n",
       "alpha1           (-1.1390575658469466, 0.26011628886789345)   \n",
       "alpha1 / alpha2    (0.6380990208697428, 0.5277885509220539)   \n",
       "alpha1 / alpha3   (1.7572922878254926, 0.08401912372081588)   \n",
       "alpha1 / alpha4   (1.1871667936575938, 0.24219335440995748)   \n",
       "alpha2           (-0.46020710794311814, 0.6477060994513439)   \n",
       "alpha2 / alpha3    (2.735400407454337, 0.00934203255153712)   \n",
       "alpha2 / alpha4    (1.350286958711747, 0.18605648595470956)   \n",
       "alpha3           (-2.1835693521628667, 0.03313641954509935)   \n",
       "alpha3 / alpha4   (-1.4100658368562893, 0.1657602660490566)   \n",
       "alpha4           (-2.476980980216684, 0.015066225381574264)   \n",
       "\n",
       "                                                           F8  \\\n",
       "alpha1             (-1.2982950070322685, 0.19955998006212958)   \n",
       "alpha1 / alpha2     (0.38313055032410925, 0.7040643338725072)   \n",
       "alpha1 / alpha3     (1.5242459308291654, 0.13829431330730263)   \n",
       "alpha1 / alpha4     (1.5439644289231909, 0.13247705988995392)   \n",
       "alpha2              (-0.9592519623310588, 0.3414833556303144)   \n",
       "alpha2 / alpha3    (2.8955438166441367, 0.006906039393854444)   \n",
       "alpha2 / alpha4     (2.4297902350112808, 0.02015290750635547)   \n",
       "alpha3            (-3.369129962783064, 0.0010928771296028982)   \n",
       "alpha3 / alpha4     (0.07694152452985062, 0.9390425083685052)   \n",
       "alpha4           (-4.0661388147420405, 9.116623962892447e-05)   \n",
       "\n",
       "                                                         A2  \\\n",
       "alpha1            (-1.0319944624674797, 0.3064938628449883)   \n",
       "alpha1 / alpha2   (1.6032566544559537, 0.11734101083562781)   \n",
       "alpha1 / alpha3    (1.649407806045155, 0.10945366969578842)   \n",
       "alpha1 / alpha4    (2.047726724865783, 0.04998186330725061)   \n",
       "alpha2            (-1.275900409467181, 0.20822647784592746)   \n",
       "alpha2 / alpha3   (0.7749987714482296, 0.44455187562021603)   \n",
       "alpha2 / alpha4   (1.3513401492386639, 0.18743257714141298)   \n",
       "alpha3           (-1.3381928213623038, 0.18790720109492645)   \n",
       "alpha3 / alpha4   (0.6956270944861134, 0.49073804143411015)   \n",
       "alpha4           (-1.5733601082444413, 0.12318803589510581)   \n",
       "\n",
       "                                                          T6  \\\n",
       "alpha1              (-1.1403804743912773, 0.259428255649295)   \n",
       "alpha1 / alpha2    (0.22293456604060813, 0.8245524690106574)   \n",
       "alpha1 / alpha3      (0.897183312534646, 0.3729753612603436)   \n",
       "alpha1 / alpha4    (0.13841032008526666, 0.8903976287373329)   \n",
       "alpha2            (-0.07361857306814386, 0.9417356743939517)   \n",
       "alpha2 / alpha3     (2.247021478161149, 0.03184028139399508)   \n",
       "alpha2 / alpha4     (1.2658357463289216, 0.2146356675513218)   \n",
       "alpha3           (-3.0989891590867766, 0.003076397649814511)   \n",
       "alpha3 / alpha4   (-1.4814827803001023, 0.14448575724083512)   \n",
       "alpha4           (-2.9894106026822587, 0.003971553500375422)   \n",
       "\n",
       "                                                           T4  \\\n",
       "alpha1              (-0.5352519051990208, 0.5959388710355864)   \n",
       "alpha1 / alpha2      (0.9646216282874156, 0.3428953345963036)   \n",
       "alpha1 / alpha3     (1.7738623336834538, 0.08641070140555594)   \n",
       "alpha1 / alpha4     (1.6164445303481063, 0.11676288159027821)   \n",
       "alpha2              (-1.4007687870994925, 0.1677051848062157)   \n",
       "alpha2 / alpha3      (2.127688431001851, 0.04143995115349666)   \n",
       "alpha2 / alpha4     (1.9100741135903536, 0.06542702012308983)   \n",
       "alpha3           (-3.7682984107305955, 0.0003157429310464273)   \n",
       "alpha3 / alpha4    (-0.30115123697783414, 0.7647866796201319)   \n",
       "alpha4             (-1.8168980897441807, 0.07644679200468404)   \n",
       "\n",
       "                                                         AVG  \n",
       "alpha1             (0.46479220953979944, 0.6447446446767968)  \n",
       "alpha1 / alpha2    (0.9164773193472208, 0.36616245877792897)  \n",
       "alpha1 / alpha3    (2.4276713888233075, 0.02091218640072627)  \n",
       "alpha1 / alpha4    (2.564577376948769, 0.015107754601608627)  \n",
       "alpha2              (0.36268273822496966, 0.718903289805671)  \n",
       "alpha2 / alpha3    (2.725257647909451, 0.010492859165514897)  \n",
       "alpha2 / alpha4    (2.340868726130184, 0.025496200610726008)  \n",
       "alpha3             (-1.732667981017555, 0.08946087698143013)  \n",
       "alpha3 / alpha4    (0.12807899615487403, 0.8987662209988511)  \n",
       "alpha4           (-2.6073728639878357, 0.011523822912749351)  \n",
       "\n",
       "[10 rows x 21 columns]"
      ]
     },
     "execution_count": 11,
     "metadata": {},
     "output_type": "execute_result"
    }
   ],
   "source": [
    "ttest_adelie_alpha_subbands"
   ]
  },
  {
   "cell_type": "code",
   "execution_count": 12,
   "metadata": {},
   "outputs": [
    {
     "data": {
      "image/png": "[encoded data removed]",
      "text/plain": [
       "<Figure size 432x288 with 1 Axes>"
      ]
     },
     "metadata": {
      "needs_background": "light"
     },
     "output_type": "display_data"
    }
   ],
   "source": [
    "# bandpowers Alpha Sam\n",
    "plots.plot_bandpower_bar_std_concurrent(merged_bandpower_sam, bands_to_plot=['alpha1', 'alpha2', 'alpha3', 'alpha4'],\n",
    "                                        title=\"Mean spectral power of Alpha sub-bands with bar errors, baseline vs. meditation for Sam\")"
   ]
  },
  {
   "cell_type": "code",
   "execution_count": 13,
   "metadata": {},
   "outputs": [],
   "source": [
    "# Sam ttest\n",
    "from scipy.stats import ttest_ind\n",
    "merged_sam_aligned['AVG'] = merged_sam_aligned.mean(axis=1)\n",
    "\n",
    "ttest_sam_alpha_subbands = merged_sam_aligned.swaplevel(0,1) \\\n",
    ".groupby(level=0).agg(\n",
    "    lambda x: ttest_ind(x.xs('baseline', level=1), x.xs('meditation', level=1), equal_var=False, nan_policy='omit'))"
   ]
  },
  {
   "cell_type": "code",
   "execution_count": 14,
   "metadata": {},
   "outputs": [
    {
     "data": {
      "text/html": [
       "<div>\n",
       "<style scoped>\n",
       "    .dataframe tbody tr th:only-of-type {\n",
       "        vertical-align: middle;\n",
       "    }\n",
       "\n",
       "    .dataframe tbody tr th {\n",
       "        vertical-align: top;\n",
       "    }\n",
       "\n",
       "    .dataframe thead th {\n",
       "        text-align: right;\n",
       "    }\n",
       "</style>\n",
       "<table border=\"1\" class=\"dataframe\">\n",
       "  <thead>\n",
       "    <tr style=\"text-align: right;\">\n",
       "      <th></th>\n",
       "      <th>P3</th>\n",
       "      <th>C3</th>\n",
       "      <th>F3</th>\n",
       "      <th>Fz</th>\n",
       "      <th>F4</th>\n",
       "      <th>C4</th>\n",
       "      <th>P4</th>\n",
       "      <th>Cz</th>\n",
       "      <th>Pz</th>\n",
       "      <th>Fp1</th>\n",
       "      <th>...</th>\n",
       "      <th>T3</th>\n",
       "      <th>T5</th>\n",
       "      <th>O1</th>\n",
       "      <th>O2</th>\n",
       "      <th>F7</th>\n",
       "      <th>F8</th>\n",
       "      <th>A2</th>\n",
       "      <th>T6</th>\n",
       "      <th>T4</th>\n",
       "      <th>AVG</th>\n",
       "    </tr>\n",
       "  </thead>\n",
       "  <tbody>\n",
       "    <tr>\n",
       "      <th>alpha1</th>\n",
       "      <td>(-5.047346920079149, 1.6866291730201078e-06)</td>\n",
       "      <td>(-6.033342729127865, 1.8489107794098634e-08)</td>\n",
       "      <td>(-3.5239036708293225, 0.0007186626979420066)</td>\n",
       "      <td>(-4.969385544058614, 2.3267532214965116e-06)</td>\n",
       "      <td>(-7.255716262304915, 4.697684213610276e-11)</td>\n",
       "      <td>(-2.593853360804471, 0.01087411951579569)</td>\n",
       "      <td>(-3.624574300979938, 0.00043229353671673214)</td>\n",
       "      <td>(-3.0635965626266217, 0.0027825196122504546)</td>\n",
       "      <td>(-2.2154493723068116, 0.03011807805729199)</td>\n",
       "      <td>(1.6222789901443257, 0.109261171799283)</td>\n",
       "      <td>...</td>\n",
       "      <td>(-3.081934279710857, 0.002851348797264209)</td>\n",
       "      <td>(-0.8475229400224916, 0.4012567196552733)</td>\n",
       "      <td>(-0.7520226528317016, 0.4553957740141231)</td>\n",
       "      <td>(0.3138267457111125, 0.7548021635868942)</td>\n",
       "      <td>(-2.120494482160421, 0.03611642191173921)</td>\n",
       "      <td>(1.9184227229106137, 0.061392708776393155)</td>\n",
       "      <td>(-1.3528915533752268, 0.18027480609139987)</td>\n",
       "      <td>(-6.293633590914553, 6.762762679901912e-09)</td>\n",
       "      <td>(0.7117646257281267, 0.4797180252557519)</td>\n",
       "      <td>(-4.097274647248856, 8.85591978531406e-05)</td>\n",
       "    </tr>\n",
       "    <tr>\n",
       "      <th>alpha1 / alpha2</th>\n",
       "      <td>(-4.595081188060894, 1.1229813449456125e-05)</td>\n",
       "      <td>(-4.477346137252031, 1.8122512731989347e-05)</td>\n",
       "      <td>(-4.615242933063637, 1.0010921796373154e-05)</td>\n",
       "      <td>(-5.04687616453394, 1.6622358105010948e-06)</td>\n",
       "      <td>(-5.302748700775342, 5.543970232868179e-07)</td>\n",
       "      <td>(-4.586751059764501, 1.1199578342991162e-05)</td>\n",
       "      <td>(-5.537714111603482, 1.837450506017463e-07)</td>\n",
       "      <td>(-4.75523196618965, 5.57835023734773e-06)</td>\n",
       "      <td>(-5.156628139602456, 1.0265948917316267e-06)</td>\n",
       "      <td>(-4.436434819034109, 2.0459670569671485e-05)</td>\n",
       "      <td>...</td>\n",
       "      <td>(-4.891272633395965, 3.6257796823410136e-06)</td>\n",
       "      <td>(-0.9553338394050868, 0.3435772378004933)</td>\n",
       "      <td>(-2.516026095479708, 0.014044138289732779)</td>\n",
       "      <td>(-1.5890366529740636, 0.11542103812557852)</td>\n",
       "      <td>(-4.128712244416523, 6.792437889739215e-05)</td>\n",
       "      <td>(-4.421562961380831, 2.1712171292750893e-05)</td>\n",
       "      <td>(-3.0394916148203417, 0.0030790795700793984)</td>\n",
       "      <td>(-2.355489304695839, 0.02118143437577922)</td>\n",
       "      <td>(-4.362387542318601, 2.87737719758028e-05)</td>\n",
       "      <td>(-5.271309952178087, 6.153384813024881e-07)</td>\n",
       "    </tr>\n",
       "    <tr>\n",
       "      <th>alpha1 / alpha3</th>\n",
       "      <td>(-4.653201061100977, 8.796742325281057e-06)</td>\n",
       "      <td>(-2.2893246701716667, 0.024261792454660987)</td>\n",
       "      <td>(-2.955574245580037, 0.003757897388029735)</td>\n",
       "      <td>(-4.106875239842128, 7.650638471575952e-05)</td>\n",
       "      <td>(-4.118744297397756, 7.18789139589121e-05)</td>\n",
       "      <td>(-4.597062869884029, 1.089881438395823e-05)</td>\n",
       "      <td>(-5.371012806070437, 4.36148401449648e-07)</td>\n",
       "      <td>(-4.290220819202629, 3.6339655735869946e-05)</td>\n",
       "      <td>(-5.480355425990357, 2.7739279145265984e-07)</td>\n",
       "      <td>(-3.0040410960330544, 0.0032891094663199507)</td>\n",
       "      <td>...</td>\n",
       "      <td>(-3.2915198597721336, 0.0013716173624838102)</td>\n",
       "      <td>(-2.775912666858179, 0.006419273261960225)</td>\n",
       "      <td>(-3.6594594441916257, 0.0003781253770515337)</td>\n",
       "      <td>(-2.058923546211394, 0.042355021459749634)</td>\n",
       "      <td>(-3.3979431241146365, 0.0009224236348288352)</td>\n",
       "      <td>(-2.783374500203912, 0.006261069092039539)</td>\n",
       "      <td>(-2.9870481999881764, 0.0034951585396396975)</td>\n",
       "      <td>(-3.9139755875263873, 0.0001533029098325778)</td>\n",
       "      <td>(-1.9830317423633177, 0.04996799553674107)</td>\n",
       "      <td>(-4.4730618197386605, 1.7763448812134717e-05)</td>\n",
       "    </tr>\n",
       "    <tr>\n",
       "      <th>alpha1 / alpha4</th>\n",
       "      <td>(-3.275050182117316, 0.0013916628635888956)</td>\n",
       "      <td>(-1.00560065242519, 0.31726207098958265)</td>\n",
       "      <td>(-2.0071844689307907, 0.04713840377955013)</td>\n",
       "      <td>(-3.658017504342561, 0.00038256569446161584)</td>\n",
       "      <td>(-4.147366440105015, 6.463492605264717e-05)</td>\n",
       "      <td>(-2.474563384571359, 0.014777110442732748)</td>\n",
       "      <td>(-4.3850430675079535, 2.5289198251516814e-05)</td>\n",
       "      <td>(-2.5279218446100984, 0.013013518774819417)</td>\n",
       "      <td>(-3.596316497736013, 0.0004901047053289869)</td>\n",
       "      <td>(-2.1974322223685676, 0.030063680702672468)</td>\n",
       "      <td>...</td>\n",
       "      <td>(-1.5882776371563987, 0.11591496486362121)</td>\n",
       "      <td>(-1.8112384989717387, 0.07379325658659824)</td>\n",
       "      <td>(-1.972404104842394, 0.0524033381163704)</td>\n",
       "      <td>(-0.6008830347915096, 0.549822712523709)</td>\n",
       "      <td>(-2.1234178059984727, 0.03607474747626789)</td>\n",
       "      <td>(-2.123305407631963, 0.035932684927858755)</td>\n",
       "      <td>(-2.5682171649753704, 0.011653486128728796)</td>\n",
       "      <td>(-4.968382041152721, 2.6110264743412422e-06)</td>\n",
       "      <td>(0.8011296210084398, 0.42631483343490084)</td>\n",
       "      <td>(-3.431484669741307, 0.0008311691856568108)</td>\n",
       "    </tr>\n",
       "    <tr>\n",
       "      <th>alpha2</th>\n",
       "      <td>(-0.36506630704673837, 0.7164271604087785)</td>\n",
       "      <td>(-2.789299936943443, 0.006532008671970723)</td>\n",
       "      <td>(-0.07808138836472518, 0.937998295494927)</td>\n",
       "      <td>(0.5929614368891846, 0.5557547546661861)</td>\n",
       "      <td>(-3.380046200160503, 0.0010545888075449651)</td>\n",
       "      <td>(1.4598349798800738, 0.15154758254733505)</td>\n",
       "      <td>(0.9477765724112498, 0.3482490811486182)</td>\n",
       "      <td>(1.8424182212520193, 0.07194437912548925)</td>\n",
       "      <td>(1.6357677665011696, 0.10953920604480682)</td>\n",
       "      <td>(3.4300056600321, 0.001324768990595333)</td>\n",
       "      <td>...</td>\n",
       "      <td>(-0.22388443764593977, 0.8237629708943651)</td>\n",
       "      <td>(-0.5533176161959903, 0.5821404279825616)</td>\n",
       "      <td>(1.2470272651312622, 0.21953733136791007)</td>\n",
       "      <td>(1.7006361517569044, 0.09653946734092766)</td>\n",
       "      <td>(1.0601661972140548, 0.29439487829838956)</td>\n",
       "      <td>(2.918368523743363, 0.005643278998191193)</td>\n",
       "      <td>(0.7582890553010253, 0.45198936273849755)</td>\n",
       "      <td>(-1.6594241577339999, 0.10317210603381376)</td>\n",
       "      <td>(3.097422823727603, 0.0037165699063208663)</td>\n",
       "      <td>(1.1234870054222543, 0.26638412544201323)</td>\n",
       "    </tr>\n",
       "    <tr>\n",
       "      <th>alpha2 / alpha3</th>\n",
       "      <td>(-0.0013066715109249828, 0.9989619596067512)</td>\n",
       "      <td>(1.8669229064960242, 0.06821512420646436)</td>\n",
       "      <td>(1.0447019983422865, 0.2990594704166429)</td>\n",
       "      <td>(1.3057955741060165, 0.19564166905815727)</td>\n",
       "      <td>(1.6993996543010224, 0.09422034153655495)</td>\n",
       "      <td>(0.7046881107241053, 0.48379620033465964)</td>\n",
       "      <td>(-0.1220215655739483, 0.9033064406061619)</td>\n",
       "      <td>(1.1825435748522128, 0.2424485466718754)</td>\n",
       "      <td>(-0.588085865831955, 0.5585516767170778)</td>\n",
       "      <td>(1.439046616744874, 0.15499809091486574)</td>\n",
       "      <td>...</td>\n",
       "      <td>(1.8587664474669299, 0.06892251738079685)</td>\n",
       "      <td>(-0.336788328056605, 0.737453317892869)</td>\n",
       "      <td>(-0.19437482106662635, 0.8465787259606538)</td>\n",
       "      <td>(-0.34240828014545294, 0.7332890999523788)</td>\n",
       "      <td>(1.4117447370840235, 0.16351964128322433)</td>\n",
       "      <td>(2.3447232825323137, 0.023503193454245792)</td>\n",
       "      <td>(0.674098894386502, 0.5038995066626908)</td>\n",
       "      <td>(-1.321530337885028, 0.19013108897131467)</td>\n",
       "      <td>(2.6069813193073585, 0.01185055708573745)</td>\n",
       "      <td>(1.437503409033152, 0.1555985753577013)</td>\n",
       "    </tr>\n",
       "    <tr>\n",
       "      <th>alpha2 / alpha4</th>\n",
       "      <td>(0.8194139790448376, 0.41604287989106414)</td>\n",
       "      <td>(2.7055972083466124, 0.00917937619480901)</td>\n",
       "      <td>(2.543883614153248, 0.014098773649718697)</td>\n",
       "      <td>(2.2760518698708787, 0.027831179648435237)</td>\n",
       "      <td>(2.1164217579933062, 0.03959401275149123)</td>\n",
       "      <td>(2.33767601251497, 0.024268632164126086)</td>\n",
       "      <td>(1.3753867497240555, 0.17516472053557028)</td>\n",
       "      <td>(2.1853401692354586, 0.03400753991635613)</td>\n",
       "      <td>(1.3644750799731675, 0.1789706656631034)</td>\n",
       "      <td>(2.60698879938429, 0.012329889258942829)</td>\n",
       "      <td>...</td>\n",
       "      <td>(2.438812998799048, 0.01809687113859711)</td>\n",
       "      <td>(0.8400633136667123, 0.40565950540232554)</td>\n",
       "      <td>(0.8948219726450352, 0.37510432697552354)</td>\n",
       "      <td>(1.328716188413131, 0.19128181631742716)</td>\n",
       "      <td>(2.344350267192548, 0.02303696493897085)</td>\n",
       "      <td>(2.4361612936520642, 0.01911303617569789)</td>\n",
       "      <td>(1.2328325967817595, 0.22443713240537966)</td>\n",
       "      <td>(-0.32446090499215546, 0.7466351472884112)</td>\n",
       "      <td>(3.9492005894288402, 0.0002908125168523216)</td>\n",
       "      <td>(2.5151899241513065, 0.01547615083204188)</td>\n",
       "    </tr>\n",
       "    <tr>\n",
       "      <th>alpha3</th>\n",
       "      <td>(-0.008566618063393013, 0.9932022344026722)</td>\n",
       "      <td>(-2.8633228646089472, 0.005636853325216514)</td>\n",
       "      <td>(-0.8169651155979929, 0.41667873912319797)</td>\n",
       "      <td>(-0.4506028552310427, 0.6540660189866168)</td>\n",
       "      <td>(-6.0091129300773005, 2.8062481732567967e-08)</td>\n",
       "      <td>(0.8514874050350949, 0.39945966375841446)</td>\n",
       "      <td>(1.0763103708627786, 0.28816612292473426)</td>\n",
       "      <td>(1.173129787794641, 0.24698362435730647)</td>\n",
       "      <td>(1.7592770505936004, 0.08671169621750142)</td>\n",
       "      <td>(3.299843536499805, 0.0018570651594506872)</td>\n",
       "      <td>...</td>\n",
       "      <td>(-0.8447689675463621, 0.4021194449010165)</td>\n",
       "      <td>(-0.8003069694593068, 0.42622165556404046)</td>\n",
       "      <td>(1.5644673970974605, 0.1251198324318192)</td>\n",
       "      <td>(1.4794787552967639, 0.14532032052136065)</td>\n",
       "      <td>(0.25050977202416486, 0.803053061754662)</td>\n",
       "      <td>(1.934080684182043, 0.058476071265649854)</td>\n",
       "      <td>(-0.17586658103361483, 0.8609884649564012)</td>\n",
       "      <td>(-1.2037649173836966, 0.23459076366751228)</td>\n",
       "      <td>(2.0156649302324445, 0.05115735880949941)</td>\n",
       "      <td>(0.6447770175737895, 0.5223133139445909)</td>\n",
       "    </tr>\n",
       "    <tr>\n",
       "      <th>alpha3 / alpha4</th>\n",
       "      <td>(1.614457327227012, 0.11147134605994401)</td>\n",
       "      <td>(2.346793283431499, 0.02253689151188322)</td>\n",
       "      <td>(2.1049539840463094, 0.03941793622347744)</td>\n",
       "      <td>(1.8473204565967323, 0.0703256274310198)</td>\n",
       "      <td>(1.229484480420944, 0.22418655420309122)</td>\n",
       "      <td>(2.3437368501139773, 0.02296851277291057)</td>\n",
       "      <td>(1.5941608383355328, 0.11875539782035714)</td>\n",
       "      <td>(2.1638962271266924, 0.0348390172667629)</td>\n",
       "      <td>(1.9090029333051788, 0.06301784438817176)</td>\n",
       "      <td>(2.018746736315112, 0.0489408514885761)</td>\n",
       "      <td>...</td>\n",
       "      <td>(1.5124417563100687, 0.13595703998297215)</td>\n",
       "      <td>(0.3630621440316687, 0.7180364466607223)</td>\n",
       "      <td>(1.1092476228041828, 0.2738613893204366)</td>\n",
       "      <td>(1.40439327362241, 0.16652335045197222)</td>\n",
       "      <td>(1.9534082655601144, 0.054739760308690516)</td>\n",
       "      <td>(1.3580894671338766, 0.17999354816305693)</td>\n",
       "      <td>(0.8841983925903237, 0.3810400579105)</td>\n",
       "      <td>(0.5349587234446747, 0.5949439011675092)</td>\n",
       "      <td>(2.8473337547629627, 0.006310886354792029)</td>\n",
       "      <td>(2.3783268719801747, 0.021000708611404743)</td>\n",
       "    </tr>\n",
       "    <tr>\n",
       "      <th>alpha4</th>\n",
       "      <td>(-1.4157377447727117, 0.1625587293426738)</td>\n",
       "      <td>(-6.19086850297431, 1.6526186485610376e-08)</td>\n",
       "      <td>(-1.819860218152627, 0.07316208735486582)</td>\n",
       "      <td>(-1.8534103898554564, 0.06889622401590545)</td>\n",
       "      <td>(-4.219537744034573, 0.00010259093090585675)</td>\n",
       "      <td>(-0.45483568578600686, 0.6512964889758593)</td>\n",
       "      <td>(-0.07284489561435885, 0.9422581634746995)</td>\n",
       "      <td>(-0.6583122309890881, 0.5135541055721882)</td>\n",
       "      <td>(0.4284506421260806, 0.6704300322091703)</td>\n",
       "      <td>(2.284968308830598, 0.025909645224410752)</td>\n",
       "      <td>...</td>\n",
       "      <td>(-2.031112049866269, 0.047037742021737994)</td>\n",
       "      <td>(-0.16151322516169703, 0.8723448188781684)</td>\n",
       "      <td>(1.0599493339088097, 0.2948426850477654)</td>\n",
       "      <td>(0.702054622833505, 0.48595902176853567)</td>\n",
       "      <td>(-0.7664977353195664, 0.445843070126991)</td>\n",
       "      <td>(1.2917347926699057, 0.2009300553094112)</td>\n",
       "      <td>(0.22326973256248372, 0.8243117294991954)</td>\n",
       "      <td>(-2.198290265185687, 0.03175526432001458)</td>\n",
       "      <td>(0.5214818889000661, 0.6047012879714087)</td>\n",
       "      <td>(-0.7831568469577873, 0.4376226307043616)</td>\n",
       "    </tr>\n",
       "  </tbody>\n",
       "</table>\n",
       "<p>10 rows × 21 columns</p>\n",
       "</div>"
      ],
      "text/plain": [
       "                                                           P3  \\\n",
       "alpha1           (-5.047346920079149, 1.6866291730201078e-06)   \n",
       "alpha1 / alpha2  (-4.595081188060894, 1.1229813449456125e-05)   \n",
       "alpha1 / alpha3   (-4.653201061100977, 8.796742325281057e-06)   \n",
       "alpha1 / alpha4   (-3.275050182117316, 0.0013916628635888956)   \n",
       "alpha2             (-0.36506630704673837, 0.7164271604087785)   \n",
       "alpha2 / alpha3  (-0.0013066715109249828, 0.9989619596067512)   \n",
       "alpha2 / alpha4     (0.8194139790448376, 0.41604287989106414)   \n",
       "alpha3            (-0.008566618063393013, 0.9932022344026722)   \n",
       "alpha3 / alpha4      (1.614457327227012, 0.11147134605994401)   \n",
       "alpha4              (-1.4157377447727117, 0.1625587293426738)   \n",
       "\n",
       "                                                           C3  \\\n",
       "alpha1           (-6.033342729127865, 1.8489107794098634e-08)   \n",
       "alpha1 / alpha2  (-4.477346137252031, 1.8122512731989347e-05)   \n",
       "alpha1 / alpha3   (-2.2893246701716667, 0.024261792454660987)   \n",
       "alpha1 / alpha4      (-1.00560065242519, 0.31726207098958265)   \n",
       "alpha2             (-2.789299936943443, 0.006532008671970723)   \n",
       "alpha2 / alpha3     (1.8669229064960242, 0.06821512420646436)   \n",
       "alpha2 / alpha4     (2.7055972083466124, 0.00917937619480901)   \n",
       "alpha3            (-2.8633228646089472, 0.005636853325216514)   \n",
       "alpha3 / alpha4      (2.346793283431499, 0.02253689151188322)   \n",
       "alpha4            (-6.19086850297431, 1.6526186485610376e-08)   \n",
       "\n",
       "                                                           F3  \\\n",
       "alpha1           (-3.5239036708293225, 0.0007186626979420066)   \n",
       "alpha1 / alpha2  (-4.615242933063637, 1.0010921796373154e-05)   \n",
       "alpha1 / alpha3    (-2.955574245580037, 0.003757897388029735)   \n",
       "alpha1 / alpha4    (-2.0071844689307907, 0.04713840377955013)   \n",
       "alpha2              (-0.07808138836472518, 0.937998295494927)   \n",
       "alpha2 / alpha3      (1.0447019983422865, 0.2990594704166429)   \n",
       "alpha2 / alpha4     (2.543883614153248, 0.014098773649718697)   \n",
       "alpha3             (-0.8169651155979929, 0.41667873912319797)   \n",
       "alpha3 / alpha4     (2.1049539840463094, 0.03941793622347744)   \n",
       "alpha4              (-1.819860218152627, 0.07316208735486582)   \n",
       "\n",
       "                                                           Fz  \\\n",
       "alpha1           (-4.969385544058614, 2.3267532214965116e-06)   \n",
       "alpha1 / alpha2   (-5.04687616453394, 1.6622358105010948e-06)   \n",
       "alpha1 / alpha3   (-4.106875239842128, 7.650638471575952e-05)   \n",
       "alpha1 / alpha4  (-3.658017504342561, 0.00038256569446161584)   \n",
       "alpha2               (0.5929614368891846, 0.5557547546661861)   \n",
       "alpha2 / alpha3     (1.3057955741060165, 0.19564166905815727)   \n",
       "alpha2 / alpha4    (2.2760518698708787, 0.027831179648435237)   \n",
       "alpha3              (-0.4506028552310427, 0.6540660189866168)   \n",
       "alpha3 / alpha4      (1.8473204565967323, 0.0703256274310198)   \n",
       "alpha4             (-1.8534103898554564, 0.06889622401590545)   \n",
       "\n",
       "                                                            F4  \\\n",
       "alpha1             (-7.255716262304915, 4.697684213610276e-11)   \n",
       "alpha1 / alpha2    (-5.302748700775342, 5.543970232868179e-07)   \n",
       "alpha1 / alpha3     (-4.118744297397756, 7.18789139589121e-05)   \n",
       "alpha1 / alpha4    (-4.147366440105015, 6.463492605264717e-05)   \n",
       "alpha2             (-3.380046200160503, 0.0010545888075449651)   \n",
       "alpha2 / alpha3      (1.6993996543010224, 0.09422034153655495)   \n",
       "alpha2 / alpha4      (2.1164217579933062, 0.03959401275149123)   \n",
       "alpha3           (-6.0091129300773005, 2.8062481732567967e-08)   \n",
       "alpha3 / alpha4       (1.229484480420944, 0.22418655420309122)   \n",
       "alpha4            (-4.219537744034573, 0.00010259093090585675)   \n",
       "\n",
       "                                                           C4  \\\n",
       "alpha1              (-2.593853360804471, 0.01087411951579569)   \n",
       "alpha1 / alpha2  (-4.586751059764501, 1.1199578342991162e-05)   \n",
       "alpha1 / alpha3   (-4.597062869884029, 1.089881438395823e-05)   \n",
       "alpha1 / alpha4    (-2.474563384571359, 0.014777110442732748)   \n",
       "alpha2              (1.4598349798800738, 0.15154758254733505)   \n",
       "alpha2 / alpha3     (0.7046881107241053, 0.48379620033465964)   \n",
       "alpha2 / alpha4      (2.33767601251497, 0.024268632164126086)   \n",
       "alpha3              (0.8514874050350949, 0.39945966375841446)   \n",
       "alpha3 / alpha4     (2.3437368501139773, 0.02296851277291057)   \n",
       "alpha4             (-0.45483568578600686, 0.6512964889758593)   \n",
       "\n",
       "                                                            P4  \\\n",
       "alpha1            (-3.624574300979938, 0.00043229353671673214)   \n",
       "alpha1 / alpha2    (-5.537714111603482, 1.837450506017463e-07)   \n",
       "alpha1 / alpha3     (-5.371012806070437, 4.36148401449648e-07)   \n",
       "alpha1 / alpha4  (-4.3850430675079535, 2.5289198251516814e-05)   \n",
       "alpha2                (0.9477765724112498, 0.3482490811486182)   \n",
       "alpha2 / alpha3      (-0.1220215655739483, 0.9033064406061619)   \n",
       "alpha2 / alpha4      (1.3753867497240555, 0.17516472053557028)   \n",
       "alpha3               (1.0763103708627786, 0.28816612292473426)   \n",
       "alpha3 / alpha4      (1.5941608383355328, 0.11875539782035714)   \n",
       "alpha4              (-0.07284489561435885, 0.9422581634746995)   \n",
       "\n",
       "                                                           Cz  \\\n",
       "alpha1           (-3.0635965626266217, 0.0027825196122504546)   \n",
       "alpha1 / alpha2     (-4.75523196618965, 5.57835023734773e-06)   \n",
       "alpha1 / alpha3  (-4.290220819202629, 3.6339655735869946e-05)   \n",
       "alpha1 / alpha4   (-2.5279218446100984, 0.013013518774819417)   \n",
       "alpha2              (1.8424182212520193, 0.07194437912548925)   \n",
       "alpha2 / alpha3      (1.1825435748522128, 0.2424485466718754)   \n",
       "alpha2 / alpha4     (2.1853401692354586, 0.03400753991635613)   \n",
       "alpha3               (1.173129787794641, 0.24698362435730647)   \n",
       "alpha3 / alpha4      (2.1638962271266924, 0.0348390172667629)   \n",
       "alpha4              (-0.6583122309890881, 0.5135541055721882)   \n",
       "\n",
       "                                                           Pz  \\\n",
       "alpha1             (-2.2154493723068116, 0.03011807805729199)   \n",
       "alpha1 / alpha2  (-5.156628139602456, 1.0265948917316267e-06)   \n",
       "alpha1 / alpha3  (-5.480355425990357, 2.7739279145265984e-07)   \n",
       "alpha1 / alpha4   (-3.596316497736013, 0.0004901047053289869)   \n",
       "alpha2              (1.6357677665011696, 0.10953920604480682)   \n",
       "alpha2 / alpha3      (-0.588085865831955, 0.5585516767170778)   \n",
       "alpha2 / alpha4      (1.3644750799731675, 0.1789706656631034)   \n",
       "alpha3              (1.7592770505936004, 0.08671169621750142)   \n",
       "alpha3 / alpha4     (1.9090029333051788, 0.06301784438817176)   \n",
       "alpha4               (0.4284506421260806, 0.6704300322091703)   \n",
       "\n",
       "                                                          Fp1  ...  \\\n",
       "alpha1                (1.6222789901443257, 0.109261171799283)  ...   \n",
       "alpha1 / alpha2  (-4.436434819034109, 2.0459670569671485e-05)  ...   \n",
       "alpha1 / alpha3  (-3.0040410960330544, 0.0032891094663199507)  ...   \n",
       "alpha1 / alpha4   (-2.1974322223685676, 0.030063680702672468)  ...   \n",
       "alpha2                (3.4300056600321, 0.001324768990595333)  ...   \n",
       "alpha2 / alpha3      (1.439046616744874, 0.15499809091486574)  ...   \n",
       "alpha2 / alpha4      (2.60698879938429, 0.012329889258942829)  ...   \n",
       "alpha3             (3.299843536499805, 0.0018570651594506872)  ...   \n",
       "alpha3 / alpha4       (2.018746736315112, 0.0489408514885761)  ...   \n",
       "alpha4              (2.284968308830598, 0.025909645224410752)  ...   \n",
       "\n",
       "                                                           T3  \\\n",
       "alpha1             (-3.081934279710857, 0.002851348797264209)   \n",
       "alpha1 / alpha2  (-4.891272633395965, 3.6257796823410136e-06)   \n",
       "alpha1 / alpha3  (-3.2915198597721336, 0.0013716173624838102)   \n",
       "alpha1 / alpha4    (-1.5882776371563987, 0.11591496486362121)   \n",
       "alpha2             (-0.22388443764593977, 0.8237629708943651)   \n",
       "alpha2 / alpha3     (1.8587664474669299, 0.06892251738079685)   \n",
       "alpha2 / alpha4      (2.438812998799048, 0.01809687113859711)   \n",
       "alpha3              (-0.8447689675463621, 0.4021194449010165)   \n",
       "alpha3 / alpha4     (1.5124417563100687, 0.13595703998297215)   \n",
       "alpha4             (-2.031112049866269, 0.047037742021737994)   \n",
       "\n",
       "                                                         T5  \\\n",
       "alpha1            (-0.8475229400224916, 0.4012567196552733)   \n",
       "alpha1 / alpha2   (-0.9553338394050868, 0.3435772378004933)   \n",
       "alpha1 / alpha3  (-2.775912666858179, 0.006419273261960225)   \n",
       "alpha1 / alpha4  (-1.8112384989717387, 0.07379325658659824)   \n",
       "alpha2            (-0.5533176161959903, 0.5821404279825616)   \n",
       "alpha2 / alpha3     (-0.336788328056605, 0.737453317892869)   \n",
       "alpha2 / alpha4   (0.8400633136667123, 0.40565950540232554)   \n",
       "alpha3           (-0.8003069694593068, 0.42622165556404046)   \n",
       "alpha3 / alpha4    (0.3630621440316687, 0.7180364466607223)   \n",
       "alpha4           (-0.16151322516169703, 0.8723448188781684)   \n",
       "\n",
       "                                                           O1  \\\n",
       "alpha1              (-0.7520226528317016, 0.4553957740141231)   \n",
       "alpha1 / alpha2    (-2.516026095479708, 0.014044138289732779)   \n",
       "alpha1 / alpha3  (-3.6594594441916257, 0.0003781253770515337)   \n",
       "alpha1 / alpha4      (-1.972404104842394, 0.0524033381163704)   \n",
       "alpha2              (1.2470272651312622, 0.21953733136791007)   \n",
       "alpha2 / alpha3    (-0.19437482106662635, 0.8465787259606538)   \n",
       "alpha2 / alpha4     (0.8948219726450352, 0.37510432697552354)   \n",
       "alpha3               (1.5644673970974605, 0.1251198324318192)   \n",
       "alpha3 / alpha4      (1.1092476228041828, 0.2738613893204366)   \n",
       "alpha4               (1.0599493339088097, 0.2948426850477654)   \n",
       "\n",
       "                                                         O2  \\\n",
       "alpha1             (0.3138267457111125, 0.7548021635868942)   \n",
       "alpha1 / alpha2  (-1.5890366529740636, 0.11542103812557852)   \n",
       "alpha1 / alpha3  (-2.058923546211394, 0.042355021459749634)   \n",
       "alpha1 / alpha4    (-0.6008830347915096, 0.549822712523709)   \n",
       "alpha2            (1.7006361517569044, 0.09653946734092766)   \n",
       "alpha2 / alpha3  (-0.34240828014545294, 0.7332890999523788)   \n",
       "alpha2 / alpha4    (1.328716188413131, 0.19128181631742716)   \n",
       "alpha3            (1.4794787552967639, 0.14532032052136065)   \n",
       "alpha3 / alpha4     (1.40439327362241, 0.16652335045197222)   \n",
       "alpha4             (0.702054622833505, 0.48595902176853567)   \n",
       "\n",
       "                                                           F7  \\\n",
       "alpha1              (-2.120494482160421, 0.03611642191173921)   \n",
       "alpha1 / alpha2   (-4.128712244416523, 6.792437889739215e-05)   \n",
       "alpha1 / alpha3  (-3.3979431241146365, 0.0009224236348288352)   \n",
       "alpha1 / alpha4    (-2.1234178059984727, 0.03607474747626789)   \n",
       "alpha2              (1.0601661972140548, 0.29439487829838956)   \n",
       "alpha2 / alpha3     (1.4117447370840235, 0.16351964128322433)   \n",
       "alpha2 / alpha4      (2.344350267192548, 0.02303696493897085)   \n",
       "alpha3               (0.25050977202416486, 0.803053061754662)   \n",
       "alpha3 / alpha4    (1.9534082655601144, 0.054739760308690516)   \n",
       "alpha4               (-0.7664977353195664, 0.445843070126991)   \n",
       "\n",
       "                                                           F8  \\\n",
       "alpha1             (1.9184227229106137, 0.061392708776393155)   \n",
       "alpha1 / alpha2  (-4.421562961380831, 2.1712171292750893e-05)   \n",
       "alpha1 / alpha3    (-2.783374500203912, 0.006261069092039539)   \n",
       "alpha1 / alpha4    (-2.123305407631963, 0.035932684927858755)   \n",
       "alpha2              (2.918368523743363, 0.005643278998191193)   \n",
       "alpha2 / alpha3    (2.3447232825323137, 0.023503193454245792)   \n",
       "alpha2 / alpha4     (2.4361612936520642, 0.01911303617569789)   \n",
       "alpha3              (1.934080684182043, 0.058476071265649854)   \n",
       "alpha3 / alpha4     (1.3580894671338766, 0.17999354816305693)   \n",
       "alpha4               (1.2917347926699057, 0.2009300553094112)   \n",
       "\n",
       "                                                           A2  \\\n",
       "alpha1             (-1.3528915533752268, 0.18027480609139987)   \n",
       "alpha1 / alpha2  (-3.0394916148203417, 0.0030790795700793984)   \n",
       "alpha1 / alpha3  (-2.9870481999881764, 0.0034951585396396975)   \n",
       "alpha1 / alpha4   (-2.5682171649753704, 0.011653486128728796)   \n",
       "alpha2              (0.7582890553010253, 0.45198936273849755)   \n",
       "alpha2 / alpha3       (0.674098894386502, 0.5038995066626908)   \n",
       "alpha2 / alpha4     (1.2328325967817595, 0.22443713240537966)   \n",
       "alpha3             (-0.17586658103361483, 0.8609884649564012)   \n",
       "alpha3 / alpha4         (0.8841983925903237, 0.3810400579105)   \n",
       "alpha4              (0.22326973256248372, 0.8243117294991954)   \n",
       "\n",
       "                                                           T6  \\\n",
       "alpha1            (-6.293633590914553, 6.762762679901912e-09)   \n",
       "alpha1 / alpha2     (-2.355489304695839, 0.02118143437577922)   \n",
       "alpha1 / alpha3  (-3.9139755875263873, 0.0001533029098325778)   \n",
       "alpha1 / alpha4  (-4.968382041152721, 2.6110264743412422e-06)   \n",
       "alpha2             (-1.6594241577339999, 0.10317210603381376)   \n",
       "alpha2 / alpha3     (-1.321530337885028, 0.19013108897131467)   \n",
       "alpha2 / alpha4    (-0.32446090499215546, 0.7466351472884112)   \n",
       "alpha3             (-1.2037649173836966, 0.23459076366751228)   \n",
       "alpha3 / alpha4      (0.5349587234446747, 0.5949439011675092)   \n",
       "alpha4              (-2.198290265185687, 0.03175526432001458)   \n",
       "\n",
       "                                                          T4  \\\n",
       "alpha1              (0.7117646257281267, 0.4797180252557519)   \n",
       "alpha1 / alpha2   (-4.362387542318601, 2.87737719758028e-05)   \n",
       "alpha1 / alpha3   (-1.9830317423633177, 0.04996799553674107)   \n",
       "alpha1 / alpha4    (0.8011296210084398, 0.42631483343490084)   \n",
       "alpha2            (3.097422823727603, 0.0037165699063208663)   \n",
       "alpha2 / alpha3    (2.6069813193073585, 0.01185055708573745)   \n",
       "alpha2 / alpha4  (3.9492005894288402, 0.0002908125168523216)   \n",
       "alpha3             (2.0156649302324445, 0.05115735880949941)   \n",
       "alpha3 / alpha4   (2.8473337547629627, 0.006310886354792029)   \n",
       "alpha4              (0.5214818889000661, 0.6047012879714087)   \n",
       "\n",
       "                                                           AVG  \n",
       "alpha1              (-4.097274647248856, 8.85591978531406e-05)  \n",
       "alpha1 / alpha2    (-5.271309952178087, 6.153384813024881e-07)  \n",
       "alpha1 / alpha3  (-4.4730618197386605, 1.7763448812134717e-05)  \n",
       "alpha1 / alpha4    (-3.431484669741307, 0.0008311691856568108)  \n",
       "alpha2               (1.1234870054222543, 0.26638412544201323)  \n",
       "alpha2 / alpha3        (1.437503409033152, 0.1555985753577013)  \n",
       "alpha2 / alpha4      (2.5151899241513065, 0.01547615083204188)  \n",
       "alpha3                (0.6447770175737895, 0.5223133139445909)  \n",
       "alpha3 / alpha4     (2.3783268719801747, 0.021000708611404743)  \n",
       "alpha4               (-0.7831568469577873, 0.4376226307043616)  \n",
       "\n",
       "[10 rows x 21 columns]"
      ]
     },
     "execution_count": 14,
     "metadata": {},
     "output_type": "execute_result"
    }
   ],
   "source": [
    "ttest_sam_alpha_subbands"
   ]
  },
  {
   "cell_type": "code",
   "execution_count": 15,
   "metadata": {},
   "outputs": [
    {
     "name": "stdout",
     "output_type": "stream",
     "text": [
      "The FWER threshold is 0.0125\n",
      "The significant pvalues are \n",
      " alpha1             8.855920e-05\n",
      "alpha1 / alpha2    6.153385e-07\n",
      "alpha1 / alpha3    1.776345e-05\n",
      "alpha1 / alpha4    8.311692e-04\n",
      "Name: AVG, dtype: float64\n"
     ]
    },
    {
     "name": "stderr",
     "output_type": "stream",
     "text": [
      "C:\\Users\\adeli\\Anaconda3\\lib\\site-packages\\ipykernel_launcher.py:8: FutureWarning: The signature of `Series.to_csv` was aligned to that of `DataFrame.to_csv`, and argument 'header' will change its default value from False to True: please pass an explicit value to suppress this warning.\n",
      "  \n"
     ]
    }
   ],
   "source": [
    "# FWER corrected ttest: ttest over 4 alpha subbands\n",
    "FWER_threshold = 0.05 / 4\n",
    "print(\"The FWER threshold is\", FWER_threshold)\n",
    "\n",
    "p_values_sam_alpha_subbands = ttest_sam_alpha_subbands.applymap(lambda x: x[1])['AVG']\n",
    "\n",
    "# download to CSV only significant pvalues\n",
    "p_values_sam_alpha_subbands[p_values_sam_alpha_subbands < FWER_threshold].to_csv('p_values_sam_alpha_subbands.csv')\n",
    "print(\"The significant pvalues are \\n\", p_values_sam_alpha_subbands[p_values_sam_alpha_subbands < FWER_threshold])"
   ]
  },
  {
   "cell_type": "markdown",
   "metadata": {},
   "source": [
    "### Max Welch power freq peak of Alpha band (boxplots)"
   ]
  },
  {
   "cell_type": "code",
   "execution_count": 255,
   "metadata": {},
   "outputs": [],
   "source": [
    "# MR data welch\n",
    "signal_mr_b = helpers.load_signal_data(\"baseline\", config=cfg_mr, subject='mr')\n",
    "signal_mr_m = helpers.load_signal_data(\"meditation\", config=cfg_mr, subject='mr')\n",
    "\n",
    "baseline_psd_mr = stats.get_dsp_welch(signal_mr_b, welch_window_sec=4)\n",
    "meditation_psd_mr = stats.get_dsp_welch(signal_mr_m, welch_window_sec=4)"
   ]
  },
  {
   "cell_type": "code",
   "execution_count": 244,
   "metadata": {},
   "outputs": [],
   "source": [
    "# Adélie data welch\n",
    "baseline_psd_adelie = stats.get_dsp_welch(helpers.load_signal_data(\"baseline\", config=cfg, subject='adelie'), welch_window_sec=4)\n",
    "meditation_psd_adelie = stats.get_dsp_welch(helpers.load_signal_data(\"meditation\", config=cfg, subject='adelie'), welch_window_sec=4)"
   ]
  },
  {
   "cell_type": "code",
   "execution_count": 14,
   "metadata": {},
   "outputs": [],
   "source": [
    "# Sam data welch\n",
    "baseline_psd_sam = stats.get_dsp_welch(helpers.load_signal_data(\"baseline\", config=cfg, subject='sam'), welch_window_sec=4)\n",
    "meditation_psd_sam = stats.get_dsp_welch(helpers.load_signal_data(\"meditation\", config=cfg, subject='sam'), welch_window_sec=4)\n",
    "\n",
    "# Sam2 data welch\n",
    "baseline_psd_sam2 = stats.get_dsp_welch(helpers.load_signal_data(\"baseline\", config=cfg, subject='sam2'), welch_window_sec=4)\n",
    "meditation_psd_sam2 = stats.get_dsp_welch(helpers.load_signal_data(\"meditation\", config=cfg, subject='sam2'), welch_window_sec=4)\n",
    "\n",
    "# Sam3 data welch\n",
    "baseline_psd_sam3 = stats.get_dsp_welch(helpers.load_signal_data(\"baseline\", config=cfg, subject='sam3'), welch_window_sec=4)\n",
    "meditation_psd_sam3 = stats.get_dsp_welch(helpers.load_signal_data(\"meditation\", config=cfg, subject='sam3'), welch_window_sec=4)\n",
    "\n",
    "# Sam4 data welch\n",
    "baseline_psd_sam4 = stats.get_dsp_welch(helpers.load_signal_data(\"baseline\", config=cfg, subject='sam4'), welch_window_sec=4)\n",
    "meditation_psd_sam4 = stats.get_dsp_welch(helpers.load_signal_data(\"meditation\", config=cfg, subject='sam4'), welch_window_sec=4)"
   ]
  },
  {
   "cell_type": "code",
   "execution_count": 15,
   "metadata": {},
   "outputs": [],
   "source": [
    "# Raphaël data welch\n",
    "baseline_psd_rap = stats.get_dsp_welch(helpers.load_signal_data(\"baseline\", config=cfg, subject='raphael'), welch_window_sec=4)\n",
    "meditation_psd_rap = stats.get_dsp_welch(helpers.load_signal_data(\"meditation\", config=cfg, subject='raphael'), welch_window_sec=4)\n",
    "\n",
    "# Raphaël2 data welch\n",
    "baseline_psd_rap2 = stats.get_dsp_welch(helpers.load_signal_data(\"baseline\", config=cfg, subject='raphael2'), welch_window_sec=4)\n",
    "meditation_psd_rap2 = stats.get_dsp_welch(helpers.load_signal_data(\"meditation\", config=cfg, subject='raphael2'), welch_window_sec=4)\n",
    "\n",
    "# Raphaël3 data welch\n",
    "baseline_psd_rap3 = stats.get_dsp_welch(helpers.load_signal_data(\"baseline\", config=cfg, subject='raphael3'), welch_window_sec=4)\n",
    "meditation_psd_rap3 = stats.get_dsp_welch(helpers.load_signal_data(\"meditation\", config=cfg, subject='raphael3'), welch_window_sec=4)"
   ]
  },
  {
   "cell_type": "code",
   "execution_count": 16,
   "metadata": {},
   "outputs": [],
   "source": [
    "# Arnaud data welch\n",
    "baseline_psd_arn = stats.get_dsp_welch(helpers.load_signal_data(\"baseline\", config=cfg, subject='arnaud'), welch_window_sec=4)\n",
    "meditation_psd_arn = stats.get_dsp_welch(helpers.load_signal_data(\"meditation\", config=cfg, subject='arnaud'), welch_window_sec=4)"
   ]
  },
  {
   "cell_type": "markdown",
   "metadata": {},
   "source": [
    "Adélie"
   ]
  },
  {
   "cell_type": "code",
   "execution_count": 136,
   "metadata": {},
   "outputs": [],
   "source": [
    "alpha_freq_ad = metrics.get_mean_svd_band(baseline_psd_adelie, meditation_psd_adelie, cfg['bands']['alpha'])"
   ]
  },
  {
   "cell_type": "code",
   "execution_count": 134,
   "metadata": {},
   "outputs": [],
   "source": [
    "alpha_freq_plot_ad = metrics.get_boxplot_band(baseline_psd_adelie, meditation_psd_adelie, cfg['bands']['alpha'], \"Frequency of maximum power in Alpha band \\n for Adélie\")"
   ]
  },
  {
   "cell_type": "markdown",
   "metadata": {},
   "source": [
    "Sam"
   ]
  },
  {
   "cell_type": "code",
   "execution_count": 78,
   "metadata": {},
   "outputs": [],
   "source": [
    "alpha_freq_sam = metrics.get_mean_svd_band(baseline_psd_sam, meditation_psd_sam, cfg['bands']['alpha'])"
   ]
  },
  {
   "cell_type": "code",
   "execution_count": 133,
   "metadata": {},
   "outputs": [],
   "source": [
    "alpha_freq_plot_sam = metrics.get_boxplot_band(baseline_psd_sam, meditation_psd_sam, cfg['bands']['alpha'], \"Frequency of maximum power in Alpha band \\n for Sam\")"
   ]
  },
  {
   "cell_type": "code",
   "execution_count": 137,
   "metadata": {},
   "outputs": [],
   "source": [
    "alpha_freq_sam2 = metrics.get_mean_svd_band(baseline_psd_sam2, meditation_psd_sam2, cfg['bands']['alpha'])"
   ]
  },
  {
   "cell_type": "code",
   "execution_count": 130,
   "metadata": {},
   "outputs": [],
   "source": [
    "alpha_freq_plot_sam2 = metrics.get_boxplot_band(baseline_psd_sam2, meditation_psd_sam2, cfg['bands']['alpha'], \"Frequency of maximum power in Alpha band \\n for Sam2\")"
   ]
  },
  {
   "cell_type": "code",
   "execution_count": 27,
   "metadata": {},
   "outputs": [],
   "source": [
    "alpha_freq_sam3 = metrics.get_mean_svd_band(baseline_psd_sam3, meditation_psd_sam3, cfg['bands']['alpha'])"
   ]
  },
  {
   "cell_type": "code",
   "execution_count": 131,
   "metadata": {},
   "outputs": [],
   "source": [
    "alpha_freq_plot_sam3 = metrics.get_boxplot_band(baseline_psd_sam3, meditation_psd_sam3, cfg['bands']['alpha'], \"Frequency of maximum power in Alpha band \\n for Sam3\")"
   ]
  },
  {
   "cell_type": "code",
   "execution_count": 58,
   "metadata": {},
   "outputs": [],
   "source": [
    "alpha_freq_sam4 = metrics.get_mean_svd_band(baseline_psd_sam4, meditation_psd_sam4, cfg['bands']['alpha'])"
   ]
  },
  {
   "cell_type": "code",
   "execution_count": 132,
   "metadata": {},
   "outputs": [],
   "source": [
    "alpha_freq_plot_sam4 = metrics.get_boxplot_band(baseline_psd_sam4, meditation_psd_sam4, cfg['bands']['alpha'], \"Frequency of maximum power in Alpha band \\n for Sam4\")"
   ]
  },
  {
   "cell_type": "markdown",
   "metadata": {},
   "source": [
    "Raphaël"
   ]
  },
  {
   "cell_type": "code",
   "execution_count": 138,
   "metadata": {},
   "outputs": [],
   "source": [
    "alpha_freq_rap = metrics.get_mean_svd_band(baseline_psd_rap, meditation_psd_rap, cfg['bands']['alpha'])"
   ]
  },
  {
   "cell_type": "code",
   "execution_count": 139,
   "metadata": {},
   "outputs": [],
   "source": [
    "alpha_freq_plot_rap = metrics.get_boxplot_band(baseline_psd_rap, meditation_psd_rap, cfg['bands']['alpha'], \"Frequency of maximum power in Alpha band \\n for Raphaël\")"
   ]
  },
  {
   "cell_type": "code",
   "execution_count": 140,
   "metadata": {},
   "outputs": [],
   "source": [
    "alpha_freq_rap2 = metrics.get_mean_svd_band(baseline_psd_rap2, meditation_psd_rap2, cfg['bands']['alpha'])"
   ]
  },
  {
   "cell_type": "code",
   "execution_count": 141,
   "metadata": {},
   "outputs": [],
   "source": [
    "alpha_freq_plot_rap2 = metrics.get_boxplot_band(baseline_psd_rap2, meditation_psd_rap2, cfg['bands']['alpha'], \"Frequency of maximum power in Alpha band \\n for Raphaël2\")"
   ]
  },
  {
   "cell_type": "code",
   "execution_count": 142,
   "metadata": {},
   "outputs": [],
   "source": [
    "alpha_freq_rap3 = metrics.get_mean_svd_band(baseline_psd_rap3, meditation_psd_rap3, cfg['bands']['alpha'])"
   ]
  },
  {
   "cell_type": "code",
   "execution_count": 143,
   "metadata": {},
   "outputs": [],
   "source": [
    "alpha_freq_plot_rap3 = metrics.get_boxplot_band(baseline_psd_rap3, meditation_psd_rap3, cfg['bands']['alpha'], \"Frequency of maximum power in Alpha band \\n for Raphaël3\")"
   ]
  },
  {
   "cell_type": "markdown",
   "metadata": {},
   "source": [
    "Arnaud"
   ]
  },
  {
   "cell_type": "code",
   "execution_count": 144,
   "metadata": {},
   "outputs": [],
   "source": [
    "alpha_freq_arn = metrics.get_mean_svd_band(baseline_psd_arn, meditation_psd_arn, cfg['bands']['alpha'])"
   ]
  },
  {
   "cell_type": "code",
   "execution_count": 145,
   "metadata": {},
   "outputs": [],
   "source": [
    "alpha_freq_plot_arn = metrics.get_boxplot_band(baseline_psd_arn, meditation_psd_arn, cfg['bands']['alpha'], \"Frequency of maximum power in Alpha band \\n for Arnaud\")"
   ]
  },
  {
   "cell_type": "markdown",
   "metadata": {},
   "source": [
    "Matthieu Ricard"
   ]
  },
  {
   "cell_type": "code",
   "execution_count": 256,
   "metadata": {},
   "outputs": [],
   "source": [
    "alpha_freq_mr = metrics.get_mean_svd_band(baseline_psd_mr, meditation_psd_mr, cfg['bands']['alpha'])"
   ]
  },
  {
   "cell_type": "code",
   "execution_count": 257,
   "metadata": {},
   "outputs": [],
   "source": [
    "alpha_freq_plot_mr = metrics.get_boxplot_band(baseline_psd_mr, meditation_psd_mr, cfg['bands']['alpha'], \"Frequency of maximum power in Alpha band \\n for Matthieu Ricard\")"
   ]
  },
  {
   "cell_type": "markdown",
   "metadata": {},
   "source": [
    "CONCLUSION"
   ]
  },
  {
   "cell_type": "code",
   "execution_count": 146,
   "metadata": {},
   "outputs": [
    {
     "data": {
      "text/html": [
       "<div>\n",
       "<style scoped>\n",
       "    .dataframe tbody tr th:only-of-type {\n",
       "        vertical-align: middle;\n",
       "    }\n",
       "\n",
       "    .dataframe tbody tr th {\n",
       "        vertical-align: top;\n",
       "    }\n",
       "\n",
       "    .dataframe thead th {\n",
       "        text-align: right;\n",
       "    }\n",
       "</style>\n",
       "<table border=\"1\" class=\"dataframe\">\n",
       "  <thead>\n",
       "    <tr style=\"text-align: right;\">\n",
       "      <th></th>\n",
       "      <th></th>\n",
       "      <th>mean</th>\n",
       "      <th>std</th>\n",
       "    </tr>\n",
       "  </thead>\n",
       "  <tbody>\n",
       "    <tr>\n",
       "      <th rowspan=\"2\" valign=\"top\">Adélie</th>\n",
       "      <th>baseline</th>\n",
       "      <td>9.977273</td>\n",
       "      <td>0.261116</td>\n",
       "    </tr>\n",
       "    <tr>\n",
       "      <th>meditation</th>\n",
       "      <td>10.293103</td>\n",
       "      <td>0.306689</td>\n",
       "    </tr>\n",
       "    <tr>\n",
       "      <th rowspan=\"2\" valign=\"top\">Sam</th>\n",
       "      <th>baseline</th>\n",
       "      <td>10.022727</td>\n",
       "      <td>0.529794</td>\n",
       "    </tr>\n",
       "    <tr>\n",
       "      <th>meditation</th>\n",
       "      <td>10.086207</td>\n",
       "      <td>0.609727</td>\n",
       "    </tr>\n",
       "    <tr>\n",
       "      <th rowspan=\"2\" valign=\"top\">Sam2</th>\n",
       "      <th>baseline</th>\n",
       "      <td>9.923913</td>\n",
       "      <td>0.618993</td>\n",
       "    </tr>\n",
       "    <tr>\n",
       "      <th>meditation</th>\n",
       "      <td>9.560345</td>\n",
       "      <td>0.830918</td>\n",
       "    </tr>\n",
       "    <tr>\n",
       "      <th rowspan=\"2\" valign=\"top\">Sam3</th>\n",
       "      <th>baseline</th>\n",
       "      <td>9.275000</td>\n",
       "      <td>0.432210</td>\n",
       "    </tr>\n",
       "    <tr>\n",
       "      <th>meditation</th>\n",
       "      <td>9.086207</td>\n",
       "      <td>0.973478</td>\n",
       "    </tr>\n",
       "    <tr>\n",
       "      <th rowspan=\"2\" valign=\"top\">Sam4</th>\n",
       "      <th>baseline</th>\n",
       "      <td>9.687500</td>\n",
       "      <td>0.544862</td>\n",
       "    </tr>\n",
       "    <tr>\n",
       "      <th>meditation</th>\n",
       "      <td>9.475000</td>\n",
       "      <td>0.588503</td>\n",
       "    </tr>\n",
       "    <tr>\n",
       "      <th rowspan=\"2\" valign=\"top\">Raphaël</th>\n",
       "      <th>baseline</th>\n",
       "      <td>10.250000</td>\n",
       "      <td>0.581580</td>\n",
       "    </tr>\n",
       "    <tr>\n",
       "      <th>meditation</th>\n",
       "      <td>10.109375</td>\n",
       "      <td>0.615451</td>\n",
       "    </tr>\n",
       "    <tr>\n",
       "      <th rowspan=\"2\" valign=\"top\">Raphaël2</th>\n",
       "      <th>baseline</th>\n",
       "      <td>9.897059</td>\n",
       "      <td>0.785905</td>\n",
       "    </tr>\n",
       "    <tr>\n",
       "      <th>meditation</th>\n",
       "      <td>9.947674</td>\n",
       "      <td>0.778349</td>\n",
       "    </tr>\n",
       "    <tr>\n",
       "      <th rowspan=\"2\" valign=\"top\">Raphaël3</th>\n",
       "      <th>baseline</th>\n",
       "      <td>10.288462</td>\n",
       "      <td>0.487833</td>\n",
       "    </tr>\n",
       "    <tr>\n",
       "      <th>meditation</th>\n",
       "      <td>10.302326</td>\n",
       "      <td>0.799103</td>\n",
       "    </tr>\n",
       "    <tr>\n",
       "      <th rowspan=\"2\" valign=\"top\">Arnaud</th>\n",
       "      <th>baseline</th>\n",
       "      <td>11.750000</td>\n",
       "      <td>0.000000</td>\n",
       "    </tr>\n",
       "    <tr>\n",
       "      <th>meditation</th>\n",
       "      <td>11.175676</td>\n",
       "      <td>0.818333</td>\n",
       "    </tr>\n",
       "  </tbody>\n",
       "</table>\n",
       "</div>"
      ],
      "text/plain": [
       "                          mean       std\n",
       "Adélie   baseline     9.977273  0.261116\n",
       "         meditation  10.293103  0.306689\n",
       "Sam      baseline    10.022727  0.529794\n",
       "         meditation  10.086207  0.609727\n",
       "Sam2     baseline     9.923913  0.618993\n",
       "         meditation   9.560345  0.830918\n",
       "Sam3     baseline     9.275000  0.432210\n",
       "         meditation   9.086207  0.973478\n",
       "Sam4     baseline     9.687500  0.544862\n",
       "         meditation   9.475000  0.588503\n",
       "Raphaël  baseline    10.250000  0.581580\n",
       "         meditation  10.109375  0.615451\n",
       "Raphaël2 baseline     9.897059  0.785905\n",
       "         meditation   9.947674  0.778349\n",
       "Raphaël3 baseline    10.288462  0.487833\n",
       "         meditation  10.302326  0.799103\n",
       "Arnaud   baseline    11.750000  0.000000\n",
       "         meditation  11.175676  0.818333"
      ]
     },
     "execution_count": 146,
     "metadata": {},
     "output_type": "execute_result"
    }
   ],
   "source": [
    "df = pd.concat([alpha_freq_ad, alpha_freq_sam, alpha_freq_sam2, alpha_freq_sam3, alpha_freq_sam4, alpha_freq_rap, alpha_freq_rap2, alpha_freq_rap3, alpha_freq_arn], \n",
    "               axis=1, keys=['Adélie', 'Sam', 'Sam2', 'Sam3', 'Sam4', 'Raphaël', 'Raphaël2', 'Raphaël3', 'Arnaud'])\n",
    "df.transpose()"
   ]
  },
  {
   "cell_type": "code",
   "execution_count": 260,
   "metadata": {},
   "outputs": [
    {
     "data": {
      "text/html": [
       "<div>\n",
       "<style scoped>\n",
       "    .dataframe tbody tr th:only-of-type {\n",
       "        vertical-align: middle;\n",
       "    }\n",
       "\n",
       "    .dataframe tbody tr th {\n",
       "        vertical-align: top;\n",
       "    }\n",
       "\n",
       "    .dataframe thead th {\n",
       "        text-align: right;\n",
       "    }\n",
       "</style>\n",
       "<table border=\"1\" class=\"dataframe\">\n",
       "  <thead>\n",
       "    <tr style=\"text-align: right;\">\n",
       "      <th></th>\n",
       "      <th></th>\n",
       "      <th>mean</th>\n",
       "      <th>std</th>\n",
       "    </tr>\n",
       "  </thead>\n",
       "  <tbody>\n",
       "    <tr>\n",
       "      <th rowspan=\"2\" valign=\"top\">Matthieu Ricard</th>\n",
       "      <th>baseline</th>\n",
       "      <td>10.430556</td>\n",
       "      <td>0.552950</td>\n",
       "    </tr>\n",
       "    <tr>\n",
       "      <th>meditation</th>\n",
       "      <td>9.395833</td>\n",
       "      <td>1.266851</td>\n",
       "    </tr>\n",
       "  </tbody>\n",
       "</table>\n",
       "</div>"
      ],
      "text/plain": [
       "                                 mean       std\n",
       "Matthieu Ricard baseline    10.430556  0.552950\n",
       "                meditation   9.395833  1.266851"
      ]
     },
     "execution_count": 260,
     "metadata": {},
     "output_type": "execute_result"
    }
   ],
   "source": [
    "df = pd.concat([alpha_freq_mr], \n",
    "               axis=1, keys=['Matthieu Ricard'])\n",
    "\n",
    "df.transpose()"
   ]
  },
  {
   "cell_type": "markdown",
   "metadata": {},
   "source": [
    "## 2. One band in a subset of electrodes"
   ]
  },
  {
   "cell_type": "markdown",
   "metadata": {},
   "source": [
    "### General"
   ]
  },
  {
   "cell_type": "code",
   "execution_count": 80,
   "metadata": {},
   "outputs": [],
   "source": [
    "def get_concat_bandpower(data_type, subject=\"adelie\", config=cfg):\n",
    "    dfs = [\n",
    "        helpers.load_bandpower_all_epochs_df(data_type, subject=subject, recording=recording, config=config).swaplevel(0,1)\n",
    "        for recording in range(\n",
    "            len(config[\"paths\"][\"subjects\"][subject][\"recordings\"][data_type])\n",
    "        )\n",
    "    ]\n",
    "\n",
    "    for i in range(len(dfs) - 1):\n",
    "        new_time_level =  dfs[i + 1].index.levels[0] + dfs[i].index.get_level_values(0).max()\n",
    "        dfs[i + 1].index.set_levels(new_time_level, level=0, inplace=True)\n",
    "\n",
    "    concatenated = pd.concat(dfs)\n",
    "    return concatenated"
   ]
  },
  {
   "cell_type": "code",
   "execution_count": 238,
   "metadata": {},
   "outputs": [],
   "source": [
    "def select_band_for_electrodes(electrodes, band=\"theta\", subject=\"adelie\"):\n",
    "    \n",
    "    baseline = get_concat_bandpower(\n",
    "        \"baseline\", config=cfg, subject=subject)\n",
    "    meditation = get_concat_bandpower(\n",
    "        \"meditation\", config=cfg, subject=subject)\n",
    "\n",
    "    baseline_band_electrodes = baseline.xs(band, level=1)[electrodes]\n",
    "    meditation_band_electrodes = meditation.xs(band, level=1)[electrodes]\n",
    "\n",
    "    merged = pd.concat([baseline_band_electrodes, meditation_band_electrodes], keys=['baseline', 'meditation'])\n",
    "    \n",
    "    return merged"
   ]
  },
  {
   "cell_type": "code",
   "execution_count": 239,
   "metadata": {},
   "outputs": [],
   "source": [
    "frontal_electrodes = ['Fp1', 'Fp2', 'F7', 'F3', 'Fz', 'F4', 'F8']"
   ]
  },
  {
   "cell_type": "code",
   "execution_count": 240,
   "metadata": {},
   "outputs": [],
   "source": [
    "parieto_occipital_electrodes = ['O1', 'O2', 'P3', 'Pz', 'P4']"
   ]
  },
  {
   "cell_type": "code",
   "execution_count": 84,
   "metadata": {},
   "outputs": [],
   "source": [
    "temporal_electrodes = ['T3', 'T4', 'T5', 'T6']"
   ]
  },
  {
   "cell_type": "code",
   "execution_count": 85,
   "metadata": {},
   "outputs": [],
   "source": [
    "central_electrodes = ['C3', 'Cz', 'C4']"
   ]
  },
  {
   "cell_type": "code",
   "execution_count": 86,
   "metadata": {},
   "outputs": [],
   "source": [
    "all_electrodes = ['Fp1', 'Fp2', 'F7', 'F3', 'Fz', 'F4', 'F8', 'O1', 'O2', 'P3', 'Pz', 'P4', 'T3', 'T4', 'T5', 'T6', 'C3', 'Cz', 'C4']"
   ]
  },
  {
   "cell_type": "code",
   "execution_count": 87,
   "metadata": {},
   "outputs": [
    {
     "data": {
      "text/plain": [
       "19"
      ]
     },
     "execution_count": 87,
     "metadata": {},
     "output_type": "execute_result"
    }
   ],
   "source": [
    "len(all_electrodes)"
   ]
  },
  {
   "cell_type": "markdown",
   "metadata": {},
   "source": [
    "### Download CSV for MNE maps (predefined metrics)"
   ]
  },
  {
   "cell_type": "code",
   "execution_count": 277,
   "metadata": {},
   "outputs": [],
   "source": [
    "reload(helpers)\n",
    "reload(configuration)\n",
    "from src.configuration import cfg_mr"
   ]
  },
  {
   "cell_type": "code",
   "execution_count": 190,
   "metadata": {},
   "outputs": [],
   "source": [
    "baseline_bandpowers_mr = helpers.load_bandpower_all_epochs_all_recordings_df('baseline', subject='mr', config=cfg_mr)\n",
    "meditation_bandpowers_mr = helpers.load_bandpower_all_epochs_all_recordings_df('meditation', subject='mr', config=cfg_mr)"
   ]
  },
  {
   "cell_type": "markdown",
   "metadata": {},
   "source": [
    "Theta band"
   ]
  },
  {
   "cell_type": "code",
   "execution_count": 131,
   "metadata": {},
   "outputs": [],
   "source": [
    "ratio_theta_adelie = metrics.get_ratio_band(baseline_bandpowers_adelie, meditation_bandpowers_adelie, 'theta', \"ratio_theta_adelie.csv\")"
   ]
  },
  {
   "cell_type": "code",
   "execution_count": 132,
   "metadata": {},
   "outputs": [],
   "source": [
    "ratio_theta_sam = metrics.get_ratio_band(baseline_bandpowers_sam, meditation_bandpowers_sam, 'theta', \"ratio_theta_sam.csv\")\n",
    "ratio_theta_sam2 = metrics.get_ratio_band(baseline_bandpowers_sam2, meditation_bandpowers_sam2, 'theta', \"ratio_theta_sam2.csv\")\n",
    "ratio_theta_sam3 = metrics.get_ratio_band(baseline_bandpowers_sam3, meditation_bandpowers_sam3, 'theta', \"ratio_theta_sam3.csv\")\n",
    "ratio_theta_sam4 = metrics.get_ratio_band(baseline_bandpowers_sam4, meditation_bandpowers_sam4, 'theta', \"ratio_theta_sam4.csv\")"
   ]
  },
  {
   "cell_type": "code",
   "execution_count": 133,
   "metadata": {},
   "outputs": [],
   "source": [
    "ratio_theta_rap = metrics.get_ratio_band(baseline_bandpowers_rap, meditation_bandpowers_rap, 'theta', \"ratio_theta_rap.csv\")\n",
    "ratio_theta_rap2 = metrics.get_ratio_band(baseline_bandpowers_rap2, meditation_bandpowers_rap2, 'theta', \"ratio_theta_rap2.csv\")\n",
    "ratio_theta_rap3 = metrics.get_ratio_band(baseline_bandpowers_rap3, meditation_bandpowers_rap3, 'theta', \"ratio_theta_rap3.csv\")"
   ]
  },
  {
   "cell_type": "code",
   "execution_count": 134,
   "metadata": {},
   "outputs": [],
   "source": [
    "ratio_theta_arn = metrics.get_ratio_band(baseline_bandpowers_arn, meditation_bandpowers_arn, 'theta', \"ratio_theta_arn.csv\")"
   ]
  },
  {
   "cell_type": "code",
   "execution_count": null,
   "metadata": {},
   "outputs": [],
   "source": [
    "ratio_theta_mr = metrics.get_ratio_band(baseline_bandpowers_mr, meditation_bandpowers_mr, 'theta', \"ratio_theta_mr.csv\")"
   ]
  },
  {
   "cell_type": "markdown",
   "metadata": {},
   "source": [
    "Delta band"
   ]
  },
  {
   "cell_type": "code",
   "execution_count": 119,
   "metadata": {},
   "outputs": [],
   "source": [
    "ratio_delta_adelie = metrics.get_ratio_band(baseline_bandpowers_adelie, meditation_bandpowers_adelie, 'delta', \"ratio_delta_adelie.csv\")"
   ]
  },
  {
   "cell_type": "code",
   "execution_count": 99,
   "metadata": {},
   "outputs": [],
   "source": [
    "ratio_delta_sam = metrics.get_ratio_band(baseline_bandpowers_sam, meditation_bandpowers_sam, 'delta', \"ratio_delta_sam.csv\")\n",
    "ratio_delta_sam2 = metrics.get_ratio_band(baseline_bandpowers_sam2, meditation_bandpowers_sam2, 'delta', \"ratio_delta_sam2.csv\")\n",
    "ratio_delta_sam3 = metrics.get_ratio_band(baseline_bandpowers_sam3, meditation_bandpowers_sam3, 'delta', \"ratio_delta_sam3.csv\")\n",
    "ratio_delta_sam4 = metrics.get_ratio_band(baseline_bandpowers_sam4, meditation_bandpowers_sam4, 'delta', \"ratio_delta_sam4.csv\")"
   ]
  },
  {
   "cell_type": "code",
   "execution_count": 121,
   "metadata": {},
   "outputs": [],
   "source": [
    "ratio_delta_rap = metrics.get_ratio_band(baseline_bandpowers_rap, meditation_bandpowers_rap, 'delta', \"ratio_delta_rap.csv\")\n",
    "ratio_delta_rap2 = metrics.get_ratio_band(baseline_bandpowers_rap2, meditation_bandpowers_rap2, 'delta', \"ratio_delta_rap2.csv\")\n",
    "ratio_delta_rap3 = metrics.get_ratio_band(baseline_bandpowers_rap3, meditation_bandpowers_rap3, 'delta', \"ratio_delta_rap3.csv\")"
   ]
  },
  {
   "cell_type": "code",
   "execution_count": 122,
   "metadata": {},
   "outputs": [],
   "source": [
    "ratio_delta_arn = metrics.get_ratio_band(baseline_bandpowers_arn, meditation_bandpowers_arn, 'delta', \"ratio_delta_arn.csv\")"
   ]
  },
  {
   "cell_type": "code",
   "execution_count": 191,
   "metadata": {},
   "outputs": [],
   "source": [
    "ratio_delta_mr = metrics.get_ratio_band(baseline_bandpowers_mr, meditation_bandpowers_mr, 'delta', \"ratio_delta_mr.csv\")"
   ]
  },
  {
   "cell_type": "code",
   "execution_count": null,
   "metadata": {},
   "outputs": [],
   "source": []
  },
  {
   "cell_type": "markdown",
   "metadata": {},
   "source": [
    "Gamma band"
   ]
  },
  {
   "cell_type": "code",
   "execution_count": 123,
   "metadata": {},
   "outputs": [],
   "source": [
    "ratio_gamma_adelie = metrics.get_ratio_band(baseline_bandpowers_adelie, meditation_bandpowers_adelie, 'gamma', \"ratio_gamma_adelie.csv\")"
   ]
  },
  {
   "cell_type": "code",
   "execution_count": 124,
   "metadata": {},
   "outputs": [],
   "source": [
    "ratio_gamma_sam = metrics.get_ratio_band(baseline_bandpowers_sam, meditation_bandpowers_sam, 'gamma', \"ratio_gamma_sam.csv\")\n",
    "ratio_gamma_sam2 = metrics.get_ratio_band(baseline_bandpowers_sam2, meditation_bandpowers_sam2, 'gamma', \"ratio_gamma_sam2.csv\")\n",
    "ratio_gamma_sam3 = metrics.get_ratio_band(baseline_bandpowers_sam3, meditation_bandpowers_sam3, 'gamma', \"ratio_gamma_sam3.csv\")\n",
    "ratio_gamma_sam4 = metrics.get_ratio_band(baseline_bandpowers_sam4, meditation_bandpowers_sam4, 'gamma', \"ratio_gamma_sam4.csv\")"
   ]
  },
  {
   "cell_type": "code",
   "execution_count": 126,
   "metadata": {},
   "outputs": [],
   "source": [
    "ratio_gamma_rap = metrics.get_ratio_band(baseline_bandpowers_rap, meditation_bandpowers_rap, 'gamma', \"ratio_gamma_rap.csv\")\n",
    "ratio_gamma_rap2 = metrics.get_ratio_band(baseline_bandpowers_rap2, meditation_bandpowers_rap2, 'gamma', \"ratio_gamma_rap2.csv\")\n",
    "ratio_gamma_rap3 = metrics.get_ratio_band(baseline_bandpowers_rap3, meditation_bandpowers_rap3, 'gamma', \"ratio_gamma_rap3.csv\")"
   ]
  },
  {
   "cell_type": "code",
   "execution_count": 125,
   "metadata": {},
   "outputs": [],
   "source": [
    "ratio_gamma_arn = metrics.get_ratio_band(baseline_bandpowers_arn, meditation_bandpowers_arn, 'gamma', \"ratio_gamma_arn.csv\")"
   ]
  },
  {
   "cell_type": "code",
   "execution_count": 193,
   "metadata": {},
   "outputs": [],
   "source": [
    "ratio_gamma_mr = metrics.get_ratio_band(baseline_bandpowers_mr, meditation_bandpowers_mr, 'gamma', \"ratio_gamma_mr.csv\")"
   ]
  },
  {
   "cell_type": "markdown",
   "metadata": {},
   "source": [
    "Alpha/Theta band"
   ]
  },
  {
   "cell_type": "code",
   "execution_count": 128,
   "metadata": {},
   "outputs": [],
   "source": [
    "ratio_at_adelie = metrics.get_ratio_band(baseline_bandpowers_adelie, meditation_bandpowers_adelie, 'alpha / theta', \"ratio_at_adelie.csv\")"
   ]
  },
  {
   "cell_type": "code",
   "execution_count": 129,
   "metadata": {},
   "outputs": [],
   "source": [
    "ratio_at_sam = metrics.get_ratio_band(baseline_bandpowers_sam, meditation_bandpowers_sam, 'alpha / theta', \"ratio_at_sam.csv\")\n",
    "ratio_at_sam2 = metrics.get_ratio_band(baseline_bandpowers_sam2, meditation_bandpowers_sam2, 'alpha / theta', \"ratio_at_sam2.csv\")\n",
    "ratio_at_sam3 = metrics.get_ratio_band(baseline_bandpowers_sam3, meditation_bandpowers_sam3, 'alpha / theta', \"ratio_at_sam3.csv\")\n",
    "ratio_at_sam4 = metrics.get_ratio_band(baseline_bandpowers_sam4, meditation_bandpowers_sam4, 'alpha / theta', \"ratio_at_sam4.csv\")"
   ]
  },
  {
   "cell_type": "code",
   "execution_count": 130,
   "metadata": {},
   "outputs": [],
   "source": [
    "ratio_at_rap = metrics.get_ratio_band(baseline_bandpowers_rap, meditation_bandpowers_rap, 'alpha / theta', \"ratio_at_rap.csv\")\n",
    "ratio_at_rap2 = metrics.get_ratio_band(baseline_bandpowers_rap2, meditation_bandpowers_rap2, 'alpha / theta', \"ratio_at_rap2.csv\")\n",
    "ratio_at_rap3 = metrics.get_ratio_band(baseline_bandpowers_rap3, meditation_bandpowers_rap3, 'alpha / theta', \"ratio_at_rap3.csv\")"
   ]
  },
  {
   "cell_type": "code",
   "execution_count": 127,
   "metadata": {},
   "outputs": [],
   "source": [
    "ratio_at_arn = metrics.get_ratio_band(baseline_bandpowers_arn, meditation_bandpowers_arn, 'alpha / theta', \"ratio_at_arn.csv\")"
   ]
  },
  {
   "cell_type": "code",
   "execution_count": 192,
   "metadata": {},
   "outputs": [],
   "source": [
    "ratio_at_mr = metrics.get_ratio_band(baseline_bandpowers_mr, meditation_bandpowers_mr, 'alpha / theta', \"ratio_at_mr.csv\")"
   ]
  },
  {
   "cell_type": "markdown",
   "metadata": {},
   "source": [
    "### Frontal Theta, should increase"
   ]
  },
  {
   "cell_type": "code",
   "execution_count": 13,
   "metadata": {},
   "outputs": [
    {
     "data": {
      "text/plain": [
       "Fp1        (0.7963455935526188, 0.42982295811171)\n",
       "Fp2     (0.7834185579242573, 0.43889997679665915)\n",
       "F7      (-1.8238688384373287, 0.0726986683372219)\n",
       "F3     (-1.1777626611184013, 0.24456987252573195)\n",
       "Fz      (0.08920149355118649, 0.9293981765948736)\n",
       "F4      (-0.3883171966657533, 0.7001914682530179)\n",
       "F8      (-0.9619935794034079, 0.3410741003152009)\n",
       "dtype: object"
      ]
     },
     "execution_count": 13,
     "metadata": {},
     "output_type": "execute_result"
    }
   ],
   "source": [
    "concat_adelie_theta_frontal = select_band_for_electrodes(frontal_electrodes, band=\"theta\", subject=\"adelie\")\n",
    "\n",
    "# ttest\n",
    "from scipy.stats import ttest_ind\n",
    "\n",
    "# ttest over all frontal electrodes\n",
    "ttest_adelie_theta_frontal = concat_adelie_theta_frontal.agg(lambda x: ttest_ind(x.xs('baseline', level=0), x.xs('meditation', level=0), equal_var=False, nan_policy='omit'))\n",
    "ttest_adelie_theta_frontal"
   ]
  },
  {
   "cell_type": "code",
   "execution_count": 129,
   "metadata": {},
   "outputs": [
    {
     "name": "stdout",
     "output_type": "stream",
     "text": [
      "The FWER threshold is 0.0071428571428571435\n",
      "The pvalues are \n",
      " Fp1    0.429823\n",
      "Fp2    0.438900\n",
      "F7     0.072699\n",
      "F3     0.244570\n",
      "Fz     0.929398\n",
      "F4     0.700191\n",
      "F8     0.341074\n",
      "dtype: float64\n",
      "The significant pvalues are \n",
      " Series([], dtype: float64)\n"
     ]
    },
    {
     "name": "stderr",
     "output_type": "stream",
     "text": [
      "C:\\Users\\adeli\\Anaconda3\\lib\\site-packages\\ipykernel_launcher.py:9: FutureWarning: The signature of `Series.to_csv` was aligned to that of `DataFrame.to_csv`, and argument 'header' will change its default value from False to True: please pass an explicit value to suppress this warning.\n",
      "  if __name__ == '__main__':\n"
     ]
    }
   ],
   "source": [
    "# FWER corrected ttest: ttest over 7 frontal electrodes\n",
    "FWER_threshold = 0.05 / 7\n",
    "print(\"The FWER threshold is\", FWER_threshold)\n",
    "\n",
    "p_values_adelie_theta_frontal = ttest_adelie_theta_frontal.map(lambda x: x[1])\n",
    "print(\"The pvalues are \\n\", p_values_adelie_theta_frontal)\n",
    "\n",
    "# download to CSV only significant pvalues\n",
    "p_values_adelie_theta_frontal[p_values_adelie_theta_frontal < FWER_threshold].to_csv('p_values_adelie_theta_frontal.csv')\n",
    "print(\"The significant pvalues are \\n\", p_values_adelie_theta_frontal[p_values_adelie_theta_frontal < FWER_threshold])"
   ]
  },
  {
   "cell_type": "code",
   "execution_count": 17,
   "metadata": {},
   "outputs": [
    {
     "data": {
      "text/plain": [
       "Text(0.5, 1.0, 'Spectral power in Theta band in frontal electrodes / Adélie')"
      ]
     },
     "execution_count": 17,
     "metadata": {},
     "output_type": "execute_result"
    },
    {
     "data": {
      "image/png": "[encoded data removed]",
      "text/plain": [
       "<Figure size 432x288 with 1 Axes>"
      ]
     },
     "metadata": {
      "needs_background": "light"
     },
     "output_type": "display_data"
    }
   ],
   "source": [
    "concat_adelie_theta_frontal['AVG'] = concat_adelie_theta_frontal.mean(axis=1)\n",
    "concat_adelie_theta_frontal.mean(level=0).transpose().plot.bar()\n",
    "plt.title(\"Spectral power in Theta band in frontal electrodes / Adélie\")"
   ]
  },
  {
   "cell_type": "code",
   "execution_count": 89,
   "metadata": {},
   "outputs": [
    {
     "data": {
      "text/plain": [
       "Fp1    (3.7563024277719315, 0.00042776546976602933)\n",
       "Fp2     (3.6423650741982434, 0.0005812305856618818)\n",
       "F7        (-0.5925706521467837, 0.5554955149281868)\n",
       "F3       (-3.31731003580362, 0.0014344532251980044)\n",
       "Fz     (-5.503818492043754, 3.2203187798258004e-07)\n",
       "F4     (-10.809658665255357, 3.746641528434547e-19)\n",
       "F8       (2.8950879035344177, 0.005464220980293568)\n",
       "dtype: object"
      ]
     },
     "execution_count": 89,
     "metadata": {},
     "output_type": "execute_result"
    }
   ],
   "source": [
    "concat_sam_theta_frontal = select_band_for_electrodes(frontal_electrodes, band=\"theta\", subject=\"sam\")\n",
    "\n",
    "# ttest over all frontal electrodes\n",
    "ttest_sam_theta_frontal = concat_sam_theta_frontal.agg(lambda x: ttest_ind(x.xs('baseline', level=0), x.xs('meditation', level=0), equal_var=False, nan_policy='omit'))\n",
    "ttest_sam_theta_frontal"
   ]
  },
  {
   "cell_type": "code",
   "execution_count": 128,
   "metadata": {},
   "outputs": [
    {
     "name": "stdout",
     "output_type": "stream",
     "text": [
      "The FWER threshold is 0.0071428571428571435\n",
      "The pvalues are \n",
      " Fp1    4.277655e-04\n",
      "Fp2    5.812306e-04\n",
      "F7     5.554955e-01\n",
      "F3     1.434453e-03\n",
      "Fz     3.220319e-07\n",
      "F4     3.746642e-19\n",
      "F8     5.464221e-03\n",
      "dtype: float64\n",
      "The significant pvalues are \n",
      " Fp1    4.277655e-04\n",
      "Fp2    5.812306e-04\n",
      "F3     1.434453e-03\n",
      "Fz     3.220319e-07\n",
      "F4     3.746642e-19\n",
      "F8     5.464221e-03\n",
      "dtype: float64\n"
     ]
    },
    {
     "name": "stderr",
     "output_type": "stream",
     "text": [
      "C:\\Users\\adeli\\Anaconda3\\lib\\site-packages\\ipykernel_launcher.py:9: FutureWarning: The signature of `Series.to_csv` was aligned to that of `DataFrame.to_csv`, and argument 'header' will change its default value from False to True: please pass an explicit value to suppress this warning.\n",
      "  if __name__ == '__main__':\n"
     ]
    }
   ],
   "source": [
    "# FWER corrected ttest: ttest over 7 frontal electrodes\n",
    "FWER_threshold = 0.05 / 7\n",
    "print(\"The FWER threshold is\", FWER_threshold)\n",
    "\n",
    "p_values_sam_theta_frontal = ttest_sam_theta_frontal.map(lambda x: x[1])\n",
    "print(\"The pvalues are \\n\", p_values_sam_theta_frontal)\n",
    "\n",
    "# download to CSV only significant pvalues\n",
    "p_values_sam_theta_frontal[p_values_sam_theta_frontal < FWER_threshold].to_csv('p_values_sam_theta_frontal.csv')\n",
    "print(\"The significant pvalues are \\n\", p_values_sam_theta_frontal[p_values_sam_theta_frontal < FWER_threshold])"
   ]
  },
  {
   "cell_type": "code",
   "execution_count": 107,
   "metadata": {},
   "outputs": [
    {
     "data": {
      "text/plain": [
       "<matplotlib.axes._subplots.AxesSubplot at 0x1a990e090f0>"
      ]
     },
     "execution_count": 107,
     "metadata": {},
     "output_type": "execute_result"
    },
    {
     "data": {
      "image/png": "[encoded data removed]",
      "text/plain": [
       "<Figure size 432x288 with 1 Axes>"
      ]
     },
     "metadata": {
      "needs_background": "light"
     },
     "output_type": "display_data"
    }
   ],
   "source": [
    "concat_sam_theta_frontal['AVG'] = concat_sam_theta_frontal.mean(axis=1)\n",
    "concat_sam_theta_frontal.mean(level=0).transpose().plot.bar()\n",
    "plt.title(\"Spectral power in Theta band in frontal electrodes / Sam\")"
   ]
  },
  {
   "cell_type": "markdown",
   "metadata": {},
   "source": [
    "### Pariéto-occipital Gamma, should increase"
   ]
  },
  {
   "cell_type": "code",
   "execution_count": null,
   "metadata": {},
   "outputs": [],
   "source": [
    "concat_adelie_gamma_parieto_occipital = select_band_for_electrodes(parieto_occipital_electrodes, band=\"gamma\", subject=\"adelie\")\n",
    "\n",
    "# ttest\n",
    "from scipy.stats import ttest_ind\n",
    "\n",
    "# ttest over all parieto-occipital electrodes\n",
    "ttest_adelie_gamma_parieto_occipital = concat_adelie_gamma_parieto_occipital.agg(lambda x: ttest_ind(x.xs('baseline', level=0), x.xs('meditation', level=0), equal_var=False, nan_policy='omit'))"
   ]
  },
  {
   "cell_type": "code",
   "execution_count": 124,
   "metadata": {},
   "outputs": [
    {
     "name": "stdout",
     "output_type": "stream",
     "text": [
      "The FWER threshold is 0.01\n",
      "The pvalues are \n",
      " O1    0.054056\n",
      "O2    0.000485\n",
      "P3    0.039605\n",
      "Pz    0.719012\n",
      "P4    0.152218\n",
      "dtype: float64\n",
      "The significant pvalues are \n",
      " O2    0.000485\n",
      "dtype: float64\n"
     ]
    },
    {
     "name": "stderr",
     "output_type": "stream",
     "text": [
      "C:\\Users\\adeli\\Anaconda3\\lib\\site-packages\\ipykernel_launcher.py:8: FutureWarning: The signature of `Series.to_csv` was aligned to that of `DataFrame.to_csv`, and argument 'header' will change its default value from False to True: please pass an explicit value to suppress this warning.\n",
      "  \n"
     ]
    }
   ],
   "source": [
    "# FWER corrected ttest: ttest over 5 parieto-occipital electrodes\n",
    "FWER_threshold = 0.05 / 5\n",
    "print(\"The FWER threshold is\", FWER_threshold)\n",
    "p_values_adelie_gamma_parieto_occipital = ttest_adelie_gamma_parieto_occipital.map(lambda x: x[1])\n",
    "print(\"The pvalues are \\n\", p_values_adelie_gamma_parieto_occipital)\n",
    "\n",
    "# download to CSV only significant pvalues\n",
    "p_values_adelie_gamma_parieto_occipital[p_values_adelie_gamma_parieto_occipital < FWER_threshold].to_csv('p_values_adelie_gamma_parieto_occipital.csv')\n",
    "print(\"The significant pvalues are \\n\", p_values_adelie_gamma_parieto_occipital[p_values_adelie_gamma_parieto_occipital < FWER_threshold])"
   ]
  },
  {
   "cell_type": "code",
   "execution_count": 118,
   "metadata": {},
   "outputs": [
    {
     "data": {
      "text/plain": [
       "<matplotlib.axes._subplots.AxesSubplot at 0x1a990ded4e0>"
      ]
     },
     "execution_count": 118,
     "metadata": {},
     "output_type": "execute_result"
    },
    {
     "data": {
      "image/png": "[encoded data removed]",
      "text/plain": [
       "<Figure size 432x288 with 1 Axes>"
      ]
     },
     "metadata": {
      "needs_background": "light"
     },
     "output_type": "display_data"
    }
   ],
   "source": [
    "concat_adelie_gamma_parieto_occipital['AVG'] = concat_adelie_gamma_parieto_occipital.mean(axis=1)\n",
    "concat_adelie_gamma_parieto_occipital.mean(level=0).transpose().plot.bar()\n",
    "plt.title(\"Spectral power in Gamma band in parietooccipital electrodes / Adélie\")"
   ]
  },
  {
   "cell_type": "code",
   "execution_count": 125,
   "metadata": {},
   "outputs": [
    {
     "data": {
      "text/plain": [
       "O1       (0.13106379559201073, 0.8963143810302566)\n",
       "O2    (-4.663318985340179, 1.1369476866117593e-05)\n",
       "P3       (-0.5967960311227196, 0.5539472924807032)\n",
       "Pz        (1.8955514957374788, 0.0647559534149131)\n",
       "P4      (-0.10358707140562243, 0.9180259455155778)\n",
       "dtype: object"
      ]
     },
     "execution_count": 125,
     "metadata": {},
     "output_type": "execute_result"
    }
   ],
   "source": [
    "concat_sam_gamma_parieto_occipital = select_band_for_electrodes(parieto_occipital_electrodes, band=\"gamma\", subject=\"sam\")\n",
    "\n",
    "# ttest\n",
    "from scipy.stats import ttest_ind\n",
    "\n",
    "# ttest over all parieto-occipital electrodes\n",
    "ttest_sam_gamma_parieto_occipital = concat_sam_gamma_parieto_occipital.agg(lambda x: ttest_ind(x.xs('baseline', level=0), x.xs('meditation', level=0), equal_var=False, nan_policy='omit'))\n",
    "ttest_sam_gamma_parieto_occipital"
   ]
  },
  {
   "cell_type": "code",
   "execution_count": 126,
   "metadata": {},
   "outputs": [
    {
     "name": "stdout",
     "output_type": "stream",
     "text": [
      "The FWER threshold is 0.01\n",
      "The pvalues are \n",
      " O1    0.896314\n",
      "O2    0.000011\n",
      "P3    0.553947\n",
      "Pz    0.064756\n",
      "P4    0.918026\n",
      "dtype: float64\n",
      "The significant pvalues are \n",
      " O2    0.000011\n",
      "dtype: float64\n"
     ]
    },
    {
     "name": "stderr",
     "output_type": "stream",
     "text": [
      "C:\\Users\\adeli\\Anaconda3\\lib\\site-packages\\ipykernel_launcher.py:9: FutureWarning: The signature of `Series.to_csv` was aligned to that of `DataFrame.to_csv`, and argument 'header' will change its default value from False to True: please pass an explicit value to suppress this warning.\n",
      "  if __name__ == '__main__':\n"
     ]
    }
   ],
   "source": [
    "# FWER corrected ttest: ttest over 5 parieto-occipital electrodes\n",
    "FWER_threshold = 0.05 / 5\n",
    "print(\"The FWER threshold is\", FWER_threshold)\n",
    "\n",
    "p_values_sam_gamma_parieto_occipital = ttest_sam_gamma_parieto_occipital.map(lambda x: x[1])\n",
    "print(\"The pvalues are \\n\", p_values_sam_gamma_parieto_occipital)\n",
    "\n",
    "# download to CSV only significant pvalues\n",
    "p_values_sam_gamma_parieto_occipital[p_values_sam_gamma_parieto_occipital < FWER_threshold].to_csv('p_values_sam_gamma_parieto_occipital.csv')\n",
    "print(\"The significant pvalues are \\n\", p_values_sam_gamma_parieto_occipital[p_values_sam_gamma_parieto_occipital < FWER_threshold])"
   ]
  },
  {
   "cell_type": "code",
   "execution_count": 127,
   "metadata": {},
   "outputs": [
    {
     "data": {
      "text/plain": [
       "<matplotlib.axes._subplots.AxesSubplot at 0x1a9914354a8>"
      ]
     },
     "execution_count": 127,
     "metadata": {},
     "output_type": "execute_result"
    },
    {
     "data": {
      "image/png": "[encoded data removed]",
      "text/plain": [
       "<Figure size 432x288 with 1 Axes>"
      ]
     },
     "metadata": {
      "needs_background": "light"
     },
     "output_type": "display_data"
    }
   ],
   "source": [
    "concat_sam_gamma_parieto_occipital['AVG'] = concat_sam_gamma_parieto_occipital.mean(axis=1)\n",
    "concat_sam_gamma_parieto_occipital.mean(level=0).transpose().plot.bar()\n",
    "plt.title(\"Spectral power in Gamma band in parietooccipital electrodes / Sam\")"
   ]
  },
  {
   "cell_type": "markdown",
   "metadata": {},
   "source": [
    "### Frontal Delta, should decrease"
   ]
  },
  {
   "cell_type": "code",
   "execution_count": 14,
   "metadata": {},
   "outputs": [
    {
     "data": {
      "text/plain": [
       "Fp1     (0.44991017676874423, 0.6552221525782596)\n",
       "Fp2     (0.24987033825940977, 0.8041138990619763)\n",
       "F7       (-1.775032648312552, 0.0800518486390491)\n",
       "F3      (-0.9422749318541406, 0.3516437020947507)\n",
       "Fz      (0.21080928604361468, 0.8342924264605935)\n",
       "F4     (-0.09646067706200968, 0.9237375210816438)\n",
       "F8       (0.9155433780248282, 0.3667094896979448)\n",
       "dtype: object"
      ]
     },
     "execution_count": 14,
     "metadata": {},
     "output_type": "execute_result"
    }
   ],
   "source": [
    "concat_adelie_delta_frontal = select_band_for_electrodes(frontal_electrodes, band=\"delta\", subject=\"adelie\")\n",
    "\n",
    "# ttest\n",
    "from scipy.stats import ttest_ind\n",
    "\n",
    "# ttest over all frontal electrodes\n",
    "ttest_adelie_delta_frontal = concat_adelie_delta_frontal.agg(lambda x: ttest_ind(x.xs('baseline', level=0), x.xs('meditation', level=0), equal_var=False, nan_policy='omit'))\n",
    "ttest_adelie_delta_frontal"
   ]
  },
  {
   "cell_type": "code",
   "execution_count": 15,
   "metadata": {},
   "outputs": [
    {
     "name": "stdout",
     "output_type": "stream",
     "text": [
      "The FWER threshold is 0.0071428571428571435\n",
      "The pvalues are \n",
      " Fp1    0.655222\n",
      "Fp2    0.804114\n",
      "F7     0.080052\n",
      "F3     0.351644\n",
      "Fz     0.834292\n",
      "F4     0.923738\n",
      "F8     0.366709\n",
      "dtype: float64\n",
      "The significant pvalues are \n",
      " Series([], dtype: float64)\n"
     ]
    },
    {
     "name": "stderr",
     "output_type": "stream",
     "text": [
      "C:\\Users\\adeli\\Anaconda3\\lib\\site-packages\\ipykernel_launcher.py:9: FutureWarning: The signature of `Series.to_csv` was aligned to that of `DataFrame.to_csv`, and argument 'header' will change its default value from False to True: please pass an explicit value to suppress this warning.\n",
      "  if __name__ == '__main__':\n"
     ]
    }
   ],
   "source": [
    "# FWER corrected ttest: ttest over 7 frontal electrodes\n",
    "FWER_threshold = 0.05 / 7\n",
    "print(\"The FWER threshold is\", FWER_threshold)\n",
    "\n",
    "p_values_adelie_delta_frontal = ttest_adelie_delta_frontal.map(lambda x: x[1])\n",
    "print(\"The pvalues are \\n\", p_values_adelie_delta_frontal)\n",
    "\n",
    "# download to CSV only significant pvalues\n",
    "p_values_adelie_delta_frontal[p_values_adelie_delta_frontal < FWER_threshold].to_csv('p_values_adelie_delta_frontal.csv')\n",
    "print(\"The significant pvalues are \\n\", p_values_adelie_delta_frontal[p_values_adelie_delta_frontal < FWER_threshold])"
   ]
  },
  {
   "cell_type": "code",
   "execution_count": 16,
   "metadata": {},
   "outputs": [
    {
     "data": {
      "text/plain": [
       "Text(0.5, 1.0, 'Spectral power in Delta band in frontal electrodes / Adélie')"
      ]
     },
     "execution_count": 16,
     "metadata": {},
     "output_type": "execute_result"
    },
    {
     "data": {
      "image/png": "[encoded data removed]",
      "text/plain": [
       "<Figure size 432x288 with 1 Axes>"
      ]
     },
     "metadata": {
      "needs_background": "light"
     },
     "output_type": "display_data"
    }
   ],
   "source": [
    "concat_adelie_delta_frontal['AVG'] = concat_adelie_delta_frontal.mean(axis=1)\n",
    "concat_adelie_delta_frontal.mean(level=0).transpose().plot.bar()\n",
    "plt.title(\"Spectral power in Delta band in frontal electrodes / Adélie\")"
   ]
  },
  {
   "cell_type": "code",
   "execution_count": 133,
   "metadata": {},
   "outputs": [
    {
     "data": {
      "text/plain": [
       "Fp1     (5.887413261222209, 7.682448588575151e-07)\n",
       "Fp2    (5.406113601697242, 2.7241990744089597e-06)\n",
       "F7      (2.3816036278893695, 0.022464621088986177)\n",
       "F3     (-2.5701474178030255, 0.012051866747709245)\n",
       "Fz       (0.09131945304451373, 0.9276771135557291)\n",
       "F4      (-2.548530432201207, 0.014675725418107265)\n",
       "F8     (4.941006921345698, 1.0853090585075752e-05)\n",
       "dtype: object"
      ]
     },
     "execution_count": 133,
     "metadata": {},
     "output_type": "execute_result"
    }
   ],
   "source": [
    "concat_sam_delta_frontal = select_band_for_electrodes(frontal_electrodes, band=\"delta\", subject=\"sam\")\n",
    "\n",
    "# ttest\n",
    "from scipy.stats import ttest_ind\n",
    "\n",
    "# ttest over all frontal electrodes\n",
    "ttest_sam_delta_frontal = concat_sam_delta_frontal.agg(lambda x: ttest_ind(x.xs('baseline', level=0), x.xs('meditation', level=0), equal_var=False, nan_policy='omit'))\n",
    "ttest_sam_delta_frontal"
   ]
  },
  {
   "cell_type": "code",
   "execution_count": 134,
   "metadata": {},
   "outputs": [
    {
     "name": "stdout",
     "output_type": "stream",
     "text": [
      "The FWER threshold is 0.0071428571428571435\n",
      "The pvalues are \n",
      " Fp1    7.682449e-07\n",
      "Fp2    2.724199e-06\n",
      "F7     2.246462e-02\n",
      "F3     1.205187e-02\n",
      "Fz     9.276771e-01\n",
      "F4     1.467573e-02\n",
      "F8     1.085309e-05\n",
      "dtype: float64\n",
      "The significant pvalues are \n",
      " Fp1    7.682449e-07\n",
      "Fp2    2.724199e-06\n",
      "F8     1.085309e-05\n",
      "dtype: float64\n"
     ]
    },
    {
     "name": "stderr",
     "output_type": "stream",
     "text": [
      "C:\\Users\\adeli\\Anaconda3\\lib\\site-packages\\ipykernel_launcher.py:9: FutureWarning: The signature of `Series.to_csv` was aligned to that of `DataFrame.to_csv`, and argument 'header' will change its default value from False to True: please pass an explicit value to suppress this warning.\n",
      "  if __name__ == '__main__':\n"
     ]
    }
   ],
   "source": [
    "# FWER corrected ttest: ttest over 7 frontal electrodes\n",
    "FWER_threshold = 0.05 / 7\n",
    "print(\"The FWER threshold is\", FWER_threshold)\n",
    "\n",
    "p_values_sam_delta_frontal = ttest_sam_delta_frontal.map(lambda x: x[1])\n",
    "print(\"The pvalues are \\n\", p_values_sam_delta_frontal)\n",
    "\n",
    "# download to CSV only significant pvalues\n",
    "p_values_sam_delta_frontal[p_values_sam_delta_frontal < FWER_threshold].to_csv('p_values_sam_delta_frontal.csv')\n",
    "print(\"The significant pvalues are \\n\", p_values_sam_delta_frontal[p_values_sam_delta_frontal < FWER_threshold])"
   ]
  },
  {
   "cell_type": "code",
   "execution_count": 135,
   "metadata": {},
   "outputs": [
    {
     "data": {
      "text/plain": [
       "<matplotlib.axes._subplots.AxesSubplot at 0x1a99102d7f0>"
      ]
     },
     "execution_count": 135,
     "metadata": {},
     "output_type": "execute_result"
    },
    {
     "data": {
      "image/png": "[encoded data removed]",
      "text/plain": [
       "<Figure size 432x288 with 1 Axes>"
      ]
     },
     "metadata": {
      "needs_background": "light"
     },
     "output_type": "display_data"
    }
   ],
   "source": [
    "concat_sam_delta_frontal['AVG'] = concat_sam_delta_frontal.mean(axis=1)\n",
    "concat_sam_delta_frontal.mean(level=0).transpose().plot.bar()\n",
    "plt.title(\"Spectral power in Delta band in frontal electrodes / Sam\")"
   ]
  },
  {
   "cell_type": "markdown",
   "metadata": {},
   "source": [
    "### Ratio alpha/theta over all electrodes"
   ]
  },
  {
   "cell_type": "code",
   "execution_count": 25,
   "metadata": {},
   "outputs": [
    {
     "data": {
      "text/plain": [
       "Fp1      (-1.5494834730063847, 0.12980933158412408)\n",
       "Fp2       (-1.541534465743383, 0.13173939399761914)\n",
       "F7        (-1.470216746820288, 0.15090628033141817)\n",
       "F3        (-1.043526524223963, 0.30364033564600795)\n",
       "Fz       (-0.44387513297903286, 0.6599358869807774)\n",
       "F4     (-4.071484697907099, 0.00011171422181933442)\n",
       "F8      (-1.9311635501339781, 0.061140921871802464)\n",
       "O1        (0.05632139974575411, 0.9553456576110884)\n",
       "O2        (-0.5428856922362678, 0.5891174085832891)\n",
       "P3         (-0.497538012950214, 0.6215885729520099)\n",
       "Pz        (-0.8177332615322513, 0.4184950185913675)\n",
       "P4        (0.18173203695939943, 0.8568960098860074)\n",
       "T3       (-1.3192421085000645, 0.19440813056374182)\n",
       "T4         (0.761392984436531, 0.45133023044689313)\n",
       "T5        (-1.0076880779333477, 0.3180022297468398)\n",
       "T6         (0.1038826438018337, 0.9177502324807657)\n",
       "C3        (-0.8335102944754256, 0.4098191390821595)\n",
       "Cz         (-1.083565510636892, 0.2850197896191686)\n",
       "C4        (-0.6044356316059217, 0.5491133397289483)\n",
       "dtype: object"
      ]
     },
     "execution_count": 25,
     "metadata": {},
     "output_type": "execute_result"
    }
   ],
   "source": [
    "concat_adelie_at_all = select_band_for_electrodes(all_electrodes, band=\"alpha / theta\", subject=\"adelie\")\n",
    "\n",
    "# ttest over all electrodes\n",
    "ttest_adelie_at_all = concat_adelie_at_all.agg(lambda x: ttest_ind(x.xs('baseline', level=0), x.xs('meditation', level=0), equal_var=False, nan_policy='omit'))\n",
    "ttest_adelie_at_all"
   ]
  },
  {
   "cell_type": "code",
   "execution_count": 29,
   "metadata": {},
   "outputs": [
    {
     "name": "stdout",
     "output_type": "stream",
     "text": [
      "The FWER threshold is 0.05\n",
      "The significant pvalues are \n",
      " F4    0.000112\n",
      "dtype: float64\n"
     ]
    },
    {
     "name": "stderr",
     "output_type": "stream",
     "text": [
      "C:\\Users\\adeli\\Anaconda3\\lib\\site-packages\\ipykernel_launcher.py:7: FutureWarning: The signature of `Series.to_csv` was aligned to that of `DataFrame.to_csv`, and argument 'header' will change its default value from False to True: please pass an explicit value to suppress this warning.\n",
      "  import sys\n"
     ]
    }
   ],
   "source": [
    "# FWER corrected ttest: ttest all electrodes\n",
    "FWER_threshold = 0.05\n",
    "print(\"The FWER threshold is\", FWER_threshold)\n",
    "p_values_adelie_at_all = ttest_adelie_at_all.map(lambda x: x[1])\n",
    "\n",
    "# download to CSV only significant pvalues\n",
    "p_values_adelie_at_all[p_values_adelie_at_all < FWER_threshold].to_csv('p_values_adelie_at_all.csv')\n",
    "print(\"The significant pvalues are \\n\", p_values_adelie_at_all[p_values_adelie_at_all < FWER_threshold])"
   ]
  },
  {
   "cell_type": "code",
   "execution_count": 32,
   "metadata": {},
   "outputs": [
    {
     "data": {
      "text/plain": [
       "Text(0.5, 1.0, 'Spectral power in Alpha / Theta in all electrodes / Adélie')"
      ]
     },
     "execution_count": 32,
     "metadata": {},
     "output_type": "execute_result"
    },
    {
     "data": {
      "image/png": "[encoded data removed]",
      "text/plain": [
       "<Figure size 432x288 with 1 Axes>"
      ]
     },
     "metadata": {
      "needs_background": "light"
     },
     "output_type": "display_data"
    }
   ],
   "source": [
    "concat_adelie_at_all['AVG'] = concat_adelie_at_all.mean(axis=1)\n",
    "concat_adelie_at_all.mean(level=0).transpose().plot.bar()\n",
    "plt.title(\"Spectral power in Alpha / Theta in all electrodes / Adélie\")"
   ]
  },
  {
   "cell_type": "code",
   "execution_count": 19,
   "metadata": {},
   "outputs": [
    {
     "data": {
      "text/plain": [
       "Fp1      (0.3867160405846775, 0.7007876367581767)\n",
       "Fp2      (0.2775810051788939, 0.7825828959821445)\n",
       "F7      (0.42797532799844934, 0.6707283229917422)\n",
       "F3      (2.4752295222803498, 0.01743131332261332)\n",
       "Fz     (2.0116785331388534, 0.050621187884427495)\n",
       "F4       (1.0439513028324785, 0.3024502413018268)\n",
       "F8       (0.6995647482479886, 0.4877298538104381)\n",
       "O1      (1.5257122093034008, 0.13321496147413883)\n",
       "O2       (0.6893488471952562, 0.4934524443921935)\n",
       "P3      (2.358599285555543, 0.023136777928763674)\n",
       "Pz       (1.6970106334238766, 0.0976649061883902)\n",
       "P4      (1.5142598121348394, 0.13716320506971022)\n",
       "T3      (1.6337052354225219, 0.10851404947442941)\n",
       "T4      (1.2935636116591294, 0.20139090922452862)\n",
       "T5      (2.867724321890964, 0.006393586686001241)\n",
       "T6       (0.7105204585877816, 0.4810718817279842)\n",
       "C3     (2.2637874996485174, 0.028419590598199127)\n",
       "Cz      (2.123472487898466, 0.039312456056839265)\n",
       "C4        (2.124245618683041, 0.0391740767499815)\n",
       "dtype: object"
      ]
     },
     "execution_count": 19,
     "metadata": {},
     "output_type": "execute_result"
    }
   ],
   "source": [
    "concat_sam_at_all = select_band_for_electrodes(all_electrodes, band=\"alpha / theta\", subject=\"sam\")\n",
    "\n",
    "# ttest over all electrodes\n",
    "ttest_sam_at_all = concat_sam_at_all.agg(lambda x: ttest_ind(x.xs('baseline', level=0), x.xs('meditation', level=0), equal_var=False, nan_policy='omit'))\n",
    "ttest_sam_at_all"
   ]
  },
  {
   "cell_type": "code",
   "execution_count": 26,
   "metadata": {},
   "outputs": [
    {
     "name": "stdout",
     "output_type": "stream",
     "text": [
      "The FWER threshold is 0.05\n",
      "The significant pvalues are \n",
      " F3    0.017431\n",
      "P3    0.023137\n",
      "T5    0.006394\n",
      "C3    0.028420\n",
      "Cz    0.039312\n",
      "C4    0.039174\n",
      "dtype: float64\n"
     ]
    },
    {
     "name": "stderr",
     "output_type": "stream",
     "text": [
      "C:\\Users\\adeli\\Anaconda3\\lib\\site-packages\\ipykernel_launcher.py:7: FutureWarning: The signature of `Series.to_csv` was aligned to that of `DataFrame.to_csv`, and argument 'header' will change its default value from False to True: please pass an explicit value to suppress this warning.\n",
      "  import sys\n"
     ]
    }
   ],
   "source": [
    "# FWER corrected ttest: ttest all electrodes\n",
    "FWER_threshold = 0.05 \n",
    "print(\"The FWER threshold is\", FWER_threshold)\n",
    "p_values_sam_at_all = ttest_sam_at_all.map(lambda x: x[1])\n",
    "\n",
    "# download to CSV only significant pvalues\n",
    "p_values_sam_at_all[p_values_sam_at_all < FWER_threshold].to_csv('p_values_sam_at_all.csv')\n",
    "print(\"The significant pvalues are \\n\", p_values_sam_at_all[p_values_sam_at_all < FWER_threshold])"
   ]
  },
  {
   "cell_type": "code",
   "execution_count": 31,
   "metadata": {},
   "outputs": [
    {
     "data": {
      "text/plain": [
       "Text(0.5, 1.0, 'Spectral power in Alpha / Theta in all electrodes / Sam')"
      ]
     },
     "execution_count": 31,
     "metadata": {},
     "output_type": "execute_result"
    },
    {
     "data": {
      "image/png": "[encoded data removed]",
      "text/plain": [
       "<Figure size 432x288 with 1 Axes>"
      ]
     },
     "metadata": {
      "needs_background": "light"
     },
     "output_type": "display_data"
    }
   ],
   "source": [
    "concat_sam_at_all['AVG'] = concat_sam_at_all.mean(axis=1)\n",
    "concat_sam_at_all.mean(level=0).transpose().plot.bar()\n",
    "plt.title(\"Spectral power in Alpha / Theta in all electrodes / Sam\")"
   ]
  },
  {
   "cell_type": "code",
   "execution_count": null,
   "metadata": {},
   "outputs": [],
   "source": []
  }
 ],
 "metadata": {
  "kernelspec": {
   "display_name": "Python 3",
   "language": "python",
   "name": "python3"
  },
  "language_info": {
   "codemirror_mode": {
    "name": "ipython",
    "version": 3
   },
   "file_extension": ".py",
   "mimetype": "text/x-python",
   "name": "python",
   "nbconvert_exporter": "python",
   "pygments_lexer": "ipython3",
   "version": "3.7.3"
  }
 },
 "nbformat": 4,
 "nbformat_minor": 2
}
