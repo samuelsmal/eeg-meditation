{
 "cells": [
  {
   "cell_type": "code",
   "execution_count": 50,
   "metadata": {},
   "outputs": [],
   "source": [
    "%matplotlib qt\n",
    "\n",
    "# std\n",
    "import os\n",
    "from os import path\n",
    "import time\n",
    "\n",
    "# 3p\n",
    "import numpy as np\n",
    "import pandas as pd\n",
    "import matplotlib.pyplot as plt\n",
    "\n",
    "# prj\n",
    "os.chdir(\"..\")\n",
    "from src import helpers, configuration, filtering, bandpower, plots, statistics as stats\n",
    "from src.configuration import cfg\n",
    "os.chdir('analysis-adelie')\n",
    "\n",
    "# statistics\n",
    "from scipy.stats import ttest_ind\n",
    "\n",
    "# plots\n",
    "import matplotlib\n",
    "\n",
    "font = {'family':'DejaVu Sans', 'weight':'normal', 'size':20}\n",
    "matplotlib.rc('font', **font)"
   ]
  },
  {
   "cell_type": "code",
   "execution_count": 48,
   "metadata": {},
   "outputs": [],
   "source": [
    "def get_concat_signal(data_type, subject=\"adelie\", config=cfg):\n",
    "    dfs = [\n",
    "        helpers.load_signal_data(data_type, subject=subject, recording=recording, config=config)\n",
    "        for recording in range(\n",
    "            len(config[\"paths\"][\"subjects\"][subject][\"recordings\"][data_type])\n",
    "        )\n",
    "    ]\n",
    "\n",
    "    for i in range(len(dfs) - 1):\n",
    "        dfs[i + 1].index += dfs[i].index.max()\n",
    "\n",
    "    concatenated = pd.concat(dfs)\n",
    "    return concatenated"
   ]
  },
  {
   "cell_type": "markdown",
   "metadata": {},
   "source": [
    "## Adélie: eigenvalues and PCA"
   ]
  },
  {
   "cell_type": "markdown",
   "metadata": {},
   "source": [
    "### 1st metric: sum of the five highest eigenvalues"
   ]
  },
  {
   "cell_type": "code",
   "execution_count": 4,
   "metadata": {},
   "outputs": [],
   "source": [
    "# get baseline and information Adélie \n",
    "baseline_adelie = get_concat_signal('baseline')\n",
    "baseline_adelie_information = stats.get_information(baseline_adelie)\n",
    "\n",
    "# get meditation and information Adélie\n",
    "meditation_adelie = get_concat_signal('meditation')\n",
    "meditation_adelie_information = stats.get_information(meditation_adelie)"
   ]
  },
  {
   "cell_type": "code",
   "execution_count": 5,
   "metadata": {},
   "outputs": [],
   "source": [
    "# ttest over all electrodes\n",
    "concat_adelie_information = pd.concat([baseline_adelie_information, meditation_adelie_information], keys=['baseline', 'meditation'])\n",
    "ttest_adelie_information = concat_adelie_information.agg(lambda x: ttest_ind(x.xs('baseline', level=0), x.xs('meditation', level=0), equal_var=False, nan_policy='omit'))"
   ]
  },
  {
   "cell_type": "code",
   "execution_count": 6,
   "metadata": {},
   "outputs": [
    {
     "data": {
      "text/plain": [
       "Ttest_indResult(statistic=-0.30476290676964746, pvalue=0.7620173308167895)"
      ]
     },
     "execution_count": 6,
     "metadata": {},
     "output_type": "execute_result"
    }
   ],
   "source": [
    "ttest_adelie_information"
   ]
  },
  {
   "cell_type": "code",
   "execution_count": 11,
   "metadata": {},
   "outputs": [
    {
     "data": {
      "text/plain": [
       "Text(0.5, 1.0, 'First metric: sum of the five highest eigenvalues / Adélie')"
      ]
     },
     "execution_count": 11,
     "metadata": {},
     "output_type": "execute_result"
    },
    {
     "data": {
      "image/png": "[encoded data removed]",
      "text/plain": [
       "<Figure size 432x288 with 1 Axes>"
      ]
     },
     "metadata": {
      "needs_background": "light"
     },
     "output_type": "display_data"
    }
   ],
   "source": [
    "# plot\n",
    "concat_adelie_information.mean(level=0).transpose().plot.bar()\n",
    "plt.title(\"First metric: sum of the five highest eigenvalues / Adélie\")"
   ]
  },
  {
   "cell_type": "markdown",
   "metadata": {},
   "source": [
    "### 2nd metric: normalized sum of the five highest eigenvalues"
   ]
  },
  {
   "cell_type": "code",
   "execution_count": 7,
   "metadata": {},
   "outputs": [],
   "source": [
    "# get baseline and normalized information Adélie \n",
    "baseline_adelie = get_concat_signal('baseline')\n",
    "baseline_adelie_norm_information = stats.get_norm_information(baseline_adelie)\n",
    "\n",
    "# get meditation and normalized information Adélie\n",
    "meditation_adelie = get_concat_signal('meditation')\n",
    "meditation_adelie_norm_information = stats.get_norm_information(meditation_adelie)"
   ]
  },
  {
   "cell_type": "code",
   "execution_count": 8,
   "metadata": {},
   "outputs": [],
   "source": [
    "# ttest over all electrodes\n",
    "concat_adelie_norm_information = pd.concat([baseline_adelie_norm_information, meditation_adelie_norm_information], keys=['baseline', 'meditation'])\n",
    "ttest_adelie_norm_information = concat_adelie_norm_information.agg(lambda x: ttest_ind(x.xs('baseline', level=0), x.xs('meditation', level=0), equal_var=False, nan_policy='omit'))"
   ]
  },
  {
   "cell_type": "code",
   "execution_count": 9,
   "metadata": {},
   "outputs": [
    {
     "data": {
      "text/plain": [
       "Ttest_indResult(statistic=-0.30476290676964884, pvalue=0.7620173308167885)"
      ]
     },
     "execution_count": 9,
     "metadata": {},
     "output_type": "execute_result"
    }
   ],
   "source": [
    "ttest_adelie_norm_information"
   ]
  },
  {
   "cell_type": "code",
   "execution_count": 15,
   "metadata": {},
   "outputs": [
    {
     "data": {
      "text/plain": [
       "Text(0.5, 1.0, 'First metric: sum of the normalized five highest eigenvalues / Adélie')"
      ]
     },
     "execution_count": 15,
     "metadata": {},
     "output_type": "execute_result"
    },
    {
     "data": {
      "image/png": "[encoded data removed]",
      "text/plain": [
       "<Figure size 432x288 with 1 Axes>"
      ]
     },
     "metadata": {
      "needs_background": "light"
     },
     "output_type": "display_data"
    }
   ],
   "source": [
    "# plot\n",
    "concat_adelie_norm_information.mean(level=0).transpose().plot.bar()\n",
    "plt.title(\"First metric: sum of the normalized five highest eigenvalues / Adélie\")"
   ]
  },
  {
   "cell_type": "markdown",
   "metadata": {},
   "source": [
    "### 3rd metric: spectrum, distribution of all normalized eigenvalues"
   ]
  },
  {
   "cell_type": "code",
   "execution_count": 10,
   "metadata": {},
   "outputs": [],
   "source": [
    "# get baseline and normalized distribution Adélie\n",
    "baseline_adelie = get_concat_signal('baseline', subject='adelie')\n",
    "baseline_adelie_distribution = stats.get_distrib_information(baseline_adelie)\n",
    "\n",
    "# get meditation and normalized distribution Adélie\n",
    "meditation_adelie = get_concat_signal('meditation', subject='adelie')\n",
    "meditation_adelie_distribution = stats.get_distrib_information(meditation_adelie)"
   ]
  },
  {
   "cell_type": "code",
   "execution_count": 11,
   "metadata": {},
   "outputs": [],
   "source": [
    "# mean of ev over all epochs\n",
    "baseline_adelie_distribution_mean = baseline_adelie_distribution.mean()\n",
    "meditation_adelie_distribution_mean = meditation_adelie_distribution.mean()"
   ]
  },
  {
   "cell_type": "code",
   "execution_count": 32,
   "metadata": {},
   "outputs": [
    {
     "data": {
      "text/plain": [
       "<matplotlib.legend.Legend at 0x1a3a4af1ac8>"
      ]
     },
     "execution_count": 32,
     "metadata": {},
     "output_type": "execute_result"
    },
    {
     "data": {
      "image/png": "[encoded data removed]",
      "text/plain": [
       "<Figure size 432x288 with 1 Axes>"
      ]
     },
     "metadata": {
      "needs_background": "light"
     },
     "output_type": "display_data"
    }
   ],
   "source": [
    "# bar plot\n",
    "ev = ['ev1','ev2','ev3','ev4','ev5','ev6','ev7','ev8','ev9','ev10',\n",
    "        'ev11','ev12','ev13','ev14','ev15','ev16','ev17','ev18','ev19','ev20']\n",
    "%matplotlib qt\n",
    "barWidth = 0.4\n",
    "\n",
    "y1 = baseline_adelie_distribution_mean\n",
    "y2 = meditation_adelie_distribution_mean\n",
    "r1 = range(len(y1))\n",
    "r2 = [x + barWidth for x in r1]\n",
    "\n",
    "b1 = plt.bar(r1, y1, width = barWidth)\n",
    "b2 = plt.bar(r2, y2, width = barWidth)\n",
    "\n",
    "plt.xticks([r + barWidth / 2 for r in range(len(y1))], ev)\n",
    "\n",
    "plt.title('Spectrum of normalized eigenvalues for Adélie')\n",
    "plt.legend([b1, b2],['baseline', 'meditation'])"
   ]
  },
  {
   "cell_type": "code",
   "execution_count": 51,
   "metadata": {},
   "outputs": [],
   "source": [
    "# plot\n",
    "ev = ['ev1','ev2','ev3','ev4','ev5','ev6','ev7','ev8','ev9','ev10',\n",
    "        'ev11','ev12','ev13','ev14','ev15','ev16','ev17','ev18','ev19','ev20']\n",
    "%matplotlib qt\n",
    "\n",
    "y1 = baseline_adelie_distribution_mean\n",
    "y2 = meditation_adelie_distribution_mean\n",
    "r1 = range(len(ev))\n",
    "r2 = range(len(ev))\n",
    "\n",
    "b1 = plt.plot(r1, y1, label='baseline', linewidth=2.5)\n",
    "b2 = plt.plot(r2, y2, label='meditation', linewidth=2.5)\n",
    "\n",
    "plt.xticks([r for r in range(len(ev))], ev)\n",
    "plt.title('Spectrum of normalized eigenvalues for Adélie')\n",
    "plt.legend()\n",
    "plt.show()"
   ]
  },
  {
   "cell_type": "markdown",
   "metadata": {},
   "source": [
    "## Sam: eigenvalues and PCA"
   ]
  },
  {
   "cell_type": "markdown",
   "metadata": {},
   "source": [
    "### 1st metric: sum of the five highest eigenvalues"
   ]
  },
  {
   "cell_type": "code",
   "execution_count": 23,
   "metadata": {},
   "outputs": [],
   "source": [
    "# get baseline Sam\n",
    "baseline_sam = get_concat_signal('baseline', subject='sam')\n",
    "baseline_sam_information = stats.get_information(baseline_sam)\n",
    "\n",
    "# get meditation Sam\n",
    "meditation_sam = get_concat_signal('meditation', subject='sam')\n",
    "meditation_sam_information = stats.get_information(meditation_sam)"
   ]
  },
  {
   "cell_type": "code",
   "execution_count": 24,
   "metadata": {},
   "outputs": [],
   "source": [
    "# ttest over all electrodes\n",
    "concat_sam_information = pd.concat([baseline_sam_information, meditation_sam_information], keys=['baseline', 'meditation'])\n",
    "ttest_sam_information = concat_sam_information.agg(lambda x: ttest_ind(x.xs('baseline', level=0), x.xs('meditation', level=0), equal_var=False, nan_policy='omit'))"
   ]
  },
  {
   "cell_type": "code",
   "execution_count": 25,
   "metadata": {},
   "outputs": [
    {
     "data": {
      "text/plain": [
       "Ttest_indResult(statistic=2.8712933388578974, pvalue=0.005901815227511391)"
      ]
     },
     "execution_count": 25,
     "metadata": {},
     "output_type": "execute_result"
    }
   ],
   "source": [
    "ttest_sam_information"
   ]
  },
  {
   "cell_type": "code",
   "execution_count": 28,
   "metadata": {},
   "outputs": [
    {
     "data": {
      "text/plain": [
       "Text(0.5, 1.0, 'First metric: sum of the five highest eigenvalues / Sam')"
      ]
     },
     "execution_count": 28,
     "metadata": {},
     "output_type": "execute_result"
    },
    {
     "data": {
      "image/png": "[encoded data removed]",
      "text/plain": [
       "<Figure size 432x288 with 1 Axes>"
      ]
     },
     "metadata": {
      "needs_background": "light"
     },
     "output_type": "display_data"
    }
   ],
   "source": [
    "# plot\n",
    "%matplotlib inline\n",
    "concat_sam_information.mean(level=0).transpose().plot.bar()\n",
    "plt.title(\"First metric: sum of the five highest eigenvalues / Sam\")"
   ]
  },
  {
   "cell_type": "markdown",
   "metadata": {},
   "source": [
    "### 2nd metric: normalized sum of the five highest eigenvalues"
   ]
  },
  {
   "cell_type": "code",
   "execution_count": 29,
   "metadata": {},
   "outputs": [],
   "source": [
    "# get baseline and normalized information Sam\n",
    "baseline_sam = get_concat_signal('baseline', subject='sam')\n",
    "baseline_sam_norm_information = stats.get_norm_information(baseline_sam)\n",
    "\n",
    "# get meditation and normalized information Sam\n",
    "meditation_sam = get_concat_signal('meditation', subject='sam')\n",
    "meditation_sam_norm_information = stats.get_norm_information(meditation_sam)"
   ]
  },
  {
   "cell_type": "code",
   "execution_count": 30,
   "metadata": {},
   "outputs": [],
   "source": [
    "# ttest over all electrodes\n",
    "concat_sam_norm_information = pd.concat([baseline_sam_norm_information, meditation_sam_norm_information], keys=['baseline', 'meditation'])\n",
    "ttest_sam_norm_information = concat_sam_norm_information.agg(lambda x: ttest_ind(x.xs('baseline', level=0), x.xs('meditation', level=0), equal_var=False, nan_policy='omit'))"
   ]
  },
  {
   "cell_type": "code",
   "execution_count": 31,
   "metadata": {},
   "outputs": [
    {
     "data": {
      "text/plain": [
       "Ttest_indResult(statistic=2.871293338857912, pvalue=0.005901815227511152)"
      ]
     },
     "execution_count": 31,
     "metadata": {},
     "output_type": "execute_result"
    }
   ],
   "source": [
    "ttest_sam_norm_information"
   ]
  },
  {
   "cell_type": "code",
   "execution_count": 32,
   "metadata": {},
   "outputs": [
    {
     "data": {
      "text/plain": [
       "Text(0.5, 1.0, 'First metric: sum of the normalized five highest eigenvalues / Sam')"
      ]
     },
     "execution_count": 32,
     "metadata": {},
     "output_type": "execute_result"
    },
    {
     "data": {
      "image/png": "[encoded data removed]",
      "text/plain": [
       "<Figure size 432x288 with 1 Axes>"
      ]
     },
     "metadata": {
      "needs_background": "light"
     },
     "output_type": "display_data"
    }
   ],
   "source": [
    "# plot\n",
    "concat_sam_norm_information.mean(level=0).transpose().plot.bar()\n",
    "plt.title(\"First metric: sum of the normalized five highest eigenvalues / Sam\")"
   ]
  },
  {
   "cell_type": "markdown",
   "metadata": {},
   "source": [
    "### 3rd metric: spectrum, distribution of all normalized eigenvalues"
   ]
  },
  {
   "cell_type": "code",
   "execution_count": 19,
   "metadata": {},
   "outputs": [],
   "source": [
    "# get baseline and normalized distribution Sam\n",
    "baseline_sam = get_concat_signal('baseline', subject='sam')\n",
    "baseline_sam_distribution = stats.get_distrib_information(baseline_sam)\n",
    "\n",
    "# get meditation and normalized distribution Sam\n",
    "meditation_sam = get_concat_signal('meditation', subject='sam')\n",
    "meditation_sam_distribution = stats.get_distrib_information(meditation_sam)"
   ]
  },
  {
   "cell_type": "code",
   "execution_count": 20,
   "metadata": {},
   "outputs": [],
   "source": [
    "# mean of ev over all epochs\n",
    "baseline_sam_distribution_mean = baseline_sam_distribution.mean()\n",
    "meditation_sam_distribution_mean = meditation_sam_distribution.mean()"
   ]
  },
  {
   "cell_type": "code",
   "execution_count": 45,
   "metadata": {},
   "outputs": [
    {
     "data": {
      "text/plain": [
       "<matplotlib.legend.Legend at 0x1a3a4c78b70>"
      ]
     },
     "execution_count": 45,
     "metadata": {},
     "output_type": "execute_result"
    },
    {
     "data": {
      "image/png": "[encoded data removed]",
      "text/plain": [
       "<Figure size 432x288 with 1 Axes>"
      ]
     },
     "metadata": {
      "needs_background": "light"
     },
     "output_type": "display_data"
    }
   ],
   "source": [
    "# bar plot\n",
    "ev = ['ev1','ev2','ev3','ev4','ev5','ev6','ev7','ev8','ev9','ev10',\n",
    "        'ev11','ev12','ev13','ev14','ev15','ev16','ev17','ev18','ev19','ev20']\n",
    "%matplotlib inline\n",
    "barWidth = 0.4\n",
    "\n",
    "y1 = baseline_sam_distribution_mean\n",
    "y2 = meditation_sam_distribution_mean\n",
    "r1 = range(len(y1))\n",
    "r2 = [x + barWidth for x in r1]\n",
    "\n",
    "b1 = plt.bar(r1, y1, width = barWidth)\n",
    "b2 = plt.bar(r2, y2, width = barWidth)\n",
    "\n",
    "plt.xticks([r + barWidth / 2 for r in range(len(y1))], ev)\n",
    "\n",
    "plt.title('Spectrum of normalized eigenvalues for Sam')\n",
    "plt.legend([b1, b2],['baseline', 'meditation'])"
   ]
  },
  {
   "cell_type": "code",
   "execution_count": 52,
   "metadata": {},
   "outputs": [],
   "source": [
    "# plot\n",
    "ev = ['ev1','ev2','ev3','ev4','ev5','ev6','ev7','ev8','ev9','ev10',\n",
    "        'ev11','ev12','ev13','ev14','ev15','ev16','ev17','ev18','ev19','ev20']\n",
    "%matplotlib qt\n",
    "\n",
    "y1 = baseline_sam_distribution_mean\n",
    "y2 = meditation_sam_distribution_mean\n",
    "r1 = range(len(ev))\n",
    "r2 = range(len(ev))\n",
    "\n",
    "b1 = plt.plot(r1, y1, label='baseline', linewidth=2.5)\n",
    "b2 = plt.plot(r2, y2, label='meditation', linewidth=2.5)\n",
    "\n",
    "plt.xticks([r for r in range(len(ev))], ev)\n",
    "plt.title('Spectrum of normalized eigenvalues for Sam')\n",
    "plt.legend()\n",
    "plt.show()"
   ]
  },
  {
   "cell_type": "code",
   "execution_count": null,
   "metadata": {},
   "outputs": [],
   "source": []
  }
 ],
 "metadata": {
  "kernelspec": {
   "display_name": "Python 3",
   "language": "python",
   "name": "python3"
  },
  "language_info": {
   "codemirror_mode": {
    "name": "ipython",
    "version": 3
   },
   "file_extension": ".py",
   "mimetype": "text/x-python",
   "name": "python",
   "nbconvert_exporter": "python",
   "pygments_lexer": "ipython3",
   "version": "3.7.3"
  }
 },
 "nbformat": 4,
 "nbformat_minor": 2
}
