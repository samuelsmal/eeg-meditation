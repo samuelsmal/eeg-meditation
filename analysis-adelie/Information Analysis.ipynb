{
 "cells": [
  {
   "cell_type": "code",
   "execution_count": 1,
   "metadata": {},
   "outputs": [],
   "source": [
    "%matplotlib qt\n",
    "\n",
    "# std\n",
    "import os\n",
    "from os import path\n",
    "import time\n",
    "\n",
    "# 3p\n",
    "import numpy as np\n",
    "import pandas as pd\n",
    "import matplotlib.pyplot as plt\n",
    "\n",
    "# prj\n",
    "os.chdir(\"..\")\n",
    "from src import helpers, configuration, filtering, bandpower, plots, statistics as stats\n",
    "from src.configuration import cfg, cfg_mr\n",
    "os.chdir('analysis-adelie')\n",
    "\n",
    "# statistics\n",
    "from scipy.stats import ttest_ind\n",
    "\n",
    "# plots\n",
    "import matplotlib\n",
    "\n",
    "font = {'family':'DejaVu Sans', 'weight':'normal', 'size':20}\n",
    "matplotlib.rc('font', **font)"
   ]
  },
  {
   "cell_type": "code",
   "execution_count": 3,
   "metadata": {},
   "outputs": [],
   "source": [
    "def get_concat_signal(data_type, subject=\"adelie\", config=cfg):\n",
    "    dfs = [\n",
    "        helpers.load_signal_data(data_type, subject=subject, recording=recording, config=config)\n",
    "        for recording in range(\n",
    "            len(config[\"paths\"][\"subjects\"][subject][\"recordings\"][data_type])\n",
    "        )\n",
    "    ]\n",
    "\n",
    "    for i in range(len(dfs) - 1):\n",
    "        dfs[i + 1].index += dfs[i].index.max()\n",
    "\n",
    "    concatenated = pd.concat(dfs)\n",
    "    return concatenated"
   ]
  },
  {
   "cell_type": "markdown",
   "metadata": {},
   "source": [
    "## Matthieu Ricard: eigenvalues and PCA"
   ]
  },
  {
   "cell_type": "code",
   "execution_count": 6,
   "metadata": {},
   "outputs": [],
   "source": [
    "baseline_mr = get_concat_signal('baseline', subject='mr', config=cfg_mr)\n",
    "meditation_mr = get_concat_signal('meditation', subject='mr', config=cfg_mr)"
   ]
  },
  {
   "cell_type": "code",
   "execution_count": 7,
   "metadata": {},
   "outputs": [],
   "source": [
    "# get information MR \n",
    "baseline_mr_information = stats.get_information(baseline_mr)\n",
    "meditation_mr_information = stats.get_information(meditation_mr)"
   ]
  },
  {
   "cell_type": "code",
   "execution_count": 21,
   "metadata": {},
   "outputs": [
    {
     "ename": "AttributeError",
     "evalue": "module 'src.helpers' has no attribute 'loqd_signal_data'",
     "output_type": "error",
     "traceback": [
      "\u001b[1;31m---------------------------------------------------------------------------\u001b[0m",
      "\u001b[1;31mAttributeError\u001b[0m                            Traceback (most recent call last)",
      "\u001b[1;32m<ipython-input-21-206526596146>\u001b[0m in \u001b[0;36m<module>\u001b[1;34m\u001b[0m\n\u001b[1;32m----> 1\u001b[1;33m okkk = helpers.loqd_signal_data('baseline', subject='mr', config=cfg_mr, mr=True).groupby(pd.Grouper(freq='10s')).corr().groupby(level=0).filter(\n\u001b[0m\u001b[0;32m      2\u001b[0m     \u001b[1;32mlambda\u001b[0m \u001b[0mg\u001b[0m\u001b[1;33m:\u001b[0m \u001b[0mg\u001b[0m\u001b[1;33m.\u001b[0m\u001b[0misnull\u001b[0m\u001b[1;33m(\u001b[0m\u001b[1;33m)\u001b[0m\u001b[1;33m.\u001b[0m\u001b[0msum\u001b[0m\u001b[1;33m(\u001b[0m\u001b[1;33m)\u001b[0m\u001b[1;33m.\u001b[0m\u001b[0msum\u001b[0m\u001b[1;33m(\u001b[0m\u001b[1;33m)\u001b[0m \u001b[1;33m==\u001b[0m \u001b[1;36m0\u001b[0m\u001b[1;33m\u001b[0m\u001b[1;33m\u001b[0m\u001b[0m\n\u001b[0;32m      3\u001b[0m )\n",
      "\u001b[1;31mAttributeError\u001b[0m: module 'src.helpers' has no attribute 'loqd_signal_data'"
     ]
    }
   ],
   "source": [
    "okkk = helpers.loqd_signal_data('baseline', subject='mr', config=cfg_mr, mr=True).groupby(pd.Grouper(freq='10s')).corr().groupby(level=0).filter(\n",
    "    lambda g: g.isnull().sum().sum() == 0\n",
    ")"
   ]
  },
  {
   "cell_type": "code",
   "execution_count": null,
   "metadata": {},
   "outputs": [],
   "source": [
    "okkk.groupby(level=0).apply(\n",
    "    lambda x: sum(np.linalg.eig(x)[0][:5])\n",
    ")"
   ]
  },
  {
   "cell_type": "code",
   "execution_count": 15,
   "metadata": {},
   "outputs": [],
   "source": [
    "# ttest over all electrodes\n",
    "concat_mr_information = pd.concat([baseline_mr_information, meditation_mr_information], keys=['baseline', 'meditation'])\n",
    "ttest_mr_information = concat_mr_information.agg(lambda x: ttest_ind(x.xs('baseline', level=0), x.xs('meditation', level=0), equal_var=False, nan_policy='omit'))"
   ]
  },
  {
   "cell_type": "code",
   "execution_count": 16,
   "metadata": {},
   "outputs": [
    {
     "data": {
      "text/html": [
       "<div>\n",
       "<style scoped>\n",
       "    .dataframe tbody tr th:only-of-type {\n",
       "        vertical-align: middle;\n",
       "    }\n",
       "\n",
       "    .dataframe tbody tr th {\n",
       "        vertical-align: top;\n",
       "    }\n",
       "\n",
       "    .dataframe thead th {\n",
       "        text-align: right;\n",
       "    }\n",
       "</style>\n",
       "<table border=\"1\" class=\"dataframe\">\n",
       "  <thead>\n",
       "    <tr style=\"text-align: right;\">\n",
       "      <th></th>\n",
       "      <th></th>\n",
       "    </tr>\n",
       "    <tr>\n",
       "      <th></th>\n",
       "      <th>time</th>\n",
       "    </tr>\n",
       "  </thead>\n",
       "  <tbody>\n",
       "  </tbody>\n",
       "</table>\n",
       "</div>"
      ],
      "text/plain": [
       "Empty DataFrame\n",
       "Columns: []\n",
       "Index: []"
      ]
     },
     "execution_count": 16,
     "metadata": {},
     "output_type": "execute_result"
    }
   ],
   "source": [
    "ttest_mr_information"
   ]
  },
  {
   "cell_type": "code",
   "execution_count": 10,
   "metadata": {},
   "outputs": [
    {
     "ename": "DataError",
     "evalue": "No numeric types to aggregate",
     "output_type": "error",
     "traceback": [
      "\u001b[1;31m---------------------------------------------------------------------------\u001b[0m",
      "\u001b[1;31mDataError\u001b[0m                                 Traceback (most recent call last)",
      "\u001b[1;32m<ipython-input-10-99aa130ca2df>\u001b[0m in \u001b[0;36m<module>\u001b[1;34m\u001b[0m\n\u001b[0;32m      1\u001b[0m \u001b[1;31m# plot\u001b[0m\u001b[1;33m\u001b[0m\u001b[1;33m\u001b[0m\u001b[1;33m\u001b[0m\u001b[0m\n\u001b[1;32m----> 2\u001b[1;33m \u001b[0mconcat_mr_information\u001b[0m\u001b[1;33m.\u001b[0m\u001b[0mmean\u001b[0m\u001b[1;33m(\u001b[0m\u001b[0mlevel\u001b[0m\u001b[1;33m=\u001b[0m\u001b[1;36m0\u001b[0m\u001b[1;33m)\u001b[0m\u001b[1;33m.\u001b[0m\u001b[0mtranspose\u001b[0m\u001b[1;33m(\u001b[0m\u001b[1;33m)\u001b[0m\u001b[1;33m.\u001b[0m\u001b[0mplot\u001b[0m\u001b[1;33m.\u001b[0m\u001b[0mbar\u001b[0m\u001b[1;33m(\u001b[0m\u001b[0mrot\u001b[0m\u001b[1;33m=\u001b[0m\u001b[1;36m0\u001b[0m\u001b[1;33m,\u001b[0m \u001b[0mcolor\u001b[0m\u001b[1;33m=\u001b[0m\u001b[1;33m(\u001b[0m\u001b[1;34m'C0'\u001b[0m\u001b[1;33m,\u001b[0m\u001b[1;34m'C1'\u001b[0m\u001b[1;33m)\u001b[0m\u001b[1;33m)\u001b[0m\u001b[1;33m\u001b[0m\u001b[1;33m\u001b[0m\u001b[0m\n\u001b[0m\u001b[0;32m      3\u001b[0m \u001b[0mplt\u001b[0m\u001b[1;33m.\u001b[0m\u001b[0mtitle\u001b[0m\u001b[1;33m(\u001b[0m\u001b[1;34m\"First metric: sum of the five highest eigenvalues / Matthieu Ricard\"\u001b[0m\u001b[1;33m)\u001b[0m\u001b[1;33m\u001b[0m\u001b[1;33m\u001b[0m\u001b[0m\n\u001b[0;32m      4\u001b[0m \u001b[0mplt\u001b[0m\u001b[1;33m.\u001b[0m\u001b[0mshow\u001b[0m\u001b[1;33m(\u001b[0m\u001b[1;33m)\u001b[0m\u001b[1;33m\u001b[0m\u001b[1;33m\u001b[0m\u001b[0m\n",
      "\u001b[1;32m~\\Anaconda3\\lib\\site-packages\\pandas\\core\\generic.py\u001b[0m in \u001b[0;36mstat_func\u001b[1;34m(self, axis, skipna, level, numeric_only, **kwargs)\u001b[0m\n\u001b[0;32m  10952\u001b[0m         \u001b[1;32mif\u001b[0m \u001b[0mlevel\u001b[0m \u001b[1;32mis\u001b[0m \u001b[1;32mnot\u001b[0m \u001b[1;32mNone\u001b[0m\u001b[1;33m:\u001b[0m\u001b[1;33m\u001b[0m\u001b[1;33m\u001b[0m\u001b[0m\n\u001b[0;32m  10953\u001b[0m             return self._agg_by_level(name, axis=axis, level=level,\n\u001b[1;32m> 10954\u001b[1;33m                                       skipna=skipna)\n\u001b[0m\u001b[0;32m  10955\u001b[0m         return self._reduce(f, name, axis=axis, skipna=skipna,\n\u001b[0;32m  10956\u001b[0m                             numeric_only=numeric_only)\n",
      "\u001b[1;32m~\\Anaconda3\\lib\\site-packages\\pandas\\core\\generic.py\u001b[0m in \u001b[0;36m_agg_by_level\u001b[1;34m(self, name, axis, level, skipna, **kwargs)\u001b[0m\n\u001b[0;32m   9969\u001b[0m         \u001b[0mgrouped\u001b[0m \u001b[1;33m=\u001b[0m \u001b[0mself\u001b[0m\u001b[1;33m.\u001b[0m\u001b[0mgroupby\u001b[0m\u001b[1;33m(\u001b[0m\u001b[0mlevel\u001b[0m\u001b[1;33m=\u001b[0m\u001b[0mlevel\u001b[0m\u001b[1;33m,\u001b[0m \u001b[0maxis\u001b[0m\u001b[1;33m=\u001b[0m\u001b[0maxis\u001b[0m\u001b[1;33m,\u001b[0m \u001b[0msort\u001b[0m\u001b[1;33m=\u001b[0m\u001b[1;32mFalse\u001b[0m\u001b[1;33m)\u001b[0m\u001b[1;33m\u001b[0m\u001b[1;33m\u001b[0m\u001b[0m\n\u001b[0;32m   9970\u001b[0m         \u001b[1;32mif\u001b[0m \u001b[0mhasattr\u001b[0m\u001b[1;33m(\u001b[0m\u001b[0mgrouped\u001b[0m\u001b[1;33m,\u001b[0m \u001b[0mname\u001b[0m\u001b[1;33m)\u001b[0m \u001b[1;32mand\u001b[0m \u001b[0mskipna\u001b[0m\u001b[1;33m:\u001b[0m\u001b[1;33m\u001b[0m\u001b[1;33m\u001b[0m\u001b[0m\n\u001b[1;32m-> 9971\u001b[1;33m             \u001b[1;32mreturn\u001b[0m \u001b[0mgetattr\u001b[0m\u001b[1;33m(\u001b[0m\u001b[0mgrouped\u001b[0m\u001b[1;33m,\u001b[0m \u001b[0mname\u001b[0m\u001b[1;33m)\u001b[0m\u001b[1;33m(\u001b[0m\u001b[1;33m**\u001b[0m\u001b[0mkwargs\u001b[0m\u001b[1;33m)\u001b[0m\u001b[1;33m\u001b[0m\u001b[1;33m\u001b[0m\u001b[0m\n\u001b[0m\u001b[0;32m   9972\u001b[0m         \u001b[0maxis\u001b[0m \u001b[1;33m=\u001b[0m \u001b[0mself\u001b[0m\u001b[1;33m.\u001b[0m\u001b[0m_get_axis_number\u001b[0m\u001b[1;33m(\u001b[0m\u001b[0maxis\u001b[0m\u001b[1;33m)\u001b[0m\u001b[1;33m\u001b[0m\u001b[1;33m\u001b[0m\u001b[0m\n\u001b[0;32m   9973\u001b[0m         \u001b[0mmethod\u001b[0m \u001b[1;33m=\u001b[0m \u001b[0mgetattr\u001b[0m\u001b[1;33m(\u001b[0m\u001b[0mtype\u001b[0m\u001b[1;33m(\u001b[0m\u001b[0mself\u001b[0m\u001b[1;33m)\u001b[0m\u001b[1;33m,\u001b[0m \u001b[0mname\u001b[0m\u001b[1;33m)\u001b[0m\u001b[1;33m\u001b[0m\u001b[1;33m\u001b[0m\u001b[0m\n",
      "\u001b[1;32m~\\Anaconda3\\lib\\site-packages\\pandas\\core\\groupby\\groupby.py\u001b[0m in \u001b[0;36mmean\u001b[1;34m(self, *args, **kwargs)\u001b[0m\n\u001b[0;32m   1130\u001b[0m         \u001b[0mnv\u001b[0m\u001b[1;33m.\u001b[0m\u001b[0mvalidate_groupby_func\u001b[0m\u001b[1;33m(\u001b[0m\u001b[1;34m'mean'\u001b[0m\u001b[1;33m,\u001b[0m \u001b[0margs\u001b[0m\u001b[1;33m,\u001b[0m \u001b[0mkwargs\u001b[0m\u001b[1;33m,\u001b[0m \u001b[1;33m[\u001b[0m\u001b[1;34m'numeric_only'\u001b[0m\u001b[1;33m]\u001b[0m\u001b[1;33m)\u001b[0m\u001b[1;33m\u001b[0m\u001b[1;33m\u001b[0m\u001b[0m\n\u001b[0;32m   1131\u001b[0m         \u001b[1;32mtry\u001b[0m\u001b[1;33m:\u001b[0m\u001b[1;33m\u001b[0m\u001b[1;33m\u001b[0m\u001b[0m\n\u001b[1;32m-> 1132\u001b[1;33m             \u001b[1;32mreturn\u001b[0m \u001b[0mself\u001b[0m\u001b[1;33m.\u001b[0m\u001b[0m_cython_agg_general\u001b[0m\u001b[1;33m(\u001b[0m\u001b[1;34m'mean'\u001b[0m\u001b[1;33m,\u001b[0m \u001b[1;33m**\u001b[0m\u001b[0mkwargs\u001b[0m\u001b[1;33m)\u001b[0m\u001b[1;33m\u001b[0m\u001b[1;33m\u001b[0m\u001b[0m\n\u001b[0m\u001b[0;32m   1133\u001b[0m         \u001b[1;32mexcept\u001b[0m \u001b[0mGroupByError\u001b[0m\u001b[1;33m:\u001b[0m\u001b[1;33m\u001b[0m\u001b[1;33m\u001b[0m\u001b[0m\n\u001b[0;32m   1134\u001b[0m             \u001b[1;32mraise\u001b[0m\u001b[1;33m\u001b[0m\u001b[1;33m\u001b[0m\u001b[0m\n",
      "\u001b[1;32m~\\Anaconda3\\lib\\site-packages\\pandas\\core\\groupby\\generic.py\u001b[0m in \u001b[0;36m_cython_agg_general\u001b[1;34m(self, how, alt, numeric_only, min_count)\u001b[0m\n\u001b[0;32m     68\u001b[0m                             min_count=-1):\n\u001b[0;32m     69\u001b[0m         new_items, new_blocks = self._cython_agg_blocks(\n\u001b[1;32m---> 70\u001b[1;33m             how, alt=alt, numeric_only=numeric_only, min_count=min_count)\n\u001b[0m\u001b[0;32m     71\u001b[0m         \u001b[1;32mreturn\u001b[0m \u001b[0mself\u001b[0m\u001b[1;33m.\u001b[0m\u001b[0m_wrap_agged_blocks\u001b[0m\u001b[1;33m(\u001b[0m\u001b[0mnew_items\u001b[0m\u001b[1;33m,\u001b[0m \u001b[0mnew_blocks\u001b[0m\u001b[1;33m)\u001b[0m\u001b[1;33m\u001b[0m\u001b[1;33m\u001b[0m\u001b[0m\n\u001b[0;32m     72\u001b[0m \u001b[1;33m\u001b[0m\u001b[0m\n",
      "\u001b[1;32m~\\Anaconda3\\lib\\site-packages\\pandas\\core\\groupby\\generic.py\u001b[0m in \u001b[0;36m_cython_agg_blocks\u001b[1;34m(self, how, alt, numeric_only, min_count)\u001b[0m\n\u001b[0;32m    141\u001b[0m \u001b[1;33m\u001b[0m\u001b[0m\n\u001b[0;32m    142\u001b[0m         \u001b[1;32mif\u001b[0m \u001b[0mlen\u001b[0m\u001b[1;33m(\u001b[0m\u001b[0mnew_blocks\u001b[0m\u001b[1;33m)\u001b[0m \u001b[1;33m==\u001b[0m \u001b[1;36m0\u001b[0m\u001b[1;33m:\u001b[0m\u001b[1;33m\u001b[0m\u001b[1;33m\u001b[0m\u001b[0m\n\u001b[1;32m--> 143\u001b[1;33m             \u001b[1;32mraise\u001b[0m \u001b[0mDataError\u001b[0m\u001b[1;33m(\u001b[0m\u001b[1;34m'No numeric types to aggregate'\u001b[0m\u001b[1;33m)\u001b[0m\u001b[1;33m\u001b[0m\u001b[1;33m\u001b[0m\u001b[0m\n\u001b[0m\u001b[0;32m    144\u001b[0m \u001b[1;33m\u001b[0m\u001b[0m\n\u001b[0;32m    145\u001b[0m         \u001b[1;31m# reset the locs in the blocks to correspond to our\u001b[0m\u001b[1;33m\u001b[0m\u001b[1;33m\u001b[0m\u001b[1;33m\u001b[0m\u001b[0m\n",
      "\u001b[1;31mDataError\u001b[0m: No numeric types to aggregate"
     ]
    }
   ],
   "source": [
    "# plot\n",
    "concat_mr_information.mean(level=0).transpose().plot.bar(rot=0, color=('C0','C1'))\n",
    "plt.title(\"First metric: sum of the five highest eigenvalues / Matthieu Ricard\")\n",
    "plt.show()"
   ]
  },
  {
   "cell_type": "markdown",
   "metadata": {},
   "source": [
    "### 2nd metric: normalized sum of the five highest eigenvalues"
   ]
  },
  {
   "cell_type": "code",
   "execution_count": 234,
   "metadata": {},
   "outputs": [],
   "source": [
    "# get normalized information MR \n",
    "baseline_mr_norm_information = stats.get_norm_information(baseline_mr)\n",
    "meditation_mr_norm_information = stats.get_norm_information(meditation_mr)"
   ]
  },
  {
   "cell_type": "code",
   "execution_count": 235,
   "metadata": {},
   "outputs": [],
   "source": [
    "# ttest over all electrodes\n",
    "concat_mr_norm_information = pd.concat([baseline_mr_norm_information, meditation_mr_norm_information], keys=['baseline', 'meditation'])\n",
    "ttest_mr_norm_information = concat_mr_norm_information.agg(lambda x: ttest_ind(x.xs('baseline', level=0), x.xs('meditation', level=0), equal_var=False, nan_policy='omit'))"
   ]
  },
  {
   "cell_type": "code",
   "execution_count": 236,
   "metadata": {},
   "outputs": [
    {
     "data": {
      "text/plain": [
       "Ttest_indResult(statistic=-0.30476290676964884, pvalue=0.7620173308167885)"
      ]
     },
     "execution_count": 236,
     "metadata": {},
     "output_type": "execute_result"
    }
   ],
   "source": [
    "ttest_mr_norm_information"
   ]
  },
  {
   "cell_type": "code",
   "execution_count": 270,
   "metadata": {},
   "outputs": [
    {
     "data": {
      "text/plain": [
       "Text(0.5, 1.0, 'Second metric: sum of the normalized five highest eigenvalues / Adélie')"
      ]
     },
     "execution_count": 270,
     "metadata": {},
     "output_type": "execute_result"
    }
   ],
   "source": [
    "# plot\n",
    "concat_mr_norm_information.mean(level=0).transpose().plot.bar(rot=0, color=('C0','C1'))\n",
    "plt.title(\"Second metric: sum of the normalized five highest eigenvalues / Matthieu Ricard\")"
   ]
  },
  {
   "cell_type": "markdown",
   "metadata": {},
   "source": [
    "### 3rd metric: spectrum, distribution of all normalized eigenvalues"
   ]
  },
  {
   "cell_type": "code",
   "execution_count": 238,
   "metadata": {},
   "outputs": [],
   "source": [
    "# get normalized distribution MR and mean of ev over all epochs\n",
    "baseline_mr_distribution_mean = stats.get_distrib_information(baseline_mr).mean()\n",
    "meditation_mr_distribution_mean = stats.get_distrib_information(meditation_mr).mean()"
   ]
  },
  {
   "cell_type": "code",
   "execution_count": 271,
   "metadata": {},
   "outputs": [],
   "source": [
    "# plot\n",
    "ev = ['ev1','ev2','ev3','ev4','ev5','ev6','ev7','ev8','ev9','ev10',\n",
    "        'ev11','ev12','ev13','ev14','ev15','ev16','ev17','ev18','ev19','ev20']\n",
    "\n",
    "y1 = baseline_mr_distribution_mean\n",
    "y2 = meditation_mr_distribution_mean\n",
    "r1 = range(len(ev))\n",
    "r2 = range(len(ev))\n",
    "\n",
    "b1 = plt.plot(r1, y1, label='baseline', linewidth=2.5)\n",
    "b2 = plt.plot(r2, y2, label='meditation', linewidth=2.5)\n",
    "\n",
    "plt.xticks([r for r in range(len(ev))], ev)\n",
    "plt.title('Spectrum of normalized eigenvalues for Matthieu Ricard')\n",
    "plt.legend()\n",
    "plt.show()"
   ]
  },
  {
   "cell_type": "code",
   "execution_count": null,
   "metadata": {},
   "outputs": [],
   "source": []
  },
  {
   "cell_type": "code",
   "execution_count": null,
   "metadata": {},
   "outputs": [],
   "source": []
  },
  {
   "cell_type": "markdown",
   "metadata": {},
   "source": [
    "## Adélie: eigenvalues and PCA"
   ]
  },
  {
   "cell_type": "code",
   "execution_count": 229,
   "metadata": {},
   "outputs": [],
   "source": [
    "baseline_adelie = get_concat_signal('baseline', subject='adelie')\n",
    "meditation_adelie = get_concat_signal('meditation', subject='adelie')"
   ]
  },
  {
   "cell_type": "markdown",
   "metadata": {},
   "source": [
    "### 1st metric: sum of the five highest eigenvalues"
   ]
  },
  {
   "cell_type": "code",
   "execution_count": 230,
   "metadata": {},
   "outputs": [],
   "source": [
    "# get information Adélie \n",
    "baseline_adelie_information = stats.get_information(baseline_adelie)\n",
    "meditation_adelie_information = stats.get_information(meditation_adelie)"
   ]
  },
  {
   "cell_type": "code",
   "execution_count": 231,
   "metadata": {},
   "outputs": [],
   "source": [
    "# ttest over all electrodes\n",
    "concat_adelie_information = pd.concat([baseline_adelie_information, meditation_adelie_information], keys=['baseline', 'meditation'])\n",
    "ttest_adelie_information = concat_adelie_information.agg(lambda x: ttest_ind(x.xs('baseline', level=0), x.xs('meditation', level=0), equal_var=False, nan_policy='omit'))"
   ]
  },
  {
   "cell_type": "code",
   "execution_count": 232,
   "metadata": {},
   "outputs": [
    {
     "data": {
      "text/plain": [
       "Ttest_indResult(statistic=-0.30476290676964746, pvalue=0.7620173308167895)"
      ]
     },
     "execution_count": 232,
     "metadata": {},
     "output_type": "execute_result"
    }
   ],
   "source": [
    "ttest_adelie_information"
   ]
  },
  {
   "cell_type": "code",
   "execution_count": 244,
   "metadata": {},
   "outputs": [],
   "source": [
    "# plot\n",
    "concat_adelie_information.mean(level=0).transpose().plot.bar(rot=0, color=('C0','C1'))\n",
    "plt.title(\"First metric: sum of the five highest eigenvalues / Adélie\")\n",
    "plt.show()"
   ]
  },
  {
   "cell_type": "markdown",
   "metadata": {},
   "source": [
    "### 2nd metric: normalized sum of the five highest eigenvalues"
   ]
  },
  {
   "cell_type": "code",
   "execution_count": 234,
   "metadata": {},
   "outputs": [],
   "source": [
    "# get normalized information Adélie \n",
    "baseline_adelie_norm_information = stats.get_norm_information(baseline_adelie)\n",
    "meditation_adelie_norm_information = stats.get_norm_information(meditation_adelie)"
   ]
  },
  {
   "cell_type": "code",
   "execution_count": 235,
   "metadata": {},
   "outputs": [],
   "source": [
    "# ttest over all electrodes\n",
    "concat_adelie_norm_information = pd.concat([baseline_adelie_norm_information, meditation_adelie_norm_information], keys=['baseline', 'meditation'])\n",
    "ttest_adelie_norm_information = concat_adelie_norm_information.agg(lambda x: ttest_ind(x.xs('baseline', level=0), x.xs('meditation', level=0), equal_var=False, nan_policy='omit'))"
   ]
  },
  {
   "cell_type": "code",
   "execution_count": 236,
   "metadata": {},
   "outputs": [
    {
     "data": {
      "text/plain": [
       "Ttest_indResult(statistic=-0.30476290676964884, pvalue=0.7620173308167885)"
      ]
     },
     "execution_count": 236,
     "metadata": {},
     "output_type": "execute_result"
    }
   ],
   "source": [
    "ttest_adelie_norm_information"
   ]
  },
  {
   "cell_type": "code",
   "execution_count": 270,
   "metadata": {},
   "outputs": [
    {
     "data": {
      "text/plain": [
       "Text(0.5, 1.0, 'Second metric: sum of the normalized five highest eigenvalues / Adélie')"
      ]
     },
     "execution_count": 270,
     "metadata": {},
     "output_type": "execute_result"
    }
   ],
   "source": [
    "# plot\n",
    "concat_adelie_norm_information.mean(level=0).transpose().plot.bar(rot=0, color=('C0','C1'))\n",
    "plt.title(\"Second metric: sum of the normalized five highest eigenvalues / Adélie\")"
   ]
  },
  {
   "cell_type": "markdown",
   "metadata": {},
   "source": [
    "### 3rd metric: spectrum, distribution of all normalized eigenvalues"
   ]
  },
  {
   "cell_type": "code",
   "execution_count": 238,
   "metadata": {},
   "outputs": [],
   "source": [
    "# get normalized distribution Adélie and mean of ev over all epochs\n",
    "baseline_adelie_distribution_mean = stats.get_distrib_information(baseline_adelie).mean()\n",
    "meditation_adelie_distribution_mean = stats.get_distrib_information(meditation_adelie).mean()"
   ]
  },
  {
   "cell_type": "code",
   "execution_count": 239,
   "metadata": {},
   "outputs": [
    {
     "data": {
      "text/plain": [
       "<matplotlib.legend.Legend at 0x21e07aa3c88>"
      ]
     },
     "execution_count": 239,
     "metadata": {},
     "output_type": "execute_result"
    }
   ],
   "source": [
    "# bar plot, not very clean\n",
    "ev = ['ev1','ev2','ev3','ev4','ev5','ev6','ev7','ev8','ev9','ev10',\n",
    "        'ev11','ev12','ev13','ev14','ev15','ev16','ev17','ev18','ev19','ev20']\n",
    "barWidth = 0.4\n",
    "\n",
    "y1 = baseline_adelie_distribution_mean\n",
    "y2 = meditation_adelie_distribution_mean\n",
    "r1 = range(len(y1))\n",
    "r2 = [x + barWidth for x in r1]\n",
    "\n",
    "b1 = plt.bar(r1, y1, width = barWidth)\n",
    "b2 = plt.bar(r2, y2, width = barWidth)\n",
    "\n",
    "plt.xticks([r + barWidth / 2 for r in range(len(y1))], ev)\n",
    "\n",
    "plt.title('Spectrum of normalized eigenvalues for Adélie')\n",
    "plt.legend([b1, b2],['baseline', 'meditation'])"
   ]
  },
  {
   "cell_type": "code",
   "execution_count": 271,
   "metadata": {},
   "outputs": [],
   "source": [
    "# plot\n",
    "ev = ['ev1','ev2','ev3','ev4','ev5','ev6','ev7','ev8','ev9','ev10',\n",
    "        'ev11','ev12','ev13','ev14','ev15','ev16','ev17','ev18','ev19','ev20']\n",
    "\n",
    "y1 = baseline_adelie_distribution_mean\n",
    "y2 = meditation_adelie_distribution_mean\n",
    "r1 = range(len(ev))\n",
    "r2 = range(len(ev))\n",
    "\n",
    "b1 = plt.plot(r1, y1, label='baseline', linewidth=2.5)\n",
    "b2 = plt.plot(r2, y2, label='meditation', linewidth=2.5)\n",
    "\n",
    "plt.xticks([r for r in range(len(ev))], ev)\n",
    "plt.title('Spectrum of normalized eigenvalues for Adélie')\n",
    "plt.legend()\n",
    "plt.show()"
   ]
  },
  {
   "cell_type": "markdown",
   "metadata": {},
   "source": [
    "## Sam: eigenvalues and PCA"
   ]
  },
  {
   "cell_type": "code",
   "execution_count": 247,
   "metadata": {},
   "outputs": [],
   "source": [
    "baseline_sam = get_concat_signal('baseline', subject='sam')\n",
    "meditation_sam = get_concat_signal('meditation', subject='sam')"
   ]
  },
  {
   "cell_type": "markdown",
   "metadata": {},
   "source": [
    "### 1st metric: sum of the five highest eigenvalues"
   ]
  },
  {
   "cell_type": "code",
   "execution_count": 248,
   "metadata": {},
   "outputs": [],
   "source": [
    "# get information Sam\n",
    "baseline_sam_information = stats.get_information(baseline_sam)\n",
    "meditation_sam_information = stats.get_information(meditation_sam)"
   ]
  },
  {
   "cell_type": "code",
   "execution_count": 249,
   "metadata": {},
   "outputs": [],
   "source": [
    "# ttest over all electrodes\n",
    "concat_sam_information = pd.concat([baseline_sam_information, meditation_sam_information], keys=['baseline', 'meditation'])\n",
    "ttest_sam_information = concat_sam_information.agg(lambda x: ttest_ind(x.xs('baseline', level=0), x.xs('meditation', level=0), equal_var=False, nan_policy='omit'))"
   ]
  },
  {
   "cell_type": "code",
   "execution_count": 250,
   "metadata": {},
   "outputs": [
    {
     "data": {
      "text/plain": [
       "Ttest_indResult(statistic=2.8712933388578974, pvalue=0.005901815227511391)"
      ]
     },
     "execution_count": 250,
     "metadata": {},
     "output_type": "execute_result"
    }
   ],
   "source": [
    "ttest_sam_information"
   ]
  },
  {
   "cell_type": "code",
   "execution_count": 272,
   "metadata": {},
   "outputs": [
    {
     "data": {
      "text/plain": [
       "Text(0.5, 1.0, 'First metric: sum of the five highest eigenvalues / Sam')"
      ]
     },
     "execution_count": 272,
     "metadata": {},
     "output_type": "execute_result"
    }
   ],
   "source": [
    "# plot\n",
    "%matplotlib qt\n",
    "concat_sam_information.mean(level=0).transpose().plot.bar(rot=0, color=('C0','C1'))\n",
    "plt.title(\"First metric: sum of the five highest eigenvalues / Sam\")"
   ]
  },
  {
   "cell_type": "markdown",
   "metadata": {},
   "source": [
    "### 2nd metric: normalized sum of the five highest eigenvalues"
   ]
  },
  {
   "cell_type": "code",
   "execution_count": 252,
   "metadata": {},
   "outputs": [],
   "source": [
    "# get normalized information Sam\n",
    "baseline_sam_norm_information = stats.get_norm_information(baseline_sam)\n",
    "meditation_sam_norm_information = stats.get_norm_information(meditation_sam)"
   ]
  },
  {
   "cell_type": "code",
   "execution_count": 253,
   "metadata": {},
   "outputs": [],
   "source": [
    "# ttest over all electrodes\n",
    "concat_sam_norm_information = pd.concat([baseline_sam_norm_information, meditation_sam_norm_information], keys=['baseline', 'meditation'])\n",
    "ttest_sam_norm_information = concat_sam_norm_information.agg(lambda x: ttest_ind(x.xs('baseline', level=0), x.xs('meditation', level=0), equal_var=False, nan_policy='omit'))"
   ]
  },
  {
   "cell_type": "code",
   "execution_count": 254,
   "metadata": {},
   "outputs": [
    {
     "data": {
      "text/plain": [
       "Ttest_indResult(statistic=2.871293338857912, pvalue=0.005901815227511152)"
      ]
     },
     "execution_count": 254,
     "metadata": {},
     "output_type": "execute_result"
    }
   ],
   "source": [
    "ttest_sam_norm_information"
   ]
  },
  {
   "cell_type": "code",
   "execution_count": 273,
   "metadata": {},
   "outputs": [
    {
     "data": {
      "text/plain": [
       "Text(0.5, 1.0, 'Second metric: sum of the normalized five highest eigenvalues / Sam')"
      ]
     },
     "execution_count": 273,
     "metadata": {},
     "output_type": "execute_result"
    }
   ],
   "source": [
    "# plot\n",
    "concat_sam_norm_information.mean(level=0).transpose().plot.bar(rot=0, color=('C0','C1'))\n",
    "plt.title(\"Second metric: sum of the normalized five highest eigenvalues / Sam\")"
   ]
  },
  {
   "cell_type": "markdown",
   "metadata": {},
   "source": [
    "### 3rd metric: spectrum, distribution of all normalized eigenvalues"
   ]
  },
  {
   "cell_type": "code",
   "execution_count": 256,
   "metadata": {},
   "outputs": [],
   "source": [
    "# get normalized distribution Sam and mean of ev over all epochs\n",
    "baseline_sam_distribution_mean = stats.get_distrib_information(baseline_sam).mean()\n",
    "meditation_sam_distribution_mean = stats.get_distrib_information(meditation_sam).mean()"
   ]
  },
  {
   "cell_type": "code",
   "execution_count": 257,
   "metadata": {},
   "outputs": [
    {
     "data": {
      "text/plain": [
       "<matplotlib.legend.Legend at 0x21e012220b8>"
      ]
     },
     "execution_count": 257,
     "metadata": {},
     "output_type": "execute_result"
    }
   ],
   "source": [
    "# bar plot\n",
    "ev = ['ev1','ev2','ev3','ev4','ev5','ev6','ev7','ev8','ev9','ev10',\n",
    "        'ev11','ev12','ev13','ev14','ev15','ev16','ev17','ev18','ev19','ev20']\n",
    "barWidth = 0.4\n",
    "\n",
    "y1 = baseline_sam_distribution_mean\n",
    "y2 = meditation_sam_distribution_mean\n",
    "r1 = range(len(y1))\n",
    "r2 = [x + barWidth for x in r1]\n",
    "\n",
    "b1 = plt.bar(r1, y1, width = barWidth)\n",
    "b2 = plt.bar(r2, y2, width = barWidth)\n",
    "\n",
    "plt.xticks([r + barWidth / 2 for r in range(len(y1))], ev)\n",
    "\n",
    "plt.title('Spectrum of normalized eigenvalues for Sam')\n",
    "plt.legend([b1, b2],['baseline', 'meditation'])"
   ]
  },
  {
   "cell_type": "code",
   "execution_count": 259,
   "metadata": {},
   "outputs": [],
   "source": [
    "# plot\n",
    "ev = ['ev1','ev2','ev3','ev4','ev5','ev6','ev7','ev8','ev9','ev10',\n",
    "        'ev11','ev12','ev13','ev14','ev15','ev16','ev17','ev18','ev19','ev20']\n",
    "\n",
    "y1 = baseline_sam_distribution_mean\n",
    "y2 = meditation_sam_distribution_mean\n",
    "r1 = range(len(ev))\n",
    "r2 = range(len(ev))\n",
    "\n",
    "b1 = plt.plot(r1, y1, label='baseline', linewidth=2.5)\n",
    "b2 = plt.plot(r2, y2, label='meditation', linewidth=2.5)\n",
    "\n",
    "plt.xticks([r for r in range(len(ev))], ev)\n",
    "plt.title('Spectrum of normalized eigenvalues for Sam')\n",
    "plt.legend()\n",
    "plt.show()"
   ]
  },
  {
   "cell_type": "markdown",
   "metadata": {},
   "source": [
    "## Sam2: eigenvalues and PCA"
   ]
  },
  {
   "cell_type": "code",
   "execution_count": 260,
   "metadata": {},
   "outputs": [],
   "source": [
    "baseline_sam2 = get_concat_signal('baseline', subject='sam2')\n",
    "meditation_sam2 = get_concat_signal('meditation', subject='sam2')"
   ]
  },
  {
   "cell_type": "markdown",
   "metadata": {},
   "source": [
    "### 1st metric: sum of the five highest eigenvalues"
   ]
  },
  {
   "cell_type": "code",
   "execution_count": 261,
   "metadata": {},
   "outputs": [],
   "source": [
    "# get information Sam2\n",
    "baseline_sam2_information = stats.get_information(baseline_sam2)\n",
    "meditation_sam2_information = stats.get_information(meditation_sam2)"
   ]
  },
  {
   "cell_type": "code",
   "execution_count": 276,
   "metadata": {},
   "outputs": [],
   "source": [
    "# ttest over all electrodes\n",
    "concat_sam2_information = pd.concat([baseline_sam2_information, meditation_sam2_information], keys=['baseline', 'meditation'])\n",
    "ttest_sam2_information = concat_sam2_information.agg(lambda x: ttest_ind(x.xs('baseline', level=0), x.xs('meditation', level=0), equal_var=False, nan_policy='omit'))"
   ]
  },
  {
   "cell_type": "code",
   "execution_count": 277,
   "metadata": {},
   "outputs": [
    {
     "data": {
      "text/plain": [
       "Ttest_indResult(statistic=-2.297931730451149, pvalue=0.025935613349770705)"
      ]
     },
     "execution_count": 277,
     "metadata": {},
     "output_type": "execute_result"
    }
   ],
   "source": [
    "ttest_sam2_information"
   ]
  },
  {
   "cell_type": "code",
   "execution_count": 278,
   "metadata": {},
   "outputs": [
    {
     "data": {
      "text/plain": [
       "Text(0.5, 1.0, 'First metric: sum of the five highest eigenvalues / Sam2')"
      ]
     },
     "execution_count": 278,
     "metadata": {},
     "output_type": "execute_result"
    }
   ],
   "source": [
    "# plot\n",
    "concat_sam2_information.mean(level=0).transpose().plot.bar(rot=0, color=('C0','C1'))\n",
    "plt.title(\"First metric: sum of the five highest eigenvalues / Sam2\")"
   ]
  },
  {
   "cell_type": "markdown",
   "metadata": {},
   "source": [
    "### 2nd metric: normalized sum of the five highest eigenvalues"
   ]
  },
  {
   "cell_type": "code",
   "execution_count": 266,
   "metadata": {},
   "outputs": [],
   "source": [
    "# get normalized information Sam2\n",
    "baseline_sam2_norm_information = stats.get_norm_information(baseline_sam2)\n",
    "meditation_sam2_norm_information = stats.get_norm_information(meditation_sam2)"
   ]
  },
  {
   "cell_type": "code",
   "execution_count": 267,
   "metadata": {},
   "outputs": [],
   "source": [
    "# ttest over all electrodes\n",
    "concat_sam2_norm_information = pd.concat([baseline_sam2_norm_information, meditation_sam2_norm_information], keys=['baseline', 'meditation'])\n",
    "ttest_sam2_norm_information = concat_sam2_norm_information.agg(lambda x: ttest_ind(x.xs('baseline', level=0), x.xs('meditation', level=0), equal_var=False, nan_policy='omit'))"
   ]
  },
  {
   "cell_type": "code",
   "execution_count": 268,
   "metadata": {},
   "outputs": [
    {
     "data": {
      "text/plain": [
       "Ttest_indResult(statistic=-2.2979317304511975, pvalue=0.025935613349767704)"
      ]
     },
     "execution_count": 268,
     "metadata": {},
     "output_type": "execute_result"
    }
   ],
   "source": [
    "ttest_sam2_norm_information"
   ]
  },
  {
   "cell_type": "code",
   "execution_count": 275,
   "metadata": {},
   "outputs": [
    {
     "data": {
      "text/plain": [
       "Text(0.5, 1.0, 'Second metric: sum of the normalized five highest eigenvalues / Sam2')"
      ]
     },
     "execution_count": 275,
     "metadata": {},
     "output_type": "execute_result"
    }
   ],
   "source": [
    "# plot\n",
    "concat_sam2_norm_information.mean(level=0).transpose().plot.bar(rot=0, color=('C0','C1'))\n",
    "plt.title(\"Second metric: sum of the normalized five highest eigenvalues / Sam2\")"
   ]
  },
  {
   "cell_type": "markdown",
   "metadata": {},
   "source": [
    "### 3rd metric: spectrum, distribution of all normalized eigenvalues"
   ]
  },
  {
   "cell_type": "code",
   "execution_count": 279,
   "metadata": {},
   "outputs": [],
   "source": [
    "# get normalized distribution Sam2\n",
    "baseline_sam2_distribution = stats.get_distrib_information(baseline_sam2)\n",
    "meditation_sam2_distribution = stats.get_distrib_information(meditation_sam2)"
   ]
  },
  {
   "cell_type": "code",
   "execution_count": 280,
   "metadata": {},
   "outputs": [],
   "source": [
    "# mean of ev over all epochs\n",
    "baseline_sam2_distribution_mean = baseline_sam2_distribution.mean()\n",
    "meditation_sam2_distribution_mean = meditation_sam2_distribution.mean()"
   ]
  },
  {
   "cell_type": "code",
   "execution_count": 281,
   "metadata": {},
   "outputs": [],
   "source": [
    "# plot\n",
    "ev = ['ev1','ev2','ev3','ev4','ev5','ev6','ev7','ev8','ev9','ev10',\n",
    "        'ev11','ev12','ev13','ev14','ev15','ev16','ev17','ev18','ev19','ev20']\n",
    "\n",
    "y1 = baseline_sam2_distribution_mean\n",
    "y2 = meditation_sam2_distribution_mean\n",
    "r1 = range(len(ev))\n",
    "r2 = range(len(ev))\n",
    "\n",
    "b1 = plt.plot(r1, y1, label='baseline', linewidth=2.5)\n",
    "b2 = plt.plot(r2, y2, label='meditation', linewidth=2.5)\n",
    "\n",
    "plt.xticks([r for r in range(len(ev))], ev)\n",
    "plt.title('Spectrum of normalized eigenvalues for Sam2')\n",
    "plt.legend()\n",
    "plt.show()"
   ]
  },
  {
   "cell_type": "markdown",
   "metadata": {},
   "source": [
    "## Sam3: eigenvalues and PCA"
   ]
  },
  {
   "cell_type": "code",
   "execution_count": 282,
   "metadata": {},
   "outputs": [],
   "source": [
    "baseline_sam3 = get_concat_signal('baseline', subject='sam3')\n",
    "meditation_sam3 = get_concat_signal('meditation', subject='sam3')"
   ]
  },
  {
   "cell_type": "markdown",
   "metadata": {},
   "source": [
    "### 1st metric: sum of the five highest eigenvalues"
   ]
  },
  {
   "cell_type": "code",
   "execution_count": 283,
   "metadata": {},
   "outputs": [],
   "source": [
    "# get information Sam3\n",
    "baseline_sam3_information = stats.get_information(baseline_sam3)\n",
    "meditation_sam3_information = stats.get_information(meditation_sam3)"
   ]
  },
  {
   "cell_type": "code",
   "execution_count": 284,
   "metadata": {},
   "outputs": [],
   "source": [
    "# ttest over all electrodes\n",
    "concat_sam3_information = pd.concat([baseline_sam3_information, meditation_sam3_information], keys=['baseline', 'meditation'])\n",
    "ttest_sam3_information = concat_sam3_information.agg(lambda x: ttest_ind(x.xs('baseline', level=0), x.xs('meditation', level=0), equal_var=False, nan_policy='omit'))"
   ]
  },
  {
   "cell_type": "code",
   "execution_count": 285,
   "metadata": {},
   "outputs": [
    {
     "data": {
      "text/plain": [
       "Ttest_indResult(statistic=4.377924869013054, pvalue=0.0007119019407478107)"
      ]
     },
     "execution_count": 285,
     "metadata": {},
     "output_type": "execute_result"
    }
   ],
   "source": [
    "ttest_sam3_information"
   ]
  },
  {
   "cell_type": "code",
   "execution_count": 286,
   "metadata": {},
   "outputs": [
    {
     "data": {
      "text/plain": [
       "Text(0.5, 1.0, 'First metric: sum of the five highest eigenvalues / Sam3')"
      ]
     },
     "execution_count": 286,
     "metadata": {},
     "output_type": "execute_result"
    }
   ],
   "source": [
    "# plot\n",
    "concat_sam3_information.mean(level=0).transpose().plot.bar(rot=0, color=('C0','C1'))\n",
    "plt.title(\"First metric: sum of the five highest eigenvalues / Sam3\")"
   ]
  },
  {
   "cell_type": "markdown",
   "metadata": {},
   "source": [
    "### 2nd metric: normalized sum of the five highest eigenvalues"
   ]
  },
  {
   "cell_type": "code",
   "execution_count": 287,
   "metadata": {},
   "outputs": [],
   "source": [
    "# get normalized information Sam3\n",
    "baseline_sam3_norm_information = stats.get_norm_information(baseline_sam3)\n",
    "meditation_sam3_norm_information = stats.get_norm_information(meditation_sam3)"
   ]
  },
  {
   "cell_type": "code",
   "execution_count": 288,
   "metadata": {},
   "outputs": [],
   "source": [
    "# ttest over all electrodes\n",
    "concat_sam3_norm_information = pd.concat([baseline_sam3_norm_information, meditation_sam3_norm_information], keys=['baseline', 'meditation'])\n",
    "ttest_sam3_norm_information = concat_sam3_norm_information.agg(lambda x: ttest_ind(x.xs('baseline', level=0), x.xs('meditation', level=0), equal_var=False, nan_policy='omit'))"
   ]
  },
  {
   "cell_type": "code",
   "execution_count": 289,
   "metadata": {},
   "outputs": [
    {
     "data": {
      "text/plain": [
       "Ttest_indResult(statistic=4.377924869013023, pvalue=0.0007119019407478558)"
      ]
     },
     "execution_count": 289,
     "metadata": {},
     "output_type": "execute_result"
    }
   ],
   "source": [
    "ttest_sam3_norm_information"
   ]
  },
  {
   "cell_type": "code",
   "execution_count": 290,
   "metadata": {},
   "outputs": [
    {
     "data": {
      "text/plain": [
       "Text(0.5, 1.0, 'Second metric: sum of the normalized five highest eigenvalues / Sam3')"
      ]
     },
     "execution_count": 290,
     "metadata": {},
     "output_type": "execute_result"
    }
   ],
   "source": [
    "# plot\n",
    "concat_sam3_norm_information.mean(level=0).transpose().plot.bar(rot=0, color=('C0','C1'))\n",
    "plt.title(\"Second metric: sum of the normalized five highest eigenvalues / Sam3\")"
   ]
  },
  {
   "cell_type": "markdown",
   "metadata": {},
   "source": [
    "### 3rd metric: spectrum, distribution of all normalized eigenvalues"
   ]
  },
  {
   "cell_type": "code",
   "execution_count": 291,
   "metadata": {},
   "outputs": [],
   "source": [
    "# get normalized distribution Sam3\n",
    "baseline_sam3_distribution = stats.get_distrib_information(baseline_sam3)\n",
    "meditation_sam3_distribution = stats.get_distrib_information(meditation_sam3)"
   ]
  },
  {
   "cell_type": "code",
   "execution_count": 292,
   "metadata": {},
   "outputs": [],
   "source": [
    "# mean of ev over all epochs\n",
    "baseline_sam3_distribution_mean = baseline_sam3_distribution.mean()\n",
    "meditation_sam3_distribution_mean = meditation_sam3_distribution.mean()"
   ]
  },
  {
   "cell_type": "code",
   "execution_count": 293,
   "metadata": {},
   "outputs": [],
   "source": [
    "# plot\n",
    "ev = ['ev1','ev2','ev3','ev4','ev5','ev6','ev7','ev8','ev9','ev10',\n",
    "        'ev11','ev12','ev13','ev14','ev15','ev16','ev17','ev18','ev19','ev20']\n",
    "\n",
    "y1 = baseline_sam3_distribution_mean\n",
    "y2 = meditation_sam3_distribution_mean\n",
    "r1 = range(len(ev))\n",
    "r2 = range(len(ev))\n",
    "\n",
    "b1 = plt.plot(r1, y1, label='baseline', linewidth=2.5)\n",
    "b2 = plt.plot(r2, y2, label='meditation', linewidth=2.5)\n",
    "\n",
    "plt.xticks([r for r in range(len(ev))], ev)\n",
    "plt.title('Spectrum of normalized eigenvalues for Sam3')\n",
    "plt.legend()\n",
    "plt.show()"
   ]
  },
  {
   "cell_type": "markdown",
   "metadata": {},
   "source": [
    "## Sam4: eigenvalues and PCA"
   ]
  },
  {
   "cell_type": "code",
   "execution_count": 294,
   "metadata": {},
   "outputs": [],
   "source": [
    "baseline_sam4 = get_concat_signal('baseline', subject='sam4')\n",
    "meditation_sam4 = get_concat_signal('meditation', subject='sam4')"
   ]
  },
  {
   "cell_type": "markdown",
   "metadata": {},
   "source": [
    "### 1st metric: sum of the five highest eigenvalues"
   ]
  },
  {
   "cell_type": "code",
   "execution_count": 295,
   "metadata": {},
   "outputs": [],
   "source": [
    "# get information Sam4\n",
    "baseline_sam4_information = stats.get_information(baseline_sam4)\n",
    "meditation_sam4_information = stats.get_information(meditation_sam4)"
   ]
  },
  {
   "cell_type": "code",
   "execution_count": 296,
   "metadata": {},
   "outputs": [],
   "source": [
    "# ttest over all electrodes\n",
    "concat_sam4_information = pd.concat([baseline_sam4_information, meditation_sam4_information], keys=['baseline', 'meditation'])\n",
    "ttest_sam4_information = concat_sam4_information.agg(lambda x: ttest_ind(x.xs('baseline', level=0), x.xs('meditation', level=0), equal_var=False, nan_policy='omit'))"
   ]
  },
  {
   "cell_type": "code",
   "execution_count": 297,
   "metadata": {},
   "outputs": [
    {
     "data": {
      "text/plain": [
       "Ttest_indResult(statistic=2.716447294774889, pvalue=0.018414358741238788)"
      ]
     },
     "execution_count": 297,
     "metadata": {},
     "output_type": "execute_result"
    }
   ],
   "source": [
    "ttest_sam4_information"
   ]
  },
  {
   "cell_type": "code",
   "execution_count": 298,
   "metadata": {},
   "outputs": [
    {
     "data": {
      "text/plain": [
       "Text(0.5, 1.0, 'First metric: sum of the five highest eigenvalues / Sam4')"
      ]
     },
     "execution_count": 298,
     "metadata": {},
     "output_type": "execute_result"
    }
   ],
   "source": [
    "# plot\n",
    "concat_sam4_information.mean(level=0).transpose().plot.bar(rot=0, color=('C0','C1'))\n",
    "plt.title(\"First metric: sum of the five highest eigenvalues / Sam4\")"
   ]
  },
  {
   "cell_type": "markdown",
   "metadata": {},
   "source": [
    "### 2nd metric: normalized sum of the five highest eigenvalues"
   ]
  },
  {
   "cell_type": "code",
   "execution_count": 299,
   "metadata": {},
   "outputs": [],
   "source": [
    "# get normalized information Sam4\n",
    "baseline_sam4_norm_information = stats.get_norm_information(baseline_sam4)\n",
    "meditation_sam4_norm_information = stats.get_norm_information(meditation_sam4)"
   ]
  },
  {
   "cell_type": "code",
   "execution_count": 300,
   "metadata": {},
   "outputs": [],
   "source": [
    "# ttest over all electrodes\n",
    "concat_sam4_norm_information = pd.concat([baseline_sam4_norm_information, meditation_sam4_norm_information], keys=['baseline', 'meditation'])\n",
    "ttest_sam4_norm_information = concat_sam4_norm_information.agg(lambda x: ttest_ind(x.xs('baseline', level=0), x.xs('meditation', level=0), equal_var=False, nan_policy='omit'))"
   ]
  },
  {
   "cell_type": "code",
   "execution_count": 301,
   "metadata": {},
   "outputs": [
    {
     "data": {
      "text/plain": [
       "Ttest_indResult(statistic=2.7164472947748814, pvalue=0.01841435874123904)"
      ]
     },
     "execution_count": 301,
     "metadata": {},
     "output_type": "execute_result"
    }
   ],
   "source": [
    "ttest_sam4_norm_information"
   ]
  },
  {
   "cell_type": "code",
   "execution_count": 302,
   "metadata": {},
   "outputs": [
    {
     "data": {
      "text/plain": [
       "Text(0.5, 1.0, 'Second metric: sum of the normalized five highest eigenvalues / Sam4')"
      ]
     },
     "execution_count": 302,
     "metadata": {},
     "output_type": "execute_result"
    }
   ],
   "source": [
    "# plot\n",
    "concat_sam4_norm_information.mean(level=0).transpose().plot.bar(rot=0, color=('C0','C1'))\n",
    "plt.title(\"Second metric: sum of the normalized five highest eigenvalues / Sam4\")"
   ]
  },
  {
   "cell_type": "markdown",
   "metadata": {},
   "source": [
    "### 3rd metric: spectrum, distribution of all normalized eigenvalues"
   ]
  },
  {
   "cell_type": "code",
   "execution_count": 303,
   "metadata": {},
   "outputs": [],
   "source": [
    "# get normalized distribution Sam4\n",
    "baseline_sam4_distribution = stats.get_distrib_information(baseline_sam4)\n",
    "meditation_sam4_distribution = stats.get_distrib_information(meditation_sam4)"
   ]
  },
  {
   "cell_type": "code",
   "execution_count": 304,
   "metadata": {},
   "outputs": [],
   "source": [
    "# mean of ev over all epochs\n",
    "baseline_sam4_distribution_mean = baseline_sam4_distribution.mean()\n",
    "meditation_sam4_distribution_mean = meditation_sam4_distribution.mean()"
   ]
  },
  {
   "cell_type": "code",
   "execution_count": 305,
   "metadata": {},
   "outputs": [],
   "source": [
    "# plot\n",
    "ev = ['ev1','ev2','ev3','ev4','ev5','ev6','ev7','ev8','ev9','ev10',\n",
    "        'ev11','ev12','ev13','ev14','ev15','ev16','ev17','ev18','ev19','ev20']\n",
    "\n",
    "y1 = baseline_sam4_distribution_mean\n",
    "y2 = meditation_sam4_distribution_mean\n",
    "r1 = range(len(ev))\n",
    "r2 = range(len(ev))\n",
    "\n",
    "b1 = plt.plot(r1, y1, label='baseline', linewidth=2.5)\n",
    "b2 = plt.plot(r2, y2, label='meditation', linewidth=2.5)\n",
    "\n",
    "plt.xticks([r for r in range(len(ev))], ev)\n",
    "plt.title('Spectrum of normalized eigenvalues for Sam4')\n",
    "plt.legend()\n",
    "plt.show()"
   ]
  },
  {
   "cell_type": "markdown",
   "metadata": {},
   "source": [
    "## Raphaël: eigenvalues and PCA"
   ]
  },
  {
   "cell_type": "code",
   "execution_count": 306,
   "metadata": {},
   "outputs": [],
   "source": [
    "baseline_rap = get_concat_signal('baseline', subject='raphael')\n",
    "meditation_rap = get_concat_signal('meditation', subject='raphael')"
   ]
  },
  {
   "cell_type": "markdown",
   "metadata": {},
   "source": [
    "### 1st metric: sum of the five highest eigenvalues"
   ]
  },
  {
   "cell_type": "code",
   "execution_count": 307,
   "metadata": {},
   "outputs": [],
   "source": [
    "# get information Raphaël\n",
    "baseline_rap_information = stats.get_information(baseline_rap)\n",
    "meditation_rap_information = stats.get_information(meditation_rap)"
   ]
  },
  {
   "cell_type": "code",
   "execution_count": 308,
   "metadata": {},
   "outputs": [],
   "source": [
    "# ttest over all electrodes\n",
    "concat_rap_information = pd.concat([baseline_rap_information, meditation_rap_information], keys=['baseline', 'meditation'])\n",
    "ttest_rap_information = concat_rap_information.agg(lambda x: ttest_ind(x.xs('baseline', level=0), x.xs('meditation', level=0), equal_var=False, nan_policy='omit'))"
   ]
  },
  {
   "cell_type": "code",
   "execution_count": 309,
   "metadata": {},
   "outputs": [
    {
     "data": {
      "text/plain": [
       "Ttest_indResult(statistic=7.155980982334779, pvalue=1.3455897049562867e-08)"
      ]
     },
     "execution_count": 309,
     "metadata": {},
     "output_type": "execute_result"
    }
   ],
   "source": [
    "ttest_rap_information"
   ]
  },
  {
   "cell_type": "code",
   "execution_count": 310,
   "metadata": {},
   "outputs": [
    {
     "data": {
      "text/plain": [
       "Text(0.5, 1.0, 'First metric: sum of the five highest eigenvalues / Raphaël')"
      ]
     },
     "execution_count": 310,
     "metadata": {},
     "output_type": "execute_result"
    }
   ],
   "source": [
    "# plot\n",
    "concat_rap_information.mean(level=0).transpose().plot.bar(rot=0, color=('C0','C1'))\n",
    "plt.title(\"First metric: sum of the five highest eigenvalues / Raphaël\")"
   ]
  },
  {
   "cell_type": "markdown",
   "metadata": {},
   "source": [
    "### 2nd metric: normalized sum of the five highest eigenvalues"
   ]
  },
  {
   "cell_type": "code",
   "execution_count": 311,
   "metadata": {},
   "outputs": [],
   "source": [
    "# get normalized information Raphaël\n",
    "baseline_rap_norm_information = stats.get_norm_information(baseline_rap)\n",
    "meditation_rap_norm_information = stats.get_norm_information(meditation_rap)"
   ]
  },
  {
   "cell_type": "code",
   "execution_count": 312,
   "metadata": {},
   "outputs": [],
   "source": [
    "# ttest over all electrodes\n",
    "concat_rap_norm_information = pd.concat([baseline_rap_norm_information, meditation_rap_norm_information], keys=['baseline', 'meditation'])\n",
    "ttest_rap_norm_information = concat_rap_norm_information.agg(lambda x: ttest_ind(x.xs('baseline', level=0), x.xs('meditation', level=0), equal_var=False, nan_policy='omit'))"
   ]
  },
  {
   "cell_type": "code",
   "execution_count": 313,
   "metadata": {},
   "outputs": [
    {
     "data": {
      "text/plain": [
       "Ttest_indResult(statistic=7.155980982334761, pvalue=1.3455897049563906e-08)"
      ]
     },
     "execution_count": 313,
     "metadata": {},
     "output_type": "execute_result"
    }
   ],
   "source": [
    "ttest_rap_norm_information"
   ]
  },
  {
   "cell_type": "code",
   "execution_count": 314,
   "metadata": {},
   "outputs": [
    {
     "data": {
      "text/plain": [
       "Text(0.5, 1.0, 'Second metric: sum of the normalized five highest eigenvalues / Raphaël')"
      ]
     },
     "execution_count": 314,
     "metadata": {},
     "output_type": "execute_result"
    }
   ],
   "source": [
    "# plot\n",
    "concat_rap_norm_information.mean(level=0).transpose().plot.bar(rot=0, color=('C0','C1'))\n",
    "plt.title(\"Second metric: sum of the normalized five highest eigenvalues / Raphaël\")"
   ]
  },
  {
   "cell_type": "markdown",
   "metadata": {},
   "source": [
    "### 3rd metric: spectrum, distribution of all normalized eigenvalues"
   ]
  },
  {
   "cell_type": "code",
   "execution_count": 315,
   "metadata": {},
   "outputs": [],
   "source": [
    "# get normalized distribution Raphaël\n",
    "baseline_rap_distribution = stats.get_distrib_information(baseline_rap)\n",
    "meditation_rap_distribution = stats.get_distrib_information(meditation_rap)"
   ]
  },
  {
   "cell_type": "code",
   "execution_count": 316,
   "metadata": {},
   "outputs": [],
   "source": [
    "df_split_baseline = pd.DataFrame(baseline_rap_distribution.to_list(), columns= ['ev1','ev2','ev3','ev4','ev5','ev6','ev7','ev8','ev9','ev10',\n",
    "        'ev11','ev12','ev13','ev14','ev15','ev16','ev17','ev18','ev19','ev20'])\n",
    "df_split_meditation = pd.DataFrame(meditation_rap_distribution.to_list(), columns= ['ev1','ev2','ev3','ev4','ev5','ev6','ev7','ev8','ev9','ev10',\n",
    "        'ev11','ev12','ev13','ev14','ev15','ev16','ev17','ev18','ev19','ev20'])"
   ]
  },
  {
   "cell_type": "code",
   "execution_count": 317,
   "metadata": {},
   "outputs": [
    {
     "data": {
      "text/plain": [
       "Ttest_indResult(statistic=array([ 5.65336397, -3.97966648, -4.08600245, -5.53472441, -6.66078783,\n",
       "       -6.33118764, -6.67126641, -6.42463588, -6.89023948, -6.66680943,\n",
       "       -6.10165512, -3.07541892, -3.468081  , -4.66181592, -6.12823335,\n",
       "       -5.76808452, -6.47682845, -6.44039561, -7.19464862, -7.13772043]), pvalue=array([1.00302600e-05, 6.23409048e-04, 4.23135005e-04, 3.25150398e-06,\n",
       "       1.34608840e-07, 4.68398357e-07, 1.07855135e-07, 1.40381479e-07,\n",
       "       3.17473464e-08, 4.81779727e-08, 1.87113411e-07, 3.43513187e-03,\n",
       "       1.10717749e-03, 2.58260962e-05, 1.57994811e-07, 8.07270350e-07,\n",
       "       1.32740808e-07, 9.91666401e-08, 8.58931057e-09, 1.39628774e-08]))"
      ]
     },
     "execution_count": 317,
     "metadata": {},
     "output_type": "execute_result"
    }
   ],
   "source": [
    "t_test_distribution = ttest_ind(df_split_baseline, df_split_meditation, equal_var=False, nan_policy='omit')\n",
    "t_test_distribution"
   ]
  },
  {
   "cell_type": "code",
   "execution_count": 318,
   "metadata": {},
   "outputs": [],
   "source": [
    "# mean of ev over all epochs\n",
    "baseline_rap_distribution_mean = baseline_rap_distribution.mean()\n",
    "meditation_rap_distribution_mean = meditation_rap_distribution.mean()"
   ]
  },
  {
   "cell_type": "code",
   "execution_count": 319,
   "metadata": {},
   "outputs": [],
   "source": [
    "# plot\n",
    "ev = ['ev1','ev2','ev3','ev4','ev5','ev6','ev7','ev8','ev9','ev10',\n",
    "        'ev11','ev12','ev13','ev14','ev15','ev16','ev17','ev18','ev19','ev20']\n",
    "\n",
    "y1 = baseline_rap_distribution_mean\n",
    "y2 = meditation_rap_distribution_mean\n",
    "r1 = range(len(ev))\n",
    "r2 = range(len(ev))\n",
    "\n",
    "b1 = plt.plot(r1, y1, label='baseline', linewidth=2.5)\n",
    "b2 = plt.plot(r2, y2, label='meditation', linewidth=2.5)\n",
    "\n",
    "plt.xticks([r for r in range(len(ev))], ev)\n",
    "plt.title('Spectrum of normalized eigenvalues for Raphaël')\n",
    "plt.legend()\n",
    "plt.show()"
   ]
  },
  {
   "cell_type": "markdown",
   "metadata": {},
   "source": [
    "## Raphaël2: eigenvalues and PCA"
   ]
  },
  {
   "cell_type": "code",
   "execution_count": 320,
   "metadata": {},
   "outputs": [],
   "source": [
    "baseline_rap2 = get_concat_signal('baseline', subject='raphael2')\n",
    "meditation_rap2 = get_concat_signal('meditation', subject='raphael2')"
   ]
  },
  {
   "cell_type": "markdown",
   "metadata": {},
   "source": [
    "### 1st metric: sum of the five highest eigenvalues"
   ]
  },
  {
   "cell_type": "code",
   "execution_count": 321,
   "metadata": {},
   "outputs": [],
   "source": [
    "# get information Raphaël2\n",
    "baseline_rap2_information = stats.get_information(baseline_rap2)\n",
    "meditation_rap2_information = stats.get_information(meditation_rap2)"
   ]
  },
  {
   "cell_type": "code",
   "execution_count": 322,
   "metadata": {},
   "outputs": [],
   "source": [
    "# ttest over all electrodes\n",
    "concat_rap2_information = pd.concat([baseline_rap2_information, meditation_rap2_information], keys=['baseline', 'meditation'])\n",
    "ttest_rap2_information = concat_rap2_information.agg(lambda x: ttest_ind(x.xs('baseline', level=0), x.xs('meditation', level=0), equal_var=False, nan_policy='omit'))"
   ]
  },
  {
   "cell_type": "code",
   "execution_count": 323,
   "metadata": {},
   "outputs": [
    {
     "data": {
      "text/plain": [
       "Ttest_indResult(statistic=2.634791050233782, pvalue=0.0140090895955259)"
      ]
     },
     "execution_count": 323,
     "metadata": {},
     "output_type": "execute_result"
    }
   ],
   "source": [
    "ttest_rap2_information"
   ]
  },
  {
   "cell_type": "code",
   "execution_count": 324,
   "metadata": {},
   "outputs": [
    {
     "data": {
      "text/plain": [
       "Text(0.5, 1.0, 'First metric: sum of the five highest eigenvalues / Raphaël2')"
      ]
     },
     "execution_count": 324,
     "metadata": {},
     "output_type": "execute_result"
    }
   ],
   "source": [
    "# plot\n",
    "concat_rap2_information.mean(level=0).transpose().plot.bar(rot=0, color=('C0','C1'))\n",
    "plt.title(\"First metric: sum of the five highest eigenvalues / Raphaël2\")"
   ]
  },
  {
   "cell_type": "markdown",
   "metadata": {},
   "source": [
    "### 2nd metric: normalized sum of the five highest eigenvalues"
   ]
  },
  {
   "cell_type": "code",
   "execution_count": 325,
   "metadata": {},
   "outputs": [],
   "source": [
    "# get normalized information Raphaël2\n",
    "baseline_rap2_norm_information = stats.get_norm_information(baseline_rap2)\n",
    "meditation_rap2_norm_information = stats.get_norm_information(meditation_rap2)"
   ]
  },
  {
   "cell_type": "code",
   "execution_count": 326,
   "metadata": {},
   "outputs": [],
   "source": [
    "# ttest over all electrodes\n",
    "concat_rap2_norm_information = pd.concat([baseline_rap2_norm_information, meditation_rap2_norm_information], keys=['baseline', 'meditation'])\n",
    "ttest_rap2_norm_information = concat_rap2_norm_information.agg(lambda x: ttest_ind(x.xs('baseline', level=0), x.xs('meditation', level=0), equal_var=False, nan_policy='omit'))"
   ]
  },
  {
   "cell_type": "code",
   "execution_count": 327,
   "metadata": {},
   "outputs": [
    {
     "data": {
      "text/plain": [
       "Ttest_indResult(statistic=2.634791050233787, pvalue=0.014009089595525775)"
      ]
     },
     "execution_count": 327,
     "metadata": {},
     "output_type": "execute_result"
    }
   ],
   "source": [
    "ttest_rap2_norm_information"
   ]
  },
  {
   "cell_type": "code",
   "execution_count": 328,
   "metadata": {},
   "outputs": [
    {
     "data": {
      "text/plain": [
       "Text(0.5, 1.0, 'Second metric: sum of the normalized five highest eigenvalues / Raphaël2')"
      ]
     },
     "execution_count": 328,
     "metadata": {},
     "output_type": "execute_result"
    }
   ],
   "source": [
    "# plot\n",
    "concat_rap2_norm_information.mean(level=0).transpose().plot.bar(rot=0, color=('C0','C1'))\n",
    "plt.title(\"Second metric: sum of the normalized five highest eigenvalues / Raphaël2\")"
   ]
  },
  {
   "cell_type": "markdown",
   "metadata": {},
   "source": [
    "### 3rd metric: spectrum, distribution of all normalized eigenvalues"
   ]
  },
  {
   "cell_type": "code",
   "execution_count": 329,
   "metadata": {},
   "outputs": [],
   "source": [
    "# get normalized distribution Raphaël2 and mean of ev over all epochs\n",
    "baseline_rap2_distribution_mean = stats.get_distrib_information(baseline_rap2).mean()\n",
    "meditation_rap2_distribution_mean = stats.get_distrib_information(meditation_rap2).mean()"
   ]
  },
  {
   "cell_type": "code",
   "execution_count": 330,
   "metadata": {},
   "outputs": [],
   "source": [
    "# plot\n",
    "ev = ['ev1','ev2','ev3','ev4','ev5','ev6','ev7','ev8','ev9','ev10',\n",
    "        'ev11','ev12','ev13','ev14','ev15','ev16','ev17','ev18','ev19','ev20']\n",
    "\n",
    "y1 = baseline_rap2_distribution_mean\n",
    "y2 = meditation_rap2_distribution_mean\n",
    "r1 = range(len(ev))\n",
    "r2 = range(len(ev))\n",
    "\n",
    "b1 = plt.plot(r1, y1, label='baseline', linewidth=2.5)\n",
    "b2 = plt.plot(r2, y2, label='meditation', linewidth=2.5)\n",
    "\n",
    "plt.xticks([r for r in range(len(ev))], ev)\n",
    "plt.title('Spectrum of normalized eigenvalues for Raphaël2')\n",
    "plt.legend()\n",
    "plt.show()"
   ]
  },
  {
   "cell_type": "markdown",
   "metadata": {},
   "source": [
    "## Raphaël3: eigenvalues and PCA"
   ]
  },
  {
   "cell_type": "code",
   "execution_count": 331,
   "metadata": {},
   "outputs": [],
   "source": [
    "baseline_rap3 = get_concat_signal('baseline', subject='raphael3')\n",
    "meditation_rap3 = get_concat_signal('meditation', subject='raphael3')"
   ]
  },
  {
   "cell_type": "markdown",
   "metadata": {},
   "source": [
    "### 1st metric: sum of the five highest eigenvalues"
   ]
  },
  {
   "cell_type": "code",
   "execution_count": 332,
   "metadata": {},
   "outputs": [],
   "source": [
    "# get information Raphaël3\n",
    "baseline_rap3_information = stats.get_information(baseline_rap3)\n",
    "meditation_rap3_information = stats.get_information(meditation_rap3)"
   ]
  },
  {
   "cell_type": "code",
   "execution_count": 333,
   "metadata": {},
   "outputs": [],
   "source": [
    "# ttest over all electrodes\n",
    "concat_rap3_information = pd.concat([baseline_rap3_information, meditation_rap3_information], keys=['baseline', 'meditation'])\n",
    "ttest_rap3_information = concat_rap3_information.agg(lambda x: ttest_ind(x.xs('baseline', level=0), x.xs('meditation', level=0), equal_var=False, nan_policy='omit'))"
   ]
  },
  {
   "cell_type": "code",
   "execution_count": 334,
   "metadata": {},
   "outputs": [
    {
     "data": {
      "text/plain": [
       "Ttest_indResult(statistic=3.0384222446553215, pvalue=0.005119853141453229)"
      ]
     },
     "execution_count": 334,
     "metadata": {},
     "output_type": "execute_result"
    }
   ],
   "source": [
    "ttest_rap3_information"
   ]
  },
  {
   "cell_type": "code",
   "execution_count": 336,
   "metadata": {},
   "outputs": [
    {
     "data": {
      "text/plain": [
       "Text(0.5, 1.0, 'First metric: sum of the five highest eigenvalues / Raphaël3')"
      ]
     },
     "execution_count": 336,
     "metadata": {},
     "output_type": "execute_result"
    }
   ],
   "source": [
    "# plot\n",
    "concat_rap3_information.mean(level=0).transpose().plot.bar(rot=0, color=('C0','C1'))\n",
    "plt.title(\"First metric: sum of the five highest eigenvalues / Raphaël3\")"
   ]
  },
  {
   "cell_type": "markdown",
   "metadata": {},
   "source": [
    "### 2nd metric: normalized sum of the five highest eigenvalues"
   ]
  },
  {
   "cell_type": "code",
   "execution_count": 337,
   "metadata": {},
   "outputs": [],
   "source": [
    "# get normalized information Raphaël23\n",
    "baseline_rap3_norm_information = stats.get_norm_information(baseline_rap3)\n",
    "meditation_rap3_norm_information = stats.get_norm_information(meditation_rap3)"
   ]
  },
  {
   "cell_type": "code",
   "execution_count": 338,
   "metadata": {},
   "outputs": [],
   "source": [
    "# ttest over all electrodes\n",
    "concat_rap3_norm_information = pd.concat([baseline_rap3_norm_information, meditation_rap3_norm_information], keys=['baseline', 'meditation'])\n",
    "ttest_rap3_norm_information = concat_rap3_norm_information.agg(lambda x: ttest_ind(x.xs('baseline', level=0), x.xs('meditation', level=0), equal_var=False, nan_policy='omit'))"
   ]
  },
  {
   "cell_type": "code",
   "execution_count": 339,
   "metadata": {},
   "outputs": [
    {
     "data": {
      "text/plain": [
       "Ttest_indResult(statistic=3.038422244655358, pvalue=0.005119853141452765)"
      ]
     },
     "execution_count": 339,
     "metadata": {},
     "output_type": "execute_result"
    }
   ],
   "source": [
    "ttest_rap3_norm_information"
   ]
  },
  {
   "cell_type": "code",
   "execution_count": 340,
   "metadata": {},
   "outputs": [
    {
     "data": {
      "text/plain": [
       "Text(0.5, 1.0, 'Second metric: sum of the normalized five highest eigenvalues / Raphaël3')"
      ]
     },
     "execution_count": 340,
     "metadata": {},
     "output_type": "execute_result"
    }
   ],
   "source": [
    "# plot\n",
    "concat_rap3_norm_information.mean(level=0).transpose().plot.bar(rot=0, color=('C0','C1'))\n",
    "plt.title(\"Second metric: sum of the normalized five highest eigenvalues / Raphaël3\")"
   ]
  },
  {
   "cell_type": "markdown",
   "metadata": {},
   "source": [
    "### 3rd metric: spectrum, distribution of all normalized eigenvalues"
   ]
  },
  {
   "cell_type": "code",
   "execution_count": 341,
   "metadata": {},
   "outputs": [],
   "source": [
    "# get normalized distribution Raphaël2 and mean of ev over all epochs\n",
    "baseline_rap3_distribution_mean = stats.get_distrib_information(baseline_rap3).mean()\n",
    "meditation_rap3_distribution_mean = stats.get_distrib_information(meditation_rap3).mean()"
   ]
  },
  {
   "cell_type": "code",
   "execution_count": 342,
   "metadata": {},
   "outputs": [],
   "source": [
    "# plot\n",
    "ev = ['ev1','ev2','ev3','ev4','ev5','ev6','ev7','ev8','ev9','ev10',\n",
    "        'ev11','ev12','ev13','ev14','ev15','ev16','ev17','ev18','ev19','ev20']\n",
    "\n",
    "y1 = baseline_rap3_distribution_mean\n",
    "y2 = meditation_rap3_distribution_mean\n",
    "r1 = range(len(ev))\n",
    "r2 = range(len(ev))\n",
    "\n",
    "b1 = plt.plot(r1, y1, label='baseline', linewidth=2.5)\n",
    "b2 = plt.plot(r2, y2, label='meditation', linewidth=2.5)\n",
    "\n",
    "plt.xticks([r for r in range(len(ev))], ev)\n",
    "plt.title('Spectrum of normalized eigenvalues for Raphaël3')\n",
    "plt.legend()\n",
    "plt.show()"
   ]
  },
  {
   "cell_type": "markdown",
   "metadata": {},
   "source": [
    "## Arnaud: eigenvalues and PCA"
   ]
  },
  {
   "cell_type": "code",
   "execution_count": 343,
   "metadata": {},
   "outputs": [],
   "source": [
    "baseline_arn = get_concat_signal('baseline', subject='arnaud')\n",
    "meditation_arn = get_concat_signal('meditation', subject='arnaud')"
   ]
  },
  {
   "cell_type": "markdown",
   "metadata": {},
   "source": [
    "### 1st metric: sum of the five highest eigenvalues"
   ]
  },
  {
   "cell_type": "code",
   "execution_count": 344,
   "metadata": {},
   "outputs": [],
   "source": [
    "# get information Arnaud\n",
    "baseline_arn_information = stats.get_information(baseline_arn)\n",
    "meditation_arn_information = stats.get_information(meditation_arn)"
   ]
  },
  {
   "cell_type": "code",
   "execution_count": 345,
   "metadata": {},
   "outputs": [],
   "source": [
    "# ttest over all electrodes\n",
    "concat_arn_information = pd.concat([baseline_arn_information, meditation_arn_information], keys=['baseline', 'meditation'])\n",
    "ttest_arn_information = concat_arn_information.agg(lambda x: ttest_ind(x.xs('baseline', level=0), x.xs('meditation', level=0), equal_var=False, nan_policy='omit'))"
   ]
  },
  {
   "cell_type": "code",
   "execution_count": 346,
   "metadata": {},
   "outputs": [
    {
     "data": {
      "text/plain": [
       "Ttest_indResult(statistic=-1.5315387348777616, pvalue=0.26126866147933)"
      ]
     },
     "execution_count": 346,
     "metadata": {},
     "output_type": "execute_result"
    }
   ],
   "source": [
    "ttest_arn_information"
   ]
  },
  {
   "cell_type": "code",
   "execution_count": 347,
   "metadata": {},
   "outputs": [
    {
     "data": {
      "text/plain": [
       "Text(0.5, 1.0, 'First metric: sum of the five highest eigenvalues / Arnaud')"
      ]
     },
     "execution_count": 347,
     "metadata": {},
     "output_type": "execute_result"
    }
   ],
   "source": [
    "# plot\n",
    "concat_arn_information.mean(level=0).transpose().plot.bar(rot=0, color=('C0','C1'))\n",
    "plt.title(\"First metric: sum of the five highest eigenvalues / Arnaud\")"
   ]
  },
  {
   "cell_type": "markdown",
   "metadata": {},
   "source": [
    "### 2nd metric: normalized sum of the five highest eigenvalues"
   ]
  },
  {
   "cell_type": "code",
   "execution_count": 348,
   "metadata": {},
   "outputs": [],
   "source": [
    "# get normalized information Arnaud\n",
    "baseline_arn_norm_information = stats.get_norm_information(baseline_arn)\n",
    "meditation_arn_norm_information = stats.get_norm_information(meditation_arn)"
   ]
  },
  {
   "cell_type": "code",
   "execution_count": 349,
   "metadata": {},
   "outputs": [],
   "source": [
    "# ttest over all electrodes\n",
    "concat_arn_norm_information = pd.concat([baseline_arn_norm_information, meditation_arn_norm_information], keys=['baseline', 'meditation'])\n",
    "ttest_arn_norm_information = concat_arn_norm_information.agg(lambda x: ttest_ind(x.xs('baseline', level=0), x.xs('meditation', level=0), equal_var=False, nan_policy='omit'))"
   ]
  },
  {
   "cell_type": "code",
   "execution_count": 350,
   "metadata": {},
   "outputs": [
    {
     "data": {
      "text/plain": [
       "Ttest_indResult(statistic=-1.5315387348777552, pvalue=0.2612686614793314)"
      ]
     },
     "execution_count": 350,
     "metadata": {},
     "output_type": "execute_result"
    }
   ],
   "source": [
    "ttest_arn_norm_information"
   ]
  },
  {
   "cell_type": "code",
   "execution_count": 351,
   "metadata": {},
   "outputs": [
    {
     "data": {
      "text/plain": [
       "Text(0.5, 1.0, 'Second metric: sum of the normalized five highest eigenvalues / Arnaud')"
      ]
     },
     "execution_count": 351,
     "metadata": {},
     "output_type": "execute_result"
    }
   ],
   "source": [
    "# plot\n",
    "concat_arn_norm_information.mean(level=0).transpose().plot.bar(rot=0, color=('C0','C1'))\n",
    "plt.title(\"Second metric: sum of the normalized five highest eigenvalues / Arnaud\")"
   ]
  },
  {
   "cell_type": "markdown",
   "metadata": {},
   "source": [
    "### 3rd metric: spectrum, distribution of all normalized eigenvalues"
   ]
  },
  {
   "cell_type": "code",
   "execution_count": 352,
   "metadata": {},
   "outputs": [],
   "source": [
    "# get normalized distribution Arnaud\n",
    "baseline_arn_distribution = stats.get_distrib_information(baseline_arn)\n",
    "meditation_arn_distribution = stats.get_distrib_information(meditation_arn)"
   ]
  },
  {
   "cell_type": "code",
   "execution_count": 353,
   "metadata": {},
   "outputs": [],
   "source": [
    "# mean of ev over all epochs\n",
    "baseline_arn_distribution_mean = baseline_arn_distribution.mean()\n",
    "meditation_arn_distribution_mean = meditation_arn_distribution.mean()"
   ]
  },
  {
   "cell_type": "code",
   "execution_count": 355,
   "metadata": {},
   "outputs": [],
   "source": [
    "# plot\n",
    "ev = ['ev1','ev2','ev3','ev4','ev5','ev6','ev7','ev8','ev9','ev10',\n",
    "        'ev11','ev12','ev13','ev14','ev15','ev16','ev17','ev18','ev19','ev20']\n",
    "\n",
    "y1 = baseline_arn_distribution_mean\n",
    "y2 = meditation_arn_distribution_mean\n",
    "r1 = range(len(ev))\n",
    "r2 = range(len(ev))\n",
    "\n",
    "b1 = plt.plot(r1, y1, label='baseline', linewidth=2.5)\n",
    "b2 = plt.plot(r2, y2, label='meditation', linewidth=2.5)\n",
    "\n",
    "plt.xticks([r for r in range(len(ev))], ev)\n",
    "plt.title('Spectrum of normalized eigenvalues for Arnaud')\n",
    "plt.legend()\n",
    "plt.show()"
   ]
  },
  {
   "cell_type": "code",
   "execution_count": null,
   "metadata": {},
   "outputs": [],
   "source": []
  }
 ],
 "metadata": {
  "kernelspec": {
   "display_name": "Python 3",
   "language": "python",
   "name": "python3"
  },
  "language_info": {
   "codemirror_mode": {
    "name": "ipython",
    "version": 3
   },
   "file_extension": ".py",
   "mimetype": "text/x-python",
   "name": "python",
   "nbconvert_exporter": "python",
   "pygments_lexer": "ipython3",
   "version": "3.7.3"
  }
 },
 "nbformat": 4,
 "nbformat_minor": 2
}
