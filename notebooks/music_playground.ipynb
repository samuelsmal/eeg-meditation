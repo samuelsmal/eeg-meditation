{
 "cells": [
  {
   "cell_type": "code",
   "execution_count": 1,
   "metadata": {
    "Collapsed": "false"
   },
   "outputs": [],
   "source": [
    "import yaml"
   ]
  },
  {
   "cell_type": "code",
   "execution_count": 35,
   "metadata": {
    "Collapsed": "false"
   },
   "outputs": [],
   "source": [
    "with open('../neurodecode_protocols/meditation/sam-meditation/online.yml', 'r') as f:\n",
    "    cfg = yaml.safe_load(f)"
   ]
  },
  {
   "cell_type": "code",
   "execution_count": 36,
   "metadata": {
    "Collapsed": "false"
   },
   "outputs": [
    {
     "name": "stdout",
     "output_type": "stream",
     "text": [
      "replacing '_root_music_path_' with '/home/sam/proj/epfl/eeg-meditation-project/nfme/meditation_sounds/'\n",
      "replacing '_root_music_path_' with '/home/sam/proj/epfl/eeg-meditation-project/nfme/meditation_sounds/'\n",
      "replacing '_root_music_path_' with '/home/sam/proj/epfl/eeg-meditation-project/nfme/meditation_sounds/'\n",
      "replacing '_root_music_path_' with '/home/sam/proj/epfl/eeg-meditation-project/nfme/meditation_sounds/'\n"
     ]
    }
   ],
   "source": []
  },
  {
   "cell_type": "code",
   "execution_count": 37,
   "metadata": {
    "Collapsed": "false"
   },
   "outputs": [
    {
     "data": {
      "text/plain": [
       "{'streambuffer': 2,\n",
       " 'windowsize': 2,\n",
       " 'timer_sleep': '0.01 * 60',\n",
       " 'global_time': 300,\n",
       " 'njobs': 8,\n",
       " '_root_music_path_': '/home/sam/proj/epfl/eeg-meditation-project/nfme/meditation_sounds/',\n",
       " 'spatial_filter': 'None',\n",
       " 'spatial_channels': ['Fz',\n",
       "  'F3',\n",
       "  'F4',\n",
       "  'F7',\n",
       "  'F8',\n",
       "  'Cz',\n",
       "  'C3',\n",
       "  'C4',\n",
       "  'P3',\n",
       "  'Pz',\n",
       "  'P4'],\n",
       " 'alpha_channels': ['Pz'],\n",
       " 'theta_channels': ['Pz'],\n",
       " 'alpha_freq': {'min': 8, \"max'\": 12},\n",
       " 'theta_freq': {'min': 4, 'max': 8},\n",
       " 'script_beat_harmony_melody_path': '/home/sam/proj/epfl/eeg-meditation-project/nfme/meditation_sounds//dvorak_study/script_beat_harmony_melody.wav',\n",
       " 'script_beat_harmony_path': '/home/sam/proj/epfl/eeg-meditation-project/nfme/meditation_sounds//dvorak_study/script_beat_harmony.wav',\n",
       " 'music_state_1_path': '/home/sam/proj/epfl/eeg-meditation-project/nfme/meditation_sounds//dvorak_study/script_beat_harmony_melody_without_script.wav',\n",
       " 'music_state_2_path': '/home/sam/proj/epfl/eeg-meditation-project/nfme/meditation_sounds//dvorak_study/script_beat_harmony_without_script.wav',\n",
       " 'music_window_size': 10}"
      ]
     },
     "execution_count": 37,
     "metadata": {},
     "output_type": "execute_result"
    }
   ],
   "source": [
    "cfg"
   ]
  },
  {
   "cell_type": "code",
   "execution_count": 27,
   "metadata": {
    "Collapsed": "false"
   },
   "outputs": [
    {
     "name": "stdout",
     "output_type": "stream",
     "text": [
      "_root_music_path_\n"
     ]
    }
   ],
   "source": []
  },
  {
   "cell_type": "code",
   "execution_count": 23,
   "metadata": {
    "Collapsed": "false"
   },
   "outputs": [
    {
     "data": {
      "text/plain": [
       "'{_root_music_path_}'"
      ]
     },
     "execution_count": 23,
     "metadata": {},
     "output_type": "execute_result"
    }
   ],
   "source": [
    "m.group()"
   ]
  },
  {
   "cell_type": "code",
   "execution_count": 12,
   "metadata": {
    "Collapsed": "false"
   },
   "outputs": [],
   "source": [
    "import warnings\n",
    "import re\n",
    "\n",
    "class ProtocolConfig(dict):\n",
    "    def __init__(self, file_name):\n",
    "        dict.__init__(self)\n",
    "        \n",
    "        with open(file_name, 'r') as f:\n",
    "            cfg = yaml.safe_load(f)\n",
    "            \n",
    "        for k, v in cfg.items():\n",
    "            if isinstance(v, str) and (m := re.match('\\{(.*?)\\}', v)):\n",
    "                to_replace = m.group()[1:-1]\n",
    "\n",
    "                if (to_replace_val := cfg.get(to_replace, None)):\n",
    "                    print(f\"replacing '{to_replace}' with '{to_replace_val}'\")\n",
    "                    cfg[k] = v.format(**{to_replace: to_replace_val})\n",
    "                else:\n",
    "                    warnings.info(f\"could not replace {to_replace} as the key doesn't exist in the config\")\n",
    "            \n",
    "        self.update(cfg)\n",
    "\n",
    "    def __getitem__(self, key):\n",
    "        return dict.__getitem__(self, key)\n",
    "\n",
    "    def __setitem__(self, key, val):\n",
    "        dict.__setitem__(self, key, val)\n",
    "\n",
    "    def value(self, *keys):\n",
    "        \"\"\"Helper to return one single value (may be what ever that value is).\n",
    "\n",
    "        E.g. value('hubert', 'fly_id')\n",
    "        \"\"\"\n",
    "        try:\n",
    "            val = reduce(lambda d, k: d[k], keys, self)\n",
    "\n",
    "            if isinstance(val, str) and 'UNKOWN' in val:\n",
    "                raise ValueError('{0} value is not set! Reading {1}'.format(keys, val))\n",
    "        except KeyError:\n",
    "            raise ValueError(\"Could not find a value for the given key: {}\".format(keys))\n",
    "\n",
    "        return val"
   ]
  },
  {
   "cell_type": "code",
   "execution_count": 9,
   "metadata": {
    "Collapsed": "false"
   },
   "outputs": [
    {
     "data": {
      "text/plain": [
       "'f\"21/dvorak_study/script_beat_harmony_melody.wav\"'"
      ]
     },
     "execution_count": 9,
     "metadata": {},
     "output_type": "execute_result"
    }
   ],
   "source": [
    "cfg['script_beat_harmony_melody_path'].format(_ROOT_MUSIC_PATH_=21)"
   ]
  },
  {
   "cell_type": "code",
   "execution_count": 13,
   "metadata": {
    "Collapsed": "false"
   },
   "outputs": [],
   "source": [
    "pcfg = ProtocolConfig('../neurodecode_protocols/meditation/sam-meditation/online.yml')"
   ]
  },
  {
   "cell_type": "code",
   "execution_count": 14,
   "metadata": {
    "Collapsed": "false"
   },
   "outputs": [
    {
     "data": {
      "text/plain": [
       "{'streambuffer': 2,\n",
       " 'windowsize': 2,\n",
       " 'timer_sleep': '0.01 * 60',\n",
       " 'global_time': 300,\n",
       " 'njobs': 8,\n",
       " '_root_music_path_': '/home/sam/proj/epfl/eeg-meditation-project/nfme/meditation_sounds/',\n",
       " 'spatial_filter': 'None',\n",
       " 'spatial_channels': ['Fz',\n",
       "  'F3',\n",
       "  'F4',\n",
       "  'F7',\n",
       "  'F8',\n",
       "  'Cz',\n",
       "  'C3',\n",
       "  'C4',\n",
       "  'P3',\n",
       "  'Pz',\n",
       "  'P4'],\n",
       " 'alpha_channels': ['Pz'],\n",
       " 'theta_channels': ['Pz'],\n",
       " 'alpha_freq': {'min': 8, \"max'\": 12},\n",
       " 'theta_freq': {'min': 4, 'max': 8},\n",
       " 'script_beat_harmony_melody_path': '{_root_music_path_}/dvorak_study/script_beat_harmony_melody.wav',\n",
       " 'script_beat_harmony_path': '{_root_music_path_}/dvorak_study/script_beat_harmony.wav',\n",
       " 'music_state_1_path': '{_root_music_path_}/dvorak_study/script_beat_harmony_melody_without_script.wav',\n",
       " 'music_state_2_path': '{_root_music_path_}/dvorak_study/script_beat_harmony_without_script.wav',\n",
       " 'music_window_size': 10}"
      ]
     },
     "execution_count": 14,
     "metadata": {},
     "output_type": "execute_result"
    }
   ],
   "source": [
    "pcfg"
   ]
  },
  {
   "cell_type": "code",
   "execution_count": 44,
   "metadata": {
    "Collapsed": "false"
   },
   "outputs": [
    {
     "name": "stdout",
     "output_type": "stream",
     "text": [
      "0\n"
     ]
    }
   ],
   "source": [
    "if (a := 0) :\n",
    "    print('ere')\n",
    "    \n",
    "print(a)"
   ]
  },
  {
   "cell_type": "code",
   "execution_count": null,
   "metadata": {
    "Collapsed": "false"
   },
   "outputs": [],
   "source": []
  }
 ],
 "metadata": {
  "kernelspec": {
   "display_name": "Python 3",
   "language": "python",
   "name": "python3"
  },
  "language_info": {
   "codemirror_mode": {
    "name": "ipython",
    "version": 3
   },
   "file_extension": ".py",
   "mimetype": "text/x-python",
   "name": "python",
   "nbconvert_exporter": "python",
   "pygments_lexer": "ipython3",
   "version": "3.8.2"
  }
 },
 "nbformat": 4,
 "nbformat_minor": 4
}
